{
 "cells": [
  {
   "cell_type": "code",
   "execution_count": 1,
   "id": "d6f3de66",
   "metadata": {},
   "outputs": [],
   "source": [
    "import pandas as pd\n",
    "import statsmodels.formula.api as sm\n",
    "import duckdb\n",
    "import matplotlib.pyplot as plt\n",
    "import seaborn as sns\n",
    "import numpy as np"
   ]
  },
  {
   "cell_type": "code",
   "execution_count": 14,
   "id": "a0653471",
   "metadata": {},
   "outputs": [
    {
     "name": "stdout",
     "output_type": "stream",
     "text": [
      "┌──────────────────────────────┬────────────┬──────────────────────┬────────────────────────────────────────────────────────────────────────────────────────────────────────────────────────────────────────────────────────────────────────────────────────────────────────────────────────────────────────────────────────────────────────────────────────────────────────────────────────────────────────────────────────────────────────────────────────────────────────────────────────────────────────────────────────────────────────────────────────────────────────────────────────────────────────────────────────────────────────────────────────────────────────────────────────────────────────────────────────────────────────────────────────────────────────────────────────────────────────────────────────────────────────────────────────────────────────────────────────────────────────────────────────────────────────────────────────────────────────────────────────────────────────────────────────────────────────────────────────────────────────────────────────────────────────────────────────────────────────────────────────────────────────────────────────────────────────────────────────────────────────────────────────────────────────────────────────────────────────────────────────────────────────────────────────────────────────────────────────────────────────────────┬───────┬──────────────────────┬───────────────────────┬───────────────────────────┬────────────┬───────────┬────────────────────────────┬─────────┬──────────────────┬─────────────┬───────────┐\n",
      "│           filename           │ start time │     uncertainty      │                                                                                                                                                                                                                                                                                                                                                                                                                                                                                                                                                                                                                                                                     energy                                                                                                                                                                                                                                                                                                                                                                                                                                                                                                                                                                                                                                                                     │ rank  │      confidence      │    scientific name    │        common name        │    lat     │    lng    │          datetime          │  model  │ model_checkpoint │   country   │ device_id │\n",
      "│           varchar            │   int64    │        double        │                                                                                                                                                                                                                                                                                                                              struct(aci double, actspcount double, actspfract double, actspmean double, adi double, aei double, agi double, anthroenergy double, bgnf double, bi double, bioenergy double, eas double, ecu double, ecv double, enrf double, eps double, eps_kurt double, eps_skew double, evnspcount double, evnspfract double, evnspmean double, hfc double, h_ginisimpson double, h_havrda double, h_renyi double, h_gamma double, h_pairedshannon double, hf double, kurtf double, leqf double, lfc double, meanf double, mfc double, nbpeaks bigint, ndsi double, raoq double, roicover double, roitotal bigint, rou double, skewf double, snrf double, tfsd double, varf double, rba double)                                                                                                                                                                                                                                                                                                                              │ int64 │        double        │        varchar        │          varchar          │   double   │  double   │          varchar           │ varchar │      int32       │   varchar   │  varchar  │\n",
      "├──────────────────────────────┼────────────┼──────────────────────┼────────────────────────────────────────────────────────────────────────────────────────────────────────────────────────────────────────────────────────────────────────────────────────────────────────────────────────────────────────────────────────────────────────────────────────────────────────────────────────────────────────────────────────────────────────────────────────────────────────────────────────────────────────────────────────────────────────────────────────────────────────────────────────────────────────────────────────────────────────────────────────────────────────────────────────────────────────────────────────────────────────────────────────────────────────────────────────────────────────────────────────────────────────────────────────────────────────────────────────────────────────────────────────────────────────────────────────────────────────────────────────────────────────────────────────────────────────────────────────────────────────────────────────────────────────────────────────────────────────────────────────────────────────────────────────────────────────────────────────────────────────────────────────────────────────────────────────────────────────────────────────────────────────────────────────────────────────────────────────────────────────────────┼───────┼──────────────────────┼───────────────────────┼───────────────────────────┼────────────┼───────────┼────────────────────────────┼─────────┼──────────────────┼─────────────┼───────────┤\n",
      "│ 2025-03-09T16_03_18.452Z.mp3 │        129 │ 0.004318851511925459 │ {'ACI': 304.9468078613281, 'ACTspCount': 42.8125, 'ACTspFract': 0.15290178571428573, 'ACTspMean': 6.1186277866363525, 'ADI': 2.3016399686254916, 'AEI': 0.023496945400186497, 'AGI': 1.2203712463378906, 'AnthroEnergy': 0.736890435218811, 'BGNf': -27.24012549178452, 'BI': 9.043958984375, 'BioEnergy': 0.13976925611495972, 'EAS': 0.004567160330442022, 'ECU': 0.10006000371817647, 'ECV': 0.04442330454001975, 'ENRf': -24.296993244321573, 'EPS': 0.31325020712656126, 'EPS_KURT': 41.20928999143117, 'EPS_SKEW': 5.477077227641999, 'EVNspCount': 0.15882266465053763, 'EVNspFract': 0.007463727678571428, 'EVNspMean': 0.010709432870370371, 'HFC': 0.17877076411960133, 'H_GiniSimpson': 0.8888612315058708, 'H_Havrda': 0.32429619257648784, 'H_Renyi': 1.803900122642517, 'H_gamma': 26626.538519684615, 'H_pairedShannon': 4.761033058166504, 'Hf': 0.6126440132666675, 'KURTf': 117.56149856651733, 'LEQf': 68.70300631815041, 'LFC': 0.13912337662337662, 'MEANf': 0.001675507752224803, 'MFC': 0.13612139156180608, 'NBPEAKS': 9, 'NDSI': -0.6811322569847107, 'RAOQ': 0.7073762368309562, 'ROIcover': 0.5008370535714286, 'ROItotal': 16, 'ROU': 1.2837470769882202, 'SKEWf': 9.378240932889518, 'SNRf': 2.943132247462948, 'TFSD': 0.5601634383201599, 'VARf': 4.454246663954109e-06, 'rBA': 0.18967440724372864}            │     0 │  0.34999069571495056 │ Porzana porzana       │ Spotted Crake             │   52.45248 │  5.358942 │ 2025-05-30 15:38:39.167593 │ birdnet │             NULL │ Netherlands │ 498873b2  │\n",
      "│ 2025-02-10T03_54_04.150Z.mp3 │        288 │ 0.004227742087095976 │ {'ACI': 304.49884033203125, 'ACTspCount': 43.291015625, 'ACTspFract': 0.1546107700892857, 'ACTspMean': 8.525590896606445, 'ADI': 0.14807416336063933, 'AEI': 0.8932773109243698, 'AGI': 1.2525663375854492, 'AnthroEnergy': 42.470890045166016, 'BGNf': -16.59565119149898, 'BI': 10.59546875, 'BioEnergy': 0.14330610632896423, 'EAS': 0.004410114220509742, 'ECU': 0.13062654119662687, 'ECV': 0.07735045375781213, 'ENRf': -8.029437947166047, 'EPS': 0.34504207286878164, 'EPS_KURT': 62.61501749507503, 'EPS_SKEW': 6.713805880133925, 'EVNspCount': 0.18179288474462368, 'EVNspFract': 0.010770089285714287, 'EVNspMean': 0.012595874669312168, 'HFC': 0.17799003322259138, 'H_GiniSimpson': 0.800187736749649, 'H_Havrda': 0.3149610869586468, 'H_Renyi': 1.4491509199142456, 'H_gamma': 1299.7023472706192, 'H_pairedShannon': 2.8341264724731445, 'Hf': 0.3117902905634339, 'KURTf': 103.56034187386196, 'LEQf': 84.97056260722096, 'LFC': 0.2290584415584416, 'MEANf': 0.0036351222079247236, 'MFC': 0.1325499629903775, 'NBPEAKS': 11, 'NDSI': -0.9932742118835449, 'RAOQ': 0.020773932234651633, 'ROIcover': 2.0738002232142856, 'ROItotal': 9, 'ROU': 53.708213806152344, 'SKEWf': 9.538053737998522, 'SNRf': 8.566213244332934, 'TFSD': 0.5672054886817932, 'VARf': 0.0002942442079074681, 'rBA': 0.0033742194063961506}         │     0 │ 0.026942100375890732 │ Porzana porzana       │ Spotted Crake             │ 52.0381254 │ 5.8432007 │ 2025-05-21 05:58:34.512905 │ birdnet │             NULL │ Netherlands │ 30d19c18  │\n",
      "│ 2025-03-01T06_12_53.238Z.mp3 │         27 │ 0.009675086475908756 │ {'ACI': 303.997314453125, 'ACTspCount': 42.197265625, 'ACTspFract': 0.1507045200892857, 'ACTspMean': 6.08579695224762, 'ADI': 2.3025751536920755, 'AEI': 0.002397559315268083, 'AGI': 1.2272400856018066, 'AnthroEnergy': 0.41231846809387207, 'BGNf': -28.360852111639673, 'BI': 10.7286015625, 'BioEnergy': 0.14065426588058472, 'EAS': 0.004594776321476202, 'ECU': 0.18111484195432814, 'ECV': 0.10592491013589267, 'ENRf': -26.061295010216995, 'EPS': 0.3259984438758867, 'EPS_KURT': 57.486851392855534, 'EPS_SKEW': 6.753794861685389, 'EVNspCount': 0.1522597446236559, 'EVNspFract': 0.007052176339285714, 'EVNspMean': 0.010124297288359788, 'HFC': 0.17740863787375413, 'H_GiniSimpson': 0.9668386429548264, 'H_Havrda': 0.33246032839330536, 'H_Renyi': 2.9724786281585693, 'H_gamma': 37532.182184594436, 'H_pairedShannon': 5.719444274902344, 'Hf': 0.7592554012905259, 'KURTf': 44.61275989420512, 'LEQf': 66.93870496235287, 'LFC': 0.13457792207792207, 'MEANf': 0.0015966673381626606, 'MFC': 0.1332346410066617, 'NBPEAKS': 8, 'NDSI': -0.49127957224845886, 'RAOQ': 0.868841632812938, 'ROIcover': 0.41085379464285715, 'ROItotal': 9, 'ROU': 0.8482799530029297, 'SKEWf': 5.563075270176376, 'SNRf': 2.2995571014226783, 'TFSD': 0.5858399868011475, 'VARf': 2.2879255539010046e-06, 'rBA': 0.34113016724586487}        │     0 │ 0.020985407754778862 │ Dryobates minor       │ Lesser Spotted Woodpecker │ 52.0381254 │ 5.8432007 │ 2025-05-28 23:55:07.023149 │ birdnet │             NULL │ Netherlands │ 30d19c18  │\n",
      "│ 2025-02-27T16_24_51.625Z.mp3 │        108 │ 0.007110274396836758 │ {'ACI': 306.3664245605469, 'ACTspCount': 42.748046875, 'ACTspFract': 0.15267159598214286, 'ACTspMean': 7.6882630586624146, 'ADI': 0.21459379446836768, 'AEI': 0.8883670164072953, 'AGI': 1.2450923919677734, 'AnthroEnergy': 44.447017669677734, 'BGNf': -17.794160900212127, 'BI': 9.807108072916666, 'BioEnergy': 0.14028151333332062, 'EAS': 0.006762631617652004, 'ECU': 0.16785559522464288, 'ECV': 0.07732339326085058, 'ENRf': -7.831897866973084, 'EPS': 0.3996578352118655, 'EPS_KURT': 66.31643616262707, 'EPS_SKEW': 7.512813519319081, 'EVNspCount': 0.18376176075268819, 'EVNspFract': 0.009291294642857145, 'EVNspMean': 0.011235621091871092, 'HFC': 0.17677740863787378, 'H_GiniSimpson': 0.6543541252613068, 'H_Havrda': 0.28225677212079364, 'H_Renyi': 0.9379086494445801, 'H_gamma': 1053.0505630436412, 'H_pairedShannon': 2.1858222484588623, 'Hf': 0.22334320575117608, 'KURTf': 179.89423696790348, 'LEQf': 85.1681016629695, 'LFC': 0.1732142857142857, 'MEANf': 0.003231649287045002, 'MFC': 0.135140636565507, 'NBPEAKS': 11, 'NDSI': -0.993707537651062, 'RAOQ': 0.020953761493127686, 'ROIcover': 1.5541294642857144, 'ROItotal': 25, 'ROU': 50.39861297607422, 'SKEWf': 12.715924541315532, 'SNRf': 9.962263033239044, 'TFSD': 0.5691900253295898, 'VARf': 0.00031132251024246216, 'rBA': 0.0031561513897031546} │     2 │ 0.011694728396832943 │ Carpodacus erythrinus │ Common Rosefinch          │ 40.6827982 │ 0.8349271 │ 2025-05-21 13:18:43.918566 │ birdnet │             NULL │ Spain       │ 8e7fead8  │\n",
      "│ 2025-03-13T16_17_15.201Z.mp3 │        201 │ 0.009041638113558292 │ {'ACI': 315.7923583984375, 'ACTspCount': 44.380859375, 'ACTspFract': 0.15850306919642856, 'ACTspMean': 7.13900625705719, 'ADI': 2.3025838788019226, 'AEI': 0.0008623827999393541, 'AGI': 1.27422297000885, 'AnthroEnergy': 0.2919427752494812, 'BGNf': -28.77271301446953, 'BI': 10.566945963541666, 'BioEnergy': 0.2507970929145813, 'EAS': 0.004864429015538851, 'ECU': 0.26599663756869485, 'ECV': 0.20901104006985594, 'ENRf': -26.169925803233177, 'EPS': 0.20812805217184338, 'EPS_KURT': 25.46485700530117, 'EPS_SKEW': 3.8029490234618817, 'EVNspCount': 0.14438424059139784, 'EVNspFract': 0.0066545758928571435, 'EVNspMean': 0.014599305555555556, 'HFC': 0.18244186046511626, 'H_GiniSimpson': 0.9849254535511136, 'H_Havrda': 0.33310940335892764, 'H_Renyi': 3.652782440185547, 'H_gamma': 47425.28444086364, 'H_pairedShannon': 6.295107364654541, 'Hf': 0.8500293731505907, 'KURTf': 27.253136205589996, 'LEQf': 66.83007415813753, 'LFC': 0.11931818181818184, 'MEANf': 0.001747417845763266, 'MFC': 0.14402294596595114, 'NBPEAKS': 9, 'NDSI': -0.07581105828285217, 'RAOQ': 0.8411907944350204, 'ROIcover': 0.029296875, 'ROItotal': 8, 'ROU': 0.9428809285163879, 'SKEWf': 3.7808214490319743, 'SNRf': 2.602787211236354, 'TFSD': 0.5885134339332581, 'VARf': 1.6643081153233652e-06, 'rBA': 0.8590624928474426}           │     1 │  0.05258188024163246 │ Strix aluco           │ Tawny Owl                 │  63.711335 │  9.539777 │ 2025-05-28 08:55:33.000716 │ birdnet │             NULL │ Norway      │ dc98ad82  │\n",
      "└──────────────────────────────┴────────────┴──────────────────────┴────────────────────────────────────────────────────────────────────────────────────────────────────────────────────────────────────────────────────────────────────────────────────────────────────────────────────────────────────────────────────────────────────────────────────────────────────────────────────────────────────────────────────────────────────────────────────────────────────────────────────────────────────────────────────────────────────────────────────────────────────────────────────────────────────────────────────────────────────────────────────────────────────────────────────────────────────────────────────────────────────────────────────────────────────────────────────────────────────────────────────────────────────────────────────────────────────────────────────────────────────────────────────────────────────────────────────────────────────────────────────────────────────────────────────────────────────────────────────────────────────────────────────────────────────────────────────────────────────────────────────────────────────────────────────────────────────────────────────────────────────────────────────────────────────────────────────────────────────────────────────────────────────────────────────────────────────────────────────────────────────────────────┴───────┴──────────────────────┴───────────────────────┴───────────────────────────┴────────────┴───────────┴────────────────────────────┴─────────┴──────────────────┴─────────────┴───────────┘\n",
      "\n"
     ]
    }
   ],
   "source": [
    "duckdf = duckdb.sql(\"FROM read_parquet('/home/benjamin.cretois/data/s3mount/bencretois-ns8129k-proj-tabmon/parquet_results/*/*/*.parquet', hive_partitioning=true)\")\n",
    "\n",
    "duckdf_sub = duckdb.sql(\"\"\"\n",
    "SELECT * FROM duckdf \n",
    "USING SAMPLE 100000 ROWS\n",
    "\"\"\")"
   ]
  },
  {
   "cell_type": "code",
   "execution_count": null,
   "id": "ce2e9146",
   "metadata": {},
   "outputs": [],
   "source": [
    "duckdb.sql(\"FROM duckdf_sub LIMIT 5\").show()"
   ]
  },
  {
   "cell_type": "code",
   "execution_count": null,
   "id": "4c0f2932",
   "metadata": {},
   "outputs": [
    {
     "name": "stdout",
     "output_type": "stream",
     "text": [
      "┌──────────────────────────────┬─────────────────────┐\n",
      "│           filename           │    time_recorded    │\n",
      "│           varchar            │      timestamp      │\n",
      "├──────────────────────────────┼─────────────────────┤\n",
      "│ 2025-02-24T20_21_59.767Z.mp3 │ 2025-02-24 20:21:59 │\n",
      "│ 2025-02-27T22_31_23.896Z.mp3 │ 2025-02-27 22:31:23 │\n",
      "│ 2025-03-10T19_15_11.979Z.mp3 │ 2025-03-10 19:15:11 │\n",
      "│ 2025-03-09T07_01_34.347Z.mp3 │ 2025-03-09 07:01:34 │\n",
      "│ 2025-03-04T11_26_07.889Z.mp3 │ 2025-03-04 11:26:07 │\n",
      "└──────────────────────────────┴─────────────────────┘\n",
      "\n"
     ]
    }
   ],
   "source": [
    "filtered_data = duckdb.sql(\"\"\"\n",
    "SELECT \n",
    "    *,\n",
    "    DATE_TRUNC('second', \n",
    "        STRPTIME(\n",
    "            REPLACE(\n",
    "                REPLACE(\n",
    "                    REPLACE(\n",
    "                        REGEXP_EXTRACT(filename, '(.*)\\\\.mp3$', 1),\n",
    "                        'T', ' '\n",
    "                    ),\n",
    "                    '_', ':'\n",
    "                ),\n",
    "                'Z', ''\n",
    "            ),\n",
    "            '%Y-%m-%d %H:%M:%S.%f'\n",
    "        )\n",
    "    ) AS time_recorded,\n",
    "    energy['ACI'] AS ACI,\n",
    "    energy['ADI'] AS ADI,\n",
    "    energy['BI'] AS BI,\n",
    "    energy['EVNspCount'] AS EVNspCount,\n",
    "    energy['EVNspMean'] AS EVNspMean,\n",
    "    energy['Hf'] AS Hf,\n",
    "    energy['NDSI'] AS NDSI\n",
    "FROM duckdf_sub\n",
    "\"\"\")\n",
    "\n",
    "duckdb.sql(\"SELECT filename, time_recorded FROM filtered_data LIMIT 5\").show()"
   ]
  },
  {
   "cell_type": "code",
   "execution_count": 21,
   "id": "d0c3b32c",
   "metadata": {},
   "outputs": [],
   "source": [
    "weekly_aggregated = duckdb.sql(\"\"\"\n",
    "    SELECT \n",
    "        device_id,\n",
    "        country,\n",
    "        lat,\n",
    "        CAST(DATE_TRUNC('week', time_recorded) AS VARCHAR) AS week_str,\n",
    "        AVG(uncertainty) AS uncertainty,\n",
    "        AVG(ACI) AS ACI,\n",
    "        AVG(ADI) AS ADI,\n",
    "        AVG(BI) AS BI,\n",
    "        AVG(Hf) AS Hf,\n",
    "        AVG(NDSI) AS NDSI,\n",
    "        AVG(EVNspCount) AS EVNspCount\n",
    "    FROM filtered_data\n",
    "    GROUP BY device_id, country, lat, DATE_TRUNC('week', time_recorded)\n",
    "    ORDER BY lat DESC, device_id\n",
    "\"\"\")\n",
    "\n",
    "agg_df = weekly_aggregated.df()\n",
    "agg_df['week'] = pd.to_datetime(agg_df['week_str']).dt.date"
   ]
  },
  {
   "cell_type": "code",
   "execution_count": 24,
   "id": "2973244c",
   "metadata": {},
   "outputs": [],
   "source": [
    "agg_df['device_label'] = agg_df['device_id'] + ' (' + agg_df['country'] + ')'\n",
    "device_labels = agg_df.sort_values('lat', ascending=False)[['device_label', 'device_id']].drop_duplicates()"
   ]
  },
  {
   "cell_type": "code",
   "execution_count": 25,
   "id": "603e792d",
   "metadata": {},
   "outputs": [
    {
     "data": {
      "application/vnd.plotly.v1+json": {
       "config": {
        "plotlyServerURL": "https://plot.ly"
       },
       "data": [
        {
         "colorbar": {
          "title": {
           "text": "uncertainty"
          }
         },
         "colorscale": [
          [
           0,
           "#440154"
          ],
          [
           0.1111111111111111,
           "#482878"
          ],
          [
           0.2222222222222222,
           "#3e4989"
          ],
          [
           0.3333333333333333,
           "#31688e"
          ],
          [
           0.4444444444444444,
           "#26828e"
          ],
          [
           0.5555555555555556,
           "#1f9e89"
          ],
          [
           0.6666666666666666,
           "#35b779"
          ],
          [
           0.7777777777777778,
           "#6ece58"
          ],
          [
           0.8888888888888888,
           "#b5de2b"
          ],
          [
           1,
           "#fde725"
          ]
         ],
         "hovertemplate": "Device: %{y}<br>Week: %{x}<br>Value: %{z}<extra></extra>",
         "type": "heatmap",
         "visible": true,
         "x": [
          "2025-01-13",
          "2025-01-20",
          "2025-01-27",
          "2025-02-03",
          "2025-02-10",
          "2025-02-17",
          "2025-02-24",
          "2025-03-03",
          "2025-03-10",
          "2025-03-17",
          "2025-03-24",
          "2025-03-31"
         ],
         "y": [
          "dc98ad82 (Norway)",
          "1b36a79e (Norway)",
          "22f9afc5 (Norway)",
          "8ac55f2f (Norway)",
          "4cb16fa2 (Norway)",
          "c27ff1cf (Norway)",
          "eb289bed (Norway)",
          "889bef22 (Norway)",
          "20069731 (Norway)",
          "2b0e29ef (Norway)",
          "d51cd90c (Norway)",
          "94dc95d8 (Norway)",
          "3c94309d (Norway)",
          "6a306e76 (Norway)",
          "1920e8d5 (Norway)",
          "3e481576 (Norway)",
          "932ef8d5 (Norway)",
          "11d0c4a2 (Norway)",
          "3b0c3815 (Norway)",
          "93be5da2 (Norway)",
          "e848f182 (Norway)",
          "d642707c (Norway)",
          "5bc534f0 (Norway)",
          "c7289269 (Norway)",
          "29eb3e1b (Norway)",
          "3e07ce56 (Norway)",
          "941752da (Norway)",
          "cdfb50bf (Norway)",
          "b91151a3 (Norway)",
          "d88bc03a (Norway)",
          "5a6ba752 (Norway)",
          "7e4b3d4f (Norway)",
          "d7a35b3c (Netherlands)",
          "f0dc521c (Netherlands)",
          "d593cb78 (Netherlands)",
          "498873b2 (Netherlands)",
          "9a2290fc (Netherlands)",
          "de594337 (Netherlands)",
          "6174ecbe (Netherlands)",
          "8f06b854 (Netherlands)",
          "cfc291d3 (Netherlands)",
          "3b425ce9 (Netherlands)",
          "fb104ba8 (Netherlands)",
          "44e6e23b (Netherlands)",
          "63c64349 (Netherlands)",
          "30d19c18 (Netherlands)",
          "438d2740 (Netherlands)",
          "688a86aa (France)",
          "c1405178 (France)",
          "6b3c38e6 (France)",
          "613266b (Spain)",
          "2d00da80 (Spain)",
          "1c1dcfe8 (Spain)",
          "55dc62ae (Spain)",
          "379e35d4 (Spain)",
          "b5812468 (Spain)",
          "36308864 (Spain)",
          "8e7fead8 (Spain)",
          "49da8233 (Spain)"
         ],
         "z": {
          "bdata": "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",
          "dtype": "f8",
          "shape": "59, 12"
         }
        },
        {
         "colorbar": {
          "title": {
           "text": "ACI"
          }
         },
         "colorscale": [
          [
           0,
           "#440154"
          ],
          [
           0.1111111111111111,
           "#482878"
          ],
          [
           0.2222222222222222,
           "#3e4989"
          ],
          [
           0.3333333333333333,
           "#31688e"
          ],
          [
           0.4444444444444444,
           "#26828e"
          ],
          [
           0.5555555555555556,
           "#1f9e89"
          ],
          [
           0.6666666666666666,
           "#35b779"
          ],
          [
           0.7777777777777778,
           "#6ece58"
          ],
          [
           0.8888888888888888,
           "#b5de2b"
          ],
          [
           1,
           "#fde725"
          ]
         ],
         "hovertemplate": "Device: %{y}<br>Week: %{x}<br>Value: %{z}<extra></extra>",
         "type": "heatmap",
         "visible": false,
         "x": [
          "2025-01-13",
          "2025-01-20",
          "2025-01-27",
          "2025-02-03",
          "2025-02-10",
          "2025-02-17",
          "2025-02-24",
          "2025-03-03",
          "2025-03-10",
          "2025-03-17",
          "2025-03-24",
          "2025-03-31"
         ],
         "y": [
          "dc98ad82 (Norway)",
          "1b36a79e (Norway)",
          "22f9afc5 (Norway)",
          "8ac55f2f (Norway)",
          "4cb16fa2 (Norway)",
          "c27ff1cf (Norway)",
          "eb289bed (Norway)",
          "889bef22 (Norway)",
          "20069731 (Norway)",
          "2b0e29ef (Norway)",
          "d51cd90c (Norway)",
          "94dc95d8 (Norway)",
          "3c94309d (Norway)",
          "6a306e76 (Norway)",
          "1920e8d5 (Norway)",
          "3e481576 (Norway)",
          "932ef8d5 (Norway)",
          "11d0c4a2 (Norway)",
          "3b0c3815 (Norway)",
          "93be5da2 (Norway)",
          "e848f182 (Norway)",
          "d642707c (Norway)",
          "5bc534f0 (Norway)",
          "c7289269 (Norway)",
          "29eb3e1b (Norway)",
          "3e07ce56 (Norway)",
          "941752da (Norway)",
          "cdfb50bf (Norway)",
          "b91151a3 (Norway)",
          "d88bc03a (Norway)",
          "5a6ba752 (Norway)",
          "7e4b3d4f (Norway)",
          "d7a35b3c (Netherlands)",
          "f0dc521c (Netherlands)",
          "d593cb78 (Netherlands)",
          "498873b2 (Netherlands)",
          "9a2290fc (Netherlands)",
          "de594337 (Netherlands)",
          "6174ecbe (Netherlands)",
          "8f06b854 (Netherlands)",
          "cfc291d3 (Netherlands)",
          "3b425ce9 (Netherlands)",
          "fb104ba8 (Netherlands)",
          "44e6e23b (Netherlands)",
          "63c64349 (Netherlands)",
          "30d19c18 (Netherlands)",
          "438d2740 (Netherlands)",
          "688a86aa (France)",
          "c1405178 (France)",
          "6b3c38e6 (France)",
          "613266b (Spain)",
          "2d00da80 (Spain)",
          "1c1dcfe8 (Spain)",
          "55dc62ae (Spain)",
          "379e35d4 (Spain)",
          "b5812468 (Spain)",
          "36308864 (Spain)",
          "8e7fead8 (Spain)",
          "49da8233 (Spain)"
         ],
         "z": {
          "bdata": "AAAAAAAA+H92YiciN3lzQCebbNLWGHNAIeOCDPUmc0DkOI7DOiFzQGBqf+n6InNA9DzPU/lFc0DgLvXkfHVzQOx7RM4SPXNAPDw8WIU1c0CJ4JGex01zQKFChSr9P3NAAAAAAAAA+H8PDw8fli5zQMMwDGMGTXNAAAAAAAAA+H8AAAAAAAD4fwAAAAAAAPh/AAAAAAAA+H8AAAAAAAD4fwAAAAAAAPh/AAAAAAAA+H8AAAAAAAD4fwAAAAAAAPh/AAAAAAAA+H+DmFxhqEl0QL1PccEZpnNAUWDSiWHyc0AAAAAAAAD4fwAAAAAAAPh/AAAAAAAA+H8AAAAAAAD4fwAAAAAAAPh/AAAAAAAA+H8AAAAAAAD4fwAAAAAAAPh/AAAAAAAA+H/LsixLnm9zQJBrIhAHRXNAAAAAAAAA+H8AAAAAAAD4fwAAAAAAAPh/AAAAAAAA+H8AAAAAAAD4fwAAAAAAAPh/AAAAAAAA+H8AAAAAAAD4fwAAAAAAAPh/AAAAAAAA+H8AAAAAAAD4f0IIIaQMBXNAGzT58tEYc0AcDofDZhBzQJTx22WZCnNAaKwP3ZoOc0AkjzwirB5zQB2Bon0lFHNAaDipm0UXc0DfTFZZiRxzQBaykO0TIHNAAAAAAAAA+H8AAAAAAAD4fwAAAAAAAPh/AAAAAAAA+H8AAAAAAAD4fwAAAAAAAPh/AAAAAAAA+H8AAAAAAAD4fwAAAAAAAPh/AAAAwFq5c0AH5toxH8xzQIqd2Amlm3NAAAAAAAAA+H8AAAAAAAD4f1VVVbXaPnNAnlALuKAac0A/h9R0ehBzQOLh4UEVEXNAAAAAAAAA+H8AAAAAAAD4fwAAAAAAAPh/AAAAAAAA+H8AAAAAAAD4fwAAAAAAAPh/W7AFu6cTc0BVVVV1cP5yQAAAAAAAAPh/AAAAAAAA+H8AAAAAAAD4fwAAAAAAAPh/AAAAAAAA+H8AAAAAAAD4fwAAAAAAAPh/AAAAAAAA+H8AAAAAAAD4fwAAAAAAAPh/AAAAAAAA+H8AAAAAAAD4fwAAAAAAAPh/AAAAAAAA+H8AAAAAAAD4fwAAAAAAAPh/0GkDvW8zc0AIg5xFXDFzQHiFV5gULnNA3VWKaTEbc0AWspBtJkZzQCd2Yoe8DHNAAAAAAAAA+H8AAAAAAAD4fwAAAAAAAPh/AAAAAAAA+H8AAAAAAAD4fwAAAAAAAPh/2WSTDRQrc0AAAAAAAAD4fwAAAAAAAPh/AAAAAAAA+H8AAAAAAAD4fwAAAAAAAPh/AAAAAAAA+H8AAAAAAAD4fwAAAAAAAPh/AAAAAAAA+H8AAAAAAAD4fwAAAAAAAPh/AAAA8LoKc0ALFSpUshZzQE2+bBDAHXNA3WCKHIQIc0BqhOWKDQpzQJuypqxHDHNAAAAAAAAA+H8AAAAAAAD4fwAAAAAAAPh/AAAAAAAA+H8AAAAAAAD4fwAAAAAAAPh/xU7sREJBc0CRhSwE+ApzQCVJkkASD3NA16NwXWUTc0C3bds2oQtzQG7btl1MA3NAAAAAAAAA+H8AAAAAAAD4fwAAAAAAAPh/AAAAAAAA+H8AAAAAAAD4fwAAAAAAAPh/hDqoK0E1c0CnUwS+Al9zQB3+chmxMnNATwny1Dwzc0DqNC48kUBzQHh4eDiwYXNAAAAAAAAA+H8AAAAAAAD4f6MoiuKDDnNAAAAAAAAA+H8AAAAAAAD4fwAAAAAAAPh/mpmZITsDc0AAAAAAAAD4fwAAAAAAAPh/AAAAAAAA+H8AAAAAAAD4fwAAAAAAAPh/AAAAAAAA+H8AAAAAAAD4fwAAAAAAAPh/AAAAAAAA+H8AAAAAAAD4fwAAAAAAAPh/AAAAaA4gc0DyABHyPCJzQEtLS1M4G3NAnud5fi4bc0AHVlGsxydzQJlbndE4LnNAAAAAAAAA+H8AAAAAAAD4fwAAAAAAAPh/AAAAAAAA+H8AAAAAAAD4fwAAAAAAAPh/Y4wx5i0Cc0AAAAAAAAD4fwAAAAAAAPh/AAAAAAAA+H8AAAAAAAD4fwAAAAAAAPh/AAAAAAAA+H8AAAAAAAD4fwAAAAAAAPh/AAAAAAAA+H8AAAAAAAD4f+SRR553f3NAJO6IW5YSc0AAAAAAAAD4fwAAAAAAAPh/AAAAAAAA+H8AAAAAAAD4fwAAAAAAAPh/AAAAAAAA+H8AAAAAAAD4fwAAAAAAAPh/AAAAAAAA+H8AAAAAAAD4fwAAAAAAAPh/AAAg+JU0c0AAAAAAAAD4fwAAAAAAAPh/AAAAAAAA+H8AAAAAAAD4fwAAAAAAAPh/AAAAAAAA+H8AAAAAAAD4fwAAAAAAAPh/AAAAAAAA+H8AAAAAAAD4fwAAAAAAAPh/AAAAAAAA+H8AAAAAAAD4fwAAAAAAAPh/dNFFlzFAc0CN6APq0HpzQAAAAKJDHnNAAAAAAAAA+H8AAAAAAAD4fwAAAAAAAPh/AAAAAAAA+H8AAAAAAAD4fwAAAAAAAPh/AAAAAAAA+H8AAAAAAAD4fwAAAAAAAPh/x3Ec78JDc0BjEgd/cpZzQAAAAAAAAPh/AAAAAAAA+H8AAAAAAAD4fwAAAAAAAPh/AAAAAAAA+H8AAAAAAAD4fwAAAAAAAPh/AAAAAAAA+H8AAAAAAAD4fwAAAAAAAPh/VVVVhSLfc0CUsvSDGYVzQC7f8v3/VXNAAAAAAAAA+H8AAAAAAAD4fwAAAAAAAPh/AAAAAAAA+H8AAAAAAAD4fwAAAAAAAPh/AAAAAAAA+H8AAAAAAAD4fwAAAAAAAPh/AAAAAAAA+H8uojlbaf5zQPy+75vdw3NAAAAAAAAA+H8AAAAAAAD4fwAAAAAAAPh/AAAAAAAA+H8AAAAAAAD4fwAAAAAAAPh/AAAAAAAA+H8AAAAAAAD4fwAAAAAAAPh/AAAAAAAA+H+l8ZGp5KxzQN3TCGscNXNAAAAAAAAA+H8AAAAAAAD4fwAAAAAAAPh/AAAAAAAA+H8AAAAAAAD4fwAAAAAAAPh/AAAAAAAA+H8AAAAAAAD4fwAAAAAAAPh/AAAAAAAA+H89s65qPmtzQIp81k2tM3NAAAAAAAAA+H8AAAAAAAD4fwAAAAAAAPh/AAAAAAAA+H8AAAAAAAD4fwAAAAAAAPh/AAAAAAAA+H8AAAAAAAD4fwAAAAAAAPh/AAAAAAAA+H+amZkZ/H9zQDmO4zidmXNAAAAAAAAA+H8AAAAAAAD4fwAAAAAAAPh/AAAAAAAA+H8AAAAAAAD4fwAAAAAAAPh/AAAAAAAA+H8AAAAAAAD4fwAAAAAAAPh/AAAAAAAA+H8AAMBlrvJzQAAAAIzRcHNAAAAAAAAA+H8AAAAAAAD4fwAAAAAAAPh/AAAAAAAA+H8AAAAAAAD4fwAAAAAAAPh/AAAAAAAA+H8AAAAAAAD4fwAAAAAAAPh/AAAAAAAA+H/CBx9cV4VzQAAAAAAAAPh/AAAAAAAA+H8AAAAAAAD4fwAAAAAAAPh/AAAAAAAA+H8AAAAAAAD4fwAAAAAAAPh/AAAAAAAA+H8AAAAAAAD4fwAAAAAAAPh/AAAAAAAA+H8wJnGQKk1zQC+66IK+P3NAAAAAAAAA+H8AAAAAAAD4fwAAAAAAAPh/AAAAAAAA+H8AAAAAAAD4fwAAAAAAAPh/AAAAAAAA+H8AAAAAAAD4fwAAAAAAAPh/AAAAAAAA+H+HTIxWOGZzQM455zxFT3NAAAAAAAAA+H8AAAAAAAD4fwAAAAAAAPh/AAAAAAAA+H8AAAAAAAD4fwAAAAAAAPh/AAAAAAAA+H8AAAAAAAD4fwAAAAAAAPh/AAAAAAAA+H/btu2DXylzQDMzMx8SInNAAAAAAAAA+H8AAAAAAAD4fwAAAAAAAPh/AAAAAAAA+H8AAAAAAAD4fwAAAAAAAPh/AAAAAAAA+H8AAAAAAAD4fwAAAAAAAPh/AAAAAAAA+H/5BFKp6sVzQErxApmcUHNAAAAAAAAA+H8AAAAAAAD4fwAAAAAAAPh/AAAAAAAA+H8AAAAAAAD4fwAAAAAAAPh/AAAAAAAA+H8AAAAAAAD4fwAAAAAAAPh/AAAAAAAA+H9e0bQqJ0hzQKkJxvuGHnNAAAAAAAAA+H8AAAAAAAD4fwAAAAAAAPh/AAAAAAAA+H8AAAAAAAD4fwAAAAAAAPh/8Z5Cb8MZc0CnOP/rpw1zQNcUqxYuEXNAewnt2f0lc0A1wLgdTTRzQARuLCMAOHNAAAAAAAAA+H8AAAAAAAD4fwAAAAAAAPh/AAAAAAAA+H8AAAAAAAD4fwAAALjRF3NAEaHl5hkQc0A1UwoalxpzQJ+z88nLIXNAi3amBHpBc0B9dCWbF05zQCivoTwESnNAAAAAAAAA+H8AAAAAAAD4fwAAAAAAAPh/AAAAAAAA+H8AAAAAAAD4f9qI07ZPInNAj6EQTMYZc0C9kTjXKR5zQNu2LdfxMXNAsrxXgyw2c0Bzn47E4zlzQPc7emUTNnNAAAAAAAAA+H8AAAAAAAD4fwAAAAAAAPh/AAAAAAAA+H8AAAAAAAD4fymNjyxgGXNAXCyQJJIdc0Ac2poaCRBzQEjZGO+0KHNA9edsB+oYc0Be3/XduydzQMXPKLENSnNAAAAAAAAA+H8AAAAAAAD4f/38/NzkHnNAIve3VlEuc0CrqqqKnkRzQH2tnl14S3NAYZaUI4RAc0BT5LMuizVzQAzdiuMuM3NAf4/dYXk2c0DYThkqpDlzQHrTm67JRXNAAAAAAAAA+H8AAAAAAAD4f60payqTDXNAqJzdIo4hc0DwbNSHFmdzQDMzMzNAJ3NABhZYIJ4tc0BRoUIFwitzQNylniy+MXNAE3AJuNM+c0CMUk2+jDBzQBKWexpkWnNAAAAAAAAA+H8AAAAAAAD4f+MrviIGCXNA05E987cdc0Bb4+/mm0FzQD0lyBM/HXNAYZxNwYo1c0CuwWKLnTZzQD838XpSM3NA2TMQNalDc0AU7BPMCkNzQGZmZjKwR3NAAAAAAAAA+H8AAAAAAAD4fyA/frxaEnNAz/M8O1JIc0DT0tKqdjVzQG5/kKHhO3NAKng5Vf8uc0AW01nUETJzQI3fLi1DOXNAM3rmwshlc0ARQghRXlVzQGZmZuabWnNAAAAAAAAA+H8AAAAAAAD4fwAAAAAAAPh/JqfW9EkBc0AfvfMQawZzQJIkSUaYDHNAqgUfuT8Cc0BXb/XmuwdzQL5U0lOgFXNA0m/91/E8c0CJf43Y11ZzQDptoINVbHNAAAAAAAAA+H8AAAAAAAD4fwAAAAAAAPh/q6qqt3wac0AYS37hyKlzQJqZmSWhKHNAymsovygcc0CIXFZUUw1zQEDgD1jVDXNAVVVVxa0Tc0ANJ3UbACZzQPIe75EHNXNAAAAAAAAA+H8AAAAAAAD4fwAAAAAAAPh/J5tsMNYoc0CCYN9HtzJzQJ7DNXqaZXNAQEbDnCMZc0Av9z6+LjNzQAAAAPCORXNAWMZ13t54c0AhgmKWIDpzQJYCtV5kLnNAAAAAAAAA+H8AAAAAAAD4fwAAAAAAAPh/zczMnGoPc0A9z/OWvzlzQAhIGvPBInNAvelN6dAgc0DAkWcIeAxzQC1ZvJe1EXNAZmM2NnQlc0ChDur6WyhzQGAs+WU/L3NAAAAAAAAA+H8AAAAAAAD4fwAAAAAAAPh/RKUjO5wQc0A++OADPBRzQAAAAKjcCHNAAAAA4Alcc0B5DeW9vgxzQMvwjUiFF3NAAAAA9H8gc0AvkEkBOzFzQGqC8TaXK3NAAAAAAAAA+H8AAAAAAAD4fwAAAAAAAPh/3t3d/XQSc0DKFcRkH2RzQAAAAOA9BnNAV6J2xdomc0DOdYwCkCZzQLRuMJVQG3NASZIk+csic0AndmLfGSBzQNu2bXuRDHNAAAAAAAAA+H8AAAAAAAD4fwAAAAAAAPh/cT0KN5gKc0BR6chO8ylzQNKPfqRaTHNAwH74Esc2c0DPqaQQ8yVzQEkdDxA/IHNAPyTwru0jc0C9M/U3OixzQI6mzu9KTHNAAAAAAAAA+H8AAAAAAAD4fwAAAAAAAPh/AAAAAAAA+H8AAAAAAAD4fwAAAAAAAPh/AAAAAAAA+H8AAAAAAAD4f6rEVKJCHXNAs8e/cq4yc0A5BS/Zjg9zQDNO53HcA3NAAAAAAAAA+H8AAAAAAAD4fwAAAAAAAPh/AAAAAAAA+H8AAAAAAAD4fwAAAAAAAPh/AAAAAAAA+H8AAAAAAAD4f5qZmbmzKXNAAAAgIE0/c0BmnLH5ZCFzQO4juP8pDXNAAAAAAAAA+H8AAAAAAAD4fwAAAAAAAPh/AAAAAAAA+H8AAAAAAAD4fwAAAAAAAPh/AAAAAAAA+H8AAAAAAAD4f3Hq99QiHnNA5ULU/WApc0DQITU9AQtzQCNoOKn0BnNAAAAAAAAA+H8AAAAAAAD4fwAAAAAAAPh/AAAAAAAA+H8AAAAAAAD4fwAAAAAAAPh/AAAAAAAA+H8AAAAAAAD4fwAAAAAAAPh/J3ZiB5xKc0Aap/PoX8RzQJqZmWGp0HNAAAAAAAAA+H8AAAAAAAD4fwAAAAAAAPh/AAAAAAAA+H8AAAAAAAD4fwAAAAAAAPh/AAAAAAAA+H8AAAAAAAD4fwAAAAAAAPh/rZrMGok9c0BrECZ7ZBpzQAAAgAS8BXNAAAAAAAAA+H8AAAAAAAD4fwAAAAAAAPh/AAAAAAAA+H8AAAAAAAD4fwAAAAAAAPh/AAAAAAAA+H8AAAAAAAD4fwAAAAAAAPh/vs1f0Zkjc0DQ5/OZ8K5zQJ7YiV04kHNAAAAAAAAA+H8AAAAAAAD4fwAAAAAAAPh/AAAAAAAA+H8AAAAAAAD4fwAAAAAAAPh/AAAAAAAA+H8AAAAAAAD4fwAAAAAAAPh/ygg4VcNyc0BHhyapaIRzQHLXz1ZfknNAAAAAAAAA+H8AAAAAAAD4fwAAAAAAAPh/AAAAAAAA+H8AAAAAAAD4fwAAAAAAAPh/AAAAAAAA+H8AAAAAAAD4fwAAAAAAAPh/AAAAAAAA+H/c5pM11ChzQBzHcQTLNXNAAAAAAAAA+H8AAAAAAAD4fwAAAAAAAPh/AAAAAAAA+H8AAAAAAAD4f43fLh1oEnNATI4qQEMjc0Cr9VXJDhpzQEGnDfQgFnNAHVy5mM8Yc0CI9XbPaWZzQOosptPOEXNAAAAAAAAA+H8AAAAAAAD4fwAAAAAAAPh/AAAAAAAA+H8AAAAAAAD4f5UgT9mzK3NAfba5IAtBc0AB/QUU9ohzQDQxwF4cJXNAQFIw+bZRc0B2gymOti5zQBh6oTfzHnNAAAAAAAAA+H8AAAAAAAD4fwAAAAAAAPh/AAAAAAAA+H8AAAAAAAD4f3faaSdaKHNAt9KscZClc0BxPQrnKiV0QNYNpli3bHNAzQ+LZGtLc0AQ1P4Z1KlzQLIVQYNZL3NAAAAAAAAA+H8AAAAAAAD4fwAAAAAAAPh/AAAAAAAA+H8AAAAAAAD4fwAAAAAAAPh/AAAAAAAA+H8AAAAAAAD4fzTUWHD/V3NAu8SsFXlUc0BNBHJlMf9zQAAAQMJignNA",
          "dtype": "f8",
          "shape": "59, 12"
         }
        },
        {
         "colorbar": {
          "title": {
           "text": "ADI"
          }
         },
         "colorscale": [
          [
           0,
           "#440154"
          ],
          [
           0.1111111111111111,
           "#482878"
          ],
          [
           0.2222222222222222,
           "#3e4989"
          ],
          [
           0.3333333333333333,
           "#31688e"
          ],
          [
           0.4444444444444444,
           "#26828e"
          ],
          [
           0.5555555555555556,
           "#1f9e89"
          ],
          [
           0.6666666666666666,
           "#35b779"
          ],
          [
           0.7777777777777778,
           "#6ece58"
          ],
          [
           0.8888888888888888,
           "#b5de2b"
          ],
          [
           1,
           "#fde725"
          ]
         ],
         "hovertemplate": "Device: %{y}<br>Week: %{x}<br>Value: %{z}<extra></extra>",
         "type": "heatmap",
         "visible": false,
         "x": [
          "2025-01-13",
          "2025-01-20",
          "2025-01-27",
          "2025-02-03",
          "2025-02-10",
          "2025-02-17",
          "2025-02-24",
          "2025-03-03",
          "2025-03-10",
          "2025-03-17",
          "2025-03-24",
          "2025-03-31"
         ],
         "y": [
          "dc98ad82 (Norway)",
          "1b36a79e (Norway)",
          "22f9afc5 (Norway)",
          "8ac55f2f (Norway)",
          "4cb16fa2 (Norway)",
          "c27ff1cf (Norway)",
          "eb289bed (Norway)",
          "889bef22 (Norway)",
          "20069731 (Norway)",
          "2b0e29ef (Norway)",
          "d51cd90c (Norway)",
          "94dc95d8 (Norway)",
          "3c94309d (Norway)",
          "6a306e76 (Norway)",
          "1920e8d5 (Norway)",
          "3e481576 (Norway)",
          "932ef8d5 (Norway)",
          "11d0c4a2 (Norway)",
          "3b0c3815 (Norway)",
          "93be5da2 (Norway)",
          "e848f182 (Norway)",
          "d642707c (Norway)",
          "5bc534f0 (Norway)",
          "c7289269 (Norway)",
          "29eb3e1b (Norway)",
          "3e07ce56 (Norway)",
          "941752da (Norway)",
          "cdfb50bf (Norway)",
          "b91151a3 (Norway)",
          "d88bc03a (Norway)",
          "5a6ba752 (Norway)",
          "7e4b3d4f (Norway)",
          "d7a35b3c (Netherlands)",
          "f0dc521c (Netherlands)",
          "d593cb78 (Netherlands)",
          "498873b2 (Netherlands)",
          "9a2290fc (Netherlands)",
          "de594337 (Netherlands)",
          "6174ecbe (Netherlands)",
          "8f06b854 (Netherlands)",
          "cfc291d3 (Netherlands)",
          "3b425ce9 (Netherlands)",
          "fb104ba8 (Netherlands)",
          "44e6e23b (Netherlands)",
          "63c64349 (Netherlands)",
          "30d19c18 (Netherlands)",
          "438d2740 (Netherlands)",
          "688a86aa (France)",
          "c1405178 (France)",
          "6b3c38e6 (France)",
          "613266b (Spain)",
          "2d00da80 (Spain)",
          "1c1dcfe8 (Spain)",
          "55dc62ae (Spain)",
          "379e35d4 (Spain)",
          "b5812468 (Spain)",
          "36308864 (Spain)",
          "8e7fead8 (Spain)",
          "49da8233 (Spain)"
         ],
         "z": {
          "bdata": "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",
          "dtype": "f8",
          "shape": "59, 12"
         }
        },
        {
         "colorbar": {
          "title": {
           "text": "BI"
          }
         },
         "colorscale": [
          [
           0,
           "#440154"
          ],
          [
           0.1111111111111111,
           "#482878"
          ],
          [
           0.2222222222222222,
           "#3e4989"
          ],
          [
           0.3333333333333333,
           "#31688e"
          ],
          [
           0.4444444444444444,
           "#26828e"
          ],
          [
           0.5555555555555556,
           "#1f9e89"
          ],
          [
           0.6666666666666666,
           "#35b779"
          ],
          [
           0.7777777777777778,
           "#6ece58"
          ],
          [
           0.8888888888888888,
           "#b5de2b"
          ],
          [
           1,
           "#fde725"
          ]
         ],
         "hovertemplate": "Device: %{y}<br>Week: %{x}<br>Value: %{z}<extra></extra>",
         "type": "heatmap",
         "visible": false,
         "x": [
          "2025-01-13",
          "2025-01-20",
          "2025-01-27",
          "2025-02-03",
          "2025-02-10",
          "2025-02-17",
          "2025-02-24",
          "2025-03-03",
          "2025-03-10",
          "2025-03-17",
          "2025-03-24",
          "2025-03-31"
         ],
         "y": [
          "dc98ad82 (Norway)",
          "1b36a79e (Norway)",
          "22f9afc5 (Norway)",
          "8ac55f2f (Norway)",
          "4cb16fa2 (Norway)",
          "c27ff1cf (Norway)",
          "eb289bed (Norway)",
          "889bef22 (Norway)",
          "20069731 (Norway)",
          "2b0e29ef (Norway)",
          "d51cd90c (Norway)",
          "94dc95d8 (Norway)",
          "3c94309d (Norway)",
          "6a306e76 (Norway)",
          "1920e8d5 (Norway)",
          "3e481576 (Norway)",
          "932ef8d5 (Norway)",
          "11d0c4a2 (Norway)",
          "3b0c3815 (Norway)",
          "93be5da2 (Norway)",
          "e848f182 (Norway)",
          "d642707c (Norway)",
          "5bc534f0 (Norway)",
          "c7289269 (Norway)",
          "29eb3e1b (Norway)",
          "3e07ce56 (Norway)",
          "941752da (Norway)",
          "cdfb50bf (Norway)",
          "b91151a3 (Norway)",
          "d88bc03a (Norway)",
          "5a6ba752 (Norway)",
          "7e4b3d4f (Norway)",
          "d7a35b3c (Netherlands)",
          "f0dc521c (Netherlands)",
          "d593cb78 (Netherlands)",
          "498873b2 (Netherlands)",
          "9a2290fc (Netherlands)",
          "de594337 (Netherlands)",
          "6174ecbe (Netherlands)",
          "8f06b854 (Netherlands)",
          "cfc291d3 (Netherlands)",
          "3b425ce9 (Netherlands)",
          "fb104ba8 (Netherlands)",
          "44e6e23b (Netherlands)",
          "63c64349 (Netherlands)",
          "30d19c18 (Netherlands)",
          "438d2740 (Netherlands)",
          "688a86aa (France)",
          "c1405178 (France)",
          "6b3c38e6 (France)",
          "613266b (Spain)",
          "2d00da80 (Spain)",
          "1c1dcfe8 (Spain)",
          "55dc62ae (Spain)",
          "379e35d4 (Spain)",
          "b5812468 (Spain)",
          "36308864 (Spain)",
          "8e7fead8 (Spain)",
          "49da8233 (Spain)"
         ],
         "z": {
          "bdata": "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",
          "dtype": "f8",
          "shape": "59, 12"
         }
        },
        {
         "colorbar": {
          "title": {
           "text": "Hf"
          }
         },
         "colorscale": [
          [
           0,
           "#440154"
          ],
          [
           0.1111111111111111,
           "#482878"
          ],
          [
           0.2222222222222222,
           "#3e4989"
          ],
          [
           0.3333333333333333,
           "#31688e"
          ],
          [
           0.4444444444444444,
           "#26828e"
          ],
          [
           0.5555555555555556,
           "#1f9e89"
          ],
          [
           0.6666666666666666,
           "#35b779"
          ],
          [
           0.7777777777777778,
           "#6ece58"
          ],
          [
           0.8888888888888888,
           "#b5de2b"
          ],
          [
           1,
           "#fde725"
          ]
         ],
         "hovertemplate": "Device: %{y}<br>Week: %{x}<br>Value: %{z}<extra></extra>",
         "type": "heatmap",
         "visible": false,
         "x": [
          "2025-01-13",
          "2025-01-20",
          "2025-01-27",
          "2025-02-03",
          "2025-02-10",
          "2025-02-17",
          "2025-02-24",
          "2025-03-03",
          "2025-03-10",
          "2025-03-17",
          "2025-03-24",
          "2025-03-31"
         ],
         "y": [
          "dc98ad82 (Norway)",
          "1b36a79e (Norway)",
          "22f9afc5 (Norway)",
          "8ac55f2f (Norway)",
          "4cb16fa2 (Norway)",
          "c27ff1cf (Norway)",
          "eb289bed (Norway)",
          "889bef22 (Norway)",
          "20069731 (Norway)",
          "2b0e29ef (Norway)",
          "d51cd90c (Norway)",
          "94dc95d8 (Norway)",
          "3c94309d (Norway)",
          "6a306e76 (Norway)",
          "1920e8d5 (Norway)",
          "3e481576 (Norway)",
          "932ef8d5 (Norway)",
          "11d0c4a2 (Norway)",
          "3b0c3815 (Norway)",
          "93be5da2 (Norway)",
          "e848f182 (Norway)",
          "d642707c (Norway)",
          "5bc534f0 (Norway)",
          "c7289269 (Norway)",
          "29eb3e1b (Norway)",
          "3e07ce56 (Norway)",
          "941752da (Norway)",
          "cdfb50bf (Norway)",
          "b91151a3 (Norway)",
          "d88bc03a (Norway)",
          "5a6ba752 (Norway)",
          "7e4b3d4f (Norway)",
          "d7a35b3c (Netherlands)",
          "f0dc521c (Netherlands)",
          "d593cb78 (Netherlands)",
          "498873b2 (Netherlands)",
          "9a2290fc (Netherlands)",
          "de594337 (Netherlands)",
          "6174ecbe (Netherlands)",
          "8f06b854 (Netherlands)",
          "cfc291d3 (Netherlands)",
          "3b425ce9 (Netherlands)",
          "fb104ba8 (Netherlands)",
          "44e6e23b (Netherlands)",
          "63c64349 (Netherlands)",
          "30d19c18 (Netherlands)",
          "438d2740 (Netherlands)",
          "688a86aa (France)",
          "c1405178 (France)",
          "6b3c38e6 (France)",
          "613266b (Spain)",
          "2d00da80 (Spain)",
          "1c1dcfe8 (Spain)",
          "55dc62ae (Spain)",
          "379e35d4 (Spain)",
          "b5812468 (Spain)",
          "36308864 (Spain)",
          "8e7fead8 (Spain)",
          "49da8233 (Spain)"
         ],
         "z": {
          "bdata": "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",
          "dtype": "f8",
          "shape": "59, 12"
         }
        },
        {
         "colorbar": {
          "title": {
           "text": "NDSI"
          }
         },
         "colorscale": [
          [
           0,
           "#440154"
          ],
          [
           0.1111111111111111,
           "#482878"
          ],
          [
           0.2222222222222222,
           "#3e4989"
          ],
          [
           0.3333333333333333,
           "#31688e"
          ],
          [
           0.4444444444444444,
           "#26828e"
          ],
          [
           0.5555555555555556,
           "#1f9e89"
          ],
          [
           0.6666666666666666,
           "#35b779"
          ],
          [
           0.7777777777777778,
           "#6ece58"
          ],
          [
           0.8888888888888888,
           "#b5de2b"
          ],
          [
           1,
           "#fde725"
          ]
         ],
         "hovertemplate": "Device: %{y}<br>Week: %{x}<br>Value: %{z}<extra></extra>",
         "type": "heatmap",
         "visible": false,
         "x": [
          "2025-01-13",
          "2025-01-20",
          "2025-01-27",
          "2025-02-03",
          "2025-02-10",
          "2025-02-17",
          "2025-02-24",
          "2025-03-03",
          "2025-03-10",
          "2025-03-17",
          "2025-03-24",
          "2025-03-31"
         ],
         "y": [
          "dc98ad82 (Norway)",
          "1b36a79e (Norway)",
          "22f9afc5 (Norway)",
          "8ac55f2f (Norway)",
          "4cb16fa2 (Norway)",
          "c27ff1cf (Norway)",
          "eb289bed (Norway)",
          "889bef22 (Norway)",
          "20069731 (Norway)",
          "2b0e29ef (Norway)",
          "d51cd90c (Norway)",
          "94dc95d8 (Norway)",
          "3c94309d (Norway)",
          "6a306e76 (Norway)",
          "1920e8d5 (Norway)",
          "3e481576 (Norway)",
          "932ef8d5 (Norway)",
          "11d0c4a2 (Norway)",
          "3b0c3815 (Norway)",
          "93be5da2 (Norway)",
          "e848f182 (Norway)",
          "d642707c (Norway)",
          "5bc534f0 (Norway)",
          "c7289269 (Norway)",
          "29eb3e1b (Norway)",
          "3e07ce56 (Norway)",
          "941752da (Norway)",
          "cdfb50bf (Norway)",
          "b91151a3 (Norway)",
          "d88bc03a (Norway)",
          "5a6ba752 (Norway)",
          "7e4b3d4f (Norway)",
          "d7a35b3c (Netherlands)",
          "f0dc521c (Netherlands)",
          "d593cb78 (Netherlands)",
          "498873b2 (Netherlands)",
          "9a2290fc (Netherlands)",
          "de594337 (Netherlands)",
          "6174ecbe (Netherlands)",
          "8f06b854 (Netherlands)",
          "cfc291d3 (Netherlands)",
          "3b425ce9 (Netherlands)",
          "fb104ba8 (Netherlands)",
          "44e6e23b (Netherlands)",
          "63c64349 (Netherlands)",
          "30d19c18 (Netherlands)",
          "438d2740 (Netherlands)",
          "688a86aa (France)",
          "c1405178 (France)",
          "6b3c38e6 (France)",
          "613266b (Spain)",
          "2d00da80 (Spain)",
          "1c1dcfe8 (Spain)",
          "55dc62ae (Spain)",
          "379e35d4 (Spain)",
          "b5812468 (Spain)",
          "36308864 (Spain)",
          "8e7fead8 (Spain)",
          "49da8233 (Spain)"
         ],
         "z": {
          "bdata": "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",
          "dtype": "f8",
          "shape": "59, 12"
         }
        },
        {
         "colorbar": {
          "title": {
           "text": "EVNspCount"
          }
         },
         "colorscale": [
          [
           0,
           "#440154"
          ],
          [
           0.1111111111111111,
           "#482878"
          ],
          [
           0.2222222222222222,
           "#3e4989"
          ],
          [
           0.3333333333333333,
           "#31688e"
          ],
          [
           0.4444444444444444,
           "#26828e"
          ],
          [
           0.5555555555555556,
           "#1f9e89"
          ],
          [
           0.6666666666666666,
           "#35b779"
          ],
          [
           0.7777777777777778,
           "#6ece58"
          ],
          [
           0.8888888888888888,
           "#b5de2b"
          ],
          [
           1,
           "#fde725"
          ]
         ],
         "hovertemplate": "Device: %{y}<br>Week: %{x}<br>Value: %{z}<extra></extra>",
         "type": "heatmap",
         "visible": false,
         "x": [
          "2025-01-13",
          "2025-01-20",
          "2025-01-27",
          "2025-02-03",
          "2025-02-10",
          "2025-02-17",
          "2025-02-24",
          "2025-03-03",
          "2025-03-10",
          "2025-03-17",
          "2025-03-24",
          "2025-03-31"
         ],
         "y": [
          "dc98ad82 (Norway)",
          "1b36a79e (Norway)",
          "22f9afc5 (Norway)",
          "8ac55f2f (Norway)",
          "4cb16fa2 (Norway)",
          "c27ff1cf (Norway)",
          "eb289bed (Norway)",
          "889bef22 (Norway)",
          "20069731 (Norway)",
          "2b0e29ef (Norway)",
          "d51cd90c (Norway)",
          "94dc95d8 (Norway)",
          "3c94309d (Norway)",
          "6a306e76 (Norway)",
          "1920e8d5 (Norway)",
          "3e481576 (Norway)",
          "932ef8d5 (Norway)",
          "11d0c4a2 (Norway)",
          "3b0c3815 (Norway)",
          "93be5da2 (Norway)",
          "e848f182 (Norway)",
          "d642707c (Norway)",
          "5bc534f0 (Norway)",
          "c7289269 (Norway)",
          "29eb3e1b (Norway)",
          "3e07ce56 (Norway)",
          "941752da (Norway)",
          "cdfb50bf (Norway)",
          "b91151a3 (Norway)",
          "d88bc03a (Norway)",
          "5a6ba752 (Norway)",
          "7e4b3d4f (Norway)",
          "d7a35b3c (Netherlands)",
          "f0dc521c (Netherlands)",
          "d593cb78 (Netherlands)",
          "498873b2 (Netherlands)",
          "9a2290fc (Netherlands)",
          "de594337 (Netherlands)",
          "6174ecbe (Netherlands)",
          "8f06b854 (Netherlands)",
          "cfc291d3 (Netherlands)",
          "3b425ce9 (Netherlands)",
          "fb104ba8 (Netherlands)",
          "44e6e23b (Netherlands)",
          "63c64349 (Netherlands)",
          "30d19c18 (Netherlands)",
          "438d2740 (Netherlands)",
          "688a86aa (France)",
          "c1405178 (France)",
          "6b3c38e6 (France)",
          "613266b (Spain)",
          "2d00da80 (Spain)",
          "1c1dcfe8 (Spain)",
          "55dc62ae (Spain)",
          "379e35d4 (Spain)",
          "b5812468 (Spain)",
          "36308864 (Spain)",
          "8e7fead8 (Spain)",
          "49da8233 (Spain)"
         ],
         "z": {
          "bdata": "AAAAAAAA+H+AX6ULkXvLPxFAEyfoiMU//P9hMU7Oxj9cEvR6ljTGP6Db0bhweMU/FKbtC4XJyD9sKu7j+53IP4+uPGPEF8U/lB9RFzAZxz+VTF0Lu3PKP+7HQlHRHcs/AAAAAAAA+H8PatWCOEfJP1FH4LHTkck/AAAAAAAA+H8AAAAAAAD4fwAAAAAAAPh/AAAAAAAA+H8AAAAAAAD4fwAAAAAAAPh/AAAAAAAA+H8AAAAAAAD4fwAAAAAAAPh/AAAAAAAA+H+47hzmnTDVPxgAzjPkN88/22xGaG4d0z8AAAAAAAD4fwAAAAAAAPh/AAAAAAAA+H8AAAAAAAD4fwAAAAAAAPh/AAAAAAAA+H8AAAAAAAD4fwAAAAAAAPh/AAAAAAAA+H/FZvAWsQnNP3YZ6bkhGsk/AAAAAAAA+H8AAAAAAAD4fwAAAAAAAPh/AAAAAAAA+H8AAAAAAAD4fwAAAAAAAPh/AAAAAAAA+H8AAAAAAAD4fwAAAAAAAPh/AAAAAAAA+H8AAAAAAAD4f5ZpCbL55MI/KXNtf5Vjwj9y2Orv4QjCP6HCrMhY2sE/KmoWNYuKwj/ikUceeRzDP9DALyOuW8M/TPYvxB0GxD/KrXEmlh3FP2aU+BklWsQ/AAAAAAAA+H8AAAAAAAD4fwAAAAAAAPh/AAAAAAAA+H8AAAAAAAD4fwAAAAAAAPh/AAAAAAAA+H8AAAAAAAD4fwAAAAAAAPh/SimllFLC4D9N3QWdoP7cPyAx2JsgKuE/AAAAAAAA+H8AAAAAAAD4fzqzPhckmsY/VcVQgQn/xD+EFDWC9RHEP43pXzmf5sQ/AAAAAAAA+H8AAAAAAAD4fwAAAAAAAPh/AAAAAAAA+H8AAAAAAAD4fwAAAAAAAPh/zTnnnHMexT/gIjaDt1DEPwAAAAAAAPh/AAAAAAAA+H8AAAAAAAD4fwAAAAAAAPh/AAAAAAAA+H8AAAAAAAD4fwAAAAAAAPh/AAAAAAAA+H8AAAAAAAD4fwAAAAAAAPh/AAAAAAAA+H8AAAAAAAD4fwAAAAAAAPh/AAAAAAAA+H8AAAAAAAD4fwAAAAAAAPh/jDHGGGOsyj865ocZLZnHP8nH1KxOkMY/EJw4Jav+xT96mPJPbNnHP8xAPqq87cM/AAAAAAAA+H8AAAAAAAD4fwAAAAAAAPh/AAAAAAAA+H8AAAAAAAD4fwAAAAAAAPh/mhL1fqYU0D8AAAAAAAD4fwAAAAAAAPh/AAAAAAAA+H8AAAAAAAD4fwAAAAAAAPh/AAAAAAAA+H8AAAAAAAD4fwAAAAAAAPh/AAAAAAAA+H8AAAAAAAD4fwAAAAAAAPh/2bYwGLZVwj+wXK4wscnCP0stccKaS8I/xcxlTRXXwT8at/8qo6XCPwpWQA0vf8I/AAAAAAAA+H8AAAAAAAD4fwAAAAAAAPh/AAAAAAAA+H8AAAAAAAD4fwAAAAAAAPh/okEapEHyzD994SzrabHCP39AlHUfOMM/iBtuuOHuwj9b8gxsNGXCP9DzPM/zHME/AAAAAAAA+H8AAAAAAAD4fwAAAAAAAPh/AAAAAAAA+H8AAAAAAAD4fwAAAAAAAPh/QtjOFhIwyj9IpNyv2DnOP8FhoGU8esg/8DJ2g7j8yT9ezBjBQHXLP71Spe8Yjs0/AAAAAAAA+H8AAAAAAAD4f56o75F8v8Q/AAAAAAAA+H8AAAAAAAD4fwAAAAAAAPh/E0000URvwz8AAAAAAAD4fwAAAAAAAPh/AAAAAAAA+H8AAAAAAAD4fwAAAAAAAPh/AAAAAAAA+H8AAAAAAAD4fwAAAAAAAPh/AAAAAAAA+H8AAAAAAAD4fwAAAAAAAPh/wJI9EQ94zD9ydouqbnvLP++VKn3HuMg/jfoRZjc2yj/mbqGbcDbNP0baRQKWHNE/AAAAAAAA+H8AAAAAAAD4fwAAAAAAAPh/AAAAAAAA+H8AAAAAAAD4fwAAAAAAAPh/mQF6thPWwT8AAAAAAAD4fwAAAAAAAPh/AAAAAAAA+H8AAAAAAAD4fwAAAAAAAPh/AAAAAAAA+H8AAAAAAAD4fwAAAAAAAPh/AAAAAAAA+H8AAAAAAAD4f4yTz0Mlrc8/Z3Vq3+KoxT8AAAAAAAD4fwAAAAAAAPh/AAAAAAAA+H8AAAAAAAD4fwAAAAAAAPh/AAAAAAAA+H8AAAAAAAD4fwAAAAAAAPh/AAAAAAAA+H8AAAAAAAD4fwAAAAAAAPh/X3bZZbcNzj8AAAAAAAD4fwAAAAAAAPh/AAAAAAAA+H8AAAAAAAD4fwAAAAAAAPh/AAAAAAAA+H8AAAAAAAD4fwAAAAAAAPh/AAAAAAAA+H8AAAAAAAD4fwAAAAAAAPh/AAAAAAAA+H8AAAAAAAD4fwAAAAAAAPh/t956662HyT/VYNkBmJLKPxpjjDFGmMY/AAAAAAAA+H8AAAAAAAD4fwAAAAAAAPh/AAAAAAAA+H8AAAAAAAD4fwAAAAAAAPh/AAAAAAAA+H8AAAAAAAD4fwAAAAAAAPh/rELu8VW/0D8qmifUAs7RPwAAAAAAAPh/AAAAAAAA+H8AAAAAAAD4fwAAAAAAAPh/AAAAAAAA+H8AAAAAAAD4fwAAAAAAAPh/AAAAAAAA+H8AAAAAAAD4fwAAAAAAAPh/Cu0ltJfk0z8ogBHACCDSPyLLRr8+jdE/AAAAAAAA+H8AAAAAAAD4fwAAAAAAAPh/AAAAAAAA+H8AAAAAAAD4fwAAAAAAAPh/AAAAAAAA+H8AAAAAAAD4fwAAAAAAAPh/AAAAAAAA+H99V671w2XePy0kbGcLsdg/AAAAAAAA+H8AAAAAAAD4fwAAAAAAAPh/AAAAAAAA+H8AAAAAAAD4fwAAAAAAAPh/AAAAAAAA+H8AAAAAAAD4fwAAAAAAAPh/AAAAAAAA+H+jIFVN/hPQP+sZt/8qo8c/AAAAAAAA+H8AAAAAAAD4fwAAAAAAAPh/AAAAAAAA+H8AAAAAAAD4fwAAAAAAAPh/AAAAAAAA+H8AAAAAAAD4fwAAAAAAAPh/AAAAAAAA+H+gzRpACmfPP3b3R267jss/AAAAAAAA+H8AAAAAAAD4fwAAAAAAAPh/AAAAAAAA+H8AAAAAAAD4fwAAAAAAAPh/AAAAAAAA+H8AAAAAAAD4fwAAAAAAAPh/AAAAAAAA+H/rp59++sPcP9daa6212uQ/AAAAAAAA+H8AAAAAAAD4fwAAAAAAAPh/AAAAAAAA+H8AAAAAAAD4fwAAAAAAAPh/AAAAAAAA+H8AAAAAAAD4fwAAAAAAAPh/AAAAAAAA+H+XRx55RBHbP4AFFlhgV9w/AAAAAAAA+H8AAAAAAAD4fwAAAAAAAPh/AAAAAAAA+H8AAAAAAAD4fwAAAAAAAPh/AAAAAAAA+H8AAAAAAAD4fwAAAAAAAPh/AAAAAAAA+H8F0e5lQhzXPwAAAAAAAPh/AAAAAAAA+H8AAAAAAAD4fwAAAAAAAPh/AAAAAAAA+H8AAAAAAAD4fwAAAAAAAPh/AAAAAAAA+H8AAAAAAAD4fwAAAAAAAPh/AAAAAAAA+H+/QxqBl+bKP8UYY4wxNdA/AAAAAAAA+H8AAAAAAAD4fwAAAAAAAPh/AAAAAAAA+H8AAAAAAAD4fwAAAAAAAPh/AAAAAAAA+H8AAAAAAAD4fwAAAAAAAPh/AAAAAAAA+H+3j/CHX+jNP0JsfzfFsc8/AAAAAAAA+H8AAAAAAAD4fwAAAAAAAPh/AAAAAAAA+H8AAAAAAAD4fwAAAAAAAPh/AAAAAAAA+H8AAAAAAAD4fwAAAAAAAPh/AAAAAAAA+H//PM/zvGbOP8UYY4wxoss/AAAAAAAA+H8AAAAAAAD4fwAAAAAAAPh/AAAAAAAA+H8AAAAAAAD4fwAAAAAAAPh/AAAAAAAA+H8AAAAAAAD4fwAAAAAAAPh/AAAAAAAA+H+olWAmLBDQPzzgg6i2Sc0/AAAAAAAA+H8AAAAAAAD4fwAAAAAAAPh/AAAAAAAA+H8AAAAAAAD4fwAAAAAAAPh/AAAAAAAA+H8AAAAAAAD4fwAAAAAAAPh/AAAAAAAA+H+6pA4xdsLKP3DXzJgCrsU/AAAAAAAA+H8AAAAAAAD4fwAAAAAAAPh/AAAAAAAA+H8AAAAAAAD4fwAAAAAAAPh/zAw33V0LxT/8LIVk9K7FP8Mu7jzVwsQ/+cp3R03qxz+DUcaKpnnIP2BGX5SuHss/AAAAAAAA+H8AAAAAAAD4fwAAAAAAAPh/AAAAAAAA+H8AAAAAAAD4f70FF1xwN8Y/tkYqH8haxj+8iJCndF3GPxc2RwOWF8c/z14RwR6Yyj+g4/9F01TMP2dRApAyjcs/AAAAAAAA+H8AAAAAAAD4fwAAAAAAAPh/AAAAAAAA+H8AAAAAAAD4f1qmZY5ckcg/mzl2K8lqxz8X4Uwhnn7FP4GPGR2Cssc/UYNQ6k0fxz/6+c8DeczJP4eN10Q48co/AAAAAAAA+H8AAAAAAAD4fwAAAAAAAPh/AAAAAAAA+H8AAAAAAAD4f4cRqOX/y8k/4H0nOqTqyT9r5gAaREXHP/yURm+07sk/L7stgVKPxj/jN6cYH2TIPykfw5X2G84/AAAAAAAA+H8AAAAAAAD4fysX1cyrx8Q/VlNNNdX0xj+isVakgs3FP+lp7cyQl8g/jfr9Mn1Ixj94U34+OKTEP3iBcm0zA8U/croAl70rxT8eiNatPWHFP3p2Bn4ZycY/AAAAAAAA+H8AAAAAAAD4f1yd2rc4FsM/lC3NsgDZxT/w51jmMdTFP8w8TPkndsU/0kuHfXfTxT/VMoyyzR3FP/sf1CIZB8c/XrosUuo4xj8AI9Xmv4jFP2qgtpzlBcw/AAAAAAAA+H8AAAAAAAD4fwSirPuACMM/eU787WYqxT+jzypwDxrFPzn11FNPycQ/1948ofe/xj9TDQyR9dvGP04GNtuIH8c/IdApcF93yD8G2KNLclXIPxhjjDHG8Mo/AAAAAAAA+H8AAAAAAAD4f4DV+jRnI8Y/YnE/nFj8yj/lJS5P08/HP4mohU/MdMk//NwqGUCPyD/CYtfERJDGP9esAtGzCsg/GqNby8WYyT+KyMGFEfjIP5pzzjnnDMk/AAAAAAAA+H8AAAAAAAD4fwAAAAAAAPh/llxcBGWHxj8ReRajN2LDP0lDml4cEMg/TfsOkzWqxD8p+bPDS1bHP82gLRcQvso/Nbh3ljdj0D+kYoopptbSPzXnnHPOvdU/AAAAAAAA+H8AAAAAAAD4fwAAAAAAAPh/rFHxb6qLxz9FE0000TTFPzznnHOOasc/vpsrNcf/xD8tdMeuhhHDP7O+g0oMSMQ/esU26HJIwz8+mkrPK7HFP8/2z4vuvsc/AAAAAAAA+H8AAAAAAAD4fwAAAAAAAPh/ui4Qlq0fxD9FlN1YwIjEP+hoR3pJS8o/vbgGCa3jxT+XcOAYLHzLP48nnnjijc0/t2mlL0Bn0D+qwmuPYY/JP6nuSAdWZso/AAAAAAAA+H8AAAAAAAD4fwAAAAAAAPh/XGCBBRbcwz+N4O+aIofBP3CE9t2bJMU/xlnW0yKIxD/SKnwN1SvBP60tg9utCMM/72b750Xvwz+krPuAKH/EP2AoTNsXqsU/AAAAAAAA+H8AAAAAAAD4fwAAAAAAAPh/0I1+8M4fxj8FLXtelsDDP4vYDN4i1sM/1lprrbXmwj9qookmmiDFP7wam1Ur+sQ/HyArVwdCxj8W4QK/cTfJP9DK/wPzacg/AAAAAAAA+H8AAAAAAAD4fwAAAAAAAPh/63NBIlBixT94sDkdXxjGP3iL2AzewsI/nI6k6UjKxT+1/zulRdnGP5UXc8XCfsU/biyN6xvLxT/KrFAb92nGP46lcX1jTcQ/AAAAAAAA+H8AAAAAAAD4fwAAAAAAAPh/8cgjjzySxD8UOg8JFJvEPx6z4COYbcg/UHwxRyRuyD883Ef/G6jJP0a7nvei3MY/LthpY4v+xz9Zw2ly5snIP0zLQg5e9Ms/AAAAAAAA+H8AAAAAAAD4fwAAAAAAAPh/AAAAAAAA+H8AAAAAAAD4fwAAAAAAAPh/AAAAAAAA+H8AAAAAAAD4f+hZGXR+9sM/oedF7j2bxT8JY5F0eX7CPwvacvAGYMA/AAAAAAAA+H8AAAAAAAD4fwAAAAAAAPh/AAAAAAAA+H8AAAAAAAD4fwAAAAAAAPh/AAAAAAAA+H8AAAAAAAD4f2L4RhSY/Mc/vAILLKA/yT/h2QFdSu/GPy3E2taDlsQ/AAAAAAAA+H8AAAAAAAD4fwAAAAAAAPh/AAAAAAAA+H8AAAAAAAD4fwAAAAAAAPh/AAAAAAAA+H8AAAAAAAD4f/xFW+amGMQ/hdMSrWDRwz8oULkQPrXDPxlx+H3Mf8M/AAAAAAAA+H8AAAAAAAD4fwAAAAAAAPh/AAAAAAAA+H8AAAAAAAD4fwAAAAAAAPh/AAAAAAAA+H8AAAAAAAD4fwAAAAAAAPh/k1yii1EuzD/lFKVfPuvVPzMf0p3M/9I/AAAAAAAA+H8AAAAAAAD4fwAAAAAAAPh/AAAAAAAA+H8AAAAAAAD4fwAAAAAAAPh/AAAAAAAA+H8AAAAAAAD4fwAAAAAAAPh/LogSwUs5yj874fpZ3H3GPxljjDEGAsU/AAAAAAAA+H8AAAAAAAD4fwAAAAAAAPh/AAAAAAAA+H8AAAAAAAD4fwAAAAAAAPh/AAAAAAAA+H8AAAAAAAD4fwAAAAAAAPh/RyaDpmS4xT9zo3nc7BDPP0OR4mIV88w/AAAAAAAA+H8AAAAAAAD4fwAAAAAAAPh/AAAAAAAA+H8AAAAAAAD4fwAAAAAAAPh/AAAAAAAA+H8AAAAAAAD4fwAAAAAAAPh/9wGl3SvTyz8rcJhuDfvLP5TH9aayxcw/AAAAAAAA+H8AAAAAAAD4fwAAAAAAAPh/AAAAAAAA+H8AAAAAAAD4fwAAAAAAAPh/AAAAAAAA+H8AAAAAAAD4fwAAAAAAAPh/AAAAAAAA+H93P+XdfYLDPwmUbHlXOsM/AAAAAAAA+H8AAAAAAAD4fwAAAAAAAPh/AAAAAAAA+H8AAAAAAAD4f6DgWohpXsY/Lbjgggtuxz9K4NUjPSPGP3eL2Aze7sM/rOJX8as4xD9VzJs/ePHKP2NEmFNp/8M/AAAAAAAA+H8AAAAAAAD4fwAAAAAAAPh/AAAAAAAA+H8AAAAAAAD4f40zzjjjXMs/ETMTp+CwzT8pj3524fbRPzUbsgYGL8s/mgnPeBAGzT+0R/xR0rnMP3quCA8BY8o/AAAAAAAA+H8AAAAAAAD4fwAAAAAAAPh/AAAAAAAA+H8AAAAAAAD4fzMOIB3o/sc/OIvE/vvyzj+caKKJJnrVP/+v4ikd6Mo/lpQukHgryT/SUiJ339TRP8wVI/DrAcc/AAAAAAAA+H8AAAAAAAD4fwAAAAAAAPh/AAAAAAAA+H8AAAAAAAD4fwAAAAAAAPh/AAAAAAAA+H8AAAAAAAD4f3dH481AIsk/azH98GyayT9iA3dFfw7OP5FHHnnEW8k/",
          "dtype": "f8",
          "shape": "59, 12"
         }
        }
       ],
       "layout": {
        "annotations": [
         {
          "showarrow": false,
          "text": "Select Acoustic Index:",
          "x": 0.5,
          "xref": "paper",
          "y": 1.12,
          "yref": "paper"
         }
        ],
        "height": 800,
        "margin": {
         "b": 70,
         "l": 200,
         "r": 20,
         "t": 100
        },
        "template": {
         "data": {
          "bar": [
           {
            "error_x": {
             "color": "#2a3f5f"
            },
            "error_y": {
             "color": "#2a3f5f"
            },
            "marker": {
             "line": {
              "color": "#E5ECF6",
              "width": 0.5
             },
             "pattern": {
              "fillmode": "overlay",
              "size": 10,
              "solidity": 0.2
             }
            },
            "type": "bar"
           }
          ],
          "barpolar": [
           {
            "marker": {
             "line": {
              "color": "#E5ECF6",
              "width": 0.5
             },
             "pattern": {
              "fillmode": "overlay",
              "size": 10,
              "solidity": 0.2
             }
            },
            "type": "barpolar"
           }
          ],
          "carpet": [
           {
            "aaxis": {
             "endlinecolor": "#2a3f5f",
             "gridcolor": "white",
             "linecolor": "white",
             "minorgridcolor": "white",
             "startlinecolor": "#2a3f5f"
            },
            "baxis": {
             "endlinecolor": "#2a3f5f",
             "gridcolor": "white",
             "linecolor": "white",
             "minorgridcolor": "white",
             "startlinecolor": "#2a3f5f"
            },
            "type": "carpet"
           }
          ],
          "choropleth": [
           {
            "colorbar": {
             "outlinewidth": 0,
             "ticks": ""
            },
            "type": "choropleth"
           }
          ],
          "contour": [
           {
            "colorbar": {
             "outlinewidth": 0,
             "ticks": ""
            },
            "colorscale": [
             [
              0,
              "#0d0887"
             ],
             [
              0.1111111111111111,
              "#46039f"
             ],
             [
              0.2222222222222222,
              "#7201a8"
             ],
             [
              0.3333333333333333,
              "#9c179e"
             ],
             [
              0.4444444444444444,
              "#bd3786"
             ],
             [
              0.5555555555555556,
              "#d8576b"
             ],
             [
              0.6666666666666666,
              "#ed7953"
             ],
             [
              0.7777777777777778,
              "#fb9f3a"
             ],
             [
              0.8888888888888888,
              "#fdca26"
             ],
             [
              1,
              "#f0f921"
             ]
            ],
            "type": "contour"
           }
          ],
          "contourcarpet": [
           {
            "colorbar": {
             "outlinewidth": 0,
             "ticks": ""
            },
            "type": "contourcarpet"
           }
          ],
          "heatmap": [
           {
            "colorbar": {
             "outlinewidth": 0,
             "ticks": ""
            },
            "colorscale": [
             [
              0,
              "#0d0887"
             ],
             [
              0.1111111111111111,
              "#46039f"
             ],
             [
              0.2222222222222222,
              "#7201a8"
             ],
             [
              0.3333333333333333,
              "#9c179e"
             ],
             [
              0.4444444444444444,
              "#bd3786"
             ],
             [
              0.5555555555555556,
              "#d8576b"
             ],
             [
              0.6666666666666666,
              "#ed7953"
             ],
             [
              0.7777777777777778,
              "#fb9f3a"
             ],
             [
              0.8888888888888888,
              "#fdca26"
             ],
             [
              1,
              "#f0f921"
             ]
            ],
            "type": "heatmap"
           }
          ],
          "histogram": [
           {
            "marker": {
             "pattern": {
              "fillmode": "overlay",
              "size": 10,
              "solidity": 0.2
             }
            },
            "type": "histogram"
           }
          ],
          "histogram2d": [
           {
            "colorbar": {
             "outlinewidth": 0,
             "ticks": ""
            },
            "colorscale": [
             [
              0,
              "#0d0887"
             ],
             [
              0.1111111111111111,
              "#46039f"
             ],
             [
              0.2222222222222222,
              "#7201a8"
             ],
             [
              0.3333333333333333,
              "#9c179e"
             ],
             [
              0.4444444444444444,
              "#bd3786"
             ],
             [
              0.5555555555555556,
              "#d8576b"
             ],
             [
              0.6666666666666666,
              "#ed7953"
             ],
             [
              0.7777777777777778,
              "#fb9f3a"
             ],
             [
              0.8888888888888888,
              "#fdca26"
             ],
             [
              1,
              "#f0f921"
             ]
            ],
            "type": "histogram2d"
           }
          ],
          "histogram2dcontour": [
           {
            "colorbar": {
             "outlinewidth": 0,
             "ticks": ""
            },
            "colorscale": [
             [
              0,
              "#0d0887"
             ],
             [
              0.1111111111111111,
              "#46039f"
             ],
             [
              0.2222222222222222,
              "#7201a8"
             ],
             [
              0.3333333333333333,
              "#9c179e"
             ],
             [
              0.4444444444444444,
              "#bd3786"
             ],
             [
              0.5555555555555556,
              "#d8576b"
             ],
             [
              0.6666666666666666,
              "#ed7953"
             ],
             [
              0.7777777777777778,
              "#fb9f3a"
             ],
             [
              0.8888888888888888,
              "#fdca26"
             ],
             [
              1,
              "#f0f921"
             ]
            ],
            "type": "histogram2dcontour"
           }
          ],
          "mesh3d": [
           {
            "colorbar": {
             "outlinewidth": 0,
             "ticks": ""
            },
            "type": "mesh3d"
           }
          ],
          "parcoords": [
           {
            "line": {
             "colorbar": {
              "outlinewidth": 0,
              "ticks": ""
             }
            },
            "type": "parcoords"
           }
          ],
          "pie": [
           {
            "automargin": true,
            "type": "pie"
           }
          ],
          "scatter": [
           {
            "fillpattern": {
             "fillmode": "overlay",
             "size": 10,
             "solidity": 0.2
            },
            "type": "scatter"
           }
          ],
          "scatter3d": [
           {
            "line": {
             "colorbar": {
              "outlinewidth": 0,
              "ticks": ""
             }
            },
            "marker": {
             "colorbar": {
              "outlinewidth": 0,
              "ticks": ""
             }
            },
            "type": "scatter3d"
           }
          ],
          "scattercarpet": [
           {
            "marker": {
             "colorbar": {
              "outlinewidth": 0,
              "ticks": ""
             }
            },
            "type": "scattercarpet"
           }
          ],
          "scattergeo": [
           {
            "marker": {
             "colorbar": {
              "outlinewidth": 0,
              "ticks": ""
             }
            },
            "type": "scattergeo"
           }
          ],
          "scattergl": [
           {
            "marker": {
             "colorbar": {
              "outlinewidth": 0,
              "ticks": ""
             }
            },
            "type": "scattergl"
           }
          ],
          "scattermap": [
           {
            "marker": {
             "colorbar": {
              "outlinewidth": 0,
              "ticks": ""
             }
            },
            "type": "scattermap"
           }
          ],
          "scattermapbox": [
           {
            "marker": {
             "colorbar": {
              "outlinewidth": 0,
              "ticks": ""
             }
            },
            "type": "scattermapbox"
           }
          ],
          "scatterpolar": [
           {
            "marker": {
             "colorbar": {
              "outlinewidth": 0,
              "ticks": ""
             }
            },
            "type": "scatterpolar"
           }
          ],
          "scatterpolargl": [
           {
            "marker": {
             "colorbar": {
              "outlinewidth": 0,
              "ticks": ""
             }
            },
            "type": "scatterpolargl"
           }
          ],
          "scatterternary": [
           {
            "marker": {
             "colorbar": {
              "outlinewidth": 0,
              "ticks": ""
             }
            },
            "type": "scatterternary"
           }
          ],
          "surface": [
           {
            "colorbar": {
             "outlinewidth": 0,
             "ticks": ""
            },
            "colorscale": [
             [
              0,
              "#0d0887"
             ],
             [
              0.1111111111111111,
              "#46039f"
             ],
             [
              0.2222222222222222,
              "#7201a8"
             ],
             [
              0.3333333333333333,
              "#9c179e"
             ],
             [
              0.4444444444444444,
              "#bd3786"
             ],
             [
              0.5555555555555556,
              "#d8576b"
             ],
             [
              0.6666666666666666,
              "#ed7953"
             ],
             [
              0.7777777777777778,
              "#fb9f3a"
             ],
             [
              0.8888888888888888,
              "#fdca26"
             ],
             [
              1,
              "#f0f921"
             ]
            ],
            "type": "surface"
           }
          ],
          "table": [
           {
            "cells": {
             "fill": {
              "color": "#EBF0F8"
             },
             "line": {
              "color": "white"
             }
            },
            "header": {
             "fill": {
              "color": "#C8D4E3"
             },
             "line": {
              "color": "white"
             }
            },
            "type": "table"
           }
          ]
         },
         "layout": {
          "annotationdefaults": {
           "arrowcolor": "#2a3f5f",
           "arrowhead": 0,
           "arrowwidth": 1
          },
          "autotypenumbers": "strict",
          "coloraxis": {
           "colorbar": {
            "outlinewidth": 0,
            "ticks": ""
           }
          },
          "colorscale": {
           "diverging": [
            [
             0,
             "#8e0152"
            ],
            [
             0.1,
             "#c51b7d"
            ],
            [
             0.2,
             "#de77ae"
            ],
            [
             0.3,
             "#f1b6da"
            ],
            [
             0.4,
             "#fde0ef"
            ],
            [
             0.5,
             "#f7f7f7"
            ],
            [
             0.6,
             "#e6f5d0"
            ],
            [
             0.7,
             "#b8e186"
            ],
            [
             0.8,
             "#7fbc41"
            ],
            [
             0.9,
             "#4d9221"
            ],
            [
             1,
             "#276419"
            ]
           ],
           "sequential": [
            [
             0,
             "#0d0887"
            ],
            [
             0.1111111111111111,
             "#46039f"
            ],
            [
             0.2222222222222222,
             "#7201a8"
            ],
            [
             0.3333333333333333,
             "#9c179e"
            ],
            [
             0.4444444444444444,
             "#bd3786"
            ],
            [
             0.5555555555555556,
             "#d8576b"
            ],
            [
             0.6666666666666666,
             "#ed7953"
            ],
            [
             0.7777777777777778,
             "#fb9f3a"
            ],
            [
             0.8888888888888888,
             "#fdca26"
            ],
            [
             1,
             "#f0f921"
            ]
           ],
           "sequentialminus": [
            [
             0,
             "#0d0887"
            ],
            [
             0.1111111111111111,
             "#46039f"
            ],
            [
             0.2222222222222222,
             "#7201a8"
            ],
            [
             0.3333333333333333,
             "#9c179e"
            ],
            [
             0.4444444444444444,
             "#bd3786"
            ],
            [
             0.5555555555555556,
             "#d8576b"
            ],
            [
             0.6666666666666666,
             "#ed7953"
            ],
            [
             0.7777777777777778,
             "#fb9f3a"
            ],
            [
             0.8888888888888888,
             "#fdca26"
            ],
            [
             1,
             "#f0f921"
            ]
           ]
          },
          "colorway": [
           "#636efa",
           "#EF553B",
           "#00cc96",
           "#ab63fa",
           "#FFA15A",
           "#19d3f3",
           "#FF6692",
           "#B6E880",
           "#FF97FF",
           "#FECB52"
          ],
          "font": {
           "color": "#2a3f5f"
          },
          "geo": {
           "bgcolor": "white",
           "lakecolor": "white",
           "landcolor": "#E5ECF6",
           "showlakes": true,
           "showland": true,
           "subunitcolor": "white"
          },
          "hoverlabel": {
           "align": "left"
          },
          "hovermode": "closest",
          "mapbox": {
           "style": "light"
          },
          "paper_bgcolor": "white",
          "plot_bgcolor": "#E5ECF6",
          "polar": {
           "angularaxis": {
            "gridcolor": "white",
            "linecolor": "white",
            "ticks": ""
           },
           "bgcolor": "#E5ECF6",
           "radialaxis": {
            "gridcolor": "white",
            "linecolor": "white",
            "ticks": ""
           }
          },
          "scene": {
           "xaxis": {
            "backgroundcolor": "#E5ECF6",
            "gridcolor": "white",
            "gridwidth": 2,
            "linecolor": "white",
            "showbackground": true,
            "ticks": "",
            "zerolinecolor": "white"
           },
           "yaxis": {
            "backgroundcolor": "#E5ECF6",
            "gridcolor": "white",
            "gridwidth": 2,
            "linecolor": "white",
            "showbackground": true,
            "ticks": "",
            "zerolinecolor": "white"
           },
           "zaxis": {
            "backgroundcolor": "#E5ECF6",
            "gridcolor": "white",
            "gridwidth": 2,
            "linecolor": "white",
            "showbackground": true,
            "ticks": "",
            "zerolinecolor": "white"
           }
          },
          "shapedefaults": {
           "line": {
            "color": "#2a3f5f"
           }
          },
          "ternary": {
           "aaxis": {
            "gridcolor": "white",
            "linecolor": "white",
            "ticks": ""
           },
           "baxis": {
            "gridcolor": "white",
            "linecolor": "white",
            "ticks": ""
           },
           "bgcolor": "#E5ECF6",
           "caxis": {
            "gridcolor": "white",
            "linecolor": "white",
            "ticks": ""
           }
          },
          "title": {
           "x": 0.05
          },
          "xaxis": {
           "automargin": true,
           "gridcolor": "white",
           "linecolor": "white",
           "ticks": "",
           "title": {
            "standoff": 15
           },
           "zerolinecolor": "white",
           "zerolinewidth": 2
          },
          "yaxis": {
           "automargin": true,
           "gridcolor": "white",
           "linecolor": "white",
           "ticks": "",
           "title": {
            "standoff": 15
           },
           "zerolinecolor": "white",
           "zerolinewidth": 2
          }
         }
        },
        "title": {
         "text": "Acoustic Index by Device Over Time"
        },
        "updatemenus": [
         {
          "active": 0,
          "buttons": [
           {
            "args": [
             {
              "visible": [
               true,
               false,
               false,
               false,
               false,
               false,
               false
              ]
             },
             {
              "title": "uncertainty by Device Over Time"
             }
            ],
            "label": "uncertainty",
            "method": "update"
           },
           {
            "args": [
             {
              "visible": [
               false,
               true,
               false,
               false,
               false,
               false,
               false
              ]
             },
             {
              "title": "ACI by Device Over Time"
             }
            ],
            "label": "ACI",
            "method": "update"
           },
           {
            "args": [
             {
              "visible": [
               false,
               false,
               true,
               false,
               false,
               false,
               false
              ]
             },
             {
              "title": "ADI by Device Over Time"
             }
            ],
            "label": "ADI",
            "method": "update"
           },
           {
            "args": [
             {
              "visible": [
               false,
               false,
               false,
               true,
               false,
               false,
               false
              ]
             },
             {
              "title": "BI by Device Over Time"
             }
            ],
            "label": "BI",
            "method": "update"
           },
           {
            "args": [
             {
              "visible": [
               false,
               false,
               false,
               false,
               true,
               false,
               false
              ]
             },
             {
              "title": "Hf by Device Over Time"
             }
            ],
            "label": "Hf",
            "method": "update"
           },
           {
            "args": [
             {
              "visible": [
               false,
               false,
               false,
               false,
               false,
               true,
               false
              ]
             },
             {
              "title": "NDSI by Device Over Time"
             }
            ],
            "label": "NDSI",
            "method": "update"
           },
           {
            "args": [
             {
              "visible": [
               false,
               false,
               false,
               false,
               false,
               false,
               true
              ]
             },
             {
              "title": "EVNspCount by Device Over Time"
             }
            ],
            "label": "EVNspCount",
            "method": "update"
           }
          ],
          "direction": "down",
          "pad": {
           "r": 10,
           "t": 10
          },
          "showactive": true,
          "x": 0.58,
          "xanchor": "left",
          "y": 1.15,
          "yanchor": "top"
         }
        ],
        "width": 1200,
        "xaxis": {
         "title": {
          "text": "Week"
         }
        },
        "yaxis": {
         "title": {
          "text": "Device ID by Latitude (Country)"
         }
        }
       }
      }
     },
     "metadata": {},
     "output_type": "display_data"
    }
   ],
   "source": [
    "import plotly.graph_objects as go\n",
    "\n",
    "fig = go.Figure()\n",
    "\n",
    "# Add a heatmap trace for each acoustic index\n",
    "acoustic_indices = ['uncertainty', 'ACI', 'ADI', 'BI', 'Hf', 'NDSI', 'EVNspCount']\n",
    "\n",
    "for i, index in enumerate(acoustic_indices):\n",
    "    # Create pivot table but keep the ordering by latitude\n",
    "    pivot_data = agg_df.pivot_table(\n",
    "        values=index,\n",
    "        index='device_id',\n",
    "        columns='week',\n",
    "        aggfunc='mean'\n",
    "    )\n",
    "    \n",
    "    # Reorder the pivot table rows according to latitude\n",
    "    pivot_data = pivot_data.reindex(device_labels['device_id'])\n",
    "    \n",
    "    # Set visibility\n",
    "    visible = True if i == 0 else False\n",
    "    \n",
    "    # Add trace with ordered labels\n",
    "    fig.add_trace(\n",
    "        go.Heatmap(\n",
    "            z=pivot_data.values,\n",
    "            x=pivot_data.columns,\n",
    "            y=device_labels['device_label'],  # Use the labels with country\n",
    "            colorscale='Viridis',\n",
    "            visible=visible,\n",
    "            colorbar=dict(title=index),\n",
    "            hovertemplate=\"Device: %{y}<br>Week: %{x}<br>Value: %{z}<extra></extra>\"\n",
    "        )\n",
    "    )\n",
    "\n",
    "# Create buttons for dropdown menu\n",
    "buttons = []\n",
    "for i, index in enumerate(acoustic_indices):\n",
    "    button = dict(\n",
    "        method=\"update\",\n",
    "        label=index,\n",
    "        args=[\n",
    "            {\"visible\": [j == i for j in range(len(acoustic_indices))]},\n",
    "            {\"title\": f\"{index} by Device Over Time\"}\n",
    "        ]\n",
    "    )\n",
    "    buttons.append(button)\n",
    "\n",
    "# Add dropdown menu\n",
    "fig.update_layout(\n",
    "    updatemenus=[\n",
    "        dict(\n",
    "            active=0,\n",
    "            buttons=buttons,\n",
    "            direction=\"down\",\n",
    "            pad={\"r\": 10, \"t\": 10},\n",
    "            showactive=True,\n",
    "            x=0.58,\n",
    "            xanchor=\"left\",\n",
    "            y=1.15,\n",
    "            yanchor=\"top\"\n",
    "        )\n",
    "    ],\n",
    "    title=\"Acoustic Index by Device Over Time\",\n",
    "    height=800,\n",
    "    width=1200,\n",
    "    xaxis_title=\"Week\",\n",
    "    yaxis_title=\"Device ID by Latitude (Country)\",\n",
    "    margin=dict(l=200, r=20, t=100, b=70),  # Increased left margin for longer labels\n",
    ")\n",
    "\n",
    "# Add a label for the dropdown\n",
    "fig.add_annotation(\n",
    "    text=\"Select Acoustic Index:\",\n",
    "    x=0.5,\n",
    "    y=1.12,\n",
    "    xref=\"paper\",\n",
    "    yref=\"paper\",\n",
    "    showarrow=False\n",
    ")\n",
    "\n",
    "# Show figure\n",
    "fig.show()"
   ]
  },
  {
   "cell_type": "code",
   "execution_count": 29,
   "id": "e5a45189",
   "metadata": {},
   "outputs": [
    {
     "data": {
      "application/vnd.plotly.v1+json": {
       "config": {
        "plotlyServerURL": "https://plot.ly"
       },
       "data": [
        {
         "legendgroup": "Norway",
         "marker": {
          "opacity": 0.6,
          "size": 8
         },
         "mode": "markers",
         "name": "ACI - Norway",
         "showlegend": false,
         "type": "scatter",
         "visible": true,
         "x": {
          "bdata": "5DiOwzohc0Anm2zS1hhzQCHjggz1JnNAdmInIjd5c0Dse0TOEj1zQPQ8z1P5RXNA4C715Hx1c0Bgan/p+iJzQDw8PFiFNXNAoUKFKv0/c0CJ4JGex01zQMMwDGMGTXNADw8PH5Yuc0BRYNKJYfJzQIOYXGGoSXRAvU9xwRmmc0DLsixLnm9zQJBrIhAHRXNAHYGifSUUc0AkjzwirB5zQJTx22WZCnNA30xWWYkcc0AWspDtEyBzQGg4qZtFF3NAQgghpAwFc0BorA/dmg5zQBwOh8NmEHNAGzT58tEYc0AAAADAWrlzQIqd2Amlm3NAB+baMR/Mc0A/h9R0ehBzQJ5QC7igGnNA4uHhQRURc0BVVVW12j5zQFuwBbunE3NAVVVVdXD+ckDdVYppMRtzQCd2Yoe8DHNA0GkDvW8zc0B4hVeYFC5zQBaykG0mRnNACIOcRVwxc0DZZJMNFCtzQE2+bBDAHXNAAAAA8LoKc0ALFSpUshZzQN1gihyECHNAm7KmrEcMc0BqhOWKDQpzQG7btl1MA3NA16NwXWUTc0CRhSwE+ApzQLdt2zahC3NAJUmSQBIPc0DFTuxEQkFzQB3+chmxMnNAp1MEvgJfc0DqNC48kUBzQHh4eDiwYXNATwny1Dwzc0CEOqgrQTVzQKMoiuKDDnNAmpmZITsDc0CZW53ROC5zQJ7neX4uG3NAB1ZRrMcnc0DyABHyPCJzQEtLS1M4G3NAAAAAaA4gc0BjjDHmLQJzQCTuiFuWEnNA5JFHnnd/c0AAACD4lTRzQHTRRZcxQHNAAAAAokMec0CN6APq0HpzQMdxHO/CQ3NAYxIHf3KWc0CUsvSDGYVzQFVVVYUi33NALt/y/f9Vc0Auojlbaf5zQPy+75vdw3NA3dMIaxw1c0Cl8ZGp5KxzQD2zrmo+a3NAinzWTa0zc0CamZkZ/H9zQDmO4zidmXNAAADAZa7yc0AAAACM0XBzQMIHH1xXhXNAL7rogr4/c0AwJnGQKk1zQIdMjFY4ZnNAzjnnPEVPc0AzMzMfEiJzQNu27YNfKXNA+QRSqerFc0BK8QKZnFBzQF7RtConSHNAqQnG+4Yec0A=",
          "dtype": "f8"
         },
         "xaxis": "x",
         "y": {
          "bdata": "chxHgzmhdj/ou7Y8R4p2P38m/EnqZnQ/xU7s9uBicz9Wh1HC9yJ5PwqcwLt+e3o/47dLsTr5ej92QdipiEh0P6alpYypRno/kyZNanTZgT+pTpPQrJmCP+y6rqtTGXk/pqWlxdd2ej/QFis7Ex16P64gJq9c0H0/Eayj8pN3ez+SJEmCydF4Pym73xClnHo/HYGiKfiRfT+gfvodArZ3P5Tx24/yCn8/Gf2DPm1tij9Ob3pOkVWLP5zUfciBG4I/Y4wxeimheT85BS9X+Yl/PyAQCABELXY/MopzSQ7mcT8AAAAg5WJRPwAAAND/NFw/7cDcYkyXcz/GW9nzz1FxPz4EKf+/Z3A/q6qqPurjcz8AAAAUIWZyP3d3d2+8oXs/mNBe3qmTdj9yuAzcZB1yP2IndsJTAWw/rkfhKuMPbT8ndmJ/Ij1xP29601PS1nU/X0ZivTKScj/poouOEBJvP2phpcegSnQ/4YMPWowNeD/duXPvU154P50E4p6Y83U/d8QddWV9gT9zT2Psav2CP9u2bR/YOG4/SOF6/FMCbT9605su6v1lP1dzNZfvMGo/27ZtX6OAaT92Yid24i5uP9RrTjawvII/b+ICjPXhgz/VfJ9IY2GEPwUFBWFzkYI/iYiIgtdFgz+SJMnuG/SCP9/3fVseSnc/ZmZmUhX0ez+pmFu1itSOPxdkXFB0BYM/y7FBVj1ViD//7s0q2WeBP/HwcCJfDYA/r6H86OJfhT/fe+9nZpxxP8QdcftO+3c/U0op3cSLez8AAMRcM66BPwAAAIBZHXs/AABAMZAIfD+qY28RqleAPzmO46q1Wn0/+nO2BwHHgD9IjU5j6RSEP1VVVaczLIE/cPmW48tVhj8mHNXH4xSEP13XdYV8tII/fBphk8Jufz98ZAJBY4+AP+x9dwDb+Yg/ZWy/I48RjD/NzEx860xuP6uqqorpjFs/AAAstAwdeD8AAAC2cz9rPxoDpn60L4o/0UUXIdwGhj+GvdJIsCiEP7NzqbZzx4M/AAAAgM59iD8AAIBaO3yMP0mS5EGgkoo/L4v4mOD/fz8Jyz21BlmBPxo51P2xp4E/fg6pbVUlgz8=",
          "dtype": "f8"
         },
         "yaxis": "y"
        },
        {
         "legendgroup": "Norway",
         "line": {
          "color": "red",
          "width": 2
         },
         "mode": "lines",
         "showlegend": false,
         "type": "scatter",
         "visible": true,
         "x": {
          "bdata": "VVVVdXD+ckBGuEDxyAFzQDcbLG0hBXNAKH4X6XkIc0AZ4QJl0gtzQApE7uAqD3NA+6bZXIMSc0DsCcXY2xVzQN1ssFQ0GXNAzs+b0Iwcc0C+ModM5R9zQK+Vcsg9I3NAoPhdRJYmc0CRW0nA7ilzQIK+NDxHLXNAcyEguJ8wc0BkhAs0+DNzQFXn9q9QN3NARkriK6k6c0A3rc2nAT5zQCgQuSNaQXNAGXOkn7JEc0AK1o8bC0hzQPs4e5djS3NA7JtmE7xOc0Dd/lGPFFJzQM5hPQttVXNAv8Qoh8VYc0CwJxQDHlxzQKGK/352X3NAke3q+s5ic0CCUNZ2J2ZzQHOzwfJ/aXNAZBatbthsc0BVeZjqMHBzQEbcg2aJc3NANz9v4uF2c0AoolpeOnpzQBkFRtqSfXNACmgxVuuAc0D7yhzSQ4RzQOwtCE6ch3NA3ZDzyfSKc0DO895FTY5zQL9WysGlkXNAsLm1Pf6Uc0ChHKG5VphzQJJ/jDWvm3NAg+J3sQefc0B0RWMtYKJzQGSoTqm4pXNAVQs6JRGpc0BGbiWhaaxzQDfREB3Cr3NAKDT8mBqzc0AZl+cUc7ZzQAr60pDLuXNA+1y+DCS9c0Dsv6mIfMBzQN0ilQTVw3NAzoWAgC3Hc0C/6Gv8hcpzQLBLV3jezXNAoa5C9DbRc0CSES5wj9RzQIN0Gezn13NAdNcEaEDbc0BlOvDjmN5zQFad21/x4XNARwDH20nlc0A3Y7JXouhzQCjGndP663NAGSmJT1Pvc0AKjHTLq/JzQPvuX0cE9nNA7FFLw1z5c0DdtDY/tfxzQM4XIrsNAHRAv3oNN2YDdECw3fiyvgZ0QKFA5C4XCnRAkqPPqm8NdECDBrsmyBB0QHRppqIgFHRAZcyRHnkXdEBWL32a0Rp0QEeSaBYqHnRAOPVTkoIhdEApWD8O2yR0QBq7KoozKHRACh4WBowrdED7gAGC5C50QOzj7P08MnRA3UbYeZU1dEDOqcP17Th0QL8Mr3FGPHRAsG+a7Z4/dECh0oVp90J0QJI1ceVPRnRAg5hcYahJdEA=",
          "dtype": "f8"
         },
         "xaxis": "x",
         "y": {
          "bdata": "lHRaKPqtfD+0oSXZqrR8P9LO8Ilbu3w/8vu7OgzCfD8SKYfrvMh8PzBWUpxtz3w/UIMdTR7WfD9usOj9ztx8P47ds65/43w/rgp/XzDqfD/KN0oQ4fB8P+pkFcGR93w/CJLgcUL+fD8ov6si8wR9P0jsdtOjC30/ZhlChFQSfT+GRg01BRl9P6Zz2OW1H30/xKCjlmYmfT/kzW5HFy19PwL7OfjHM30/IigFqXg6fT9CVdBZKUF9P2CCmwraR30/gK9mu4pOfT+e3DFsO1V9P74J/RzsW30/3jbIzZxifT/8Y5N+TWl9PxyRXi/+b30/OL4p4K52fT9Y6/SQX319P3gYwEEQhH0/lkWL8sCKfT+2clajcZF9P9SfIVQimH0/9MzsBNOefT8U+re1g6V9PzIng2Y0rH0/UlROF+WyfT9wgRnIlbl9P5Cu5HhGwH0/sNuvKffGfT/OCHvap819P+41RotY1H0/DGMRPAnbfT8skNzsueF9P0y9p51q6H0/aupyThvvfT+KFz7/y/V9P6ZECbB8/H0/xnHUYC0Dfj/mnp8R3gl+PwTMasKOEH4/JPk1cz8Xfj9CJgEk8B1+P2JTzNSgJH4/goCXhVErfj+grWI2AjJ+P8DaLeeyOH4/3gf5l2M/fj/+NMRIFEZ+Px5ij/nETH4/PI9aqnVTfj9cvCVbJlp+P3rp8AvXYH4/mha8vIdnfj+6Q4dtOG5+P9hwUh7pdH4/+J0dz5l7fj8Uy+h/SoJ+PzT4szD7iH4/VCV/4auPfj9yUkqSXJZ+P5J/FUMNnX4/sqzg872jfj/Q2aukbqp+P/AGd1UfsX4/DjRCBtC3fj8uYQ23gL5+P06O2GcxxX4/bLujGOLLfj+M6G7JktJ+P6oVOnpD2X4/ykIFK/Tffj/qb9DbpOZ+Pwidm4xV7X4/KMpmPQb0fj9G9zHutvp+P2Yk/Z5nAX8/hFHITxgIfz+ifpMAyQ5/P8KrXrF5FX8/4NgpYiocfz8ABvUS2yJ/PyAzwMOLKX8/PmCLdDwwfz9ejVYl7TZ/P3y6IdadPX8/nOfshk5Efz8=",
          "dtype": "f8"
         },
         "yaxis": "y"
        },
        {
         "legendgroup": "Norway",
         "marker": {
          "opacity": 0.6,
          "size": 8
         },
         "mode": "markers",
         "name": "ADI - Norway",
         "showlegend": false,
         "type": "scatter",
         "visible": true,
         "x": {
          "bdata": "BaUYnMHZ9j9OCNtSXLT2PykQBKRMoPU/p7rPcWvg8j/UPZsaPOH6PzBvoJqCqfI/Djq/TNTg+j/3ZlnVBgr2Pw7Dr6XKpfQ/bhUhqW5n7D8XtCkak/j4PxvsM8XYlv4/58vs10Oa9D9CdFwYzAriP8xYcts6odU/Mlc0oNRt6j/GQKeWyW7mP029ZRBvFPc/bUoXfgtIAUCkdWNrwXH/PwvTk1Wl1gFABEHgOT/EAUAK01/BYvUBQN1yvoJIeAFANZs4FK2XAUB7/ibozIABQJFF5itcEABA2zCknlgbAEABzhgPKFO/P8JqzDl+gsA/YJOQZecl1z/tkZX2eDv9P4jrw6bD9vc/KGhicdGQ+j9OSvyqJKP5P8D0W0vSWwFAu5Wv0eWHAUB+M7bhPTryP/lI35z97/Y/J5RjYd8J+D8UOOu1em/yP+f8gm/3HOs/jX7NrYSD7D+Cb8vGt7f/P96PKM3Vu/4/xU9qc14AAkCXTBCo3vb/P834nazt4QBAEiupFBD9AUAe0nacQFEBQDa0P5oGivc/USjbC2pd9D/7fdnbrAr6P8yMNakrmvY/t38l1Hkn8z/KFTJfEYH/P3PHEyTWQgBAGS70RwIF+z/tDbvvNhb8P3b/gF29xPg/fJi2a4e4/z+33EZxYigAQG5B+i2S6fc/qF4mwYHMAUDtrsd+ni4CQLkMDnVj6QFAZFu3sJRtAECg1wBnWAX/P9GAEOmr4QFARAlRmEDNAEBeyoPdCNn/PwEACjV9Zf8/CMTN2pGw6z8SGmSmUrIAQGyQHlFafMA/aAPWjAeJ9D+4i9EsRLn3P7J7LGWsdQFAEEDmMuo7AUDBZKZ6fcgAQLeRxkwGR/0/XTSOT20AAUCaaR0mHev/P1+m6GJlYwFAgP6bMTYY9z+KjdKXJZvvP3oZwInApvo/Zza/LSOxAEBTIQn1BjDiPwmlkqdd99A/ZcCq8ZPF6z9tddXL41LzP/gWHnu0tAFAMseq4GEIAkBpPFaez2wBQLBQvWs4K/k/5hAIWsOl+z+BlifydIEBQN9JSxQaFQFAKRIr4dqU8D8z7otvjH71P6myKm70nPI/jVKqbUSb+D8=",
          "dtype": "f8"
         },
         "xaxis": "x2",
         "y": {
          "bdata": "chxHgzmhdj/ou7Y8R4p2P38m/EnqZnQ/xU7s9uBicz9Wh1HC9yJ5PwqcwLt+e3o/47dLsTr5ej92QdipiEh0P6alpYypRno/kyZNanTZgT+pTpPQrJmCP+y6rqtTGXk/pqWlxdd2ej/QFis7Ex16P64gJq9c0H0/Eayj8pN3ez+SJEmCydF4Pym73xClnHo/HYGiKfiRfT+gfvodArZ3P5Tx24/yCn8/Gf2DPm1tij9Ob3pOkVWLP5zUfciBG4I/Y4wxeimheT85BS9X+Yl/PyAQCABELXY/MopzSQ7mcT8AAAAg5WJRPwAAAND/NFw/7cDcYkyXcz/GW9nzz1FxPz4EKf+/Z3A/q6qqPurjcz8AAAAUIWZyP3d3d2+8oXs/mNBe3qmTdj9yuAzcZB1yP2IndsJTAWw/rkfhKuMPbT8ndmJ/Ij1xP29601PS1nU/X0ZivTKScj/poouOEBJvP2phpcegSnQ/4YMPWowNeD/duXPvU154P50E4p6Y83U/d8QddWV9gT9zT2Psav2CP9u2bR/YOG4/SOF6/FMCbT9605su6v1lP1dzNZfvMGo/27ZtX6OAaT92Yid24i5uP9RrTjawvII/b+ICjPXhgz/VfJ9IY2GEPwUFBWFzkYI/iYiIgtdFgz+SJMnuG/SCP9/3fVseSnc/ZmZmUhX0ez+pmFu1itSOPxdkXFB0BYM/y7FBVj1ViD//7s0q2WeBP/HwcCJfDYA/r6H86OJfhT/fe+9nZpxxP8QdcftO+3c/U0op3cSLez8AAMRcM66BPwAAAIBZHXs/AABAMZAIfD+qY28RqleAPzmO46q1Wn0/+nO2BwHHgD9IjU5j6RSEP1VVVaczLIE/cPmW48tVhj8mHNXH4xSEP13XdYV8tII/fBphk8Jufz98ZAJBY4+AP+x9dwDb+Yg/ZWy/I48RjD/NzEx860xuP6uqqorpjFs/AAAstAwdeD8AAAC2cz9rPxoDpn60L4o/0UUXIdwGhj+GvdJIsCiEP7NzqbZzx4M/AAAAgM59iD8AAIBaO3yMP0mS5EGgkoo/L4v4mOD/fz8Jyz21BlmBPxo51P2xp4E/fg6pbVUlgz8=",
          "dtype": "f8"
         },
         "yaxis": "y2"
        },
        {
         "legendgroup": "Norway",
         "line": {
          "color": "red",
          "width": 2
         },
         "mode": "lines",
         "showlegend": false,
         "type": "scatter",
         "visible": true,
         "x": {
          "bdata": "Ac4YDyhTvz/71PjQVnHCP/VCZZoZOcU/8LDRY9wAyD/qHj4tn8jKP+SMqvZhkM0/b30LYBIs0D9ttMHE84/RP2rrdynV89I/ZyIujrZX1D9kWeTyl7vVP2GQmld5H9c/XsdQvFqD2D9b/gYhPOfZP1k1vYUdS9s/Vmxz6v6u3D9ToylP4BLeP1Da37PBdt8/pwhLjFFt4D8mJKY+Qh/hP6Q/AfEy0eE/I1tcoyOD4j+hdrdVFDXjPyCSEggF5+M/nq1tuvWY5D8dychs5krlP5vkIx/X/OU/GgB/0ceu5j+ZG9qDuGDnPxc3NTapEug/llKQ6JnE6D8UbuuainbpP5OJRk17KOo/EqWh/2va6j+QwPyxXIzrPw/cV2RNPuw/jfeyFj7w7D8MEw7JLqLtP4suaXsfVO4/CUrELRAG7z+IZR/gALjvP4NAPcn4NPA/Q85qIvGN8D8CXJh76ebwP8HpxdThP/E/gXfzLdqY8T9ABSGH0vHxP/+STuDKSvI/viB8OcOj8j9+rqmSu/zyPz081+uzVfM//MkERayu8z+7VzKepAf0P3vlX/ecYPQ/OnONUJW59D/5ALupjRL1P7mO6AKGa/U/eBwWXH7E9T83qkO1dh32P/c3cQ5vdvY/tsWeZ2fP9j91U8zAXyj3PzTh+RlYgfc/9G4nc1Da9z+z/FTMSDP4P3KKgiVBjPg/Mhiwfjnl+D/xpd3XMT75P7AzCzEql/k/b8E4iiLw+T8vT2bjGkn6P+7ckzwTovo/rWrBlQv7+j9t+O7uA1T7PyyGHEj8rPs/6xNKofQF/D+roXf67F78P2ovpVPlt/w/Kb3SrN0Q/T/oSgAG1mn9P6jYLV/Owv0/Z2ZbuMYb/j8m9IgRv3T+P+aBtmq3zf4/pQ/kw68m/z9knREdqH//PyQrP3ag2P8/cly2Z8wYAEBRI02USEUAQDHq48DEcQBAEbF67UCeAEDwdxEavcoAQNA+qEY59wBArwU/c7UjAUCPzNWfMVABQG+TbMytfAFATloD+SmpAUAuIZolptUBQA7oMFIiAgJA7a7Hfp4uAkA=",
          "dtype": "f8"
         },
         "xaxis": "x2",
         "y": {
          "bdata": "b259jXbOaj93Yb/cs0RrP39UASzxums/h0dDey4xbD+POoXKa6dsP5ctxxmpHW0/nyAJaeaTbT+oE0u4IwpuP7AGjQdhgG4/uPnOVp72bj/A7BCm22xvP8jfUvUY428/aGlKIqsscD/sYuvJyWdwP3BcjHHoonA/9FUtGQfecD94T87AJRlxP/xIb2hEVHE/gEIQEGOPcT8EPLG3gcpxP4g1Ul+gBXI/DC/zBr9Acj+QKJSu3XtyPxQiNVb8tnI/mBvW/Rrycj8cFXelOS1zP6AOGE1YaHM/JAi59Hajcz+pAVqcld5zPyz7+kO0GXQ/sfSb69JUdD807jyT8Y90P7nn3ToQy3Q/PeF+4i4GdT/B2h+KTUF1P0XUwDFsfHU/yc1h2Yq3dT9NxwKBqfJ1P9LAoyjILXY/VbpE0OZodj/as+V3BaR2P12thh8k33Y/4qYnx0Iadz9moMhuYVV3P+qZaRaAkHc/bpMKvp7Ldz/yjKtlvQZ4P3aGTA3cQXg/+n/ttPp8eD9+eY5cGbh4PwJzLwQ483g/hmzQq1YueT8KZnFTdWl5P45fEvuTpHk/ElmzorLfeT+WUlRK0Rp6PxpM9fHvVXo/nkWWmQ6Rej8iPzdBLcx6P6Y42OhLB3s/KjJ5kGpCez+uKxo4iX17PzIlu9+nuHs/th5ch8bzez86GP0u5S58P74RntYDanw/Qws/fiKlfD/HBOAlQeB8P0r+gM1fG30/zvchdX5WfT9T8cIcnZF9P9fqY8S7zH0/WuQEbNoHfj/f3aUT+UJ+P2PXRrsXfn4/59DnYja5fj9ryogKVfR+P+/DKbJzL38/c73KWZJqfz/3tmsBsaV/P3uwDKnP4H8/ANVWKPcNgD/CUSd8hiuAP4TO988VSYA/RkvII6VmgD8IyJh3NISAP8pEacvDoYA/jME5H1O/gD9OPgpz4tyAPxC72sZx+oA/0jerGgEYgT+UtHtukDWBP1YxTMIfU4E/GK4cFq9wgT/aKu1pPo6BP5ynvb3Nq4E/XiSOEV3JgT8goV5l7OaBP+IdL7l7BII/pJr/DAsigj8=",
          "dtype": "f8"
         },
         "yaxis": "y2"
        },
        {
         "legendgroup": "Norway",
         "marker": {
          "opacity": 0.6,
          "size": 8
         },
         "mode": "markers",
         "name": "BI - Norway",
         "showlegend": false,
         "type": "scatter",
         "visible": true,
         "x": {
          "bdata": "cRclmVUQJ0DFUgavUlgqQDCknzZqCzBACmMmj8jdMEBvW6Ex/mUsQMES9xLldCtAU0Ol3ATEMEB6Juhu2eArQBzotIGxCzBA2H/3Qsk1J0DyZ7+keo8rQPMB7IwLeyVA6KqgyTX1JECJ9mydB2EuQMJdcbtfPTFA6zsityx1KUCStzux/CcrQA6xv6mqqShAEQzzrdXMJkBFJOnd6wEpQNwNX2IZhCNAdLNUpiiNJkD1K2cskH8mQFulONcKgydANdT8DwqXI0DQY9wjroklQN/f0AbMCSRACqmsxCPUI0D24TPsCswuQF/RZzX1pilAfkl5D0yPLEDOwMJQljUkQHbNsV7vqCRAaSTgm1dbJED+qinQs6QjQHPui+hdbyhAPzcTKLv3JUDCwbL+pMEkQKtNS/LuDCNAGX2QFgVaJUBRfelFRsQlQJ0c/HKG4CRAbkbPg6zjJUBL3SFdxo0kQGnlhsFynSNAZ6PjnFCDI0C8IOyC0GgjQP2LL1VtSiNA/++vbrRKJUBycwj7uNMkQMYgsHLIsiJA3IXmOr0uJECZ790gYtIjQPLuabNkMCNADUElAoLmI0AOoEhrf3slQHg1oQl2UihAnOeyHrRNK0AW0++FBWkpQHcJzMH6gShAyypllDctKUDerrJLk8MoQIT/y8YmHyNAt4rYOvsrI0C0PY/7TsMsQJILDqeBeydA3dyIF3UNK0DBvVH3RaYnQPs3F2fktCZAGvDR+SHXJ0CbAR+AZtsiQM2RoNbFpSNAQck42HCdKUDmQtLkZogwQBpsWltA1ylAQacNdIwHJ0C07yPQX3grQMn+75wNSDBAwQzaWWPRMUDLxdXWewkxQPkcHv1hZjNAN0pw0asBMEDz3GSkbfg6QMUbFUSddzBAAQ73s0noKEAcp1lMDZ0uQFj8/lnlri5AtSucpwN6K0BKxdmHY3syQKj38ZZG1TFAux6F+0riMUD8qfHSRYIrQJ21TpBj4zRANti0tjQpLkCot5in5HouQEMmwqyHzThAd9pndJqTMUDSRNjw7nArQAPn/8ABGC1ABsnK/Iu9LEBraEQSCMQoQC3g6MdhkShAUZ7fBcjfJUA=",
          "dtype": "f8"
         },
         "xaxis": "x3",
         "y": {
          "bdata": "chxHgzmhdj/ou7Y8R4p2P38m/EnqZnQ/xU7s9uBicz9Wh1HC9yJ5PwqcwLt+e3o/47dLsTr5ej92QdipiEh0P6alpYypRno/kyZNanTZgT+pTpPQrJmCP+y6rqtTGXk/pqWlxdd2ej/QFis7Ex16P64gJq9c0H0/Eayj8pN3ez+SJEmCydF4Pym73xClnHo/HYGiKfiRfT+gfvodArZ3P5Tx24/yCn8/Gf2DPm1tij9Ob3pOkVWLP5zUfciBG4I/Y4wxeimheT85BS9X+Yl/PyAQCABELXY/MopzSQ7mcT8AAAAg5WJRPwAAAND/NFw/7cDcYkyXcz/GW9nzz1FxPz4EKf+/Z3A/q6qqPurjcz8AAAAUIWZyP3d3d2+8oXs/mNBe3qmTdj9yuAzcZB1yP2IndsJTAWw/rkfhKuMPbT8ndmJ/Ij1xP29601PS1nU/X0ZivTKScj/poouOEBJvP2phpcegSnQ/4YMPWowNeD/duXPvU154P50E4p6Y83U/d8QddWV9gT9zT2Psav2CP9u2bR/YOG4/SOF6/FMCbT9605su6v1lP1dzNZfvMGo/27ZtX6OAaT92Yid24i5uP9RrTjawvII/b+ICjPXhgz/VfJ9IY2GEPwUFBWFzkYI/iYiIgtdFgz+SJMnuG/SCP9/3fVseSnc/ZmZmUhX0ez+pmFu1itSOPxdkXFB0BYM/y7FBVj1ViD//7s0q2WeBP/HwcCJfDYA/r6H86OJfhT/fe+9nZpxxP8QdcftO+3c/U0op3cSLez8AAMRcM66BPwAAAIBZHXs/AABAMZAIfD+qY28RqleAPzmO46q1Wn0/+nO2BwHHgD9IjU5j6RSEP1VVVaczLIE/cPmW48tVhj8mHNXH4xSEP13XdYV8tII/fBphk8Jufz98ZAJBY4+AP+x9dwDb+Yg/ZWy/I48RjD/NzEx860xuP6uqqorpjFs/AAAstAwdeD8AAAC2cz9rPxoDpn60L4o/0UUXIdwGhj+GvdJIsCiEP7NzqbZzx4M/AAAAgM59iD8AAIBaO3yMP0mS5EGgkoo/L4v4mOD/fz8Jyz21BlmBPxo51P2xp4E/fg6pbVUlgz8=",
          "dtype": "f8"
         },
         "yaxis": "y3"
        },
        {
         "legendgroup": "Norway",
         "line": {
          "color": "red",
          "width": 2
         },
         "mode": "lines",
         "showlegend": false,
         "type": "scatter",
         "visible": true,
         "x": {
          "bdata": "xiCwcsiyIkAUKiJB6g0jQGIzlA8MaSNAsDwG3i3EI0D+RXisTx8kQExP6npxeiRAmlhcSZPVJEDnYc4XtTAlQDVrQObWiyVAg3SytPjmJUDRfSSDGkImQB+HllE8nSZAbZAIIF74JkC7mXruf1MnQAmj7LyhridAVqxei8MJKECktdBZ5WQoQPK+QigHwChAQMi09igbKUCO0SbFSnYpQNzamJNs0SlAKuQKYo4sKkB47XwwsIcqQMb27v7R4ipAFABhzfM9K0BiCdObFZkrQLASRWo39CtA/hu3OFlPLEBMJSkHe6osQJoum9WcBS1A5zcNpL5gLUA1QX9y4LstQINK8UACFy5A0VNjDyRyLkAfXdXdRc0uQGxmR6xnKC9Aum+5eomDL0AIeStJq94vQCvBzovmHDBA0sUHc3dKMEB5ykBaCHgwQCDPeUGZpTBAx9OyKCrTMEBu2OsPuwAxQBXdJPdLLjFAvOFd3txbMUBj5pbFbYkxQArrz6z+tjFAse8IlI/kMUBY9EF7IBIyQP74emKxPzJApv2zSUJtMkBMAu0w05oyQPQGJhhkyDJAmgtf//T1MkBCEJjmhSMzQOgU0c0WUTNAkBkKtad+M0A2HkOcOKwzQN0ifIPJ2TNAhCe1aloHNEArLO5R6zQ0QNIwJzl8YjRAeTVgIA2QNEAgOpkHnr00QMc+0u4u6zRAbkML1r8YNUAVSES9UEY1QLxMfaThczVAY1G2i3KhNUAKVu9yA881QLBaKFqU/DVAWF9hQSUqNkD+Y5ootlc2QKZo0w9HhTZATG0M99eyNkD0cUXeaOA2QJp2fsX5DTdAQnu3rIo7N0Dof/CTG2k3QI+EKXusljdANoliYj3EN0DdjZtJzvE3QISS1DBfHzhAK5cNGPBMOEDSm0b/gHo4QHmgf+YRqDhAIKW4zaLVOEDHqfG0MwM5QG6uKpzEMDlAFbNjg1VeOUC8t5xq5os5QGO81VF3uTlACsEOOQjnOUCxxUcgmRQ6QFjKgAcqQjpA/8657rpvOkCl0/LVS506QEzYK73cyjpA89xkpG34OkA=",
          "dtype": "f8"
         },
         "xaxis": "x3",
         "y": {
          "bdata": "vJs9TlDJeD/iRrdyuwB5PwjyMJcmOHk/Lp2qu5FveT9USCTg/KZ5P3rznQRo3nk/oJ4XKdMVej/FSZFNPk16P+r0CnKphHo/EKCElhS8ej82S/66f/N6P1z2d9/qKns/gqHxA1Ziez+oTGsowZl7P8735Ews0Xs/86JecZcIfD8ZTtiVAkB8Pz75Ubptd3w/ZKTL3tiufD+KT0UDROZ8P7D6vievHX0/1qU4TBpVfT/8ULJwhYx9PyL8K5Xww30/R6eluVv7fT9tUh/exjJ+P5P9mAIyan4/uagSJ52hfj/fU4xLCNl+PwX/BXBzEH8/Kqp/lN5Hfz9QVfm4SX9/P3YAc920tn8/m6vsASDufz9gKzOTxRKAP/MAcCV7LoA/htastzBKgD8ZrOlJ5mWAP6yBJtybgYA/P1djblGdgD/SLKAAB7mAP2QC3ZK81IA/+NcZJXLwgD+KrVa3JwyBPx6Dk0ndJ4E/sFjQ25JDgT9ELg1uSF+BP9YDSgD+eoE/admGkrOWgT/8rsMkabKBP46EALcezoE/Ilo9SdTpgT+0L3rbiQWCP0gFt20/IYI/2trz//Q8gj9usDCSqliCPwCGbSRgdII/lFuqthWQgj8mMedIy6uCP7gGJNuAx4I/TNxgbTbjgj/esZ3/6/6CP3KH2pGhGoM/BF0XJFc2gz+XMlS2DFKDPyoIkUjCbYM/vd3N2neJgz9QswptLaWDP+OIR//iwIM/dl6EkZjcgz8JNMEjTviDP5sJ/rUDFIQ/Lt86SLkvhD/BtHfabkuEP1SKtGwkZ4Q/5l/x/tmChD96NS6Rj56EPwwLayNFuoQ/oOCntfrVhD8ytuRHsPGEP8aLIdplDYU/WGFebBsphT/rNpv+0ESFP34M2JCGYIU/EeIUIzx8hT+kt1G18ZeFPzeNjkens4U/ymLL2VzPhT9cOAhsEuuFP/ANRf7HBoY/guOBkH0ihj8Wub4iMz6GP6iO+7ToWYY/PGQ4R551hj/OOXXZU5GGP2EPsmsJrYY/9OTu/b7Ihj+GuiuQdOSGPxmQaCIqAIc/rGWltN8bhz8=",
          "dtype": "f8"
         },
         "yaxis": "y3"
        },
        {
         "legendgroup": "Norway",
         "marker": {
          "opacity": 0.6,
          "size": 8
         },
         "mode": "markers",
         "name": "Hf - Norway",
         "showlegend": false,
         "type": "scatter",
         "visible": true,
         "x": {
          "bdata": "xV8fKrAS3T8zV++bbqnbP9A0NwCxvto/Nk9IjBfE1z8LjUTQVjnhP0i+d1srlNo/pHc5PVn+4D8r06k+PZvZP2QyUn6ahto/Jz2TltoH1z+CPzzPXvXgP1li2fqEHuM/Ub2YkKsJ3D8KVqBD6QzUP9zQ1uJu4tI/XQdUjxve1j/SgfshDDbWP+CuEjPOW+A/zVkPLqB15j+nQPsa0R7iP6AVyZPH++c/W2v6MU0+5z/kuBwFtGPnP92U1emNKOY/7BtAE5Oz5j9NwATI7YPmP3aAozVNNuQ/+PXhzMUY4z8ZngPWJgPFPxZInCzGH8c/rXZdnKJNzT9k/OR/wWriP75Y9cHKYdw/Z0QKSnK22z8VwWy1VrneP11VFnRBJ+Q/yZwNFelm4z/7kVkzmdzWP+vs4Gmuydk/6sA7Y0vj3D9ldDIpN3XWPxIAOQkJadY/jhZ8Ap4Z1D8fO33v9gHjP/tlpk8RoeQ/6cfm8R0Z6D+eRzChcgXlP1aONkSxWOU/f+S2vddX5z/d3hUgCM/mP+21U/YAUto/Fh7ykTxH2T/MtOrufWPfPxQRFHntdds/u00rvNhx2T8RH2inCzDkPw+7Uy3khuE/EAYdGVb04D/k98ZETL/gP4vm5zm1beA/tgw4gPvx4T8hqVpoR1PjP1AvU/X3Zd8/cVV3KSJ55z9ZaRKsbWrmP7VsKeKsHuU/8um6RIYl5D8KjJGwok3iP+xbj3tXd+Q/rTV0MH6c5D8ThySXmevjP8cIWsx6I+Q/0djVxAYK2T/UQyWujYjlP+bIkbrsLdA/wmHNCbqL3T/lJpBn0TngP7CP43n+GuE/olZ7zyH54j/jtKo5dV/mP0JN1aKPd+E/M2npHCHQ5j9wfCq6iUfgP/6sjpsGKOA/wQe2Tjvh3T+enB3uYA3YP+1pQzj2At8/6o4gP8iK4z+oRQRpBiHQPwxBL/cGS8c/OEitZU0v1D+8uzcsNqXaP6vnWXBeBuI/+xucHy475j9W4uZHCrrjPxyRpsvhFdc/V2swkeyU1z8b/gO90RnmPxgzH2Pxk+U/3jXJdA+U1j99h/xE3qjdPxxaWIAazNs/HiVwfjAW4T8=",
          "dtype": "f8"
         },
         "xaxis": "x4",
         "y": {
          "bdata": "chxHgzmhdj/ou7Y8R4p2P38m/EnqZnQ/xU7s9uBicz9Wh1HC9yJ5PwqcwLt+e3o/47dLsTr5ej92QdipiEh0P6alpYypRno/kyZNanTZgT+pTpPQrJmCP+y6rqtTGXk/pqWlxdd2ej/QFis7Ex16P64gJq9c0H0/Eayj8pN3ez+SJEmCydF4Pym73xClnHo/HYGiKfiRfT+gfvodArZ3P5Tx24/yCn8/Gf2DPm1tij9Ob3pOkVWLP5zUfciBG4I/Y4wxeimheT85BS9X+Yl/PyAQCABELXY/MopzSQ7mcT8AAAAg5WJRPwAAAND/NFw/7cDcYkyXcz/GW9nzz1FxPz4EKf+/Z3A/q6qqPurjcz8AAAAUIWZyP3d3d2+8oXs/mNBe3qmTdj9yuAzcZB1yP2IndsJTAWw/rkfhKuMPbT8ndmJ/Ij1xP29601PS1nU/X0ZivTKScj/poouOEBJvP2phpcegSnQ/4YMPWowNeD/duXPvU154P50E4p6Y83U/d8QddWV9gT9zT2Psav2CP9u2bR/YOG4/SOF6/FMCbT9605su6v1lP1dzNZfvMGo/27ZtX6OAaT92Yid24i5uP9RrTjawvII/b+ICjPXhgz/VfJ9IY2GEPwUFBWFzkYI/iYiIgtdFgz+SJMnuG/SCP9/3fVseSnc/ZmZmUhX0ez+pmFu1itSOPxdkXFB0BYM/y7FBVj1ViD//7s0q2WeBP/HwcCJfDYA/r6H86OJfhT/fe+9nZpxxP8QdcftO+3c/U0op3cSLez8AAMRcM66BPwAAAIBZHXs/AABAMZAIfD+qY28RqleAPzmO46q1Wn0/+nO2BwHHgD9IjU5j6RSEP1VVVaczLIE/cPmW48tVhj8mHNXH4xSEP13XdYV8tII/fBphk8Jufz98ZAJBY4+AP+x9dwDb+Yg/ZWy/I48RjD/NzEx860xuP6uqqorpjFs/AAAstAwdeD8AAAC2cz9rPxoDpn60L4o/0UUXIdwGhj+GvdJIsCiEP7NzqbZzx4M/AAAAgM59iD8AAIBaO3yMP0mS5EGgkoo/L4v4mOD/fz8Jyz21BlmBPxo51P2xp4E/fg6pbVUlgz8=",
          "dtype": "f8"
         },
         "yaxis": "y4"
        },
        {
         "legendgroup": "Norway",
         "line": {
          "color": "red",
          "width": 2
         },
         "mode": "lines",
         "showlegend": false,
         "type": "scatter",
         "visible": true,
         "x": {
          "bdata": "GZ4D1iYDxT/xGHz3EsbFP8mT9Bj/iMY/oQ5tOutLxz95ieVb1w7IP1EEXn3D0cg/KX/Wnq+UyT8B+k7Am1fKP9l0x+GHGss/se8/A3Tdyz+JargkYKDMP2LlMEZMY80/OmCpZzgmzj8S2yGJJOnOP+pVmqoQrM8/YWgJZn430D/NpcV29JjQPznjgYdq+tA/pSA+mOBb0T8RXvqoVr3RP32btrnMHtI/6dhyykKA0j9VFi/buOHSP8FT6+suQ9M/LZGn/KSk0z+ZzmMNGwbUPwUMIB6RZ9Q/cUncLgfJ1D/dhpg/fSrVP0nEVFDzi9U/tQERYWnt1T8hP81x307WP418iYJVsNY/+blFk8sR1z9l9wGkQXPXP9E0vrS31Nc/PXJ6xS022D+przbWo5fYPxXt8uYZ+dg/gSqv949a2T/tZ2sIBrzZP1mlJxl8Hdo/xeLjKfJ+2j8yIKA6aODaP55dXEveQds/CpsYXFSj2z922NRsygTcP+IVkX1AZtw/TlNNjrbH3D+6kAmfLCndPybOxa+iit0/kguCwBjs3T/+SD7Rjk3eP2qG+uEEr94/1sO28noQ3z9CAXMD8XHfP64+LxRn098/Db51km4a4D/D3NOaKUvgP3n7MaPke+A/LxqQq5+s4D/lOO6zWt3gP5tXTLwVDuE/UXaqxNA+4T8HlQjNi2/hP72zZtVGoOE/c9LE3QHR4T8p8SLmvAHiP98Pge53MuI/lS7f9jJj4j9LTT3/7ZPiPwFsmwepxOI/t4r5D2T14j9tqVcYHybjPyPItSDaVuM/2eYTKZWH4z+PBXIxULjjP0Uk0DkL6eM/+0IuQsYZ5D+xYYxKgUrkP2eA6lI8e+Q/HZ9IW/er5D/TvaZjstzkP4ncBGxtDeU/P/tidCg+5T/1GcF8427lP6s4H4Wen+U/YVd9jVnQ5T8XdtuVFAHmP82UOZ7PMeY/g7OXpopi5j850vWuRZPmP+/wU7cAxOY/pQ+yv7v05j9bLhDIdiXnPxFNbtAxVuc/x2vM2OyG5z99iirhp7fnPzOpiOli6Oc/6cfm8R0Z6D8=",
          "dtype": "f8"
         },
         "xaxis": "x4",
         "y": {
          "bdata": "7nEbhpB0bT++QN+XOfNtP44Po6nicW4/Xt5mu4vwbj8urSrNNG9vP/577t7d7W8/ZyVZeEM2cD/PDDsBmHVwPzf0HIrstHA/n9v+EkH0cD8Hw+CblTNxP3CqwiTqcnE/2JGkrT6ycT9AeYY2k/FxP6hgaL/nMHI/EEhKSDxwcj94LyzRkK9yP+AWDlrl7nI/SP7v4jkucz+w5dFrjm1zPxjNs/TirHM/gLSVfTfscz/pm3cGjCt0P1GDWY/ganQ/uWo7GDWqdD8hUh2hiel0P4k5/yneKHU/8SDhsjJodT9ZCMM7h6d1P8HvpMTb5nU/KdeGTTAmdj+RvmjWhGV2P/mlSl/ZpHY/YY0s6C3kdj/JdA5xgiN3PzFc8PnWYnc/mUPSgiuidz8BK7QLgOF3P2oSlpTUIHg/0vl3HSlgeD864VmmfZ94P6LIOy/S3ng/CrAduCYeeT9zl/9Ae115P9t+4cnPnHk/Q2bDUiTceT+rTaXbeBt6PxM1h2TNWno/exxp7SGaej/jA0t2dtl6P0vrLP/KGHs/s9IOiB9Yez8buvAQdJd7P4Oh0pnI1ns/64i0Ih0WfD9TcJarcVV8P7tXeDTGlHw/Iz9avRrUfD+MJjxGbxN9P/QNHs/DUn0/XPX/VxiSfT/E3OHgbNF9PyzEw2nBEH4/lKul8hVQfj/8kod7ao9+P2R6aQS/zn4/zGFLjRMOfz80SS0WaE1/P5wwD5+8jH8/BBjxJxHMfz+2f2nYsgWAP2pz2hxdJYA/HmdLYQdFgD/SWrylsWSAP4ZOLepbhIA/OkKeLgakgD/uNQ9zsMOAP6IpgLda44A/Vh3x+wQDgT8KEWJAryKBP74E04RZQoE/cvhDyQNigT8m7LQNroGBP9rfJVJYoYE/jtOWlgLBgT9CxwfbrOCBP/a6eB9XAII/qq7pYwEggj9eolqoqz+CPxKWy+xVX4I/xok8MQB/gj96fa11qp6CPy9xHrpUvoI/42SP/v7dgj+XWABDqf2CP0tMcYdTHYM//z/iy/08gz+zM1MQqFyDP2cnxFRSfIM/Gxs1mfybgz8=",
          "dtype": "f8"
         },
         "yaxis": "y4"
        },
        {
         "legendgroup": "Norway",
         "marker": {
          "opacity": 0.6,
          "size": 8
         },
         "mode": "markers",
         "name": "NDSI - Norway",
         "showlegend": false,
         "type": "scatter",
         "visible": true,
         "x": {
          "bdata": "VVVV3zJc6r8rHpVb2+7qv5yjb4gD0+q/FDuxAWb67L9toQGtT/vlv0y51AsWQ+u/FjaHyV+/5r+Kvie+Z6frv3h4eOV6yeq/586dg9+97L+S/pq4vsblv8uyLPWdgOW/S0tL6/gr67+n5kEud2Tvv1cQkwtK1++/MgT7rojY7b9yHMeR/3Luv4XOYIXCGOm/437dVJ253L8hhBBc2n/kv3epJ8Pkztu/a419PqRM2b+nNz0ACO/Yv4+tCInSLd6/IYQQHjQp4L/Wh8bxV2bfv30+HxZhMuK/uo5R7INZ5L8AAADAy6nvv2IndiKR3e+/nN40WxFS77+Mt7LXKQ7lv7WAMTmpaum/RkZGpsUu6r/aS2inBkfov0YNf/su0+e/chzHMQGX6L+ZoLv61eDsvyd2Yrfueuq/rkfh5fXq6L+g+7mffhPtv5ze9Mg2t+2/o15GcrAL7r8++ODzn+Dkv6qFlYab8+G/Pvjge0uX3r9NmjRBA2Div60bTOkke+G/3BF3dKnn3b9HWC69oATfv0mSJFGluOm/KVyP9jSk6r/IQhayCaznv8h7vKcnSum/JUmSuH4A6r92Yic8eS/iv/cneitxf+e/dNXIha2E6L9HD1mHh5rov0FBQZeU+ui/aDl/ZgQQ6L+w+Ip3v7Dmv9M0TbOqj+e/AAAACEuX378q5laYJXzZvzUD1UIH6OK/3FGV0Hi54b96kTqqwKXmv05OTvvxvuS/lNemruLp4r8655xjVqPjv+gL+sL/ZuS/EUIIEXsU7b8AAB+x8HDfvwAAAABt9O+/AACAEWue6b/AihPVUHXov6uqqn5tr+i/uEYWNsVF4L9RvYXA9xnZv+Q4Dv1KH+i/QhqkSEC11L8UT/uLgjvlv9d1XS/FouK/qBGW+5iY6r9ws1+aQK/tvwW3XBBiUOW/XxkbNoPD4b9mZmYkBRzvvzmO4/iS1O+/AAAIYd5H7b8AAABwX4/ov/1ZztvkMeC/RhedkhWNzL+yuoTsJPbkv/bCuitBie2/ccMNR4++7L8AAMA8v2rav0mSfBfp8Nq/Q9MdMNpF7b/xAplm2Onnv7ss1e6s6Ou/yz6H5NRU578=",
          "dtype": "f8"
         },
         "xaxis": "x5",
         "y": {
          "bdata": "chxHgzmhdj/ou7Y8R4p2P38m/EnqZnQ/xU7s9uBicz9Wh1HC9yJ5PwqcwLt+e3o/47dLsTr5ej92QdipiEh0P6alpYypRno/kyZNanTZgT+pTpPQrJmCP+y6rqtTGXk/pqWlxdd2ej/QFis7Ex16P64gJq9c0H0/Eayj8pN3ez+SJEmCydF4Pym73xClnHo/HYGiKfiRfT+gfvodArZ3P5Tx24/yCn8/Gf2DPm1tij9Ob3pOkVWLP5zUfciBG4I/Y4wxeimheT85BS9X+Yl/PyAQCABELXY/MopzSQ7mcT8AAAAg5WJRPwAAAND/NFw/7cDcYkyXcz/GW9nzz1FxPz4EKf+/Z3A/q6qqPurjcz8AAAAUIWZyP3d3d2+8oXs/mNBe3qmTdj9yuAzcZB1yP2IndsJTAWw/rkfhKuMPbT8ndmJ/Ij1xP29601PS1nU/X0ZivTKScj/poouOEBJvP2phpcegSnQ/4YMPWowNeD/duXPvU154P50E4p6Y83U/d8QddWV9gT9zT2Psav2CP9u2bR/YOG4/SOF6/FMCbT9605su6v1lP1dzNZfvMGo/27ZtX6OAaT92Yid24i5uP9RrTjawvII/b+ICjPXhgz/VfJ9IY2GEPwUFBWFzkYI/iYiIgtdFgz+SJMnuG/SCP9/3fVseSnc/ZmZmUhX0ez+pmFu1itSOPxdkXFB0BYM/y7FBVj1ViD//7s0q2WeBP/HwcCJfDYA/r6H86OJfhT/fe+9nZpxxP8QdcftO+3c/U0op3cSLez8AAMRcM66BPwAAAIBZHXs/AABAMZAIfD+qY28RqleAPzmO46q1Wn0/+nO2BwHHgD9IjU5j6RSEP1VVVaczLIE/cPmW48tVhj8mHNXH4xSEP13XdYV8tII/fBphk8Jufz98ZAJBY4+AP+x9dwDb+Yg/ZWy/I48RjD/NzEx860xuP6uqqorpjFs/AAAstAwdeD8AAAC2cz9rPxoDpn60L4o/0UUXIdwGhj+GvdJIsCiEP7NzqbZzx4M/AAAAgM59iD8AAIBaO3yMP0mS5EGgkoo/L4v4mOD/fz8Jyz21BlmBPxo51P2xp4E/fg6pbVUlgz8=",
          "dtype": "f8"
         },
         "yaxis": "y5"
        },
        {
         "legendgroup": "Norway",
         "line": {
          "color": "red",
          "width": 2
         },
         "mode": "lines",
         "showlegend": false,
         "type": "scatter",
         "visible": true,
         "x": {
          "bdata": "AAAAAG3077+1AO2jQLTvv2kB2kcUdO+/HgLH6+cz77/SArSPu/Puv4cDoTOPs+6/OwSO12Jz7r/wBHt7NjPuv6QFaB8K8+2/WQZVw92y7b8OB0JnsXLtv8IHLwuFMu2/dggcr1jy7L8rCQlTLLLsv+AJ9vb/cey/lArjmtMx7L9JC9A+p/Hrv/0LveJ6seu/sgyqhk5x679mDZcqIjHrvxsOhM718Oq/0A5xcsmw6r+ED14WnXDqvzgQS7pwMOq/7RA4XkTw6b+iESUCGLDpv1YSEqbrb+m/CxP/Sb8v6b+/E+ztku/ov3QU2ZFmr+i/KBXGNTpv6L/dFbPZDS/ov5IWoH3h7ue/RheNIbWu57/6F3rFiG7nv68YZ2lcLue/ZBlUDTDu5r8YGkGxA67mv80aLlXXbea/ghsb+aot5r82HAidfu3lv+oc9UBSreW/nx3i5CVt5b9UHs+I+SzlvwgfvCzN7OS/vB+p0KCs5L9xIJZ0dGzkvyYhgxhILOS/2iFwvBvs47+PIl1g76vjv0QjSgTDa+O/+CM3qJYr47+sJCRMauviv2ElEfA9q+K/Fib+kxFr4r/KJus35Sriv34n2Nu46uG/MyjFf4yq4b/oKLIjYGrhv5wpn8czKuG/USqMawfq4L8GK3kP26ngv7orZrOuaeC/bixTV4Ip4L9GWoD2q9Lfv7BbWj5TUt+/GF00hvrR3r+CXg7OoVHev+pf6BVJ0d2/VGHCXfBQ3b+8Ypyll9DcvyZkdu0+UNy/jmVQNebP27/4Zip9jU/bv2BoBMU0z9q/ymneDNxO2r80a7hUg87Zv5xskpwqTtm/Bm5s5NHN2L9ub0YseU3Yv9hwIHQgzde/QHL6u8dM17+qc9QDb8zWvxJ1rksWTNa/fHaIk73L1b/kd2LbZEvVv055PCMMy9S/uHoWa7NK1L8gfPCyWsrTv4p9yvoBStO/8n6kQqnJ0r9cgH6KUEnSv8SBWNL3yNG/LoMyGp9I0b+WhAxiRsjQvwCG5qntR9C/0A6B4ymPz7+kETVzeI7Ov3gU6QLHjc2/RhedkhWNzL8=",
          "dtype": "f8"
         },
         "xaxis": "x5",
         "y": {
          "bdata": "Hjrbn+BBcz/SCjlJR4hzP4bblvKtznM/OKz0mxQVdD/sfFJFe1t0P55NsO7hoXQ/Uh4OmEjodD8G72tBry51P7q/yeoVdXU/bJAnlHy7dT8gYYU94wF2P9Qx4+ZJSHY/hwJBkLCOdj860545F9V2P+2j/OJ9G3c/oXRajORhdz9URbg1S6h3PwgWFt+x7nc/uuZziBg1eD9ut9Exf3t4PyGIL9vlwXg/1FiNhEwIeT+IKests055Pzz6SNcZlXk/78qmgIDbeT+imwQq5yF6P1ZsYtNNaHo/CT3AfLSuej+9DR4mG/V6P2/ee8+BO3s/I6/ZeOiBez/WfzciT8h7P4lQlcu1Dnw/PSHzdBxVfD/x8VAeg5t8P6TCrsfp4Xw/V5MMcVAofT8LZGoat259P700yMMdtX0/cAUmbYT7fT8k1oMW60F+P9im4b9RiH4/i3c/abjOfj8+SJ0SHxV/P/IY+7uFW38/pulYZeyhfz9ZurYOU+h/P4ZFCtxcF4A/4C25MJA6gD85FmiFw12AP5L+Ftr2gIA/7ObFLiqkgD9Gz3SDXceAP6C3I9iQ6oA/+p/SLMQNgT9UiIGB9zCBP65wMNYqVIE/B1nfKl53gT9gQY5/kZqBP7opPdTEvYE/FBLsKPjggT9t+pp9KwSCP8fiSdJeJ4I/Icv4JpJKgj96s6d7xW2CP9SbVtD4kII/LoQFJSy0gj+IbLR5X9eCP+JUY86S+oI/Oj0SI8Ydgz+VJcF3+UCDP+4NcMwsZIM/SPYeIWCHgz+i3s11k6qDP/zGfMrGzYM/Va8rH/rwgz+ul9pzLRSEPwiAichgN4Q/Ymg4HZRahD+8UOdxx32EPxU5lsb6oIQ/byFFGy7EhD/ICfRvYeeEPyLyosSUCoU/fNpRGcgthT/WwgBu+1CFPzCrr8IudIU/iZNeF2KXhT/jew1slbqFPzxkvMDI3YU/lkxrFfwAhj/wNBpqLySGP0odyb5iR4Y/owV4E5Zqhj/97SZoyY2GP1bW1bz8sIY/sL6EETDUhj8KpzNmY/eGP2OP4rqWGoc/vneRD8o9hz8=",
          "dtype": "f8"
         },
         "yaxis": "y5"
        },
        {
         "legendgroup": "Norway",
         "marker": {
          "opacity": 0.6,
          "size": 8
         },
         "mode": "markers",
         "name": "EVNspCount - Norway",
         "showlegend": false,
         "type": "scatter",
         "visible": true,
         "x": {
          "bdata": "XBL0epY0xj8RQBMn6IjFP/z/YTFOzsY/gF+lC5F7yz+PrjxjxBfFPxSm7QuFycg/bCru4/udyD+g29G4cHjFP5QfURcwGcc/7sdCUdEdyz+VTF0Lu3PKP1FH4LHTkck/D2rVgjhHyT/bbEZobh3TP7juHOadMNU/GADOM+Q3zz/FZvAWsQnNP3YZ6bkhGsk/0MAvI65bwz/ikUceeRzDP6HCrMhY2sE/yq1xJpYdxT9mlPgZJVrEP0z2L8QdBsQ/lmkJsvnkwj8qahY1i4rCP3LY6u/hCMI/KXNtf5Vjwj9KKaWUUsLgPyAx2JsgKuE/Td0FnaD+3D+EFDWC9RHEP1XFUIEJ/8Q/jelfOZ/mxD86sz4XJJrGP80555xzHsU/4CI2g7dQxD8QnDglq/7FP8xAPqq87cM/jDHGGGOsyj/Jx9SsTpDGP3qY8k9s2cc/OuaHGS2Zxz+aEvV+phTQP0stccKaS8I/2bYwGLZVwj+wXK4wscnCP8XMZU0V18E/ClZADS9/wj8at/8qo6XCP9DzPM/zHME/iBtuuOHuwj994SzrabHCP1vyDGw0ZcI/f0CUdR84wz+iQRqkQfLMP8FhoGU8esg/SKTcr9g5zj9ezBjBQHXLP71Spe8Yjs0/8DJ2g7j8yT9C2M4WEjDKP56o75F8v8Q/E0000URvwz9G2kUClhzRP436EWY3Nso/5m6hm3A2zT9ydouqbnvLP++VKn3HuMg/wJI9EQ94zD+ZAXq2E9bBP2d1at/iqMU/jJPPQyWtzz9fdtlltw3OP7feeuuth8k/GmOMMUaYxj/VYNkBmJLKP6xC7vFVv9A/Kpon1ALO0T8ogBHACCDSPwrtJbSX5NM/IstGvz6N0T99V671w2XePy0kbGcLsdg/6xm3/yqjxz+jIFVN/hPQP6DNGkAKZ88/dvdHbruOyz/rp59++sPcP9daa6212uQ/l0ceeUQR2z+ABRZYYFfcPwXR7mVCHNc/xRhjjDE10D+/QxqBl+bKP7eP8Idf6M0/Qmx/N8Wxzz/FGGOMMaLLP/88z/O8Zs4/qJVgJiwQ0D884IOotknNP7qkDjF2wso/cNfMmAKuxT8=",
          "dtype": "f8"
         },
         "xaxis": "x6",
         "y": {
          "bdata": "chxHgzmhdj/ou7Y8R4p2P38m/EnqZnQ/xU7s9uBicz9Wh1HC9yJ5PwqcwLt+e3o/47dLsTr5ej92QdipiEh0P6alpYypRno/kyZNanTZgT+pTpPQrJmCP+y6rqtTGXk/pqWlxdd2ej/QFis7Ex16P64gJq9c0H0/Eayj8pN3ez+SJEmCydF4Pym73xClnHo/HYGiKfiRfT+gfvodArZ3P5Tx24/yCn8/Gf2DPm1tij9Ob3pOkVWLP5zUfciBG4I/Y4wxeimheT85BS9X+Yl/PyAQCABELXY/MopzSQ7mcT8AAAAg5WJRPwAAAND/NFw/7cDcYkyXcz/GW9nzz1FxPz4EKf+/Z3A/q6qqPurjcz8AAAAUIWZyP3d3d2+8oXs/mNBe3qmTdj9yuAzcZB1yP2IndsJTAWw/rkfhKuMPbT8ndmJ/Ij1xP29601PS1nU/X0ZivTKScj/poouOEBJvP2phpcegSnQ/4YMPWowNeD/duXPvU154P50E4p6Y83U/d8QddWV9gT9zT2Psav2CP9u2bR/YOG4/SOF6/FMCbT9605su6v1lP1dzNZfvMGo/27ZtX6OAaT92Yid24i5uP9RrTjawvII/b+ICjPXhgz/VfJ9IY2GEPwUFBWFzkYI/iYiIgtdFgz+SJMnuG/SCP9/3fVseSnc/ZmZmUhX0ez+pmFu1itSOPxdkXFB0BYM/y7FBVj1ViD//7s0q2WeBP/HwcCJfDYA/r6H86OJfhT/fe+9nZpxxP8QdcftO+3c/U0op3cSLez8AAMRcM66BPwAAAIBZHXs/AABAMZAIfD+qY28RqleAPzmO46q1Wn0/+nO2BwHHgD9IjU5j6RSEP1VVVaczLIE/cPmW48tVhj8mHNXH4xSEP13XdYV8tII/fBphk8Jufz98ZAJBY4+AP+x9dwDb+Yg/ZWy/I48RjD/NzEx860xuP6uqqorpjFs/AAAstAwdeD8AAAC2cz9rPxoDpn60L4o/0UUXIdwGhj+GvdJIsCiEP7NzqbZzx4M/AAAAgM59iD8AAIBaO3yMP0mS5EGgkoo/L4v4mOD/fz8Jyz21BlmBPxo51P2xp4E/fg6pbVUlgz8=",
          "dtype": "f8"
         },
         "yaxis": "y6"
        },
        {
         "legendgroup": "Norway",
         "line": {
          "color": "red",
          "width": 2
         },
         "mode": "lines",
         "showlegend": false,
         "type": "scatter",
         "visible": true,
         "x": {
          "bdata": "0PM8z/McwT/2thThZ8jBPxt67PLbc8I/QT3EBFAfwz9mAJwWxMrDP4zDcyg4dsQ/soZLOqwhxT/YSSNMIM3FP/0M+12UeMY/ItDSbwgkxz9Ik6qBfM/HP25WgpPwesg/lBlapWQmyT+53DG32NHJP9+fCclMfco/BGPh2sAoyz8qJrnsNNTLP1DpkP6of8w/daxoEB0rzT+bb0AikdbNP8AyGDQFgs4/5vXvRXktzz8MucdX7djPPxm+z7QwQtA/rJ+7veqX0D8+gafGpO3QP9Fik89eQ9E/ZER/2BiZ0T/3JWvh0u7RP4oHV+qMRNI/HOlC80aa0j+vyi78APDSP0KsGgW7RdM/1Y0GDnWb0z9ob/IWL/HTP/pQ3h/pRtQ/jTLKKKOc1D8gFLYxXfLUP7P1oToXSNU/RteNQ9Gd1T/YuHlMi/PVP2yaZVVFSdY//ntRXv+e1j+RXT1nufTWPyQ/KXBzStc/tiAVeS2g1z9KAgGC5/XXP9zj7IqhS9g/b8XYk1uh2D8Cp8ScFffYP5WIsKXPTNk/J2qcromi2T+6S4i3Q/jZP00tdMD9Tdo/4A5gybej2j9z8EvScfnaPwbSN9srT9s/mLMj5OWk2z8rlQ/tn/rbP752+/VZUNw/UVjn/hOm3D/kOdMHzvvcP3YbvxCIUd0/Cf2qGUKn3T+c3pYi/PzdPy/Agiu2Ut4/wqFuNHCo3j9Ug1o9Kv7eP+dkRkbkU98/ekYyT56p3z8NKB5YWP/fP9AEhTCJKuA/mfX6NGZV4D9i5nA5Q4DgPyzX5j0gq+A/9sdcQv3V4D+/uNJG2gDhP4ipSEu3K+E/Upq+T5RW4T8bizRUcYHhP+R7qlhOrOE/rmwgXSvX4T94XZZhCALiP0BODGblLOI/Cj+CasJX4j/UL/hun4LiP50gbnN8reI/ZhHkd1nY4j8wAlp8NgPjP/nyz4ATLuM/wuNFhfBY4z+M1LuJzYPjP1bFMY6qruM/H7ankofZ4z/oph2XZATkP7KXk5tBL+Q/e4gJoB5a5D9EeX+k+4TkPw5q9ajYr+Q/11prrbXa5D8=",
          "dtype": "f8"
         },
         "xaxis": "x6",
         "y": {
          "bdata": "cqJ6S+38fT9ylhYBsfF9P3OKsrZ05n0/c35ObDjbfT9zcuoh/M99P3Rmhte/xH0/dFoijYO5fT90Tr5CR659P3VCWvgKo30/dTb2rc6XfT92KpJjkox9P3YeLhlWgX0/dhLKzhl2fT93BmaE3Wp9P3f6ATqhX30/d+6d72RUfT944jmlKEl9P3jW1VrsPX0/eMpxELAyfT95vg3Gcyd9P3myqXs3HH0/eqZFMfsQfT96muHmvgV9P3qOfZyC+nw/eoIZUkbvfD97drUHCuR8P3tqUb3N2Hw/fF7tcpHNfD98UokoVcJ8P3xGJd4Yt3w/fTrBk9yrfD99Ll1JoKB8P30i+f5jlXw/fhaVtCeKfD9+CjFq6358P37+zB+vc3w/f/Jo1XJofD9/5gSLNl18P4DaoED6UXw/gM489r1GfD+AwtirgTt8P4C2dGFFMHw/gaoQFwklfD+BnqzMzBl8P4KSSIKQDnw/gobkN1QDfD+CeoDtF/h7P4NuHKPb7Hs/g2K4WJ/hez+EVlQOY9Z7P4RK8MMmy3s/hD6Meeq/ez+FMigvrrR7P4UmxORxqXs/hRpgmjWeez+GDvxP+ZJ7P4YCmAW9h3s/hvYzu4B8ez+H6s9wRHF7P4feayYIZns/h9IH3Mtaez+IxqORj097P4i6P0dTRHs/iK7b/BY5ez+Joney2i17P4mWE2ieIns/ioqvHWIXez+KfkvTJQx7P4py54jpAHs/i2aDPq31ej+LWh/0cOp6P4tOu6k033o/jEJXX/jTej+MNvMUvMh6P4wqj8p/vXo/jR4rgEOyej+NEsc1B6d6P44GY+vKm3o/jvr+oI6Qej+O7ppWUoV6P4/iNgwWeno/j9bSwdluej+Pym53nWN6P5C+Ci1hWHo/kLKm4iRNej+QpkKY6EF6P5Ga3k2sNno/kY56A3Arej+Rgha5MyB6P5J2sm73FHo/kmpOJLsJej+SXurZfv55P5NSho9C83k/k0YiRQboeT+UOr76ydx5P5QuWrCN0Xk/lCL2ZVHGeT+VFpIbFbt5P5UKLtHYr3k/lv7JhpykeT8=",
          "dtype": "f8"
         },
         "yaxis": "y6"
        },
        {
         "legendgroup": "Netherlands",
         "marker": {
          "opacity": 0.6,
          "size": 8
         },
         "mode": "markers",
         "name": "ACI - Netherlands",
         "showlegend": false,
         "type": "scatter",
         "visible": false,
         "x": {
          "bdata": "8Z5Cb8MZc0DXFKsWLhFzQKc4/+unDXNABG4sIwA4c0B7Ce3Z/SVzQDXAuB1NNHNAi3amBHpBc0Aor6E8BEpzQH10JZsXTnNANVMKGpcac0AAAAC40RdzQJ+z88nLIXNAEaHl5hkQc0Dbti3X8TFzQI+hEEzGGXNAvZE41ykec0DaiNO2TyJzQLK8V4MsNnNA9zt6ZRM2c0Bzn47E4zlzQPXnbAfqGHNAxc8osQ1Kc0ApjY8sYBlzQEjZGO+0KHNAHNqaGgkQc0Be3/XduydzQFwskCSSHXNAetObrslFc0D9/Pzc5B5zQKuqqoqeRHNAIve3VlEuc0B/j91heTZzQGGWlCOEQHNADN2K4y4zc0DYThkqpDlzQFPksy6LNXNAfa2eXXhLc0ATcAm40z5zQBKWexpkWnNAqJzdIo4hc0DwbNSHFmdzQDMzMzNAJ3NAUaFCBcIrc0CMUk2+jDBzQAYWWCCeLXNArSlrKpMNc0DcpZ4svjFzQD0lyBM/HXNArsFii502c0Bb4+/mm0FzQOMrviIGCXNAPzfxelIzc0BhnE3BijVzQNORPfO3HXNAFOwTzApDc0DZMxA1qUNzQGZmZjKwR3NAjd8uLUM5c0ARQghRXlVzQG5/kKHhO3NAFtNZ1BEyc0BmZmbmm1pzQDN65sLIZXNAID9+vFoSc0AqeDlV/y5zQM/zPDtSSHNA09LSqnY1c0A6baCDVWxzQNJv/dfxPHNAJqfW9EkBc0AfvfMQawZzQFdv9ea7B3NAkiRJRpgMc0CJf43Y11ZzQKoFH7k/AnNAvlTSU6AVc0ANJ3UbACZzQJqZmSWhKHNAQOAPWNUNc0CIXFZUUw1zQPIe75EHNXNAVVVVxa0Tc0DKayi/KBxzQBhLfuHIqXNAq6qqt3wac0AhgmKWIDpzQC/3Pr4uM3NAnsM1epplc0AAAADwjkVzQEBGw5wjGXNAWMZ13t54c0CWArVeZC5zQCebbDDWKHNAgmDfR7cyc0A9z/OWvzlzQM3MzJxqD3NALVm8l7URc0C96U3p0CBzQAhIGvPBInNAwJFnCHgMc0BgLPllPy9zQGZjNjZ0JXNAoQ7q+lsoc0AAAAD0fyBzQGqC8TaXK3NAeQ3lvb4Mc0AAAACo3AhzQC+QSQE7MXNAy/CNSIUXc0A++OADPBRzQESlIzucEHNAAAAA4Alcc0BJkiT5yyJzQNu2bXuRDHNA3t3d/XQSc0DKFcRkH2RzQAAAAOA9BnNAJ3Zi3xkgc0DOdYwCkCZzQFeidsXaJnNAtG4wlVAbc0C9M/U3OixzQM+ppBDzJXNA0o9+pFpMc0BJHQ8QPyBzQD8k8K7tI3NAjqbO70pMc0DAfvgSxzZzQFHpyE7zKXNAcT0KN5gKc0A=",
          "dtype": "f8"
         },
         "xaxis": "x",
         "y": {
          "bdata": "4rHqjMlfgj8WCEo8Q5+BP7rswKfX9IQ/nx0CoxjhhD+wBVs2sRyEP/KNQmMCnIQ/TMxaavFGhT+vobzuwtuIPygFySgM7oU/smJRBDiJgj/44AMdRPV2PwgKxy/tjYE/pwOBIrCSfz8lSVb4Ku+CPxq7y+6v54A/omWCqrVmgj+/tesufWF9P9gcSNQ1IoI/OgnE3f0wgz9/PBcGeoeBP6X9WuO2/Hs/hixkUYHeez+rHY5Z62l4P3bphO0l6nc/cdphRydcfT/iIi42HKZ8PwmeQcPqeHk/FrKQs9Gycz+OjY0tAWluPwAAAKRx5Gw/bwSkLDQcbz+eSiFVS3pyPzb+brT6unE//t2bCU4RcT/ccqYV7phxP/msG2+TeXA/Jt6PIhsHcj/Y8euUnNdyP5Z7GrkiYnc/m1bcuzUBbz94Nuokvs1uP3QEirSQd3A/ID9+pGxVcT+WsJsj/kdyP/3007t8VXE/U9aU1WEJZT8j15ngtcByP7roos4hh3E/WclKloVMfz9hlpQ7mCtxPxZf8T1hS3E/MsDBP85vez+VC26hGud4P+Z3tc5IlnE/6xTrqkJjej8NRKXYCUF9PzMzM5JyRng/FjYHDDQcdj833HB71at4P2zBFqSaeHI/VVXVboWqdD8RERH79zh7P7wHIqgptXg/BAcOHPNvaj/btm2380V0P0mSJCmfNHQ/pqUlALokcz902kDbviKGP5NMT2ErnoI/YNHGxizJej9YsiACicV8PwqcwD8OSYM/nYJHaEaqeT9AuUO0G1OHP7ZDEfJRh4E/+1MFN63PgT9sRZA5+QuAP5qZ2fUrFXI/i7qibu9/cD/6tYecz7R2P4/3eF+0RYE/2YmdR4fBfz8E9xE/UxJyP+xRuCzBr3A/AAAgDIF1cj9mpTC8tAyDP/+Z2OjFgIQ/6xUhAd8Tfj8GTGPlHreAP1YI724a7oA/i5aTXVnfgz+4MyQuu++CP/jgQ367d30/zOmM0J08fj9iGIaIe1h4PzptoOhxOXs/t1qypDa8cj/IQpYkGhx6P9KYxY8MzH8/UEBuAERagT9Z8osvGwyBP5EVWRsIwII/MzMzUtUcgj+rqqptnHeBPwAAAKztyYA/eQ3lmlKtgD8AAABDh2N7P/c0wqNotYM/0ql5kP+ofj/poosiK4R1Py1uwqg823U/AAAAMAalbz/mFLz0zOp7P0mSZAGx74E/iYiIiJWYaj8WxOSOV/JtP1VVVfW6h20/2YmdcogChD+fWlgnznuFP3XYSH0Gp4A/yWfdmz4qgT9+KNZUZ1GEP//2QNYuNIM/P/rR2vyZeT95gAj/dgKCP/shwRukD4I/VgyUOBvhhj9bIcgFdkyBP0FUOmW9JnI/VVVVreXQbT8=",
          "dtype": "f8"
         },
         "yaxis": "y"
        },
        {
         "legendgroup": "Netherlands",
         "line": {
          "color": "red",
          "width": 2
         },
         "mode": "lines",
         "showlegend": false,
         "type": "scatter",
         "visible": false,
         "x": {
          "bdata": "JqfW9EkBc0AHN6ep/QJzQOjGd16xBHNAyFZIE2UGc0Cp5hjIGAhzQIp26XzMCXNAawa6MYALc0BMlormMw1zQC0mW5vnDnNADbYrUJsQc0DuRfwETxJzQM/VzLkCFHNAsGWdbrYVc0CR9W0jahdzQHKFPtgdGXNAUhUPjdEac0Azpd9BhRxzQBQ1sPY4HnNA9cSAq+wfc0DWVFFgoCFzQLfkIRVUI3NAl3TyyQclc0B4BMN+uyZzQFmUkzNvKHNAOiRk6CIqc0AbtDSd1itzQPxDBVKKLXNA3NPVBj4vc0C9Y6a78TBzQJ7zdnClMnNAf4NHJVk0c0BgExjaDDZzQEGj6I7AN3NAITO5Q3Q5c0ACw4n4JztzQONSWq3bPHNAxOIqYo8+c0ClcvsWQ0BzQIUCzMv2QXNAZpKcgKpDc0BHIm01XkVzQCiyPeoRR3NACUIOn8VIc0Dq0d5TeUpzQMphrwgtTHNAq/F/veBNc0CMgVBylE9zQG0RISdIUXNATqHx2/tSc0AvMcKQr1RzQA/BkkVjVnNA8FBj+hZYc0DR4DOvyllzQLJwBGR+W3NAkwDVGDJdc0B0kKXN5V5zQFQgdoKZYHNANbBGN01ic0AWQBfsAGRzQPfP56C0ZXNA2F+4VWhnc0C574gKHGlzQJl/Wb/PanNAeg8qdINsc0Bbn/ooN25zQDwvy93qb3NAHb+bkp5xc0D+TmxHUnNzQN7ePPwFdXNAv24Nsbl2c0Cg/t1lbXhzQIGOrhohenNAYh5/z9R7c0BCrk+EiH1zQCM+IDk8f3NABM7w7e+Ac0DlXcGio4JzQMbtkVdXhHNAp31iDAuGc0CHDTPBvodzQGidA3ZyiXNASS3UKiaLc0AqvaTf2YxzQAtNdZSNjnNA7NxFSUGQc0DMbBb+9JFzQK385rKok3NAjoy3Z1yVc0BvHIgcEJdzQFCsWNHDmHNAMTwphneac0ARzPk6K5xzQPJbyu/enXNA0+uapJKfc0C0e2tZRqFzQJULPA76onNAdpsMw62kc0BWK913YaZzQDe7rSwVqHNAGEt+4cipc0A=",
          "dtype": "f8"
         },
         "xaxis": "x",
         "y": {
          "bdata": "Tg2qVIzHez89/T/hrMl7Pyzt1W3Ny3s/Gt1r+u3Nez8JzQGHDtB7P/i8lxMv0ns/56wtoE/Uez/WnMMscNZ7P8WMWbmQ2Hs/snzvRbHaez+hbIXS0dx7P5FcG1/y3ns/gEyx6xLhez9vPEd4M+N7P14s3QRU5Xs/SxxzkXTnez86DAkelel7Pyn8nqq163s/GOw0N9btez8H3MrD9u97P/bLYFAX8ns/5Lv23Df0ez/Tq4xpWPZ7P8KbIvZ4+Hs/sYu4gpn6ez+ge04Puvx7P49r5Jva/ns/fVt6KPsAfD9sSxC1GwN8P1s7pkE8BXw/Sis8zlwHfD85G9JafQl8PygLaOedC3w/Fvv9c74NfD8F65MA3w98P/TaKY3/EXw/48q/GSAUfD/SulWmQBZ8P7+q6zJhGHw/rpqBv4EafD+dihdMohx8P4x6rdjCHnw/e2pDZeMgfD9qWtnxAyN8P1hKb34kJXw/RzoFC0UnfD82KpuXZSl8PyUaMSSGK3w/FArHsKYtfD8D+lw9xy98P/Hp8snnMXw/4NmIVgg0fD/PyR7jKDZ8P765tG9JOHw/ralK/Gk6fD+cmeCIijx8P4qJdhWrPnw/eXkMostAfD9oaaIu7EJ8P1dZOLsMRXw/RknORy1HfD81OWTUTUl8PyMp+mBuS3w/EhmQ7Y5NfD8BCSZ6r098P/D4uwbQUXw/3+hRk/BTfD/O2OcfEVZ8P7vIfawxWHw/qrgTOVJafD+ZqKnFclx8P4iYP1KTXnw/d4jV3rNgfD9leGtr1GJ8P1RoAfj0ZHw/Q1iXhBVnfD8ySC0RNml8PyE4w51Wa3w/EChZKndtfD/+F++2l298P+0HhUO4cXw/3Pca0NhzfD/L57Bc+XV8P7rXRukZeHw/qcfcdTp6fD+Xt3ICW3x8P4anCI97fnw/dZeeG5yAfD9khzSovIJ8P1N3yjTdhHw/Qmdgwf2GfD8wV/ZNHol8Px9HjNo+i3w/DjciZ1+NfD/9Jrjzf498P+wWToCgkXw/2wbkDMGTfD/I9nmZ4ZV8P7fmDyYCmHw/ptalsiKafD8=",
          "dtype": "f8"
         },
         "yaxis": "y"
        },
        {
         "legendgroup": "Netherlands",
         "marker": {
          "opacity": 0.6,
          "size": 8
         },
         "mode": "markers",
         "name": "ADI - Netherlands",
         "showlegend": false,
         "type": "scatter",
         "visible": false,
         "x": {
          "bdata": "SNHaQDSvAEDLaN4vgKP9PwkELinx6ABAqLf//Bwv9j9EZZeO6gv+Pzlz38x6IgBAvl5VHIKP/z9FIrOKnk77P6cOFqRd4fw/OWarhMYtAUCA1e36LeX4PyAANxLcjP0/HJkQWzXl/z+mlZDwo1z7P1YGtJPI6f0/zYO1Pl1WAEAt8EEMLlj1P8Zy6ZYNRvo/Qlq9+0ch8z+jB8IxCDj3P7a+LsNMI/k/6HJ9oGCu5T/nFszIX274P8Fk8hddpPM/0CfMC5oiAEBOfd/PDdv4P58SzqpLOPk/ErC1XznI5z+hjZw2443zP1UY1ZyGUPA/45eEZ0/46z+My2Jd8szuP7pjgL5cb+k/ho9XMS0l8T8oady8UanpPxHu5okdtvA/wj6fz9wz2j+1genf8ALwP+tefubAhOI/W71ugCwz5D9lrjiQAA3uP0j32UYcv+A/ci+KIXen8j9NVHK4HkbmP0imbWzTWes/cMAQTu388z+mWPA2iLPoP+3iWdt3Fug/fGexSIgQ+j/BbLadm3XwP/sYIOC4ffo/0SXJlw6s8j8vWv8VTsr0Px+deJdy4PE/TqhQwx337z8MrJkZf/v0P462Zmc7ouU/gNWORp4C7T9J40UxpD/vPyRuoQXIs+M/ggsEqhpp9z9WtbOaqbrmP2gaNKaqsvE/s3ZldZ3g9z/PRS3YBpfzPyO6xYxLx+w/a/DIJsq98j+SaIjOxckAQLkNfirEgfw/naJp5oueAEDxUYtlRMUAQGaMCh+PwQFAh9uU24Y2/D/gp1Ttiz7/PxVZsiFDzwBA8PvXfx4/AUAsGvBTSoL1Py43wvlsfus/7PM6twy68j8JXO47exv6PxJiKC0JdvE/9qrWO19lAEDHnvc6T3DyP041MFBYBvk/Pr2871bq9D8r19EnUL75PzJkjcE49f4/daoQwV3y5D8nTynemQX1P4kS8032iPc/G9Pq1BX39T+vM7RP7EngP4tjPC0Bb/M/kc8u9L97+D9uGpXNuDX+P+9pCZ29xvo/7kISAK8k+D/T4Na8Psj1P0EUr8pPQfE/1qiuys1I/j/T9TyqfKLyP+nDFz4ss/o/Q7+P1xdk+z850064EQ0CQH+L0/uIrAFAd6a56BNqAkDOa4201PoAQDr9VRcaEQJAbsG3NrVSAkB7keKvghMBQLGOl/HdbQBAObBzCKlrAkC2SPfvf50AQGq+LrRo6QBAHM04tIJs+z+BIAmt/zT/P9DIXwyfawJAjfcaeqNOAUCinGYgwTECQHa85SlKEwJAziT8T6xGAUBRENlundUBQBp65V7H7AFAVmw4HAV5AUCzMy8JlPUBQPsLDq2YuwFAmp9MPAYfAUAvTU+Hu9MBQInTTcJkvAFASb6hpAmmAUA=",
          "dtype": "f8"
         },
         "xaxis": "x2",
         "y": {
          "bdata": "4rHqjMlfgj8WCEo8Q5+BP7rswKfX9IQ/nx0CoxjhhD+wBVs2sRyEP/KNQmMCnIQ/TMxaavFGhT+vobzuwtuIPygFySgM7oU/smJRBDiJgj/44AMdRPV2PwgKxy/tjYE/pwOBIrCSfz8lSVb4Ku+CPxq7y+6v54A/omWCqrVmgj+/tesufWF9P9gcSNQ1IoI/OgnE3f0wgz9/PBcGeoeBP6X9WuO2/Hs/hixkUYHeez+rHY5Z62l4P3bphO0l6nc/cdphRydcfT/iIi42HKZ8PwmeQcPqeHk/FrKQs9Gycz+OjY0tAWluPwAAAKRx5Gw/bwSkLDQcbz+eSiFVS3pyPzb+brT6unE//t2bCU4RcT/ccqYV7phxP/msG2+TeXA/Jt6PIhsHcj/Y8euUnNdyP5Z7GrkiYnc/m1bcuzUBbz94Nuokvs1uP3QEirSQd3A/ID9+pGxVcT+WsJsj/kdyP/3007t8VXE/U9aU1WEJZT8j15ngtcByP7roos4hh3E/WclKloVMfz9hlpQ7mCtxPxZf8T1hS3E/MsDBP85vez+VC26hGud4P+Z3tc5IlnE/6xTrqkJjej8NRKXYCUF9PzMzM5JyRng/FjYHDDQcdj833HB71at4P2zBFqSaeHI/VVXVboWqdD8RERH79zh7P7wHIqgptXg/BAcOHPNvaj/btm2380V0P0mSJCmfNHQ/pqUlALokcz902kDbviKGP5NMT2ErnoI/YNHGxizJej9YsiACicV8PwqcwD8OSYM/nYJHaEaqeT9AuUO0G1OHP7ZDEfJRh4E/+1MFN63PgT9sRZA5+QuAP5qZ2fUrFXI/i7qibu9/cD/6tYecz7R2P4/3eF+0RYE/2YmdR4fBfz8E9xE/UxJyP+xRuCzBr3A/AAAgDIF1cj9mpTC8tAyDP/+Z2OjFgIQ/6xUhAd8Tfj8GTGPlHreAP1YI724a7oA/i5aTXVnfgz+4MyQuu++CP/jgQ367d30/zOmM0J08fj9iGIaIe1h4PzptoOhxOXs/t1qypDa8cj/IQpYkGhx6P9KYxY8MzH8/UEBuAERagT9Z8osvGwyBP5EVWRsIwII/MzMzUtUcgj+rqqptnHeBPwAAAKztyYA/eQ3lmlKtgD8AAABDh2N7P/c0wqNotYM/0ql5kP+ofj/poosiK4R1Py1uwqg823U/AAAAMAalbz/mFLz0zOp7P0mSZAGx74E/iYiIiJWYaj8WxOSOV/JtP1VVVfW6h20/2YmdcogChD+fWlgnznuFP3XYSH0Gp4A/yWfdmz4qgT9+KNZUZ1GEP//2QNYuNIM/P/rR2vyZeT95gAj/dgKCP/shwRukD4I/VgyUOBvhhj9bIcgFdkyBP0FUOmW9JnI/VVVVreXQbT8=",
          "dtype": "f8"
         },
         "yaxis": "y2"
        },
        {
         "legendgroup": "Netherlands",
         "line": {
          "color": "red",
          "width": 2
         },
         "mode": "lines",
         "showlegend": false,
         "type": "scatter",
         "visible": false,
         "x": {
          "bdata": "wj6fz9wz2j/C3994K23bP8KAICJ6ptw/wiFhy8jf3T/CwqF0FxnfP+Ex8Q4zKeA/YYKRY9rF4D/h0jG4gWLhP2Ej0gwp/+E/4XNyYdCb4j9hxBK2dzjjP+EUswof1eM/YmVTX8Zx5D/itfOzbQ7lP2IGlAgVq+U/4lY0XbxH5j9ip9SxY+TmP+L3dAYLgec/YkgVW7Id6D/imLWvWbroP2LpVQQBV+k/4jn2WKjz6T9iipatT5DqP+LaNgL3LOs/YivXVp7J6z/ie3erRWbsP2LMFwDtAu0/4hy4VJSf7T9ibVipOzzuP+K9+P3i2O4/Yg6ZUop17z9xr5zTGAnwP7HX7H1sV/A/8f88KMCl8D8xKI3SE/TwP3FQ3XxnQvE/sXgtJ7uQ8T/xoH3RDt/xPzHJzXtiLfI/cfEdJrZ78j+xGW7QCcryP/FBvnpdGPM/MWoOJbFm8z9xkl7PBLXzP7G6rnlYA/Q/8eL+I6xR9D8xC0/O/5/0P3Ezn3hT7vQ/slvvIqc89T/ygz/N+or1PzKsj3dO2fU/ctTfIaIn9j+y/C/M9XX2P/IkgHZJxPY/Mk3QIJ0S9z9ydSDL8GD3P7KdcHVEr/c/8sXAH5j99z8y7hDK60v4P3IWYXQ/mvg/sj6xHpPo+D/yZgHJ5jb5PzKPUXM6hfk/crehHY7T+T+y3/HH4SH6P/IHQnI1cPo/MjCSHIm++j9yWOLG3Az7P7KAMnEwW/s/8qiCG4Sp+z8y0dLF1/f7P3L5InArRvw/siFzGn+U/D/yScPE0uL8PzJyE28mMf0/cppjGXp//T+ywrPDzc39P/LqA24hHP4/MhNUGHVq/j9yO6TCyLj+P7Jj9GwcB/8/8otEF3BV/z8ytJTBw6P/P3Lc5GsX8v8/WYIaizUgAEB5lkJgX0cAQJmqajWJbgBAub6SCrOVAEDZ0rrf3LwAQPnm4rQG5ABAGfsKijALAUA5DzNfWjIBQFkjWzSEWQFAeTeDCa6AAUCZS6ve16cBQLlf07MBzwFA2XP7iCv2AUD5hyNeVR0CQBmcSzN/RAJAObBzCKlrAkA=",
          "dtype": "f8"
         },
         "xaxis": "x2",
         "y": {
          "bdata": "WWj/oBMQcj/ISPLfGTtyPzYp5R4gZnI/pAnYXSaRcj8S6sqcLLxyP4HKvdsy53I/76qwGjkScz9ei6NZPz1zP8xrlphFaHM/OkyJ10uTcz+pLHwWUr5zPxcNb1VY6XM/hu1hlF4UdD/0zVTTZD90P2KuRxJranQ/0Y46UXGVdD8/by2Qd8B0P65PIM9963Q/HDATDoQWdT+KEAZNikF1P/jw+IuQbHU/Z9HrypaXdT/Vsd4JncJ1P0SS0Uij7XU/snLEh6kYdj8gU7fGr0N2P44zqgW2bnY//ROdRLyZdj9s9I+DwsR2P9rUgsLI73Y/SLV1Ac8adz+2lWhA1UV3PyR2W3/bcHc/k1ZOvuGbdz8CN0H958Z3P3AXNDzu8Xc/3vcme/QceD9M2Bm6+kd4P7u4DPkAc3g/KZn/NweeeD+YefJ2Dcl4PwZa5bUT9Hg/dDrY9BkfeT/iGsszIEp5P1H7vXImdXk/wNuwsSygeT8uvKPwMst5P5ycli859nk/C32Jbj8hej95XXytRUx6P+g9b+xLd3o/Vh5iK1Kiej/E/lRqWM16PzLfR6le+Ho/ob866GQjez8QoC0na057P36AIGZxeXs/7GATpXekez9aQQbkfc97P8kh+SKE+ns/NwLsYYolfD+m4t6gkFB8PxTD0d+We3w/gqPEHp2mfD/wg7ddo9F8P19kqpyp/Hw/zUSd268nfT88JZAatlJ9P6oFg1m8fX0/GOZ1mMKofT+GxmjXyNN9P/WmWxbP/n0/ZIdOVdUpfj/SZ0GU21R+P0BINNPhf34/rignEuiqfj8cCRpR7tV+P4zpDJD0AH8/+sn/zvorfz9oqvINAVd/P9aK5UwHgn8/RGvYiw2tfz+yS8vKE9h/PxEW3wSNAYA/SIZYJBAXgD9/9tFDkyyAP7ZmS2MWQoA/7dbEgplXgD8lRz6iHG2AP1y3t8GfgoA/kycx4SKYgD/Kl6oApq2APwEIJCApw4A/OHidP6zYgD9w6BZfL+6AP6dYkH6yA4E/3sgJnjUZgT8VOYO9uC6BP0yp/Nw7RIE/gxl2/L5ZgT8=",
          "dtype": "f8"
         },
         "yaxis": "y2"
        },
        {
         "legendgroup": "Netherlands",
         "marker": {
          "opacity": 0.6,
          "size": 8
         },
         "mode": "markers",
         "name": "BI - Netherlands",
         "showlegend": false,
         "type": "scatter",
         "visible": false,
         "x": {
          "bdata": "F6cRo+2dKUAyRXqDRzMoQMqOVzyx/ilAdHZFGA4aKUDSyVV7KrooQGr0zayr1StAoFdLrP5fKECJsrs48bwoQCG1NmcekClACtYacYfuJUDz7ddWnhUjQIp/lsP+qyVAOlmq8L1oJUAvAH40E8QlQD6jUmsSNCZAiOi3c2EBJ0CJlEifejQkQG19te+o3CVAjHVv/Qi/I0CxilIiebgmQEA0wtiEMiRAr0HmbTQBJ0CoDxBl/mwkQPDH46fcXSRAiD+xfSXVJEC3OwerOXQlQOY3ToLdYiVAnMcrTYgjJECGbj9ivaUiQOHATXtOQCNASY6uBksHI0AJsMfiIBgjQIk3fkHhbyNAUiK/xRx1I0A6ILsl2F4jQJU1uADzsCJA3bi7OSmMI0CEDIguR5MmQLiOo9S1CClAFDfYXd9MJUCXxlggjb4lQPireDg7TSVAn/g6ggZkJkC+fbwLRKomQAHlU2GvmCZAjSj+gx4tJUB4hcfxxksmQJbVSNTx5iRAdLKrO07uJ0AzfDwS1HglQFsDRG3mIyVAHBkiIWBhJkAudMjZ+8UnQFjZSY6e9CRAj4fuFnG+JUCeg5JtKNYlQD7o2awmUiRA4fxFkdsqJUDI9io57FcnQLi3+jr3uyRAWUZx8mvJJEDX9lC1UFknQMSJzNfT0yZAOMIRu6RtJEBSmeVgu3IlQGmEHXxeASVAco4T/0hgJEATVZasq+MwQMO8oYXs3CpAO4Wktv0iL0D+hArB0E0pQFCM3dxTDCdA/47Pwk/dK0A8Rse295MuQAQJrzeAOydA348udCgjJ0CPVoOtuIYlQJ6AJkKxTyRAen9Ye5xkI0D8EaTEXIsjQGuJOhmRkiZAMdihogmGJECDMaeIosAjQLXadKJ48yRAMaBAlLt0JEA3n/ghfvgmQKwdrLUFrStAft7a0ysMKkBDMk4ks4QoQAK/iSqDeSZAJur0J+tnLEAXMu26LO0lQOav33XcnihAdEimjiZPKUBgeU4GEh4lQA3LjKQaZSVAmGf9ldx7I0CBrxeCLaglQPYvxEJmJCdAA7k6YoEHJUBiWfT/yHIkQKJQmVc/wCVAoK83heDpJUCXtTomYGElQEsFV7SFjCdAHt5y903LI0BSaGzC+D0lQG68dJO4myhAo4SDimFgJED9fD1vDDQjQLn/qPNzFyVAyXa+n9o5I0BbMY9WPfAmQEcgdY8lcCVAS1mGOJaOJUBZofwnx2MlQJBV6EdU2SNA+sCWgoqkJ0D46zT4RYInQDv4/Om1PyZA+HGlI2xiJkBP7FwLnxcqQIZ1Kif3mSpAJQU/GBlsK0BtoBx8Q+AnQIvB6Q1nvClACJ9VfoCHK0DTCAzsGCEqQOACy5M5dSZA2ybv9nPEJkA=",
          "dtype": "f8"
         },
         "xaxis": "x3",
         "y": {
          "bdata": "4rHqjMlfgj8WCEo8Q5+BP7rswKfX9IQ/nx0CoxjhhD+wBVs2sRyEP/KNQmMCnIQ/TMxaavFGhT+vobzuwtuIPygFySgM7oU/smJRBDiJgj/44AMdRPV2PwgKxy/tjYE/pwOBIrCSfz8lSVb4Ku+CPxq7y+6v54A/omWCqrVmgj+/tesufWF9P9gcSNQ1IoI/OgnE3f0wgz9/PBcGeoeBP6X9WuO2/Hs/hixkUYHeez+rHY5Z62l4P3bphO0l6nc/cdphRydcfT/iIi42HKZ8PwmeQcPqeHk/FrKQs9Gycz+OjY0tAWluPwAAAKRx5Gw/bwSkLDQcbz+eSiFVS3pyPzb+brT6unE//t2bCU4RcT/ccqYV7phxP/msG2+TeXA/Jt6PIhsHcj/Y8euUnNdyP5Z7GrkiYnc/m1bcuzUBbz94Nuokvs1uP3QEirSQd3A/ID9+pGxVcT+WsJsj/kdyP/3007t8VXE/U9aU1WEJZT8j15ngtcByP7roos4hh3E/WclKloVMfz9hlpQ7mCtxPxZf8T1hS3E/MsDBP85vez+VC26hGud4P+Z3tc5IlnE/6xTrqkJjej8NRKXYCUF9PzMzM5JyRng/FjYHDDQcdj833HB71at4P2zBFqSaeHI/VVXVboWqdD8RERH79zh7P7wHIqgptXg/BAcOHPNvaj/btm2380V0P0mSJCmfNHQ/pqUlALokcz902kDbviKGP5NMT2ErnoI/YNHGxizJej9YsiACicV8PwqcwD8OSYM/nYJHaEaqeT9AuUO0G1OHP7ZDEfJRh4E/+1MFN63PgT9sRZA5+QuAP5qZ2fUrFXI/i7qibu9/cD/6tYecz7R2P4/3eF+0RYE/2YmdR4fBfz8E9xE/UxJyP+xRuCzBr3A/AAAgDIF1cj9mpTC8tAyDP/+Z2OjFgIQ/6xUhAd8Tfj8GTGPlHreAP1YI724a7oA/i5aTXVnfgz+4MyQuu++CP/jgQ367d30/zOmM0J08fj9iGIaIe1h4PzptoOhxOXs/t1qypDa8cj/IQpYkGhx6P9KYxY8MzH8/UEBuAERagT9Z8osvGwyBP5EVWRsIwII/MzMzUtUcgj+rqqptnHeBPwAAAKztyYA/eQ3lmlKtgD8AAABDh2N7P/c0wqNotYM/0ql5kP+ofj/poosiK4R1Py1uwqg823U/AAAAMAalbz/mFLz0zOp7P0mSZAGx74E/iYiIiJWYaj8WxOSOV/JtP1VVVfW6h20/2YmdcogChD+fWlgnznuFP3XYSH0Gp4A/yWfdmz4qgT9+KNZUZ1GEP//2QNYuNIM/P/rR2vyZeT95gAj/dgKCP/shwRukD4I/VgyUOBvhhj9bIcgFdkyBP0FUOmW9JnI/VVVVreXQbT8=",
          "dtype": "f8"
         },
         "yaxis": "y3"
        },
        {
         "legendgroup": "Netherlands",
         "line": {
          "color": "red",
          "width": 2
         },
         "mode": "lines",
         "showlegend": false,
         "type": "scatter",
         "visible": false,
         "x": {
          "bdata": "hm4/Yr2lIkA3zCL43cwiQOkpBo7+8yJAmofpIx8bI0BM5cy5P0IjQP1CsE9gaSNAr6CT5YCQI0Bg/nZ7obcjQBJcWhHC3iNAw7k9p+IFJEB0FyE9Ay0kQCZ1BNMjVCRA19LnaER7JECJMMv+ZKIkQDqOrpSFySRA7OuRKqbwJECdSXXAxhclQE+nWFbnPiVAAAU87AdmJUCyYh+CKI0lQGPAAhhJtCVAFB7mrWnbJUDGe8lDigImQHfZrNmqKSZAKTeQb8tQJkDalHMF7HcmQIzyVpsMnyZAPVA6MS3GJkDvrR3HTe0mQKALAV1uFCdAUmnk8o47J0ADx8eIr2InQLQkqx7QiSdAZoKOtPCwJ0AY4HFKEdgnQMk9VeAx/ydAeps4dlImKEAs+RsMc00oQN1W/6GTdChAj7TiN7SbKEBAEsbN1MIoQPJvqWP16ShAo82M+RURKUBUK3CPNjgpQAaJUyVXXylAuOY2u3eGKUBpRBpRmK0pQBqi/ea41ClAzP/gfNn7KUB9XcQS+iIqQC+7p6gaSipA4BiLPjtxKkCSdm7UW5gqQEPUUWp8vypA9DE1AJ3mKkCmjxiWvQ0rQFjt+yveNCtACUvfwf5bK0C6qMJXH4MrQGwGpu0/qitAHWSJg2DRK0DOwWwZgfgrQIAfUK+hHyxAMn0zRcJGLEDj2hbb4m0sQJQ4+nADlSxARpbdBiS8LED488CcROMsQKlRpDJlCi1AWq+HyIUxLUAMDWteplgtQL1qTvTGfy1AbsgxiuemLUAgJhUgCM4tQNKD+LUo9S1Ag+HbS0kcLkA0P7/haUMuQOaconeKai5AmPqFDauRLkBJWGmjy7guQPq1TDns3y5ArBMwzwwHL0BdcRNlLS4vQA7P9vpNVS9AwCzakG58L0Byir0mj6MvQCPooLyvyi9A1EWEUtDxL0DD0TN0eAwwQJyAJb8IIDBAdC8XCpkzMEBN3ghVKUcwQCaN+p+5WjBA/jvs6kluMEDX6t012oEwQLCZz4BqlTBAiUjBy/qoMEBi97IWi7wwQDqmpGEb0DBAE1WWrKvjMEA=",
          "dtype": "f8"
         },
         "xaxis": "x3",
         "y": {
          "bdata": "RcqZLyDqcz/jomluMTx0P4V7Oa1CjnQ/I1QJ7FPgdD/FLNkqZTJ1P2MFqWl2hHU/Bd54qIfWdT+ltkjnmCh2P0WPGCaqenY/5WfoZLvMdj+DQLijzB53PyUZiOLdcHc/w/FXIe/Cdz9lyidgABV4PwOj954RZ3g/pXvH3SK5eD9DVJccNAt5P+UsZ1tFXXk/gwU3mlaveT8l3gbZZwF6P8W21hd5U3o/Y4+mVoqlej8FaHaVm/d6P6NARtSsSXs/RRkWE76bez/j8eVRz+17P4XKtZDgP3w/I6OFz/GRfD/Fe1UOA+R8P2NUJU0UNn0/BS31iyWIfT+lBcXKNtp9P0PelAlILH4/5bZkSFl+fj+FjzSHatB+PyVoBMZ7In8/w0DUBI10fz9lGaRDnsZ/PwL5OcFXDIA/UuWhYGA1gD+i0QkAaV6AP/K9cZ9xh4A/QqrZPnqwgD+SlkHegtmAP+KCqX2LAoE/Mm8RHZQrgT+CW3m8nFSBP9JH4VulfYE/IjRJ+62mgT9yILGats+BP8IMGTq/+IE/EvmA2cchgj9i5eh40EqCP7LRUBjZc4I/Ar64t+Gcgj9SqiBX6sWCP6KWiPby7oI/8oLwlfsXgz9Cb1g1BEGDP5JbwNQMaoM/4kcodBWTgz8yNJATHryDP4Ig+LIm5YM/0gxgUi8OhD8i+cfxNzeEP3LlL5FAYIQ/wtGXMEmJhD8Svv/PUbKEP2KqZ29a24Q/spbPDmMEhT8Cgzeuay2FP1Jvn010VoU/olsH7Xx/hT/yR2+MhaiFP0I01yuO0YU/kiA/y5b6hT/iDKdqnyOGPzL5DgqoTIY/guV2qbB1hj/S0d5IuZ6GPyK+RujBx4Y/cqquh8rwhj/ClhYn0xmHPxKDfsbbQoc/Ym/mZeRrhz+yW04F7ZSHPwJItqT1vYc/UjQeRP7mhz+iIIbjBhCIP/IM7oIPOYg/QvlVIhhiiD+S5b3BIIuIP+LRJWEptIg/ML6NADLdiD+CqvWfOgaJP9KWXT9DL4k/IoPF3ktYiT90by1+VIGJP8JblR1dqok/Ekj9vGXTiT8=",
          "dtype": "f8"
         },
         "yaxis": "y3"
        },
        {
         "legendgroup": "Netherlands",
         "marker": {
          "opacity": 0.6,
          "size": 8
         },
         "mode": "markers",
         "name": "Hf - Netherlands",
         "showlegend": false,
         "type": "scatter",
         "visible": false,
         "x": {
          "bdata": "KIVec4do4T946wv9J67dPzjCgoKwReI/3gBD30/N1T9w8d/217DfPyAnxfVEv+A/yxMOuQnU4T8CLsNm0/jWP8QP4YSYwN0/a+AThpzA4z8Piswa0j/cPzAj1tOKut4/kAIVFvz14T9pz0HkSPTeP3Mzmb0uguA/dnErZD9S4j85t6KOeX/XP2wpPLztA94/2z3GJ8mw1z87bIyvqH3aP2jLxDDPlt0/OrvNgbFO1D/77t3octLZP8rEqqFhkNo/JZpfoApM4z9We7LvmajcP+G7gbi9/94/uIYgVOYv1D+Ff/M/6E/WP8/cSxxKcNU/jBXbPfDz0z+TGIJO5MLUPx7Un0UAi9M/yci+r6my1j+JvIxtzhvTPyPSXbw+y9Q/k7XUiVcF0T9Vf9u3cHbWPxbfgjCI8dU/jlXVeIRe0j82q7PNpUHWP7GEXWCEidI/wLfJjMH41z+xm+nDKFzSP2AoU98O3NU/h6Obr0tB1z/SPSqTM/vVP43rEiErPtM/UR5BgwdE3D/8fDg9r+DVPz2t0A9yTts/Vns3bEiv1z9BbhhACUbZP7uYjQHkAtc/2XVSfoVE1T+EIGPqumLYPzYCykquudI/9Pm2qBRZ1z8DxahSwrnVP5rHdmmG6tI/EWyBvRnP2j973stuRc7TPwL6ieedZtY/HESV+P5v2j8vB8eP/AnZPytIKos71tU/TUA/9Tn21z8swTSjXFneP8jAquwfENs/j+lK7afX3D9xybV04bDfP+fSPHJ47tw/4cXDts0Q2T9jRq96Zx7dP2vB1prpk94/WEBvld/b4D/4h6Fve0vYPyiOSp9iGdM/8R0jqNYJ1j9EOxb2kTbcPxLIrkd8R9E/iw1a28C64T96Vaxg3iPXP/TlS/8qLd0/JUDGgd5B2j/C7zAVyJLZP4EG0UqK3ts/MvdZbC840z91Y7buu/3XP4IY0/9XBtk/zL4MsC+32D9yaSBTOSfQP+h5xJbO8NY/m7vIBiqu2D/VgQNOKurgP4WQuleme90/cXfXflRK1z9I4r5c4VraP+7Aa+2CsNQ/hLOk7oA33j/gMTLxtarRPygx1k7O2tw/TIO5iDKy2T9x0FvGEebkPwozyqpFVeU/K5JAqIw75T9dn/izKkHhPxo9RKB1luY/vG+fNxYB5z9uvSkWiV3kP/YXVrtN8+I/+rxd6VxK6T9mRhVZyhLkPx39ohm00eQ/Yp0ag8Kb3D/Qho7xIEziP/X2H/CIxuY/Yf4mXoQn5j9OoNsPB6/nP91yLtZYKuc/6Bl9qkS+5T86O4mtuUzjP0f8mWyvg+E/9Sq+2bY24j+rpPQ5T6jjP0V4Ey3cxuE/RVDI4bAr5D9EXvWhVjbjP8U1cKy2x+I/56AnmI/14T8=",
          "dtype": "f8"
         },
         "xaxis": "x4",
         "y": {
          "bdata": "4rHqjMlfgj8WCEo8Q5+BP7rswKfX9IQ/nx0CoxjhhD+wBVs2sRyEP/KNQmMCnIQ/TMxaavFGhT+vobzuwtuIPygFySgM7oU/smJRBDiJgj/44AMdRPV2PwgKxy/tjYE/pwOBIrCSfz8lSVb4Ku+CPxq7y+6v54A/omWCqrVmgj+/tesufWF9P9gcSNQ1IoI/OgnE3f0wgz9/PBcGeoeBP6X9WuO2/Hs/hixkUYHeez+rHY5Z62l4P3bphO0l6nc/cdphRydcfT/iIi42HKZ8PwmeQcPqeHk/FrKQs9Gycz+OjY0tAWluPwAAAKRx5Gw/bwSkLDQcbz+eSiFVS3pyPzb+brT6unE//t2bCU4RcT/ccqYV7phxP/msG2+TeXA/Jt6PIhsHcj/Y8euUnNdyP5Z7GrkiYnc/m1bcuzUBbz94Nuokvs1uP3QEirSQd3A/ID9+pGxVcT+WsJsj/kdyP/3007t8VXE/U9aU1WEJZT8j15ngtcByP7roos4hh3E/WclKloVMfz9hlpQ7mCtxPxZf8T1hS3E/MsDBP85vez+VC26hGud4P+Z3tc5IlnE/6xTrqkJjej8NRKXYCUF9PzMzM5JyRng/FjYHDDQcdj833HB71at4P2zBFqSaeHI/VVXVboWqdD8RERH79zh7P7wHIqgptXg/BAcOHPNvaj/btm2380V0P0mSJCmfNHQ/pqUlALokcz902kDbviKGP5NMT2ErnoI/YNHGxizJej9YsiACicV8PwqcwD8OSYM/nYJHaEaqeT9AuUO0G1OHP7ZDEfJRh4E/+1MFN63PgT9sRZA5+QuAP5qZ2fUrFXI/i7qibu9/cD/6tYecz7R2P4/3eF+0RYE/2YmdR4fBfz8E9xE/UxJyP+xRuCzBr3A/AAAgDIF1cj9mpTC8tAyDP/+Z2OjFgIQ/6xUhAd8Tfj8GTGPlHreAP1YI724a7oA/i5aTXVnfgz+4MyQuu++CP/jgQ367d30/zOmM0J08fj9iGIaIe1h4PzptoOhxOXs/t1qypDa8cj/IQpYkGhx6P9KYxY8MzH8/UEBuAERagT9Z8osvGwyBP5EVWRsIwII/MzMzUtUcgj+rqqptnHeBPwAAAKztyYA/eQ3lmlKtgD8AAABDh2N7P/c0wqNotYM/0ql5kP+ofj/poosiK4R1Py1uwqg823U/AAAAMAalbz/mFLz0zOp7P0mSZAGx74E/iYiIiJWYaj8WxOSOV/JtP1VVVfW6h20/2YmdcogChD+fWlgnznuFP3XYSH0Gp4A/yWfdmz4qgT9+KNZUZ1GEP//2QNYuNIM/P/rR2vyZeT95gAj/dgKCP/shwRukD4I/VgyUOBvhhj9bIcgFdkyBP0FUOmW9JnI/VVVVreXQbT8=",
          "dtype": "f8"
         },
         "yaxis": "y4"
        },
        {
         "legendgroup": "Netherlands",
         "line": {
          "color": "red",
          "width": 2
         },
         "mode": "lines",
         "showlegend": false,
         "type": "scatter",
         "visible": false,
         "x": {
          "bdata": "cmkgUzkn0D/1c13LP4DQP3d+mkNG2dA/+ojXu0wy0T98kxQ0U4vRP/+dUaxZ5NE/gqiOJGA90j8Es8ucZpbSP4e9CBVt79I/CshFjXNI0z+M0oIFeqHTPw/dv32A+tM/kef89YZT1D8U8jlujazUP5b8duaTBdU/GQe0Xppe1T+cEfHWoLfVPx4cLk+nENY/oSZrx61p1j8kMag/tMLWP6Y75be6G9c/KUYiMMF01z+sUF+ox83XPy5bnCDOJtg/sGXZmNR/2D8zcBYR29jYP7Z6U4nhMdk/OIWQAeiK2T+7j8157uPZPz6aCvL0PNo/wKRHavuV2j9Dr4TiAe/aP8a5wVoISNs/SMT+0g6h2z/KzjtLFfrbP07ZeMMbU9w/0OO1OyKs3D9S7vKzKAXdP9X4LywvXt0/WANtpDW33T/aDaocPBDeP10Y55RCad4/4CIkDUnC3j9iLWGFTxvfP+U3nv1VdN8/aELbdVzN3z91Jgx3MRPgP7arKrO0P+A/+DBJ7zds4D85tmcru5jgP3o7hmc+xeA/vMCko8Hx4D/9RcPfRB7hPz7L4RvISuE/gFAAWEt34T/B1R6UzqPhPwJbPdBR0OE/ROBbDNX84T+EZXpIWCniP8bqmITbVeI/CHC3wF6C4j9I9dX84a7iP4p69Dhl2+I/y/8SdegH4z8MhTGxazTjP04KUO3uYOM/j49uKXKN4z/QFI1l9bnjPxKaq6F45uM/Ux/K3fsS5D+UpOgZfz/kP9YpB1YCbOQ/F68lkoWY5D9YNETOCMXkP5q5YgqM8eQ/2z6BRg8e5T8cxJ+CkkrlP15Jvr4Vd+U/n87c+pij5T/gU/s2HNDlPyLZGXOf/OU/Yl44ryIp5j+k41brpVXmP+ZodScpguY/Ju6TY6yu5j9oc7KfL9vmP6n40NuyB+c/6n3vFzY05z8sAw5UuWDnP22ILJA8jec/rg1LzL+55z/wkmkIQ+bnPzEYiETGEug/cp2mgEk/6D+0IsW8zGvoP/Wn4/hPmOg/Ni0CNdPE6D94siBxVvHoP7k3P63ZHek/+rxd6VxK6T8=",
          "dtype": "f8"
         },
         "xaxis": "x4",
         "y": {
          "bdata": "ltRxmSmgdj/OaQ9bZMZ2PwT/rByf7HY/PJRK3tkSdz9zKeifFDl3P6q+hWFPX3c/4lMjI4qFdz8Z6cDkxKt3P1B+Xqb/0Xc/iBP8Zzr4dz+/qJkpdR54P/Y9N+uvRHg/LdPUrOpqeD9kaHJuJZF4P5z9DzBgt3g/05Kt8ZrdeD8KKEuz1QN5P0K96HQQKnk/eVKGNktQeT+w5yP4hXZ5P+h8wbnAnHk/HxJfe/vCeT9Wp/w8Nul5P448mv5wD3o/xNE3wKs1ej/8ZtWB5lt6PzP8ckMhgno/apEQBVyoej+iJq7Gls56P9m7S4jR9Ho/EFHpSQwbez9I5oYLR0F7P397JM2BZ3s/thDCjryNez/tpV9Q97N7PyU7/REy2ns/XNCa02wAfD+TZTiVpyZ8P8r61VbiTHw/ApBzGB1zfD84JRHaV5l8P3C6rpuSv3w/qE9MXc3lfD/e5OkeCAx9PxZ6h+BCMn0/Tg8lon1YfT+EpMJjuH59P7w5YCXzpH0/9M795i3LfT8qZJuoaPF9P2L5OGqjF34/mY7WK949fj/QI3TtGGR+Pwe5Ea9Tin4/P06vcI6wfj9240wyydZ+P6146vMD/X4/5Q2ItT4jfz8boyV3eUl/P1M4wzi0b38/i81g+u6Vfz/CYv67Kbx/P/j3m31k4n8/mMacn08EgD8zkWsAbReAP89bOmGKKoA/ayYJwqc9gD8G8dcixVCAP6K7poPiY4A/PoZ15P92gD/ZUERFHYqAP3UbE6Y6nYA/EebhBliwgD+ssLBndcOAP0h7f8iS1oA/5EVOKbDpgD9/EB2KzfyAPxvb6+rqD4E/t6W6SwgjgT9ScImsJTaBP+46WA1DSYE/iQUnbmBcgT8l0PXOfW+BP8GaxC+bgoE/XGWTkLiVgT/4L2Lx1aiBP5T6MFLzu4E/L8X/shDPgT/Lj84TLuKBP2ZanXRL9YE/AiVs1WgIgj+e7zo2hhuCPzm6CZejLoI/1YTY98BBgj9xT6dY3lSCPwwadrn7Z4I/qOREGhl7gj9ErxN7No6CP9954ttToYI/e0SxPHG0gj8=",
          "dtype": "f8"
         },
         "yaxis": "y4"
        },
        {
         "legendgroup": "Netherlands",
         "marker": {
          "opacity": 0.6,
          "size": 8
         },
         "mode": "markers",
         "name": "NDSI - Netherlands",
         "showlegend": false,
         "type": "scatter",
         "visible": false,
         "x": {
          "bdata": "1X+uxPDK5b+E7/KVgUfovxlqFUApzeO/Oc3XHywC7L9VVfW5Divnv4hsadYMWuW/CujoVzGo47/YUF4fJZPrv+PaI6aWZea/iCPhIDnh4r8QPviXfuXpv4egsF/reue/TNxnnT0q5b+3bYzHYTbov9TVCDtc/+a/unqA49mc5L9cCmjnD1PsvyJU0hMyCOm/F2pOEqiX7L+/3Ke7fwbqv74UrJFRgei/OzDX3nIw7r/tcEyPn9jqv9Wwiuxwjuq/I591w4nd479xCIe0EifpvyjB81pjk+e/pze9qbu07r+amZkpTjrtv7N16JdEau2/cVZ+8sFZ7r9QhtU20E/tv2jaGofTJO6/Fod/d8iI7L/Cvy3LdFHtv91gikyLRe2/o4suGoZQ778VngrB5S3tvxphubebHe+/Ij1QSVUL779icgVxZffsv3rTm6axFe+/VKhQ0e1O67/mFLykI3Xuv0000QLt0Oy/3BF3JMu17L+jmP3ZMIntv2LtG36Ove6/afZdkPIA6b+u8XfTgYPtv8VXfOVMguu/ha0ZZxTL6781+igsidLqv5I9A1HnUe2/F+kWWexw7b8T5vduW9vrvzMzM8eJse6/xm+XmyiR7L9VVVUeNl3sv7vc/uCOIu+/oryGBkyg6r/e3d3R9Bruvx+I8FhKrOy/J02aFABF7L+8nIJDzcDrv0mSJPkUKO6/8fDwFc/n7L9LfnE8j8vmv4YDaxaSyum/B6irKuMK57/Nqecnsqznv73VW1Gaoeq/t20LKMwT6r+X6oyJ4HTov/MMkA5aJuq/tZaOUhiW6L+/PDZ3UgjrvwAAQK8L2+6/fUFfUDeU7L+FN5qMogfqv5VRGTVBi+6/B2mQuO+G5r/YUF7r72rsvwAAAKL17ei/AACAC3/O67+iEed5uEDrv4hWN8A7WOq/zPnsiRuJ779Ay/nj2I/svzrJAQZKJ+y/oAhT1WsL7L9bv1JAcrjvv/jgw5slq+2/pacWvlox7b/DMEwZs6nmv6DTBiiRCeq/FH7MTu9q7L9DFrIuNg3rv1o8rk81Wu2/3w/St78d6b9+seT3Rgjvv4mOqNUtn+m/qING0pMq6r9VVdVdWzniv8s+h1iQr92/DeU1TAAo5L8RERHBqsPov6LfjCP7itm/epC7nrcP37/uDIm55KLkvxCVDquWa+W/AAAAAG9e2r8AAEDNcafiv5IkSY3FeuG/chzH8a2d6r9XEJOreW7mv6uqqlrjO+K/tVJrxWk23r8/JPAPw4bbv3XYSEszPOC/u8GUHJcq4b9Ro30dU73jv/jJJabDque/Heaw2hT75r99xNA1XWPkvy2sNGGfHue/TZ1fiyFx3b83Sr1wwrzlvz4DUYnpf+e/3t3dPW3u6L8=",
          "dtype": "f8"
         },
         "xaxis": "x5",
         "y": {
          "bdata": "4rHqjMlfgj8WCEo8Q5+BP7rswKfX9IQ/nx0CoxjhhD+wBVs2sRyEP/KNQmMCnIQ/TMxaavFGhT+vobzuwtuIPygFySgM7oU/smJRBDiJgj/44AMdRPV2PwgKxy/tjYE/pwOBIrCSfz8lSVb4Ku+CPxq7y+6v54A/omWCqrVmgj+/tesufWF9P9gcSNQ1IoI/OgnE3f0wgz9/PBcGeoeBP6X9WuO2/Hs/hixkUYHeez+rHY5Z62l4P3bphO0l6nc/cdphRydcfT/iIi42HKZ8PwmeQcPqeHk/FrKQs9Gycz+OjY0tAWluPwAAAKRx5Gw/bwSkLDQcbz+eSiFVS3pyPzb+brT6unE//t2bCU4RcT/ccqYV7phxP/msG2+TeXA/Jt6PIhsHcj/Y8euUnNdyP5Z7GrkiYnc/m1bcuzUBbz94Nuokvs1uP3QEirSQd3A/ID9+pGxVcT+WsJsj/kdyP/3007t8VXE/U9aU1WEJZT8j15ngtcByP7roos4hh3E/WclKloVMfz9hlpQ7mCtxPxZf8T1hS3E/MsDBP85vez+VC26hGud4P+Z3tc5IlnE/6xTrqkJjej8NRKXYCUF9PzMzM5JyRng/FjYHDDQcdj833HB71at4P2zBFqSaeHI/VVXVboWqdD8RERH79zh7P7wHIqgptXg/BAcOHPNvaj/btm2380V0P0mSJCmfNHQ/pqUlALokcz902kDbviKGP5NMT2ErnoI/YNHGxizJej9YsiACicV8PwqcwD8OSYM/nYJHaEaqeT9AuUO0G1OHP7ZDEfJRh4E/+1MFN63PgT9sRZA5+QuAP5qZ2fUrFXI/i7qibu9/cD/6tYecz7R2P4/3eF+0RYE/2YmdR4fBfz8E9xE/UxJyP+xRuCzBr3A/AAAgDIF1cj9mpTC8tAyDP/+Z2OjFgIQ/6xUhAd8Tfj8GTGPlHreAP1YI724a7oA/i5aTXVnfgz+4MyQuu++CP/jgQ367d30/zOmM0J08fj9iGIaIe1h4PzptoOhxOXs/t1qypDa8cj/IQpYkGhx6P9KYxY8MzH8/UEBuAERagT9Z8osvGwyBP5EVWRsIwII/MzMzUtUcgj+rqqptnHeBPwAAAKztyYA/eQ3lmlKtgD8AAABDh2N7P/c0wqNotYM/0ql5kP+ofj/poosiK4R1Py1uwqg823U/AAAAMAalbz/mFLz0zOp7P0mSZAGx74E/iYiIiJWYaj8WxOSOV/JtP1VVVfW6h20/2YmdcogChD+fWlgnznuFP3XYSH0Gp4A/yWfdmz4qgT9+KNZUZ1GEP//2QNYuNIM/P/rR2vyZeT95gAj/dgKCP/shwRukD4I/VgyUOBvhhj9bIcgFdkyBP0FUOmW9JnI/VVVVreXQbT8=",
          "dtype": "f8"
         },
         "yaxis": "y5"
        },
        {
         "legendgroup": "Netherlands",
         "line": {
          "color": "red",
          "width": 2
         },
         "mode": "lines",
         "showlegend": false,
         "type": "scatter",
         "visible": false,
         "x": {
          "bdata": "W79SQHK477/9JZddcofvv56M23pyVu+/QPMfmHIl77/hWWS1cvTuv4PAqNJyw+6/JCft73KS7r/GjTENc2Huv2f0dSpzMO6/CVu6R3P/7b+qwf5kc87tv0woQ4Jzne2/7Y6Hn3Ns7b+P9cu8czvtvzBcENpzCu2/0sJU93PZ7L9zKZkUdKjsvxWQ3TF0d+y/tvYhT3RG7L9YXWZsdBXsv/nDqol05Ou/myrvpnSz6788kTPEdILrv973d+F0Ueu/gF68/nQg678hxQAcde/qv8IrRTl1vuq/ZJKJVnWN6r8G+c1zdVzqv6dfEpF1K+q/SMZWrnX66b/qLJvLdcnpv4yT3+h1mOm/LfojBnZn6b/OYGgjdjbpv3DHrEB2Bem/Ei7xXXbU6L+zlDV7dqPov1T7eZh2cui/9mG+tXZB6L+YyALTdhDovzkvR/B23+e/2pWLDXeu5798/M8qd33nvx5jFEh3TOe/v8lYZXcb579gMJ2Cd+rmvwKX4Z93uea/pP0lvXeI5r9GZGrad1fmv+fKrvd3Jua/iDHzFHj15b8qmDcyeMTlv8z+e094k+W/bWXAbHhi5b8OzASKeDHlv7AySad4AOW/UpmNxHjP5L/z/9HheJ7kv5RmFv94beS/Ns1aHHk85L/YM585eQvkv3ma41Z52uO/GgEodHmp47+8Z2yReXjjv17OsK55R+O//zT1y3kW47+gmznpeeXiv0ICfgZ6tOK/5GjCI3qD4r+FzwZBelLivyY2S156IeK/yJyPe3rw4b9qA9SYer/hvwtqGLZ6juG/rNBc03pd4b9ON6Hweizhv/Cd5Q17++C/kQQqK3vK4L8ya25Ie5ngv9TRsmV7aOC/djj3gns34L8Ynzugewbgv3ILAHv3qt+/tNiItfdI37/4pRHw9+bevzpzmir4hN6/fkAjZfgi3r/ADayf+MDdvwTbNNr4Xt2/Rqi9FPn83L+KdUZP+Zrcv8xCz4n5ONy/EBBYxPnW279S3eD++XTbv5aqaTn6Etu/2nfyc/qw2r8cRXuu+k7av2ASBOn67Nm/ot+MI/uK2b8=",
          "dtype": "f8"
         },
         "xaxis": "x5",
         "y": {
          "bdata": "0jhMIWNCdj90NedzVm92PxcygsZJnHY/uS4dGT3Jdj9cK7hrMPZ2P/8nU74jI3c/oiTuEBdQdz9EIYljCn13P+cdJLb9qXc/iRq/CPHWdz8sF1pb5AN4P84T9a3XMHg/cRCQAMtdeD8TDStTvop4P7YJxqWxt3g/WQZh+KTkeD/8AvxKmBF5P57/lp2LPnk/Qfwx8H5reT/j+MxCcph5P4b1Z5VlxXk/KPIC6FjyeT/L7p06TB96P23rOI0/THo/D+jT3zJ5ej+y5G4yJqZ6P1bhCYUZ03o/+N2k1wwAez+a2j8qAC17Pz3X2nzzWXs/4NN1z+aGez+C0BAi2rN7PyTNq3TN4Hs/x8lGx8ANfD9qxuEZtDp8PwzDfGynZ3w/r78Xv5qUfD9SvLIRjsF8P/W4TWSB7nw/l7XotnQbfT85soMJaEh9P9yuHlxbdX0/f6u5rk6ifT8hqFQBQs99P8Ok71M1/H0/ZqGKpigpfj8KniX5G1Z+P6yawEsPg34/TpdbngKwfj/wk/bw9dx+P5OQkUPpCX8/No0sltw2fz/Yicfoz2N/P3qGYjvDkH8/HYP9jba9fz/Af5jgqep/PzK+mZnOC4A/gjznQkgigD/UujTswTiAPyY5gpU7T4A/drfPPrVlgD/INR3oLnyAPxm0apGokoA/ajK4OiKpgD+8sAXkm7+APw0vU40V1oA/Xq2gNo/sgD+wK+7fCAOBPwGqO4mCGYE/UiiJMvwvgT+kptbbdUaBP/UkJIXvXIE/RqNxLmlzgT+XIb/X4omBP+ifDIFcoIE/Oh5aKta2gT+LnKfTT82BP9wa9XzJ44E/LplCJkP6gT+AF5DPvBCCP9CV3Xg2J4I/IhQrIrA9gj9zknjLKVSCP8QQxnSjaoI/Fo8THh2Bgj9nDWHHlpeCP7iLrnAQroI/CQr8GYrEgj9biEnDA9uCP6wGl2x98YI//oTkFfcHgz9OAzK/cB6DP6CBf2jqNIM/8f/MEWRLgz9Dfhq73WGDP5T8Z2RXeIM/5Xq1DdGOgz82+QK3SqWDP4h3UGDEu4M/2fWdCT7Sgz8=",
          "dtype": "f8"
         },
         "yaxis": "y5"
        },
        {
         "legendgroup": "Netherlands",
         "marker": {
          "opacity": 0.6,
          "size": 8
         },
         "mode": "markers",
         "name": "EVNspCount - Netherlands",
         "showlegend": false,
         "type": "scatter",
         "visible": false,
         "x": {
          "bdata": "zAw33V0LxT/DLu481cLEP/wshWT0rsU/YEZflK4eyz/5yndHTerHP4NRxoqmecg/z14RwR6Yyj9nUQKQMo3LP6Dj/0XTVMw/vIiQp3Rdxj+9BRdccDfGPxc2RwOWF8c/tkYqH8haxj+BjxkdgrLHP5s5divJasc/F+FMIZ5+xT9apmWOXJHIP1GDUOpNH8c/h43XRDjxyj/6+c8DeczJPy+7LYFSj8Y/KR/DlfYbzj+HEajl/8vJP/yURm+07sk/a+YAGkRFxz/jN6cYH2TIP+B9Jzqk6sk/enYGfhnJxj8rF9XMq8fEP6KxVqSCzcU/VlNNNdX0xj9yugCXvSvFP436/TJ9SMY/eIFybTMDxT8eiNatPWHFP3hTfj44pMQ/6WntzJCXyD9euixS6jjGP2qgtpzlBcw/lC3NsgDZxT/w51jmMdTFP8w8TPkndsU/1TKMss0dxT8AI9Xmv4jFP9JLh31308U/XJ3atzgWwz/7H9QiGQfHPzn11FNPycQ/Uw0MkfXbxj+jzypwDxrFPwSirPuACMM/TgY224gfxz/X3jyh97/GP3lO/O1mKsU/BtijS3JVyD8h0ClwX3fIPxhjjDHG8Mo/16wC0bMKyD+KyMGFEfjIP4mohU/MdMk/wmLXxESQxj+ac8455wzJPxqjW8vFmMk/gNX6NGcjxj/83CoZQI/IP2JxP5xY/Mo/5SUuT9PPxz8155xzzr3VPzW4d5Y3Y9A/llxcBGWHxj8ReRajN2LDPyn5s8NLVsc/SUOaXhwQyD+kYoopptbSP037DpM1qsQ/zaAtFxC+yj8+mkrPK7HFPzznnHOOasc/s76DSgxIxD8tdMeuhhHDP8/2z4vuvsc/esU26HJIwz++mys1x//EP0UTTTTRNMU/rFHxb6qLxz+qwmuPYY/JP5dw4BgsfMs/6GhHeklLyj+PJ5544o3NP724Bgmt48U/t2mlL0Bn0D+p7kgHVmbKP7ouEJatH8Q/RZTdWMCIxD+N4O+aIofBP1xggQUW3MM/rS2D260Iwz/GWdbTIojEP3CE9t2bJMU/0ip8DdUrwT9gKEzbF6rFP+9m++dF78M/pKz7gCh/xD8fICtXB0LGP9DK/wPzacg/aqKJJpogxT+L2AzeItbDPxbhAr9xN8k/vBqbVSv6xD8FLXtelsDDP9CNfvDOH8Y/1lprrbXmwj9uLI3rG8vFP46lcX1jTcQ/63NBIlBixT94sDkdXxjGP3iL2AzewsI/yqxQG/dpxj+1/zulRdnGP5yOpOlIysU/lRdzxcJ+xT9Zw2ly5snIPzzcR/8bqMk/HrPgI5htyD9Gu573otzGPy7YaWOL/sc/TMtCDl70yz9QfDFHJG7IPxQ6DwkUm8Q/8cgjjzySxD8=",
          "dtype": "f8"
         },
         "xaxis": "x6",
         "y": {
          "bdata": "4rHqjMlfgj8WCEo8Q5+BP7rswKfX9IQ/nx0CoxjhhD+wBVs2sRyEP/KNQmMCnIQ/TMxaavFGhT+vobzuwtuIPygFySgM7oU/smJRBDiJgj/44AMdRPV2PwgKxy/tjYE/pwOBIrCSfz8lSVb4Ku+CPxq7y+6v54A/omWCqrVmgj+/tesufWF9P9gcSNQ1IoI/OgnE3f0wgz9/PBcGeoeBP6X9WuO2/Hs/hixkUYHeez+rHY5Z62l4P3bphO0l6nc/cdphRydcfT/iIi42HKZ8PwmeQcPqeHk/FrKQs9Gycz+OjY0tAWluPwAAAKRx5Gw/bwSkLDQcbz+eSiFVS3pyPzb+brT6unE//t2bCU4RcT/ccqYV7phxP/msG2+TeXA/Jt6PIhsHcj/Y8euUnNdyP5Z7GrkiYnc/m1bcuzUBbz94Nuokvs1uP3QEirSQd3A/ID9+pGxVcT+WsJsj/kdyP/3007t8VXE/U9aU1WEJZT8j15ngtcByP7roos4hh3E/WclKloVMfz9hlpQ7mCtxPxZf8T1hS3E/MsDBP85vez+VC26hGud4P+Z3tc5IlnE/6xTrqkJjej8NRKXYCUF9PzMzM5JyRng/FjYHDDQcdj833HB71at4P2zBFqSaeHI/VVXVboWqdD8RERH79zh7P7wHIqgptXg/BAcOHPNvaj/btm2380V0P0mSJCmfNHQ/pqUlALokcz902kDbviKGP5NMT2ErnoI/YNHGxizJej9YsiACicV8PwqcwD8OSYM/nYJHaEaqeT9AuUO0G1OHP7ZDEfJRh4E/+1MFN63PgT9sRZA5+QuAP5qZ2fUrFXI/i7qibu9/cD/6tYecz7R2P4/3eF+0RYE/2YmdR4fBfz8E9xE/UxJyP+xRuCzBr3A/AAAgDIF1cj9mpTC8tAyDP/+Z2OjFgIQ/6xUhAd8Tfj8GTGPlHreAP1YI724a7oA/i5aTXVnfgz+4MyQuu++CP/jgQ367d30/zOmM0J08fj9iGIaIe1h4PzptoOhxOXs/t1qypDa8cj/IQpYkGhx6P9KYxY8MzH8/UEBuAERagT9Z8osvGwyBP5EVWRsIwII/MzMzUtUcgj+rqqptnHeBPwAAAKztyYA/eQ3lmlKtgD8AAABDh2N7P/c0wqNotYM/0ql5kP+ofj/poosiK4R1Py1uwqg823U/AAAAMAalbz/mFLz0zOp7P0mSZAGx74E/iYiIiJWYaj8WxOSOV/JtP1VVVfW6h20/2YmdcogChD+fWlgnznuFP3XYSH0Gp4A/yWfdmz4qgT9+KNZUZ1GEP//2QNYuNIM/P/rR2vyZeT95gAj/dgKCP/shwRukD4I/VgyUOBvhhj9bIcgFdkyBP0FUOmW9JnI/VVVVreXQbT8=",
          "dtype": "f8"
         },
         "yaxis": "y6"
        },
        {
         "legendgroup": "Netherlands",
         "line": {
          "color": "red",
          "width": 2
         },
         "mode": "lines",
         "showlegend": false,
         "type": "scatter",
         "visible": false,
         "x": {
          "bdata": "0ip8DdUrwT/ErTXU3m/BP7Yw75ros8E/qLOoYfL3wT+aNmIo/DvCP4y5G+8FgMI/fjzVtQ/Ewj9wv458GQjDP2JCSEMjTMM/VMUBCi2Qwz9GSLvQNtTDPzjLdJdAGMQ/Kk4uXkpcxD8c0eckVKDEPw5Uoetd5MQ/ANdasmcoxT/yWRR5cWzFP+TczT97sMU/1l+HBoX0xT/I4kDNjjjGP7pl+pOYfMY/rOizWqLAxj+ea20hrATHP5DuJui1SMc/gnHgrr+Mxz909Jl1ydDHP2Z3UzzTFMg/WPoMA91YyD9KfcbJ5pzIPzwAgJDw4Mg/LoM5V/okyT8gBvMdBGnJPxKJrOQNrck/BAxmqxfxyT/2jh9yITXKP+gR2Tgreco/2pSS/zS9yj/MF0zGPgHLP76aBY1IRcs/sB2/U1KJyz+ioHgaXM3LP5QjMuFlEcw/hqbrp29VzD94KaVueZnMP2qsXjWD3cw/XC8Y/IwhzT9OstHClmXNP0A1i4mgqc0/M7hEUKrtzT8lO/4WtDHOPxe+t929dc4/CUFxpMe5zj/7wypr0f3OP+1G5DHbQc8/38md+OSFzz/RTFe/7snPP+JnCEP8BtA/WillJgEp0D/U6sEJBkvQP0ysHu0KbdA/xm170A+P0D8+L9izFLHQP7jwNJcZ09A/MLKReh710D+qc+5dIxfRPyI1S0EoOdE/nPanJC1b0T8UuAQIMn3RP455Yes2n9E/Bju+zjvB0T+A/BqyQOPRP/i9d5VFBdI/cn/UeEon0j/qQDFcT0nSP2QCjj9Ua9I/3MPqIlmN0j9WhUcGXq/SP85GpOli0dI/SAgBzWfz0j/AyV2wbBXTPzqLupNxN9M/skwXd3ZZ0z8sDnRae3vTP6TP0D2AndM/HpEtIYW/0z+WUooEiuHTPxAU5+eOA9Q/iNVDy5Ml1D8Cl6CumEfUP3pY/ZGdadQ/9BladaKL1D9s27ZYp63UP+acEzysz9Q/Xl5wH7Hx1D/YH80CthPVP1DhKea6NdU/yqKGyb9X1T9DZOOsxHnVP7wlQJDJm9U/Neecc8691T8=",
          "dtype": "f8"
         },
         "xaxis": "x6",
         "y": {
          "bdata": "HJ7WG3XPdD/SWNNrfB91P4gT0LuDb3U/Ps7MC4u/dT/0iMlbkg92P6pDxquZX3Y/YP7C+6Cvdj8Vub9LqP92P8tzvJuvT3c/gS6567afdz836bU7vu93P+2jsovFP3g/o16v28yPeD9ZGawr1N94Pw7UqHvbL3k/xI6ly+J/eT96SaIb6s95PzAEn2vxH3o/5r6bu/hvej+ceZgLAMB6P1I0lVsHEHs/CO+Rqw5gez+9qY77FbB7P3Nki0sdAHw/KR+ImyRQfD/f2YTrK6B8P5WUgTsz8Hw/S09+izpAfT8BCnvbQZB9P7fEdytJ4H0/bH90e1Awfj8iOnHLV4B+P9j0bRtf0H4/jq9qa2Ygfz9Eame7bXB/P/okZAt1wH8/2G+wLT4IgD8zza7VQTCAP44qrX1FWIA/6YerJUmAgD9E5anNTKiAP55CqHVQ0IA/+Z+mHVT4gD9U/aTFVyCBP69ao21bSIE/CrihFV9wgT9lFaC9YpiBP8BynmVmwIE/HNCcDWrogT93LZu1bRCCP9GKmV1xOII/LOiXBXVggj+HRZateIiCP+KilFV8sII/PQCT/X/Ygj+YXZGlgwCDP/S6j02HKIM/TRiO9YpQgz+qdYydjniDPwPTikWSoIM/XzCJ7ZXIgz+5jYeVmfCDPxXrhT2dGIQ/b0iE5aBAhD/LpYKNpGiEPyUDgTWokIQ/gWB/3au4hD/bvX2Fr+CEPzcbfC2zCIU/kXh61bYwhT/t1Xh9uliFP0czdyW+gIU/o5B1zcGohT/87XN1xdCFP1hLch3J+IU/sqhwxcwghj8OBm9t0EiGP2hjbRXUcIY/xMBrvdeYhj8eHmpl28CGP3p7aA3f6IY/1NhmteIQhz8wNmVd5jiHP4qTYwXqYIc/5vBhre2Ihz9ATmBV8bCHP5yrXv302Ic/9QhdpfgAiD9SZltN/CiIP6vDWfX/UIg/ByFYnQN5iD9hflZFB6GIP73bVO0KyYg/FzlTlQ7xiD9zllE9EhmJP83zT+UVQYk/KVFOjRlpiT+Erkw1HZGJP98LS90guYk/OmlJhSThiT8=",
          "dtype": "f8"
         },
         "yaxis": "y6"
        },
        {
         "legendgroup": "France",
         "marker": {
          "opacity": 0.6,
          "size": 8
         },
         "mode": "markers",
         "name": "ACI - France",
         "showlegend": false,
         "type": "scatter",
         "visible": false,
         "x": {
          "bdata": "qsRUokIdc0A5BS/Zjg9zQLPHv3KuMnNAM07ncdwDc0AAACAgTT9zQO4juP8pDXNAmpmZubMpc0BmnLH5ZCFzQCNoOKn0BnNA5ULU/WApc0DQITU9AQtzQHHq99QiHnNA",
          "dtype": "f8"
         },
         "xaxis": "x",
         "y": {
          "bdata": "aKje0o5Sfz/2oTGwsO58P+9QDM79+Xs/nM6jV//0dD9VVa2v7X5/P1FeQ2mr/Xw/U4WBEzvOgD/TeX7uIEqAP+Kk7gdgW3A/Zsdz5XGccT+kJtj1U8VxP3RLnIrR6HE/",
          "dtype": "f8"
         },
         "yaxis": "y"
        },
        {
         "legendgroup": "France",
         "line": {
          "color": "red",
          "width": 2
         },
         "mode": "lines",
         "showlegend": false,
         "type": "scatter",
         "visible": false,
         "x": {
          "bdata": "M07ncdwDc0BxbBYmdgRzQK6KRdoPBXNA7Kh0jqkFc0Apx6NCQwZzQGfl0vbcBnNApAMCq3YHc0DiITFfEAhzQB9AYBOqCHNAXV6Px0MJc0CafL573QlzQNia7S93CnNAFrkc5BALc0BT10uYqgtzQJH1ekxEDHNAzhOqAN4Mc0AMMtm0dw1zQElQCGkRDnNAh243HasOc0DEjGbRRA9zQAKrlYXeD3NAP8nEOXgQc0B95/PtERFzQLsFI6KrEXNA+CNSVkUSc0A2QoEK3xJzQHNgsL54E3NAsX7fchIUc0DunA4nrBRzQCy7PdtFFXNAadlsj98Vc0Cn95tDeRZzQOQVy/cSF3NAIjT6q6wXc0BgUilgRhhzQJ1wWBTgGHNA246HyHkZc0AYrbZ8ExpzQFbL5TCtGnNAk+kU5UYbc0DRB0SZ4BtzQA4mc016HHNATESiARQdc0CJYtG1rR1zQMeAAGpHHnNABZ8vHuEec0BCvV7Seh9zQIDbjYYUIHNAvfm8Oq4gc0D7F+zuRyFzQDg2G6PhIXNAdlRKV3sic0CzcnkLFSNzQPGQqL+uI3NALq/Xc0gkc0BszQYo4iRzQKrrNdx7JXNA5wllkBUmc0AlKJREryZzQGJGw/hIJ3NAoGTyrOInc0DdgiFhfChzQBuhUBUWKXNAWL9/ya8pc0CW3a59SSpzQNP73THjKnNAERoN5nwrc0BPODyaFixzQIxWa06wLHNAynSaAkotc0AHk8m24y1zQEWx+Gp9LnNAgs8nHxcvc0DA7VbTsC9zQP0LhodKMHNAOyq1O+Qwc0B4SOTvfTFzQLZmE6QXMnNA9IRCWLEyc0Axo3EMSzNzQG/BoMDkM3NArN/PdH40c0Dq/f4oGDVzQCccLt2xNXNAZTpdkUs2c0CiWIxF5TZzQOB2u/l+N3NAHZXqrRg4c0BbsxlisjhzQJnRSBZMOXNA1u93yuU5c0AUDqd+fzpzQFEs1jIZO3NAj0oF57I7c0DMaDSbTDxzQAqHY0/mPHNAR6WSA4A9c0CFw8G3GT5zQMLh8GuzPnNAAAAgIE0/c0A=",
          "dtype": "f8"
         },
         "xaxis": "x",
         "y": {
          "bdata": "wBO7F9hfdT/AyRN/d3l1P8B/bOYWk3U/4DXFTbasdT/A6x21VcZ1P+Chdhz133U/wFfPg5T5dT/gDSjrMxN2P8DDgFLTLHY/4HnZuXJGdj/ALzIhEmB2P+DlioixeXY/4Jvj71CTdj/gUTxX8Kx2P+AHlb6PxnY/4L3tJS/gdj/gc0aNzvl2P+Apn/RtE3c/4N/3Ww0tdz/glVDDrEZ3P+BLqSpMYHc/4AECkut5dz/gt1r5ipN3PwBus2AqrXc/4CMMyMnGdz8A2mQvaeB3P+CPvZYI+nc/AEYW/qcTeD/g+25lRy14PwCyx8zmRng/4GcgNIZgeD8AHnmbJXp4P+DT0QLFk3g/AIoqamSteD8gQIPRA8d4PwD22zij4Hg/IKw0oEL6eD8AYo0H4hN5PyAY5m6BLXk/AM4+1iBHeT8ghJc9wGB5PwA68KRfenk/IPBIDP+TeT8ApqFznq15PyBc+to9x3k/QBJTQt3geT8gyKupfPp5P0B+BBEcFHo/IDRdeLstej9A6rXfWkd6PyCgDkf6YHo/QFZnrpl6ej8gDMAVOZR6P0DCGH3YrXo/IHhx5HfHej9ALspLF+F6P0DkIrO2+no/QJp7GlYUez9AUNSB9S17P0AGLemUR3s/QLyFUDRhez9Act6303p7P0AoNx9zlHs/QN6PhhKuez9AlOjtscd7P0BKQVVR4Xs/QACavPD6ez9gtvIjkBR8P0BsS4svLnw/YCKk8s5HfD9A2PxZbmF8P2COVcENe3w/YESuKK2UfD9g+gaQTK58P2CwX/frx3w/YGa4XovhfD9gHBHGKvt8P2DSaS3KFH0/gIjClGkufT9gPhv8CEh9P4D0c2OoYX0/YKrMykd7fT+AYCUy55R9P2AWfpmGrn0/gMzWACbIfT9ggi9oxeF9P4A4iM9k+30/YO7gNgQVfj+ApDmeoy5+P6BakgVDSH4/gBDrbOJhfj+gxkPUgXt+P4B8nDshlX4/oDL1osCufj+A6E0KYMh+P6CepnH/4X4/gFT/2J77fj+gClhAPhV/P4DAsKfdLn8/oHYJD31Ifz8=",
          "dtype": "f8"
         },
         "yaxis": "y"
        },
        {
         "legendgroup": "France",
         "marker": {
          "opacity": 0.6,
          "size": 8
         },
         "mode": "markers",
         "name": "ADI - France",
         "showlegend": false,
         "type": "scatter",
         "visible": false,
         "x": {
          "bdata": "cmwntJUTAEDmI07D8+b7P6ParMVgv/o/elZVTwrYAEDxom5TC+L4P2V8O++n/Pw/pCcvA4zN/z8KDqew18/4P0IIRwjB7P0/HsNW+M0Z/j/GiAMqwLj8P0ll9Wfr4/4/",
          "dtype": "f8"
         },
         "xaxis": "x2",
         "y": {
          "bdata": "aKje0o5Sfz/2oTGwsO58P+9QDM79+Xs/nM6jV//0dD9VVa2v7X5/P1FeQ2mr/Xw/U4WBEzvOgD/TeX7uIEqAP+Kk7gdgW3A/Zsdz5XGccT+kJtj1U8VxP3RLnIrR6HE/",
          "dtype": "f8"
         },
         "yaxis": "y2"
        },
        {
         "legendgroup": "France",
         "line": {
          "color": "red",
          "width": 2
         },
         "mode": "lines",
         "showlegend": false,
         "type": "scatter",
         "visible": false,
         "x": {
          "bdata": "Cg6nsNfP+D8XLE9gy+b4PyNK9w+//fg/MGifv7IU+T89hkdvpiv5P0qk7x6aQvk/VsKXzo1Z+T9j4D9+gXD5P3D+5y11h/k/fByQ3Wie+T+JOjiNXLX5P5ZY4DxQzPk/onaI7EPj+T+vlDCcN/r5P7yy2EsrEfo/ydCA+x4o+j/V7iirEj/6P+IM0VoGVvo/7yp5Cvps+j/7SCG67YP6PwhnyWnhmvo/FYVxGdWx+j8ioxnJyMj6Py7BwXi83/o/O99pKLD2+j9I/RHYow37P1QbuoeXJPs/YTliN4s7+z9uVwrnflL7P3p1spZyafs/h5NaRmaA+z+UsQL2WZf7P6HPqqVNrvs/re1SVUHF+z+6C/sENdz7P8cpo7Qo8/s/1EdLZBwK/D/gZfMTECH8P+2Dm8MDOPw/+qFDc/dO/D8GwOsi62X8PxPek9LefPw/IPw7gtKT/D8sGuQxxqr8Pzk4jOG5wfw/RlY0ka3Y/D9SdNxAoe/8P1+ShPCUBv0/bLAsoIgd/T95ztRPfDT9P4XsfP9vS/0/kgolr2Ni/T+fKM1eV3n9P6xGdQ5LkP0/uGQdvj6n/T/FgsVtMr79P9KgbR0m1f0/3r4VzRns/T/r3L18DQP+P/j6ZSwBGv4/BBkO3PQw/j8RN7aL6Ef+Px5VXjvcXv4/KnMG6891/j83ka6aw4z+P0SvVkq3o/4/Uc3++aq6/j9d66apntH+P2oJT1mS6P4/dyf3CIb//j+ERZ+4eRb/P5BjR2htLf8/nYHvF2FE/z+qn5fHVFv/P7a9P3dIcv8/w9vnJjyJ/z/Q+Y/WL6D/P9wXOIYjt/8/6TXgNRfO/z/2U4jlCuX/PwJyMJX++/8/CEhsInkJAEAOV0D68hQAQBRmFNJsIABAG3XoqeYrAEAhhLyBYDcAQCeTkFnaQgBALqJkMVROAEA0sTgJzlkAQDrADOFHZQBAQc/guMFwAEBH3rSQO3wAQE7tiGi1hwBAVPxcQC+TAEBaCzEYqZ4AQGAaBfAiqgBAZynZx5y1AEBtOK2fFsEAQHRHgXeQzABAelZVTwrYAEA=",
          "dtype": "f8"
         },
         "xaxis": "x2",
         "y": {
          "bdata": "wrp6kpQ4fT8vO1kn/CR9P527N7xjEX0/CTwWUcv9fD92vPTlMup8P+M803qa1nw/UL2xDwLDfD+9PZCkaa98Pyq+bjnRm3w/lz5NzjiIfD8EvytjoHR8P3E/CvgHYXw/37/ojG9NfD9LQMch1zl8P7jApbY+Jnw/JUGES6YSfD+SwWLgDf97P/9BQXV163s/bMIfCt3Xez/ZQv6eRMR7P0bD3DOssHs/s0O7yBOdez8gxJlde4l7P41EePLidXs/+sRWh0piez9nRTUcsk57P9TFE7EZO3s/QUbyRYEnez+uxtDa6BN7PxtHr29QAHs/iMeNBLjsej/1R2yZH9l6P2LISi6HxXo/z0gpw+6xej88yQdYVp56P6lJ5uy9ino/FcrEgSV3ej+DSqMWjWN6P/DKgav0T3o/XUtgQFw8ej/Kyz7Vwyh6PzdMHWorFXo/pMz7/pIBej8RTdqT+u15P37NuChi2nk/602XvcnGeT9YznVSMbN5P8VOVOeYn3k/Ms8yfACMeT+fTxERaHh5PwzQ76XPZHk/eVDOOjdReT/m0KzPnj15P1JRi2QGKnk/wNFp+W0WeT8tUkiO1QJ5P5nSJiM973g/B1MFuKTbeD900+NMDMh4P+BTwuFztHg/TtSgdtugeD+7VH8LQ414PyjVXaCqeXg/lVU8NRJmeD8C1hrKeVJ4P29W+V7hPng/29bX80greD9JV7aIsBd4P7bXlB0YBHg/Ilhzsn/wdz+P2FFH59x3P/1YMNxOyXc/atkOcba1dz/WWe0FHqJ3P0Tay5qFjnc/sVqqL+16dz8d24jEVGd3P4tbZ1m8U3c/+NtF7iNAdz9kXCSDiyx3P9LcAhjzGHc/Pl3hrFoFdz+s3b9BwvF2PxlentYp3nY/hd58a5HKdj/zXlsA+bZ2P2DfOZVgo3Y/zF8YKsiPdj864Pa+L3x2P6dg1VOXaHY/E+Gz6P5Udj+BYZJ9ZkF2P+3hcBLOLXY/WmJPpzUadj/I4i08nQZ2PzVjDNEE83U/oePqZWzfdT8PZMn608t1P3vkp487uHU/6GSGJKOkdT8=",
          "dtype": "f8"
         },
         "yaxis": "y2"
        },
        {
         "legendgroup": "France",
         "marker": {
          "opacity": 0.6,
          "size": 8
         },
         "mode": "markers",
         "name": "BI - France",
         "showlegend": false,
         "type": "scatter",
         "visible": false,
         "x": {
          "bdata": "z9Ii1PCZJkC344ZiJuclQGhLI3+ZGSdAvbdTNTpWJEAj/mfLTJknQFzehn0hhyVA6NKQPUc9J0ArMD0t980mQBZrnWc56SRAgXRQ49lCKEDFNkFz3JQkQGblU914SCZA",
          "dtype": "f8"
         },
         "xaxis": "x3",
         "y": {
          "bdata": "aKje0o5Sfz/2oTGwsO58P+9QDM79+Xs/nM6jV//0dD9VVa2v7X5/P1FeQ2mr/Xw/U4WBEzvOgD/TeX7uIEqAP+Kk7gdgW3A/Zsdz5XGccT+kJtj1U8VxP3RLnIrR6HE/",
          "dtype": "f8"
         },
         "yaxis": "y3"
        },
        {
         "legendgroup": "France",
         "line": {
          "color": "red",
          "width": 2
         },
         "mode": "lines",
         "showlegend": false,
         "type": "scatter",
         "visible": false,
         "x": {
          "bdata": "vbdTNTpWJEANAvQFYGAkQFxMlNaFaiRArJY0p6t0JED74NR30X4kQEsrdUj3iCRAmnUVGR2TJEDqv7XpQp0kQDkKVrpopyRAiVT2io6xJEDZnpZbtLskQCjpNizaxSRAeDPX/P/PJEDHfXfNJdokQBfIF55L5CRAZhK4bnHuJEC2XFg/l/gkQAWn+A+9AiVAVfGY4OIMJUClOzmxCBclQPSF2YEuISVARNB5UlQrJUCTGhojejUlQONkuvOfPyVAMq9axMVJJUCC+fqU61MlQNFDm2URXiVAIY47NjdoJUBw2NsGXXIlQMAifNeCfCVAEG0cqKiGJUBft7x4zpAlQK8BXUn0miVA/kv9GRqlJUBOlp3qP68lQJ3gPbtluSVA7Srei4vDJUA8dX5csc0lQIy/Hi3X1yVA3Am//fzhJUArVF/OIuwlQHue/55I9iVAyuifb24AJkAaM0BAlAomQGl94BC6FCZAuceA4d8eJkAIEiGyBSkmQFhcwYIrMyZAqKZhU1E9JkD38AEkd0cmQEc7ovScUSZAloVCxcJbJkDmz+KV6GUmQDUag2YOcCZAhWQjNzR6JkDUrsMHWoQmQCT5Y9h/jiZAdEMEqaWYJkDDjaR5y6ImQBPYRErxrCZAYiLlGhe3JkCybIXrPMEmQAG3JbxiyyZAUQHGjIjVJkCgS2Zdrt8mQPCVBi7U6SZAQOCm/vnzJkCPKkfPH/4mQN90559FCCdALr+HcGsSJ0B+CShBkRwnQM1TyBG3JidAHZ5o4twwJ0Bs6AizAjsnQLwyqYMoRSdADH1JVE5PJ0Bbx+kkdFknQKsRivWZYydA+lsqxr9tJ0BKpsqW5XcnQJnwamcLgidA6ToLODGMJ0A4hasIV5YnQIjPS9l8oCdA2BnsqaKqJ0AnZIx6yLQnQHeuLEvuvidAxvjMGxTJJ0AWQ23sOdMnQGWNDb1f3SdAtdetjYXnJ0AEIk5eq/EnQFRs7i7R+ydApLaO//YFKEDzAC/QHBAoQENLz6BCGihAkpVvcWgkKEDi3w9Cji4oQDEqsBK0OChAgXRQ49lCKEA=",
          "dtype": "f8"
         },
         "xaxis": "x3",
         "y": {
          "bdata": "daDhhdoZdT9Z29yz0jB1PzkW2OHKR3U/G1HTD8NedT/7i849u3V1P93GyWuzjHU/vQHFmaujdT+hPMDHo7p1P4F3u/Wb0XU/Y7K2I5TodT9F7bFRjP91PycorX+EFnY/CWOorXwtdj/pnaPbdER2P8vYngltW3Y/qxOaN2Vydj+PTpVlXYl2P2+JkJNVoHY/UcSLwU23dj8z/4bvRc52PxM6gh0+5XY/93R9Szb8dj/Xr3h5LhN3P7nqc6cmKnc/mSVv1R5Bdz97YGoDF1h3P1ubZTEPb3c/P9ZgXweGdz8fEVyN/5x3PwFMV7v3s3c/44ZS6e/Kdz/DwU0X6OF3P6f8SEXg+Hc/hzdEc9gPeD9pcj+h0CZ4P0mtOs/IPXg/K+g1/cBUeD8NIzEruWt4P+9dLFmxgng/0Zgnh6mZeD+x0yK1obB4P5MOHuOZx3g/dUkZEZLeeD9XhBQ/ivV4Pze/D22CDHk/GfoKm3ojeT/5NAbJcjp5P91vAfdqUXk/v6r8JGNoeT+f5fdSW395P4Eg84BTlnk/YVvurkuteT9FluncQ8R5PyXR5Ao823k/BwzgODTyeT/nRttmLAl6P8mB1pQkIHo/rbzRwhw3ej+N98zwFE56P28yyB4NZXo/T23DTAV8ej8xqL56/ZJ6PxPjuaj1qXo/9R211u3Aej/VWLAE5td6P7eTqzLe7no/mc6mYNYFez97CaKOzhx7P11EnbzGM3s/PX+Y6r5Kez8fupMYt2F7P//0jkaveHs/4y+KdKePez/DaoWin6Z7P6WlgNCXvXs/h+B7/o/Uez9nG3csiOt7P0tWclqAAnw/K5FtiHgZfD8NzGi2cDB8P+0GZORoR3w/z0FfEmFefD+xfFpAWXV8P5O3VW5RjHw/dfJQnEmjfD9VLUzKQbp8PzdoR/g50Xw/GaNCJjLofD/73T1UKv98P9sYOYIiFn0/vVM0sBotfT+dji/eEkR9P4HJKgwLW30/YwQmOgNyfT9DPyFo+4h9PyV6HJbzn30/BbUXxOu2fT/p7xLy4819P8kqDiDc5H0/q2UJTtT7fT8=",
          "dtype": "f8"
         },
         "yaxis": "y3"
        },
        {
         "legendgroup": "France",
         "marker": {
          "opacity": 0.6,
          "size": 8
         },
         "mode": "markers",
         "name": "Hf - France",
         "showlegend": false,
         "type": "scatter",
         "visible": false,
         "x": {
          "bdata": "ktu6pYJD4T/WQmgqiGvfP3w3SSuoKN8/JkEpwmOB4j9z07/4AwPdP/NMl4qYk90/wmmstVcX4D8QWWNNiQnaP48yb/ecIuA/ab7SRDNV4D9GJioV1pbfPy9O7TRUg+I/",
          "dtype": "f8"
         },
         "xaxis": "x4",
         "y": {
          "bdata": "aKje0o5Sfz/2oTGwsO58P+9QDM79+Xs/nM6jV//0dD9VVa2v7X5/P1FeQ2mr/Xw/U4WBEzvOgD/TeX7uIEqAP+Kk7gdgW3A/Zsdz5XGccT+kJtj1U8VxP3RLnIrR6HE/",
          "dtype": "f8"
         },
         "yaxis": "y4"
        },
        {
         "legendgroup": "France",
         "line": {
          "color": "red",
          "width": 2
         },
         "mode": "lines",
         "showlegend": false,
         "type": "scatter",
         "visible": false,
         "x": {
          "bdata": "EFljTYkJ2j86SgKj8yXaP2Q7ofhdQto/jixATshe2j+5Hd+jMnvaP+MOfvmcl9o/DQAdTwe02j838bukcdDaP2HiWvrb7No/i9P5T0YJ2z+2xJilsCXbP+C1N/saQts/CqfWUIVe2z80mHWm73rbP16JFPxZl9s/iHqzUcSz2z+za1KnLtDbP91c8fyY7Ns/B06QUgMJ3D8xPy+obSXcP1swzv3XQdw/hSFtU0Je3D+wEgyprHrcP9oDq/4Wl9w/BPVJVIGz3D8u5uip68/cP1jXh/9V7Nw/gsgmVcAI3T+sucWqKiXdP9eqZACVQd0/AZwDVv9d3T8rjaKraXrdP1V+QQHUlt0/f2/gVj6z3T+qYH+sqM/dP9RRHgIT7N0//kK9V30I3j8oNFyt5yTeP1Il+wJSQd4/fBaaWLxd3j+mBzmuJnreP9D41wORlt4/++l2Wfuy3j8l2xWvZc/eP0/MtATQ694/eb1TWjoI3z+jrvKvpCTfP86fkQUPQd8/+JAwW3ld3z8igs+w43nfP0xzbgZOlt8/dmQNXLiy3z+gVayxIs/fP8pGSweN698/+ht1rvsD4D+PlETZMBLgPyQNFARmIOA/uoXjLpsu4D9P/rJZ0DzgP+R2goQFS+A/ee9RrzpZ4D8OaCHab2fgP6Pg8ASldeA/OFnAL9qD4D/N0Y9aD5LgP2JKX4VEoOA/98IusHmu4D+MO/7arrzgPyK0zQXkyuA/tiydMBnZ4D9MpWxbTufgP+EdPIaD9eA/dpYLsbgD4T8LD9vb7RHhP6CHqgYjIOE/NQB6MVgu4T/KeElcjTzhP1/xGIfCSuE/9GnosfdY4T+J4rfcLGfhPx5bhwdideE/tNNWMpeD4T9ITCZdzJHhP97E9YcBoOE/cz3Fsjau4T8ItpTda7zhP50uZAihyuE/MqczM9bY4T/HHwNeC+fhP1yY0ohA9eE/8RCis3UD4j+GiXHeqhHiPxsCQQngH+I/sHoQNBUu4j9G899eSjziP9prr4l/SuI/cOR+tLRY4j8FXU7f6WbiP5rVHQofdeI/L07tNFSD4j8=",
          "dtype": "f8"
         },
         "xaxis": "x4",
         "y": {
          "bdata": "bu7lRUAXgD9oT0n9VgeAP8ZgWWnb7n8/uyIg2AjPfz+v5OZGNq9/P6SmrbVjj38/mWh0JJFvfz+NKjuTvk9/P4LsAQLsL38/d67IcBkQfz9rcI/fRvB+P2AyVk500H4/VfQcvaGwfj9KtuMrz5B+Pz94qpr8cH4/NDpxCSpRfj8o/Dd4VzF+Px2+/uaEEX4/EoDFVbLxfT8HQozE39F9P/wDUzMNsn0/8cUZojqSfT/lh+AQaHJ9P9pJp3+VUn0/zgtu7sIyfT/EzTRd8BJ9P7iP+8sd83w/rlHCOkvTfD+iE4mpeLN8P5bVTximk3w/jJcWh9NzfD+AWd31AFR8P3YbpGQuNHw/at1q01sUfD9enzFCifR7P1Rh+LC21Hs/SCO/H+S0ez8+5YWOEZV7PzKnTP0+dXs/KGkTbGxVez8cK9ramTV7PxLtoEnHFXs/BK9nuPT1ej/6cC4nItZ6P+4y9ZVPtno/5PS7BH2Wej/YtoJzqnZ6P8x4SeLXVno/wjoQUQU3ej+2/Na/Mhd6P6y+nS5g93k/oIBknY3XeT+WQisMu7d5P4oE8nrol3k/gMa46RV4eT90iH9YQ1h5P2pKRsdwOHk/XAwNNp4YeT9SztOky/h4P0aQmhP52Hg/PFJhgia5eD8wFCjxU5l4PybW7l+BeXg/Gpi1zq5ZeD8QWnw93Dl4PwQcQ6wJGng/+N0JGzf6dz/un9CJZNp3P+Bhl/iRunc/2CNeZ7+adz/K5STW7Hp3P8Cn60QaW3c/tGmys0c7dz+qK3kidRt3P57tP5Gi+3Y/lK8GANDbdj+Icc1u/bt2P34zlN0qnHY/cvVaTFh8dj9otyG7hVx2P1x56CmzPHY/UDuvmOAcdj9G/XUHDv11Pzq/PHY73XU/LoED5Wi9dT8kQ8pTlp11PxgFkcLDfXU/DMdXMfFddT8CiR6gHj51P/ZK5Q5MHnU/7AysfXn+dD/gznLspt50P9aQOVvUvnQ/ylIAygGfdD++FMc4L390P7TWjadcX3Q/qJhUFoo/dD+cWhuFtx90P5Ic4vPk/3M/ht6oYhLgcz8=",
          "dtype": "f8"
         },
         "yaxis": "y4"
        },
        {
         "legendgroup": "France",
         "marker": {
          "opacity": 0.6,
          "size": 8
         },
         "mode": "markers",
         "name": "NDSI - France",
         "showlegend": false,
         "type": "scatter",
         "visible": false,
         "x": {
          "bdata": "CTCvmEzI5r/mFLwYQUbov2FGkLeeEOm/hRmnAyH35b9VVQ9AUsXpv7iP4AbhNum/pngiBjbr578f2vObOuHqv355bOVR4ua/dTNo3fOW5r8/h8xvKCPnv9qxgpjgy+O/",
          "dtype": "f8"
         },
         "xaxis": "x5",
         "y": {
          "bdata": "aKje0o5Sfz/2oTGwsO58P+9QDM79+Xs/nM6jV//0dD9VVa2v7X5/P1FeQ2mr/Xw/U4WBEzvOgD/TeX7uIEqAP+Kk7gdgW3A/Zsdz5XGccT+kJtj1U8VxP3RLnIrR6HE/",
          "dtype": "f8"
         },
         "yaxis": "y5"
        },
        {
         "legendgroup": "France",
         "line": {
          "color": "red",
          "width": 2
         },
         "mode": "lines",
         "showlegend": false,
         "type": "scatter",
         "visible": false,
         "x": {
          "bdata": "H9rzmzrh6r/GF9GJ6c7qv25VrneYvOq/FZOLZUeq6r+90GhT9pfqv2QORkGlheq/C0wjL1Rz6r+ziQAdA2Hqv1rH3QqyTuq/AQW7+GA86r+pQpjmDyrqv1CAddS+F+q/+L1Swm0F6r+f+y+wHPPpv0Y5DZ7L4Om/7nbqi3rO6b+VtMd5KbzpvzzypGfYqem/5C+CVYeX6b+LbV9DNoXpvzOrPDHlcum/2ugZH5Rg6b+BJvcMQ07pvylk1PrxO+m/0KGx6KAp6b94347WTxfpvx8dbMT+BOm/xlpJsq3y6L9umCagXODovxXWA44Lzui/vBPhe7q76L9kUb5paanovwuPm1cYl+i/s8x4RceE6L9aClYzdnLovwFIMyElYOi/qYUQD9RN6L9Qw+38gjvov/gAy+oxKei/nz6o2OAW6L9GfIXGjwTov+65YrQ+8ue/lfc/ou3f5788NR2QnM3nv+Ry+n1Lu+e/i7DXa/qo578z7rRZqZbnv9orkkdYhOe/gWlvNQdy578pp0wjtl/nv9DkKRFlTee/eCIH/xM7578fYOTswijnv8adwdpxFue/btueyCAE578VGXy2z/Hmv7xWWaR+3+a/ZJQ2ki3N5r8L0hOA3Lrmv7IP8W2LqOa/Wk3OWzqW5r8Bi6tJ6YPmv6nIiDeYcea/UAZmJUdf5r/4Q0MT9kzmv5+BIAGlOua/Rr/97lMo5r/u/NrcAhbmv5U6uMqxA+a/PHiVuGDx5b/ktXKmD9/lv4vzT5S+zOW/MjEtgm265b/abgpwHKjlv4Gs513LleW/KerES3qD5b/QJ6I5KXHlv3hlfyfYXuW/H6NcFYdM5b/G4DkDNjrlv24eF/HkJ+W/FVz03pMV5b+8mdHMQgPlv2TXrrrx8OS/CxWMqKDe5L+yUmmWT8zkv1qQRoT+ueS/Ac4jcq2n5L+pCwFgXJXkv1BJ3k0Lg+S/+Ia7O7pw5L+fxJgpaV7kv0YCdhcYTOS/7j9TBcc55L+VfTDzdSfkvzy7DeEkFeS/5PjqztMC5L+LNsi8gvDjvzJ0paox3uO/2rGCmODL478=",
          "dtype": "f8"
         },
         "xaxis": "x5",
         "y": {
          "bdata": "NJQFP1GygD8UrCc1ipuAP/bDSSvDhIA/1ttrIfxtgD+2840XNVeAP5YLsA1uQIA/eCPSA6cpgD9YO/T53xKAP3CmLOAx+H8/MNZwzKPKfz/0BbW4FZ1/P7Q1+aSHb38/eGU9kflBfz84lYF9axR/P/jExWnd5n4/vPQJVk+5fj98JE5CwYt+PzxUki4zXn4//oPWGqUwfj/AsxoHFwN+P4LjXvOI1X0/QhOj3/qnfT8CQ+fLbHp9P8ZyK7jeTH0/hqJvpFAffT9I0rOQwvF8PwoC+Hw0xHw/yjE8aaaWfD+MYYBVGGl8P0yRxEGKO3w/DsEILvwNfD/Q8EwabuB7P5AgkQbgsns/VFDV8lGFez8UgBnfw1d7P9SvXcs1Kns/lt+ht6f8ej9YD+ajGc96Pxo/KpCLoXo/2m5ufP1zej+anrJob0Z6P17O9lThGHo/Hv46QVPreT/eLX8txb15P6Jdwxk3kHk/Yo0HBqlieT8kvUvyGjV5P+Tsj96MB3k/phzUyv7ZeD9oTBi3cKx4Pyh8XKPifng/7Kugj1RReD+s2+R7xiN4P2wLKWg49nc/LjttVKrIdz/warFAHJt3P7Ca9SyObXc/cso5GQBAdz8y+n0FchJ3P/QpwvHj5HY/tlkG3lW3dj92iUrKx4l2Pzq5jrY5XHY/+ujSoqsudj+8GBePHQF2P3xIW3uP03U/PnifZwGmdT8AqONTc3h1P8DXJ0DlSnU/gAdsLFcddT9EN7AYye90PwRn9AQ7wnQ/xJY48ayUdD+IxnzdHmd0P0j2wMmQOXQ/CiYFtgIMdD/KVUmidN5zP46FjY7msHM/TrXReliDcz8O5RVnylVzP9IUWlM8KHM/kkSeP676cj9SdOIrIM1yPxSkJhiSn3I/1tNqBARycj+WA6/wdURyP1gz89znFnI/GGM3yVnpcT/cknu1y7txP5zCv6E9jnE/XvIDjq9gcT8gIkh6ITNxP+BRjGaTBXE/ooHQUgXYcD9isRQ/d6pwPyThWCvpfHA/5hCdF1tPcD+mQOEDzSFwP8zgSuB96G8/VEDTuGGNbz8=",
          "dtype": "f8"
         },
         "yaxis": "y5"
        },
        {
         "legendgroup": "France",
         "marker": {
          "opacity": 0.6,
          "size": 8
         },
         "mode": "markers",
         "name": "EVNspCount - France",
         "showlegend": false,
         "type": "scatter",
         "visible": false,
         "x": {
          "bdata": "6FkZdH72wz8JY5F0eX7CP6HnRe49m8U/C9py8AZgwD+8AgssoD/JPy3E2taDlsQ/YvhGFJj8xz/h2QFdSu/GPxlx+H3Mf8M/hdMSrWDRwz8oULkQPrXDP/xFW+amGMQ/",
          "dtype": "f8"
         },
         "xaxis": "x6",
         "y": {
          "bdata": "aKje0o5Sfz/2oTGwsO58P+9QDM79+Xs/nM6jV//0dD9VVa2v7X5/P1FeQ2mr/Xw/U4WBEzvOgD/TeX7uIEqAP+Kk7gdgW3A/Zsdz5XGccT+kJtj1U8VxP3RLnIrR6HE/",
          "dtype": "f8"
         },
         "yaxis": "y6"
        },
        {
         "legendgroup": "France",
         "line": {
          "color": "red",
          "width": 2
         },
         "mode": "lines",
         "showlegend": false,
         "type": "scatter",
         "visible": false,
         "x": {
          "bdata": "C9py8AZgwD/M5M74+HbAP43vKgHrjcA/TvqGCd2kwD8QBeMRz7vAP9EPPxrB0sA/khqbIrPpwD9TJfcqpQDBPxQwUzOXF8E/1TqvO4kuwT+WRQtEe0XBP1hQZ0xtXME/GVvDVF9zwT/aZR9dUYrBP5twe2VDocE/XHvXbTW4wT8dhjN2J8/BP96Qj34Z5sE/oJvrhgv9wT9hpkeP/RPCPyKxo5fvKsI/47v/n+FBwj+kxluo01jCP2XRt7DFb8I/JtwTubeGwj/o5m/BqZ3CP6nxy8mbtMI/avwn0o3Lwj8rB4Taf+LCP+wR4OJx+cI/rRw862MQwz9uJ5jzVSfDPzAy9PtHPsM/8TxQBDpVwz+yR6wMLGzDP3NSCBUeg8M/NF1kHRCawz/1Z8AlArHDP7ZyHC70x8M/eH14Nubewz85iNQ+2PXDP/qSMEfKDMQ/u52MT7wjxD98qOhXrjrEPz2zRGCgUcQ//r2gaJJoxD/AyPxwhH/EP4DTWHl2lsQ/Qt60gWitxD8D6RCKWsTEP8TzbJJM28Q/hf7Imj7yxD9GCSWjMAnFPwgUgasiIMU/yB7dsxQ3xT+KKTm8Bk7FP0s0lcT4ZMU/DD/xzOp7xT/NSU3V3JLFP45Uqd3OqcU/UF8F5sDAxT8QamHustfFP9J0vfak7sU/k38Z/5YFxj9UinUHiRzGPxWV0Q97M8Y/1p8tGG1Kxj+YqokgX2HGP1i15ShReMY/GsBBMUOPxj/byp05NabGP5zV+UEnvcY/XeBVShnUxj8e67FSC+vGP+D1DVv9Acc/oABqY+8Yxz9iC8Zr4S/HPyMWInTTRsc/5CB+fMVdxz+lK9qEt3THP2Y2No2pi8c/KEGSlZuixz/oS+6djbnHP6pWSqZ/0Mc/a2GmrnHnxz8sbAK3Y/7HP+12Xr9VFcg/roG6x0csyD9wjBbQOUPIPzCXctgrWsg/8qHO4B1xyD+zrCrpD4jIP3S3hvEBn8g/NcLi+fO1yD/2zD4C5szIP7jXmgrY48g/eOL2Esr6yD867VIbvBHJP/v3riOuKMk/vAILLKA/yT8=",
          "dtype": "f8"
         },
         "xaxis": "x6",
         "y": {
          "bdata": "WP+XKDwucj/8Qub16VRyP6KGNMOXe3I/RsqCkEWicj/sDdFd88hyP5JRHyuh73I/NpVt+E4Wcz/a2LvF/DxzP4AcCpOqY3M/JGBYYFiKcz/Io6YtBrFzP3Dn9Pqz13M/FCtDyGH+cz+4bpGVDyV0P16y32K9S3Q/AvYtMGtydD+oOXz9GJl0P0x9ysrGv3Q/8sAYmHTmdD+YBGdlIg11PzxItTLQM3U/4IsDAH5adT+Gz1HNK4F1PyoToJrZp3U/zlbuZ4fOdT92mjw1NfV1PxreigLjG3Y/viHZz5BCdj9kZSedPml2PwipdWrsj3Y/rOzDN5q2dj9SMBIFSN12P/hzYNL1A3c/nLeun6Mqdz9C+/xsUVF3P+Y+Szr/d3c/ioKZB62edz8wxufUWsV3P9QJNqII7Hc/ek2Eb7YSeD8gkdI8ZDl4P8TUIAoSYHg/ahhv17+GeD8OXL2kba14P7KfC3Ib1Hg/WONZP8n6eD/+JqgMdyF5P6Bq9tkkSHk/SK5Ep9JueT/s8ZJ0gJV5P5A14UEuvHk/NnkvD9zieT/avH3ciQl6P4AAzKk3MHo/JEQad+VWej/Kh2hEk316P3DLthFBpHo/FA8F3+7Kej+4UlOsnPF6P16WoXlKGHs/BNrvRvg+ez+mHT4UpmV7P05hjOFTjHs/8qTargGzez+W6Ch8r9l7Pzwsd0ldAHw/4G/FFgsnfD+GsxPkuE18Pyr3YbFmdHw/0DqwfhSbfD92fv5LwsF8PxrCTBlw6Hw/vgWb5h0PfT9kSemzyzV9PwqNN4F5XH0/rNCFTieDfT9UFNQb1al9P/hXIumC0H0/nJtwtjD3fT9C376D3h1+P+YiDVGMRH4/jGZbHjprfj8wqqnr55F+P9bt97iVuH4/fDFGhkPffj8gdZRT8QV/P8S44iCfLH8/avww7kxTfz8QQH+7+nl/P7KDzYiooH8/WscbVlbHfz/+CmojBO5/P1EnXPhYCoA/JEkD368dgD/2aqrFBjGAP8mMUaxdRIA/m674krRXgD9u0J95C2uAP0HyRmBifoA/ExTuRrmRgD8=",
          "dtype": "f8"
         },
         "yaxis": "y6"
        },
        {
         "legendgroup": "Spain",
         "marker": {
          "opacity": 0.6,
          "size": 8
         },
         "mode": "markers",
         "name": "ACI - Spain",
         "showlegend": false,
         "type": "scatter",
         "visible": false,
         "x": {
          "bdata": "Gqfz6F/Ec0CamZlhqdBzQCd2YgecSnNArZrMGok9c0BrECZ7ZBpzQAAAgAS8BXNA0OfzmfCuc0C+zV/RmSNzQJ7YiV04kHNAR4cmqWiEc0By189WX5JzQMoIOFXDcnNA3OaTNdQoc0Acx3EEyzVzQB1cuZjPGHNA6iym084Rc0BBpw30IBZzQEyOKkBDI3NAiPV2z2lmc0CN3y4daBJzQKv1VckOGnNAGHqhN/Mec0BAUjD5tlFzQJUgT9mzK3NAdoMpjrYuc0AB/QUU9ohzQH22uSALQXNANDHAXhwlc0DWDaZYt2xzQLfSrHGQpXNAd9ppJ1ooc0BxPQrnKiV0QM0Pi2RrS3NAshVBg1kvc0AQ1P4Z1KlzQDTUWHD/V3NAu8SsFXlUc0AAAEDCYoJzQE0EcmUx/3NA",
          "dtype": "f8"
         },
         "xaxis": "x",
         "y": {
          "bdata": "SJhxZut0eD9mZma6F412PwmMwPrK1nY/FxMr+C7mfz9udDxBo3V7PwAAYD6ZzHs/uVwu8VqIdj+jiEPh1u14P9/yLY+9w3Q/L9sAz0ycez/aYmUsJSp7P0PLr/j1bHs/gXkK4bmSgT85juMSkX5+P8cgDmPn5nE/fgT3Iag7dD+CThu+pbV0P5ka2GcJ63g/vd2zf92NdD9TT8ZSS017Pz4bBn9TcHE/O7ET9QZHfT+pPC0gJ3J6P1100ccP0n4/PusGP2Wjfj+ZzmI2zpN6P2N+LGg0OH0/T31RfDrJez88/REZxexzP2bK0c0Zb3Q/ccUVb5G2dj/D9Sh8YtlzPzS1XF6h9HI/ZCuCQJTTcj+omhh+z4V3P8kG60HTwXg/btu2eUrdeT8AAPDAcQx9PzYRyAVQ1no/",
          "dtype": "f8"
         },
         "yaxis": "y"
        },
        {
         "legendgroup": "Spain",
         "line": {
          "color": "red",
          "width": 2
         },
         "mode": "lines",
         "showlegend": false,
         "type": "scatter",
         "visible": false,
         "x": {
          "bdata": "AACABLwFc0CcS29HowhzQDmXXoqKC3NA1eJNzXEOc0BxLj0QWRFzQA16LFNAFHNAqsUblicXc0BGEQvZDhpzQOJc+hv2HHNAf6jpXt0fc0Ab9NihxCJzQLc/yOSrJXNAVIu3J5Moc0Dw1qZqeitzQIwilq1hLnNAKG6F8Egxc0DFuXQzMDRzQGEFZHYXN3NA/VBTuf45c0CanEL85TxzQDboMT/NP3NA0jMhgrRCc0BufxDFm0VzQAvL/weDSHNApxbvSmpLc0BDYt6NUU5zQOCtzdA4UXNAfPm8EyBUc0AYRaxWB1dzQLSQm5nuWXNAUdyK3NVcc0DtJ3ofvV9zQIlzaWKkYnNAJr9YpYtlc0DCCkjocmhzQF5WNytaa3NA+6EmbkFuc0CX7RWxKHFzQDM5BfQPdHNAz4T0Nvd2c0Bs0ON53nlzQAgc07zFfHNApGfC/6x/c0BBs7FClIJzQN3+oIV7hXNAeUqQyGKIc0AVln8LSotzQLLhbk4xjnNATi1ekRiRc0DqeE3U/5NzQIfEPBfnlnNAIxAsWs6Zc0C/WxudtZxzQFynCuCcn3NA+PL5IoSic0CUPulla6VzQDCK2KhSqHNAzdXH6zmrc0BpIbcuIa5zQAVtpnEIsXNAoriVtO+zc0A+BIX31rZzQNpPdDq+uXNAdptjfaW8c0AT51LAjL9zQK8yQgN0wnNAS34xRlvFc0DoySCJQshzQIQVEMwpy3NAIGH/DhHOc0C8rO5R+NBzQFn43ZTf03NA9UPN18bWc0CRj7wartlzQC7bq12V3HNAyiaboHzfc0BmcorjY+JzQAO+eSZL5XNAnwlpaTLoc0A7VVisGetzQNegR+8A7nNAdOw2Mujwc0AQOCZ1z/NzQKyDFbi29nNASc8E+535c0DlGvQ9hfxzQIFm44Bs/3NAHrLSw1MCdEC6/cEGOwV0QFZJsUkiCHRA8pSgjAkLdECP4I/P8A10QCssfxLYEHRAx3duVb8TdEBkw12YphZ0QAAPTduNGXRAnFo8HnUcdEA4pithXB90QNXxGqRDInRAcT0K5yoldEA=",
          "dtype": "f8"
         },
         "xaxis": "x",
         "y": {
          "bdata": "Pq6jBvbieT84DN049tp5Py5qFmv20nk/JshPnfbKeT8eJonP9sJ5PxiEwgH3unk/DuL7M/eyeT8GQDVm96p5PwCebpj3onk/9vunyveaeT/uWeH895J5P+a3Gi/4ink/3BVUYfiCeT/Wc42T+Hp5P87RxsX4cnk/xi8A+PhqeT++jTkq+WJ5P7brclz5Wnk/rkmsjvlSeT+kp+XA+Up5P54FH/P5Qnk/lmNYJfo6eT+OwZFX+jJ5P4Qfy4n6Knk/fn0EvPoieT922z3u+hp5P2w5dyD7Enk/ZpewUvsKeT9e9emE+wJ5P1ZTI7f7+ng/TLFc6fvyeD9GD5Yb/Op4Pz5tz0384ng/NMsIgPzaeD8uKUKy/NJ4PyaHe+T8yng/HOW0Fv3CeD8UQ+5I/bp4Pw6hJ3v9sng/Bv9grf2qeD/8XJrf/aJ4P/a60xH+mng/7hgNRP6SeD/kdkZ2/op4P9zUf6j+gng/1jK52v56eD/OkPIM/3J4P8TuKz//ang/vkxlcf9ieD+2qp6j/1p4P6wI2NX/Ung/pGYRCABLeD+exEo6AEN4P5QihGwAO3g/jIC9ngAzeD+G3vbQACt4P348MAMBI3g/dJppNQEbeD9s+KJnARN4P2ZW3JkBC3g/XLQVzAEDeD9UEk/+Aft3P05wiDAC83c/Rs7BYgLrdz88LPuUAuN3PzSKNMcC23c/Luht+QLTdz8kRqcrA8t3Pxyk4F0Dw3c/FgIakAO7dz8OYFPCA7N3PwS+jPQDq3c//BvGJgSjdz/2ef9YBJt3P+zXOIsEk3c/5DVyvQSLdz/ck6vvBIN3P9Lx5CEFe3c/zE8eVAVzdz/ErVeGBWt3P74LkbgFY3c/tGnK6gVbdz+sxwMdBlN3P6QlPU8GS3c/moN2gQZDdz+U4a+zBjt3P4w/6eUGM3c/gp0iGAcrdz98+1tKByN3P3RZlXwHG3c/bLfOrgcTdz9iFQjhBwt3P1xzQRMIA3c/VNF6RQj7dj9KL7R3CPN2P0SN7akI63Y/POsm3Ajjdj80SWAOCdt2PyqnmUAJ03Y/JAXTcgnLdj8=",
          "dtype": "f8"
         },
         "yaxis": "y"
        },
        {
         "legendgroup": "Spain",
         "marker": {
          "opacity": 0.6,
          "size": 8
         },
         "mode": "markers",
         "name": "ADI - Spain",
         "showlegend": false,
         "type": "scatter",
         "visible": false,
         "x": {
          "bdata": "XyBuAOpN9T+1PtuOIF31P5kS0Vg+kfU/Z3yh53xZ9z+rHZ3J8Jn4P/ffVDCSv/w/iNlq1dJJ9T/vrwM+1AH9P+fLFRIDMeo/HnfhuGFy9T88eZiz31D0P8DXokamN/Y/6ACGAykQAkDUPL7FC0gCQDdVRq/wCwBAP606+dej9z/S0c9dpsv9P/bWbjkYcv8/Ge56H7LC+D9hgHh3ra4AQOewR/O8ef4/OnvsAnAPAUDEBYHFekj1P8w8nTTqW/s/dml8Nr7m/j/Cot4kT/rzP/ynEMPOvPU/l8uzf03y/z/je1uug9H0PwMy95Fueuo/tHDwWnlU+D9Wd8UYNC3eP3G0uhrME/I//T83aKOq+D+hUjaCL9XtP5jYS2znJPA/PyR7Ngbc7T/h7Wa6rGf5P8+pJHb00uk/",
          "dtype": "f8"
         },
         "xaxis": "x2",
         "y": {
          "bdata": "SJhxZut0eD9mZma6F412PwmMwPrK1nY/FxMr+C7mfz9udDxBo3V7PwAAYD6ZzHs/uVwu8VqIdj+jiEPh1u14P9/yLY+9w3Q/L9sAz0ycez/aYmUsJSp7P0PLr/j1bHs/gXkK4bmSgT85juMSkX5+P8cgDmPn5nE/fgT3Iag7dD+CThu+pbV0P5ka2GcJ63g/vd2zf92NdD9TT8ZSS017Pz4bBn9TcHE/O7ET9QZHfT+pPC0gJ3J6P1100ccP0n4/PusGP2Wjfj+ZzmI2zpN6P2N+LGg0OH0/T31RfDrJez88/REZxexzP2bK0c0Zb3Q/ccUVb5G2dj/D9Sh8YtlzPzS1XF6h9HI/ZCuCQJTTcj+omhh+z4V3P8kG60HTwXg/btu2eUrdeT8AAPDAcQx9PzYRyAVQ1no/",
          "dtype": "f8"
         },
         "yaxis": "y2"
        },
        {
         "legendgroup": "Spain",
         "line": {
          "color": "red",
          "width": 2
         },
         "mode": "lines",
         "showlegend": false,
         "type": "scatter",
         "visible": false,
         "x": {
          "bdata": "VnfFGDQt3j81y0lPW1nfP4oP50LBQuA/ejkp3tTY4D9pY2t56G7hP1mNrRT8BOI/SLfvrw+b4j844TFLIzHjPygLdOY2x+M/FzW2gUpd5D8GX/gcXvPkP/aIOrhxieU/5rJ8U4Uf5j/V3L7umLXmP8UGAYqsS+c/tDBDJcDh5z+kWoXA03foP5SEx1vnDek/g64J9/qj6T9y2EuSDjrqP2ICji0i0Oo/UizQyDVm6z9CVhJkSfzrPzGAVP9ckuw/IKqWmnAo7T8Q1Ng1hL7tPwD+GtGXVO4/7yddbKvq7j/fUZ8Hv4DvP+e9cFFpC/A/39IRH3NW8D/W57LsfKHwP878U7qG7PA/xhH1h5A38T++JpZVmoLxP7Y7NyOkzfE/rlDY8K0Y8j+mZXm+t2PyP516GozBrvI/lY+7Wcv58j+MpFwn1UTzP4S5/fTej/M/fM6ewuja8z904z+Q8iX0P2z44F38cPQ/ZA2CKwa89D9cIiP5Dwf1P1M3xMYZUvU/S0xllCOd9T9DYQZiLej1Pzp2py83M/Y/MotI/UB+9j8qoOnKSsn2PyK1iphUFPc/GsorZl5f9z8S38wzaKr3Pwr0bQFy9fc/AgkPz3tA+D/4HbCchYv4P/AyUWqP1vg/6EfyN5kh+T/gXJMFo2z5P9hxNNOst/k/0IbVoLYC+j/Im3ZuwE36P8CwFzzKmPo/uMW4CdTj+j+u2lnX3S77P6bv+qTnefs/ngSccvHE+z+WGT1A+w/8P44u3g0FW/w/hkN/2w6m/D9+WCCpGPH8P3ZtwXYiPP0/boJiRCyH/T9klwMSNtL9P1yspN8/Hf4/VMFFrUlo/j9M1uZ6U7P+P0Trh0hd/v4/PAApFmdJ/z80FcrjcJT/Pywqa7F63/8/kh+GP0IVAEANqlYmxzoAQIk0Jw1MYABABb/389CFAECBScjaVasAQP3TmMHa0ABAeV5pqF/2AED16DmP5BsBQHFzCnZpQQFA7f3aXO5mAUBoiKtDc4wBQOQSfCr4sQFAYJ1MEX3XAUDcJx34Af0BQFiy7d6GIgJA1Dy+xQtIAkA=",
          "dtype": "f8"
         },
         "xaxis": "x2",
         "y": {
          "bdata": "RBJLIYpQdT9P08OqbGF1P1qUPDRPcnU/ZVW1vTGDdT9wFi5HFJR1P3vXptD2pHU/hpgfWtm1dT+SWZjju8Z1P50aEW2e13U/qNuJ9oDodT+znAKAY/l1P75dewlGCnY/yR70kigbdj/U32wcCyx2P9+g5aXtPHY/6mFeL9BNdj/1Ite4sl52PwDkT0KVb3Y/DKXIy3eAdj8WZkFVWpF2PyInut48onY/LegyaB+zdj84qavxAcR2P0NqJHvk1HY/TiudBMfldj9Z7BWOqfZ2P2StjheMB3c/b24HoW4Ydz96L4AqUSl3P4Xw+LMzOnc/kLFxPRZLdz+ccurG+Ft3P6czY1DbbHc/svTb2b19dz+9tVRjoI53P8h2zeyCn3c/0zdGdmWwdz/e+L7/R8F3P+m5N4kq0nc/9HqwEg3jdz//Oymc7/N3Pwr9oSXSBHg/Fr4ar7QVeD8hf5M4lyZ4PyxADMJ5N3g/NwGFS1xIeD9Cwv3UPll4P02Ddl4hang/WETv5wN7eD9jBWhx5ot4P27G4PrInHg/eYdZhKuteD+ESNINjr54P5AJS5dwz3g/m8rDIFPgeD+mizyqNfF4P7FMtTMYAnk/vA0uvfoSeT/HzqZG3SN5P9KPH9C/NHk/3VCYWaJFeT/oERHjhFZ5P/PSiWxnZ3k//pMC9kl4eT8KVXt/LIl5PxUW9AgPmnk/INdskvGqeT8qmOUb1Lt5PzZZXqW2zHk/QRrXLpndeT9M20+4e+55P1ecyEFe/3k/Yl1By0AQej9uHrpUIyF6P3jfMt4FMno/hKCrZ+hCej+OYSTxylN6P5oinXqtZHo/peMVBJB1ej+wpI6NcoZ6P7tlBxdVl3o/xiaAoDeoej/R5/gpGrl6P9yocbP8yXo/6GnqPN/aej/yKmPGwet6P/3r20+k/Ho/CK1U2YYNez8Ubs1iaR57Px8vRuxLL3s/KvC+dS5Aez81sTf/EFF7P0BysIjzYXs/SzMpEtZyez9W9KGbuIN7P2G1GiWblHs/bHaTrn2lez94Nww4YLZ7P4L4hMFCx3s/jrn9SiXYez8=",
          "dtype": "f8"
         },
         "yaxis": "y2"
        },
        {
         "legendgroup": "Spain",
         "marker": {
          "opacity": 0.6,
          "size": 8
         },
         "mode": "markers",
         "name": "BI - Spain",
         "showlegend": false,
         "type": "scatter",
         "visible": false,
         "x": {
          "bdata": "GNhp1fgjKEAk/2qZlTQnQBxRJhOKoCdA73SXiwXEM0BfqUN0MCwtQD/fT81vzC9AVdIhDNdrKkAuU1VvJa0rQE+zfKyitytAv5W2dun4K0B1YaQA+ywrQKPGFKPdbzFA7TUY364hJUBDwbQfwmMmQBc6QwqSLShA4UYe4NmAIkA5aImojFkjQP++TZZeOCVAPMfCM0w9I0DmSfpRHmEkQPbJGwEtyytA5f3+nzIPKkCxuZQnpb4rQLPdmpMMPChAoUSeirWxK0D38mm5ZPouQEKd+DSBJilA4H0EM76EKUCtX0q7E1clQG1Kgr9n4CZAhpsuhXaPJUCJ2wBZVR0tQKMfF9Ux6yZAT3f9ZmesI0DK93is3vkmQPfQtKB5pCZA1H9fOvpOKUAk2/l+9m4qQKx7+W85Ny1A",
          "dtype": "f8"
         },
         "xaxis": "x3",
         "y": {
          "bdata": "SJhxZut0eD9mZma6F412PwmMwPrK1nY/FxMr+C7mfz9udDxBo3V7PwAAYD6ZzHs/uVwu8VqIdj+jiEPh1u14P9/yLY+9w3Q/L9sAz0ycez/aYmUsJSp7P0PLr/j1bHs/gXkK4bmSgT85juMSkX5+P8cgDmPn5nE/fgT3Iag7dD+CThu+pbV0P5ka2GcJ63g/vd2zf92NdD9TT8ZSS017Pz4bBn9TcHE/O7ET9QZHfT+pPC0gJ3J6P1100ccP0n4/PusGP2Wjfj+ZzmI2zpN6P2N+LGg0OH0/T31RfDrJez88/REZxexzP2bK0c0Zb3Q/ccUVb5G2dj/D9Sh8YtlzPzS1XF6h9HI/ZCuCQJTTcj+omhh+z4V3P8kG60HTwXg/btu2eUrdeT8AAPDAcQx9PzYRyAVQ1no/",
          "dtype": "f8"
         },
         "yaxis": "y3"
        },
        {
         "legendgroup": "Spain",
         "line": {
          "color": "red",
          "width": 2
         },
         "mode": "lines",
         "showlegend": false,
         "type": "scatter",
         "visible": false,
         "x": {
          "bdata": "4UYe4NmAIkDeUqIMOrciQNxeJjma7SJA2WqqZfojI0DXdi6SWlojQNSCsr66kCNA0Y426xrHI0DPmroXe/0jQMymPkTbMyRAybLCcDtqJEDHvkadm6AkQMTKysn71iRAwtZO9lsNJUC/4tIivEMlQLzuVk8ceiVAuvrae3ywJUC3Bl+o3OYlQLQS49Q8HSZAsh5nAZ1TJkCvKust/YkmQK02b1pdwCZAqkLzhr32JkCoTnezHS0nQKVa+999YydAomZ/DN6ZJ0CgcgM5PtAnQJ1+h2WeBihAmooLkv48KECYlo++XnMoQJWiE+u+qShAkq6XFx/gKECQuhtEfxYpQI3Gn3DfTClAi9IjnT+DKUCI3qfJn7kpQIbqK/b/7ylAg/avImAmKkCAAjRPwFwqQH4OuHsgkypAexo8qIDJKkB4JsDU4P8qQHYyRAFBNitAcz7ILaFsK0BwSkxaAaMrQG5W0IZh2StAa2JUs8EPLEBobtjfIUYsQGZ6XAyCfCxAZIbgOOKyLEBhkmRlQuksQF6e6JGiHy1AXKpsvgJWLUBZtvDqYowtQFbCdBfDwi1AVM74QyP5LUBR2nxwgy8uQE7mAJ3jZS5ATPKEyUOcLkBJ/gj2o9IuQEYKjSIECS9ARBYRT2Q/L0BCIpV7xHUvQD4uGagkrC9APDqd1ITiL0Ado5CAcgwwQByp0paiJzBAGq8UrdJCMEAZtVbDAl4wQBi7mNkyeTBAFsHa72KUMEAVxxwGk68wQBTNXhzDyjBAEtOgMvPlMEAR2eJIIwExQBDfJF9THDFADuVmdYM3MUAN66iLs1IxQAzx6qHjbTFACvcsuBOJMUAJ/W7OQ6QxQAgDseRzvzFABgnz+qPaMUAFDzUR1PUxQAQVdycEETJAAhu5PTQsMkACIftTZEcyQAAnPWqUYjJA/ix/gMR9MkD+MsGW9JgyQPw4A60ktDJA+j5Fw1TPMkD6RIfZhOoyQPhKye+0BTNA91ALBuUgM0D2Vk0cFTwzQPRcjzJFVzNA82LRSHVyM0DyaBNfpY0zQPBuVXXVqDNA73SXiwXEM0A=",
          "dtype": "f8"
         },
         "xaxis": "x3",
         "y": {
          "bdata": "jNuaWuJ2dj/gxb6buIp2PzSw4tyOnnY/iJoGHmWydj/chCpfO8Z2Py9vTqAR2nY/glly4eftdj/WQ5YivgF3PyouumOUFXc/fhjepGopdz/SAgLmQD13PyXtJScXUXc/eddJaO1kdz/MwW2pw3h3PyCskeqZjHc/dJa1K3Cgdz/IgNlsRrR3Pxtr/a0cyHc/b1Uh7/Lbdz/CP0Uwye93PxYqaXGfA3g/ahSNsnUXeD++/rDzSyt4PxLp1DQiP3g/ZdP4dfhSeD+5vRy3zmZ4PwyoQPikeng/YJJkOXuOeD+0fIh6UaJ4PwhnrLsntng/W1HQ/P3JeD+vO/Q91N14PwImGH+q8Xg/VhA8wIAFeT+q+l8BVxl5P/7kg0ItLXk/Us+ngwNBeT+lucvE2VR5P/mj7wWwaHk/TI4TR4Z8eT+geDeIXJB5P/RiW8kypHk/SE1/Cgm4eT+cN6NL38t5P+8hx4y133k/QgzrzYvzeT+W9g4PYgd6P+rgMlA4G3o/PstWkQ4vej+StXrS5EJ6P+afnhO7Vno/OYrCVJFqej+MdOaVZ356P+BeCtc9kno/NEkuGBSmej+IM1JZ6rl6P9wddprAzXo/MAia25bhej+D8r0cbfV6P9bc4V1DCXs/KscFnxkdez9+sSng7zB7P9KbTSHGRHs/JoZxYpxYez95cJWjcmx7P81aueRIgHs/IEXdJR+Uez90LwFn9ad7P8gZJajLu3s/HARJ6aHPez9w7mwqeON7P8PYkGtO93s/FsO0rCQLfD9qrdjt+h58P76X/C7RMnw/EoIgcKdGfD9mbESxfVp8P7pWaPJTbnw/DEGMMyqCfD9gK7B0AJZ8P7QV1LXWqXw/CAD49qy9fD9c6hs4g9F8P7DUP3lZ5Xw/Ar9jui/5fD9XqYf7BQ19P6qTqzzcIH0//n3PfbI0fT9SaPO+iEh9P6ZSFwBfXH0/+Dw7QTVwfT9OJ1+CC4R9P6ARg8Phl30/9PumBLirfT9I5spFjr99P5zQ7oZk030/8LoSyDrnfT9EpTYJEft9P5aPWkrnDn4/6nl+i70ifj8=",
          "dtype": "f8"
         },
         "yaxis": "y3"
        },
        {
         "legendgroup": "Spain",
         "marker": {
          "opacity": 0.6,
          "size": 8
         },
         "mode": "markers",
         "name": "Hf - Spain",
         "showlegend": false,
         "type": "scatter",
         "visible": false,
         "x": {
          "bdata": "G0dDQdGD3T90xwzW1yXaP4XX6WIzXt0/c/0c5r0z3D/ck0ldJnHbP2A4r2p8p94/D2N91ncI2z/m863sNEbWPxapJcDr1Nc/t/76pLhR2j+QHFC98ljaP2cCw0uAqdk/tafRXhEC5z+aI5FVaaXmP/1VQIQBCeA/Q8ZSq6Fy2j+Tso4ljirhP2VXsTd8WeI/5priJIy63T9xRpi3cV3jP+VYOBDFi98/y/i1mEXh4D/iEn/SlxrdP+Em6+YnkuA/Kiqvpha74T9Cvplw/vPcPxXYL436Kd0/AGby5hht4j+I7fB36tHXP6xIjRIhjdU/DIYwYvZQ2z/NpT+dbvvSP5Za7ZEoqtQ/VN+t7f6k2z/p8x2B9S/XP4uLdBV5stQ/0j96AF6i0z9dvKzZ3nDbP11k9TZahdM/",
          "dtype": "f8"
         },
         "xaxis": "x4",
         "y": {
          "bdata": "SJhxZut0eD9mZma6F412PwmMwPrK1nY/FxMr+C7mfz9udDxBo3V7PwAAYD6ZzHs/uVwu8VqIdj+jiEPh1u14P9/yLY+9w3Q/L9sAz0ycez/aYmUsJSp7P0PLr/j1bHs/gXkK4bmSgT85juMSkX5+P8cgDmPn5nE/fgT3Iag7dD+CThu+pbV0P5ka2GcJ63g/vd2zf92NdD9TT8ZSS017Pz4bBn9TcHE/O7ET9QZHfT+pPC0gJ3J6P1100ccP0n4/PusGP2Wjfj+ZzmI2zpN6P2N+LGg0OH0/T31RfDrJez88/REZxexzP2bK0c0Zb3Q/ccUVb5G2dj/D9Sh8YtlzPzS1XF6h9HI/ZCuCQJTTcj+omhh+z4V3P8kG60HTwXg/btu2eUrdeT8AAPDAcQx9PzYRyAVQ1no/",
          "dtype": "f8"
         },
         "yaxis": "y4"
        },
        {
         "legendgroup": "Spain",
         "line": {
          "color": "red",
          "width": 2
         },
         "mode": "lines",
         "showlegend": false,
         "type": "scatter",
         "visible": false,
         "x": {
          "bdata": "zaU/nW770j+OezuTVkHTP09RN4k+h9M/ECczfybN0z/R/C51DhPUP5LSKmv2WNQ/U6gmYd6e1D8UfiJXxuTUP9RTHk2uKtU/likaQ5Zw1T9W/xU5frbVPxfVES9m/NU/2KoNJU5C1j+ZgAkbNojWP1pWBREeztY/GywBBwYU1z/cAf387VnXP53X+PLVn9c/Xq306L3l1z8fg/DepSvYP+BY7NSNcdg/oS7oynW32D9iBOTAXf3YPyLa37ZFQ9k/5K/brC2J2T+khdeiFc/ZP2Zb05j9FNo/JjHPjuVa2j/nBsuEzaDaP6jcxnq15to/abLCcJ0s2z8qiL5mhXLbP+tdulxtuNs/rDO2UlX+2z9tCbJIPUTcPy7frT4litw/77SpNA3Q3D+wiqUq9RXdP3BgoSDdW90/MjadFsWh3T/yC5kMrefdP7ThlAKVLd4/dLeQ+Hxz3j82jYzuZLneP/ZiiORM/94/tziE2jRF3z94DoDQHIvfPznke8YE0d8//dw7XnYL4D/exzlZai7gP76yN1ReUeA/np01T1J04D9/iDNKRpfgP19zMUU6uuA/QF4vQC7d4D8gSS07IgDhPwE0KzYWI+E/4R4pMQpG4T/CCScs/mjhP6L0JCfyi+E/gt8iIuau4T9jyiAd2tHhP0S1HhjO9OE/JKAcE8IX4j8EixoOtjriP+V1GAmqXeI/xmAWBJ6A4j+mSxT/kaPiP4Y2EvqFxuI/ZyEQ9Xnp4j9IDA7wbQzjPyj3C+thL+M/COIJ5lVS4z/ozAfhSXXjP8m3Bdw9mOM/qqID1zG74z+KjQHSJd7jP2p4/8wZAeQ/S2P9xw0k5D8sTvvCAUfkPww5+b31aeQ/7CP3uOmM5D/NDvWz3a/kP6758q7R0uQ/juTwqcX15D9uz+6kuRjlP0+67J+tO+U/MKXqmqFe5T8QkOiVlYHlP/B65pCJpOU/0GXki33H5T+xUOKGcerlP5I74IFlDeY/cibefFkw5j9SEdx3TVPmPzP82XJBduY/FOfXbTWZ5j/00dVoKbzmP9S802Md3+Y/tafRXhEC5z8=",
          "dtype": "f8"
         },
         "xaxis": "x4",
         "y": {
          "bdata": "JF/UzB3gdT90iUhHRPZ1P8OzvMFqDHY/E94wPJEidj9jCKW2tzh2P7IyGTHeTnY/Al2NqwRldj9ShwEmK3t2P6GxdaBRkXY/8dvpGnindj9ABl6Vnr12P5Aw0g/F03Y/4FpGiuvpdj8vhboEEgB3P3+vLn84Fnc/ztmi+V4sdz8eBBd0hUJ3P24ui+6rWHc/vlj/aNJudz8Ng3Pj+IR3P12t510fm3c/rNdb2EWxdz/8AdBSbMd3P0wsRM2S3Xc/nFa4R7nzdz/rgCzC3wl4PzuroDwGIHg/itUUtyw2eD/a/4gxU0x4Pyoq/at5Yng/eVRxJqB4eD/JfuWgxo54PxipWRvtpHg/aNPNlRO7eD+4/UEQOtF4Pwgotopg53g/V1IqBYf9eD+nfJ5/rRN5P/amEvrTKXk/RtGGdPo/eT+W+/ruIFZ5P+Ylb2lHbHk/NVDj422CeT+EeldelJh5P9Sky9i6rnk/JM8/U+HEeT90+bPNB9t5P8MjKEgu8Xk/Ek6cwlQHej9ieBA9ex16P7KihLehM3o/As34MchJej9S92ys7l96P6Ah4SYVdno/8EtVoTuMej9AdskbYqJ6P5CgPZaIuHo/4MqxEK/Oej8w9SWL1eR6P34fmgX8+no/zkkOgCIRez8edIL6SCd7P26e9nRvPXs/vshq75VTez8M895pvGl7P1wdU+Tif3s/rEfHXgmWez/8cTvZL6x7P0ycr1NWwns/m8YjznzYez/r8JdIo+57PzobDMPJBHw/ikWAPfAafD/ab/S3FjF8PymaaDI9R3w/ecTcrGNdfD/I7lAninN8PxgZxaGwiXw/aEM5HNeffD+4ba2W/bV8PweYIREkzHw/VsKVi0rifD+m7AkGcfh8P/YWfoCXDn0/RkHy+r0kfT+Va2Z15Dp9P+WV2u8KUX0/NcBOajFnfT+E6sLkV319P9QUN19+k30/Iz+r2aSpfT9zaR9Uy799P8OTk87x1X0/Er4HSRjsfT9i6HvDPgJ+P7IS8D1lGH4/Aj1kuIsufj9RZ9gyskR+P6CRTK3YWn4/8LvAJ/9wfj8=",
          "dtype": "f8"
         },
         "yaxis": "y4"
        },
        {
         "legendgroup": "Spain",
         "marker": {
          "opacity": 0.6,
          "size": 8
         },
         "mode": "markers",
         "name": "NDSI - Spain",
         "showlegend": false,
         "type": "scatter",
         "visible": false,
         "x": {
          "bdata": "wCFhxnqN6r+8u7sxS5nqv9mJnSR8AOm/KuHcpzB+47+AzKKUQznmvwAA9AAg9dy/NpvN/jzX6783f4UhYbvtvzVIg3TAP+6/IY5OHGLt6b9/tlglx4Xpvzb3t2g4Ueq/KUolZcKs27+O4zjRVZPav+G98PpyEOi/eQ3lJVmd6b8b6HSrLy7mvyFPCYq6uuW/GMM/X5qV6L/8dqlJdR/kv13bjVDJ+Oe/6IVeGLpX5r8RJ+pDw0LpvxzWvtXzQOa/gyk+P4KG47/6C2heTZPpvwAAAKA7v+m/LtSc7Otw478uV0kvanPsv1UUwqYilu2/xhhjTHm86r/D9SgQQ1Tvv/PDIhV1Ae6/UvflwTTu6b+ataIvm6fsv7A95MLUqO2/gqtoM1hK7r8AAACVSnLqv0Ug12xwee6/",
          "dtype": "f8"
         },
         "xaxis": "x5",
         "y": {
          "bdata": "SJhxZut0eD9mZma6F412PwmMwPrK1nY/FxMr+C7mfz9udDxBo3V7PwAAYD6ZzHs/uVwu8VqIdj+jiEPh1u14P9/yLY+9w3Q/L9sAz0ycez/aYmUsJSp7P0PLr/j1bHs/gXkK4bmSgT85juMSkX5+P8cgDmPn5nE/fgT3Iag7dD+CThu+pbV0P5ka2GcJ63g/vd2zf92NdD9TT8ZSS017Pz4bBn9TcHE/O7ET9QZHfT+pPC0gJ3J6P1100ccP0n4/PusGP2Wjfj+ZzmI2zpN6P2N+LGg0OH0/T31RfDrJez88/REZxexzP2bK0c0Zb3Q/ccUVb5G2dj/D9Sh8YtlzPzS1XF6h9HI/ZCuCQJTTcj+omhh+z4V3P8kG60HTwXg/btu2eUrdeT8AAPDAcQx9PzYRyAVQ1no/",
          "dtype": "f8"
         },
         "yaxis": "y5"
        },
        {
         "legendgroup": "Spain",
         "line": {
          "color": "red",
          "width": 2
         },
         "mode": "lines",
         "showlegend": false,
         "type": "scatter",
         "visible": false,
         "x": {
          "bdata": "w/UoEENU77+2wAAInCXvv6mL2P/09u6/nFaw903I7r+PIYjvppnuv4PsX+f/au6/drc331g87r9pgg/XsQ3uv1xN584K3+2/Txi/xmOw7b9C45a+vIHtvzWubrYVU+2/KHlGrm4k7b8bRB6mx/Xsvw4P9p0gx+y/AtrNlXmY7L/1pKWN0mnsv+hvfYUrO+y/2zpVfYQM7L/OBS113d3rv8HQBG02r+u/tJvcZI+A67+oZrRc6FHrv5oxjFRBI+u/jvxjTJr06r+BxztE88Xqv3SSEzxMl+q/Z13rM6Vo6r9aKMMr/jnqv03zmiNXC+q/QL5yG7Dc6b80iUoTCa7pvyZUIgtif+m/Gh/6ArtQ6b8N6tH6EyLpvwC1qfJs8+i/83+B6sXE6L/mSlniHpbov9kVMdp3Z+i/zOAI0tA46L/Aq+DJKQrov7J2uMGC2+e/pkGQudus57+ZDGixNH7nv4zXP6mNT+e/f6IXoeYg579ybe+YP/Lmv2U4x5CYw+a/WAOfiPGU5r9MznaASmbmvz6ZTnijN+a/MmQmcPwI5r8kL/5nVdrlvxj61V+uq+W/C8WtVwd95b/+j4VPYE7lv/FaXUe5H+W/5CU1PxLx5L/Y8Aw3a8Lkv8q75C7Ek+S/voa8Jh1l5L+wUZQedjbkv6QcbBbPB+S/l+dDDijZ47+KshsGgarjv3198/3Ze+O/cEjL9TJN479kE6Ptix7jv1beeuXk7+K/SqlS3T3B4r88dCrVlpLivzA/As3vY+K/IwraxEg14r8W1bG8oQbivwmgibT61+G//GphrFOp4b/wNTmkrHrhv+IAEZwFTOG/1svok14d4b/IlsCLt+7gv7xhmIMQwOC/ryxwe2mR4L+i90dzwmLgv5XCH2sbNOC/iI33YnQF4L/3sJ61mq3fv91GTqVMUN+/w9z9lP7y3r+qcq2EsJXev5AIXXRiON6/dp4MZBTb3b9cNLxTxn3dv0LKa0N4IN2/KGAbMyrD3L8O9soi3GXcv/SLehKOCNy/2iEqAkCr27/Ct9nx8U3bv6hNieGj8Nq/juM40VWT2r8=",
          "dtype": "f8"
         },
         "xaxis": "x5",
         "y": {
          "bdata": "5lCDsdNodT/7q/sKN4J1PxEHdGSam3U/J2Lsvf20dT89vWQXYc51P1IY3XDE53U/aHNVyicBdj9+zs0jixp2P5QpRn3uM3Y/qoS+1lFNdj/A3zYwtWZ2P9Y6r4kYgHY/7JUn43uZdj8B8Z8837J2PxdMGJZCzHY/LKeQ76Xldj9CAglJCf92P1hdgaJsGHc/brj5+88xdz+EE3JVM0t3P5pu6q6WZHc/sMliCPp9dz/FJNthXZd3P9t/U7vAsHc/8NrLFCTKdz8GNkRuh+N3PxyRvMfq/Hc/Muw0IU4WeD9IR616sS94P16iJdQUSXg/dP2dLXhieD+JWBaH23t4P6CzjuA+lXg/tA4HOqKueD/KaX+TBch4P+DE9+xo4Xg/9h9wRsz6eD8Me+ifLxR5PyLWYPmSLXk/ODHZUvZGeT9NjFGsWWB5P2TnyQW9eXk/eUJCXyCTeT+Pnbq4g6x5P6T4MhLnxXk/ulOra0rfeT/QriPFrfh5P+YJnB4REno//GQUeHQrej8SwIzR10R6PygbBSs7Xno/PXZ9hJ53ej9U0fXdAZF6P2ksbjdlqno/fofmkMjDej+U4l7qK916P6o910OP9no/wJhPnfIPez/W88f2VSl7P+xOQFC5Qns/Aqq4qRxcez8YBTEDgHV7Py1gqVzjjns/Q7shtkaoez9YFpoPqsF7P25xEmkN23s/hMyKwnD0ez+aJwMc1A18P7CCe3U3J3w/xt3zzppAfD/cOGwo/ll8P/GT5IFhc3w/B+9c28SMfD8dStU0KKZ8PzKlTY6Lv3w/SADG5+7YfD9eWz5BUvJ8P3S2tpq1C30/ihEv9BglfT+gbKdNfD59P7bHH6ffV30/yyKYAENxfT/hfRBapop9P/fYiLMJpH0/DTQBDW29fT8ij3lm0NZ9Pzjq8b8z8H0/TkVqGZcJfj9koOJy+iJ+P3r7WsxdPH4/kFbTJcFVfj+lsUt/JG9+P7sMxNiHiH4/0Wc8Muuhfj/nwrSLTrt+P/0dLeWx1H4/EnmlPhXufj8o1B2YeAd/Pz4vlvHbIH8/VIoOSz86fz8=",
          "dtype": "f8"
         },
         "yaxis": "y5"
        },
        {
         "legendgroup": "Spain",
         "marker": {
          "opacity": 0.6,
          "size": 8
         },
         "mode": "markers",
         "name": "EVNspCount - Spain",
         "showlegend": false,
         "type": "scatter",
         "visible": false,
         "x": {
          "bdata": "5RSlXz7r1T8zH9KdzP/SP5NcootRLsw/LogSwUs5yj874fpZ3H3GPxljjDEGAsU/c6N53OwQzz9HJoOmZLjFP0OR4mIV88w/K3CYbg37yz+Ux/WmssXMP/cBpd0r08s/dz/l3X2Cwz8JlGx5VzrDP6ziV/GrOMQ/Y0SYU2n/wz93i9gM3u7DPy244IILbsc/VcybP3jxyj+g4FqIaV7GP0rg1SM9I8Y/eq4IDwFjyj+aCc94EAbNP40zzjjjXMs/tEf8UdK5zD8pj3524fbRPxEzE6fgsM0/NRuyBgYvyz//r+IpHejKPziLxP778s4/Mw4gHej+xz+caKKJJnrVP5aULpB4K8k/zBUj8OsBxz/SUiJ339TRP3dH481AIsk/azH98GyayT+RRx55xFvJP2IDd0V/Ds4/",
          "dtype": "f8"
         },
         "xaxis": "x6",
         "y": {
          "bdata": "SJhxZut0eD9mZma6F412PwmMwPrK1nY/FxMr+C7mfz9udDxBo3V7PwAAYD6ZzHs/uVwu8VqIdj+jiEPh1u14P9/yLY+9w3Q/L9sAz0ycez/aYmUsJSp7P0PLr/j1bHs/gXkK4bmSgT85juMSkX5+P8cgDmPn5nE/fgT3Iag7dD+CThu+pbV0P5ka2GcJ63g/vd2zf92NdD9TT8ZSS017Pz4bBn9TcHE/O7ET9QZHfT+pPC0gJ3J6P1100ccP0n4/PusGP2Wjfj+ZzmI2zpN6P2N+LGg0OH0/T31RfDrJez88/REZxexzP2bK0c0Zb3Q/ccUVb5G2dj/D9Sh8YtlzPzS1XF6h9HI/ZCuCQJTTcj+omhh+z4V3P8kG60HTwXg/btu2eUrdeT8AAPDAcQx9PzYRyAVQ1no/",
          "dtype": "f8"
         },
         "yaxis": "y6"
        },
        {
         "legendgroup": "Spain",
         "line": {
          "color": "red",
          "width": 2
         },
         "mode": "lines",
         "showlegend": false,
         "type": "scatter",
         "visible": false,
         "x": {
          "bdata": "CZRseVc6wz/SrIjC+nnDP5vFpAueucM/ZN7AVEH5wz8t99yd5DjEP/YP+eaHeMQ/vygVMCu4xD+IQTF5zvfEP1JaTcJxN8U/GnNpCxV3xT/ki4VUuLbFP62koZ1b9sU/dr295v41xj8/1tkvonXGPwjv9XhFtcY/0QcSwuj0xj+aIC4LjDTHP2M5SlQvdMc/LFJmndKzxz/1aoLmdfPHP76Dni8ZM8g/h5y6eLxyyD9QtdbBX7LIPxrO8goD8sg/4uYOVKYxyT+s/yqdSXHJP3QYR+bssMk/PjFjL5DwyT8HSn94MzDKP9Bim8HWb8o/mXu3Cnqvyj9ilNNTHe/KPyut75zALss/9MUL5mNuyz+93icvB67LP4b3Q3iq7cs/TxBgwU0tzD8YKXwK8WzMP+JBmFOUrMw/qlq0nDfszD90c9Dl2ivNPzyM7C5+a80/BqUIeCGrzT/OvSTBxOrNP5jWQApoKs4/Ye9cUwtqzj8qCHmcrqnOP/MgleVR6c4/vDmxLvUozz+FUs13mGjPP05r6cA7qM8/F4QFCt/nzz9wzpApwRPQP9XaHs6SM9A/OeescmRT0D+e8zoXNnPQPwIAybsHk9A/ZwxXYNmy0D/LGOUEq9LQPzAlc6l88tA/lDEBTk4S0T/5PY/yHzLRP15KHZfxUdE/wlarO8Nx0T8mYznglJHRP4tvx4RmsdE/8HtVKTjR0T9UiOPNCfHRP7iUcXLbENI/HaH/Fq0w0j+CrY27flDSP+a5G2BQcNI/SsapBCKQ0j+w0jep86/SPxTfxU3Fz9I/eOtT8pbv0j/d9+GWaA/TP0IEcDs6L9M/phD+3wtP0z8KHYyE3W7TP28pGimvjtM/1DWozYCu0z84QjZyUs7TP5xOxBYk7tM/AVtSu/UN1D9mZ+Bfxy3UP8pzbgSZTdQ/LoD8qGpt1D+UjIpNPI3UP/iYGPINrdQ/XKWmlt/M1D/BsTQ7sezUPya+wt+CDNU/ispQhFQs1T/u1t4oJkzVP1PjbM33a9U/uO/6ccmL1T8c/IgWm6vVP4AIF7tsy9U/5RSlXz7r1T8=",
          "dtype": "f8"
         },
         "xaxis": "x6",
         "y": {
          "bdata": "cDOz2BeJeT910FGNgoR5P3pt8EHtf3k/gAqP9ld7eT+Fpy2rwnZ5P4pEzF8tcnk/j+FqFJhteT+UfgnJAml5P5kbqH1tZHk/nrhGMthfeT+jVeXmQlt5P6jyg5utVnk/ro8iUBhSeT+zLMEEg015P7jJX7ntSHk/vWb+bVhEeT/CA50iwz95P8egO9ctO3k/zD3ai5g2eT/S2nhAAzJ5P9d3F/VtLXk/3BS2qdgoeT/hsVReQyR5P+ZO8xKuH3k/6+uRxxgbeT/wiDB8gxZ5P/UlzzDuEXk/+sJt5VgNeT8AYAyawwh5PwX9qk4uBHk/CppJA5n/eD8PN+i3A/t4PxTUhmxu9ng/GXElIdnxeD8eDsTVQ+14PyOrYoqu6Hg/KEgBPxnkeD8u5Z/zg994PzOCPqju2ng/OB/dXFnWeD89vHsRxNF4P0JZGsYuzXg/R/a4epnIeD9Mk1cvBMR4P1Iw9uNuv3g/V82UmNm6eD9cajNNRLZ4P2EH0gGvsXg/ZqRwthmteD9rQQ9rhKh4P3DerR/vo3g/dXtM1FmfeD96GOuIxJp4P4C1iT0vlng/hVIo8pmReD+K78amBI14P4+MZVtviHg/lCkEENqDeD+ZxqLERH94P55jQXmveng/pADgLRp2eD+onX7ihHF4P646HZfvbHg/s9e7S1poeD+4dFoAxWN4P70R+bQvX3g/wq6XaZpaeD/HSzYeBVZ4P8zo1NJvUXg/0oVzh9pMeD/WIhI8RUh4P9y/sPCvQ3g/4VxPpRo/eD/m+e1ZhTp4P+uWjA7wNXg/8DMrw1oxeD/10Ml3xSx4P/ptaCwwKHg/AAsH4ZojeD8FqKWVBR94PwpFREpwGng/D+Li/toVeD8Uf4GzRRF4PxkcIGiwDHg/Hrm+HBsIeD8jVl3RhQN4Pyjz+4Xw/nc/LpCaOlv6dz8zLTnvxfV3PzjK16Mw8Xc/PWd2WJvsdz9CBBUNBuh3P0ehs8Fw43c/TD5Sdtvedz9S2/AqRtp3P1Z4j9+w1Xc/XBUulBvRdz9hssxIhsx3P2ZPa/3wx3c/a+wJslvDdz8=",
          "dtype": "f8"
         },
         "yaxis": "y6"
        }
       ],
       "layout": {
        "annotations": [
         {
          "font": {
           "size": 16
          },
          "showarrow": false,
          "text": "Select Country:",
          "x": 0.01,
          "xanchor": "center",
          "xref": "paper",
          "y": 1.1,
          "yanchor": "bottom",
          "yref": "paper"
         },
         {
          "font": {
           "size": 16
          },
          "showarrow": false,
          "text": "Select Country:",
          "x": 0.01,
          "xanchor": "center",
          "xref": "paper",
          "y": 1.1,
          "yanchor": "bottom",
          "yref": "paper"
         },
         {
          "font": {
           "size": 16
          },
          "showarrow": false,
          "text": "Select Country:",
          "x": 0.01,
          "xanchor": "center",
          "xref": "paper",
          "y": 1.1,
          "yanchor": "bottom",
          "yref": "paper"
         },
         {
          "font": {
           "size": 16
          },
          "showarrow": false,
          "text": "Select Country:",
          "x": 0.01,
          "xanchor": "center",
          "xref": "paper",
          "y": 1.1,
          "yanchor": "bottom",
          "yref": "paper"
         },
         {
          "font": {
           "size": 16
          },
          "showarrow": false,
          "text": "Select Country:",
          "x": 0.01,
          "xanchor": "center",
          "xref": "paper",
          "y": 1.1,
          "yanchor": "bottom",
          "yref": "paper"
         },
         {
          "font": {
           "size": 16
          },
          "showarrow": false,
          "text": "Select Country:",
          "x": 0.01,
          "xanchor": "center",
          "xref": "paper",
          "y": 1.1,
          "yanchor": "bottom",
          "yref": "paper"
         }
        ],
        "height": 500,
        "template": {
         "data": {
          "bar": [
           {
            "error_x": {
             "color": "#2a3f5f"
            },
            "error_y": {
             "color": "#2a3f5f"
            },
            "marker": {
             "line": {
              "color": "#E5ECF6",
              "width": 0.5
             },
             "pattern": {
              "fillmode": "overlay",
              "size": 10,
              "solidity": 0.2
             }
            },
            "type": "bar"
           }
          ],
          "barpolar": [
           {
            "marker": {
             "line": {
              "color": "#E5ECF6",
              "width": 0.5
             },
             "pattern": {
              "fillmode": "overlay",
              "size": 10,
              "solidity": 0.2
             }
            },
            "type": "barpolar"
           }
          ],
          "carpet": [
           {
            "aaxis": {
             "endlinecolor": "#2a3f5f",
             "gridcolor": "white",
             "linecolor": "white",
             "minorgridcolor": "white",
             "startlinecolor": "#2a3f5f"
            },
            "baxis": {
             "endlinecolor": "#2a3f5f",
             "gridcolor": "white",
             "linecolor": "white",
             "minorgridcolor": "white",
             "startlinecolor": "#2a3f5f"
            },
            "type": "carpet"
           }
          ],
          "choropleth": [
           {
            "colorbar": {
             "outlinewidth": 0,
             "ticks": ""
            },
            "type": "choropleth"
           }
          ],
          "contour": [
           {
            "colorbar": {
             "outlinewidth": 0,
             "ticks": ""
            },
            "colorscale": [
             [
              0,
              "#0d0887"
             ],
             [
              0.1111111111111111,
              "#46039f"
             ],
             [
              0.2222222222222222,
              "#7201a8"
             ],
             [
              0.3333333333333333,
              "#9c179e"
             ],
             [
              0.4444444444444444,
              "#bd3786"
             ],
             [
              0.5555555555555556,
              "#d8576b"
             ],
             [
              0.6666666666666666,
              "#ed7953"
             ],
             [
              0.7777777777777778,
              "#fb9f3a"
             ],
             [
              0.8888888888888888,
              "#fdca26"
             ],
             [
              1,
              "#f0f921"
             ]
            ],
            "type": "contour"
           }
          ],
          "contourcarpet": [
           {
            "colorbar": {
             "outlinewidth": 0,
             "ticks": ""
            },
            "type": "contourcarpet"
           }
          ],
          "heatmap": [
           {
            "colorbar": {
             "outlinewidth": 0,
             "ticks": ""
            },
            "colorscale": [
             [
              0,
              "#0d0887"
             ],
             [
              0.1111111111111111,
              "#46039f"
             ],
             [
              0.2222222222222222,
              "#7201a8"
             ],
             [
              0.3333333333333333,
              "#9c179e"
             ],
             [
              0.4444444444444444,
              "#bd3786"
             ],
             [
              0.5555555555555556,
              "#d8576b"
             ],
             [
              0.6666666666666666,
              "#ed7953"
             ],
             [
              0.7777777777777778,
              "#fb9f3a"
             ],
             [
              0.8888888888888888,
              "#fdca26"
             ],
             [
              1,
              "#f0f921"
             ]
            ],
            "type": "heatmap"
           }
          ],
          "histogram": [
           {
            "marker": {
             "pattern": {
              "fillmode": "overlay",
              "size": 10,
              "solidity": 0.2
             }
            },
            "type": "histogram"
           }
          ],
          "histogram2d": [
           {
            "colorbar": {
             "outlinewidth": 0,
             "ticks": ""
            },
            "colorscale": [
             [
              0,
              "#0d0887"
             ],
             [
              0.1111111111111111,
              "#46039f"
             ],
             [
              0.2222222222222222,
              "#7201a8"
             ],
             [
              0.3333333333333333,
              "#9c179e"
             ],
             [
              0.4444444444444444,
              "#bd3786"
             ],
             [
              0.5555555555555556,
              "#d8576b"
             ],
             [
              0.6666666666666666,
              "#ed7953"
             ],
             [
              0.7777777777777778,
              "#fb9f3a"
             ],
             [
              0.8888888888888888,
              "#fdca26"
             ],
             [
              1,
              "#f0f921"
             ]
            ],
            "type": "histogram2d"
           }
          ],
          "histogram2dcontour": [
           {
            "colorbar": {
             "outlinewidth": 0,
             "ticks": ""
            },
            "colorscale": [
             [
              0,
              "#0d0887"
             ],
             [
              0.1111111111111111,
              "#46039f"
             ],
             [
              0.2222222222222222,
              "#7201a8"
             ],
             [
              0.3333333333333333,
              "#9c179e"
             ],
             [
              0.4444444444444444,
              "#bd3786"
             ],
             [
              0.5555555555555556,
              "#d8576b"
             ],
             [
              0.6666666666666666,
              "#ed7953"
             ],
             [
              0.7777777777777778,
              "#fb9f3a"
             ],
             [
              0.8888888888888888,
              "#fdca26"
             ],
             [
              1,
              "#f0f921"
             ]
            ],
            "type": "histogram2dcontour"
           }
          ],
          "mesh3d": [
           {
            "colorbar": {
             "outlinewidth": 0,
             "ticks": ""
            },
            "type": "mesh3d"
           }
          ],
          "parcoords": [
           {
            "line": {
             "colorbar": {
              "outlinewidth": 0,
              "ticks": ""
             }
            },
            "type": "parcoords"
           }
          ],
          "pie": [
           {
            "automargin": true,
            "type": "pie"
           }
          ],
          "scatter": [
           {
            "fillpattern": {
             "fillmode": "overlay",
             "size": 10,
             "solidity": 0.2
            },
            "type": "scatter"
           }
          ],
          "scatter3d": [
           {
            "line": {
             "colorbar": {
              "outlinewidth": 0,
              "ticks": ""
             }
            },
            "marker": {
             "colorbar": {
              "outlinewidth": 0,
              "ticks": ""
             }
            },
            "type": "scatter3d"
           }
          ],
          "scattercarpet": [
           {
            "marker": {
             "colorbar": {
              "outlinewidth": 0,
              "ticks": ""
             }
            },
            "type": "scattercarpet"
           }
          ],
          "scattergeo": [
           {
            "marker": {
             "colorbar": {
              "outlinewidth": 0,
              "ticks": ""
             }
            },
            "type": "scattergeo"
           }
          ],
          "scattergl": [
           {
            "marker": {
             "colorbar": {
              "outlinewidth": 0,
              "ticks": ""
             }
            },
            "type": "scattergl"
           }
          ],
          "scattermap": [
           {
            "marker": {
             "colorbar": {
              "outlinewidth": 0,
              "ticks": ""
             }
            },
            "type": "scattermap"
           }
          ],
          "scattermapbox": [
           {
            "marker": {
             "colorbar": {
              "outlinewidth": 0,
              "ticks": ""
             }
            },
            "type": "scattermapbox"
           }
          ],
          "scatterpolar": [
           {
            "marker": {
             "colorbar": {
              "outlinewidth": 0,
              "ticks": ""
             }
            },
            "type": "scatterpolar"
           }
          ],
          "scatterpolargl": [
           {
            "marker": {
             "colorbar": {
              "outlinewidth": 0,
              "ticks": ""
             }
            },
            "type": "scatterpolargl"
           }
          ],
          "scatterternary": [
           {
            "marker": {
             "colorbar": {
              "outlinewidth": 0,
              "ticks": ""
             }
            },
            "type": "scatterternary"
           }
          ],
          "surface": [
           {
            "colorbar": {
             "outlinewidth": 0,
             "ticks": ""
            },
            "colorscale": [
             [
              0,
              "#0d0887"
             ],
             [
              0.1111111111111111,
              "#46039f"
             ],
             [
              0.2222222222222222,
              "#7201a8"
             ],
             [
              0.3333333333333333,
              "#9c179e"
             ],
             [
              0.4444444444444444,
              "#bd3786"
             ],
             [
              0.5555555555555556,
              "#d8576b"
             ],
             [
              0.6666666666666666,
              "#ed7953"
             ],
             [
              0.7777777777777778,
              "#fb9f3a"
             ],
             [
              0.8888888888888888,
              "#fdca26"
             ],
             [
              1,
              "#f0f921"
             ]
            ],
            "type": "surface"
           }
          ],
          "table": [
           {
            "cells": {
             "fill": {
              "color": "#EBF0F8"
             },
             "line": {
              "color": "white"
             }
            },
            "header": {
             "fill": {
              "color": "#C8D4E3"
             },
             "line": {
              "color": "white"
             }
            },
            "type": "table"
           }
          ]
         },
         "layout": {
          "annotationdefaults": {
           "arrowcolor": "#2a3f5f",
           "arrowhead": 0,
           "arrowwidth": 1
          },
          "autotypenumbers": "strict",
          "coloraxis": {
           "colorbar": {
            "outlinewidth": 0,
            "ticks": ""
           }
          },
          "colorscale": {
           "diverging": [
            [
             0,
             "#8e0152"
            ],
            [
             0.1,
             "#c51b7d"
            ],
            [
             0.2,
             "#de77ae"
            ],
            [
             0.3,
             "#f1b6da"
            ],
            [
             0.4,
             "#fde0ef"
            ],
            [
             0.5,
             "#f7f7f7"
            ],
            [
             0.6,
             "#e6f5d0"
            ],
            [
             0.7,
             "#b8e186"
            ],
            [
             0.8,
             "#7fbc41"
            ],
            [
             0.9,
             "#4d9221"
            ],
            [
             1,
             "#276419"
            ]
           ],
           "sequential": [
            [
             0,
             "#0d0887"
            ],
            [
             0.1111111111111111,
             "#46039f"
            ],
            [
             0.2222222222222222,
             "#7201a8"
            ],
            [
             0.3333333333333333,
             "#9c179e"
            ],
            [
             0.4444444444444444,
             "#bd3786"
            ],
            [
             0.5555555555555556,
             "#d8576b"
            ],
            [
             0.6666666666666666,
             "#ed7953"
            ],
            [
             0.7777777777777778,
             "#fb9f3a"
            ],
            [
             0.8888888888888888,
             "#fdca26"
            ],
            [
             1,
             "#f0f921"
            ]
           ],
           "sequentialminus": [
            [
             0,
             "#0d0887"
            ],
            [
             0.1111111111111111,
             "#46039f"
            ],
            [
             0.2222222222222222,
             "#7201a8"
            ],
            [
             0.3333333333333333,
             "#9c179e"
            ],
            [
             0.4444444444444444,
             "#bd3786"
            ],
            [
             0.5555555555555556,
             "#d8576b"
            ],
            [
             0.6666666666666666,
             "#ed7953"
            ],
            [
             0.7777777777777778,
             "#fb9f3a"
            ],
            [
             0.8888888888888888,
             "#fdca26"
            ],
            [
             1,
             "#f0f921"
            ]
           ]
          },
          "colorway": [
           "#636efa",
           "#EF553B",
           "#00cc96",
           "#ab63fa",
           "#FFA15A",
           "#19d3f3",
           "#FF6692",
           "#B6E880",
           "#FF97FF",
           "#FECB52"
          ],
          "font": {
           "color": "#2a3f5f"
          },
          "geo": {
           "bgcolor": "white",
           "lakecolor": "white",
           "landcolor": "#E5ECF6",
           "showlakes": true,
           "showland": true,
           "subunitcolor": "white"
          },
          "hoverlabel": {
           "align": "left"
          },
          "hovermode": "closest",
          "mapbox": {
           "style": "light"
          },
          "paper_bgcolor": "white",
          "plot_bgcolor": "#E5ECF6",
          "polar": {
           "angularaxis": {
            "gridcolor": "white",
            "linecolor": "white",
            "ticks": ""
           },
           "bgcolor": "#E5ECF6",
           "radialaxis": {
            "gridcolor": "white",
            "linecolor": "white",
            "ticks": ""
           }
          },
          "scene": {
           "xaxis": {
            "backgroundcolor": "#E5ECF6",
            "gridcolor": "white",
            "gridwidth": 2,
            "linecolor": "white",
            "showbackground": true,
            "ticks": "",
            "zerolinecolor": "white"
           },
           "yaxis": {
            "backgroundcolor": "#E5ECF6",
            "gridcolor": "white",
            "gridwidth": 2,
            "linecolor": "white",
            "showbackground": true,
            "ticks": "",
            "zerolinecolor": "white"
           },
           "zaxis": {
            "backgroundcolor": "#E5ECF6",
            "gridcolor": "white",
            "gridwidth": 2,
            "linecolor": "white",
            "showbackground": true,
            "ticks": "",
            "zerolinecolor": "white"
           }
          },
          "shapedefaults": {
           "line": {
            "color": "#2a3f5f"
           }
          },
          "ternary": {
           "aaxis": {
            "gridcolor": "white",
            "linecolor": "white",
            "ticks": ""
           },
           "baxis": {
            "gridcolor": "white",
            "linecolor": "white",
            "ticks": ""
           },
           "bgcolor": "#E5ECF6",
           "caxis": {
            "gridcolor": "white",
            "linecolor": "white",
            "ticks": ""
           }
          },
          "title": {
           "x": 0.05
          },
          "xaxis": {
           "automargin": true,
           "gridcolor": "white",
           "linecolor": "white",
           "ticks": "",
           "title": {
            "standoff": 15
           },
           "zerolinecolor": "white",
           "zerolinewidth": 2
          },
          "yaxis": {
           "automargin": true,
           "gridcolor": "white",
           "linecolor": "white",
           "ticks": "",
           "title": {
            "standoff": 15
           },
           "zerolinecolor": "white",
           "zerolinewidth": 2
          }
         }
        },
        "title": {
         "text": "Uncertainty vs Acoustic Indices by Country"
        },
        "updatemenus": [
         {
          "active": 0,
          "buttons": [
           {
            "args": [
             {
              "visible": [
               true,
               true,
               true,
               true,
               true,
               true,
               true,
               true,
               true,
               true,
               true,
               true,
               false,
               false,
               false,
               false,
               false,
               false,
               false,
               false,
               false,
               false,
               false,
               false,
               false,
               false,
               false,
               false,
               false,
               false,
               false,
               false,
               false,
               false,
               false,
               false,
               false,
               false,
               false,
               false,
               false,
               false,
               false,
               false,
               false,
               false,
               false,
               false
              ]
             },
             {
              "title": "Uncertainty vs Acoustic Indices - Norway"
             }
            ],
            "label": "Norway",
            "method": "update"
           },
           {
            "args": [
             {
              "visible": [
               false,
               false,
               false,
               false,
               false,
               false,
               false,
               false,
               false,
               false,
               false,
               false,
               true,
               true,
               true,
               true,
               true,
               true,
               true,
               true,
               true,
               true,
               true,
               true,
               false,
               false,
               false,
               false,
               false,
               false,
               false,
               false,
               false,
               false,
               false,
               false,
               false,
               false,
               false,
               false,
               false,
               false,
               false,
               false,
               false,
               false,
               false,
               false
              ]
             },
             {
              "title": "Uncertainty vs Acoustic Indices - Netherlands"
             }
            ],
            "label": "Netherlands",
            "method": "update"
           },
           {
            "args": [
             {
              "visible": [
               false,
               false,
               false,
               false,
               false,
               false,
               false,
               false,
               false,
               false,
               false,
               false,
               false,
               false,
               false,
               false,
               false,
               false,
               false,
               false,
               false,
               false,
               false,
               false,
               true,
               true,
               true,
               true,
               true,
               true,
               true,
               true,
               true,
               true,
               true,
               true,
               false,
               false,
               false,
               false,
               false,
               false,
               false,
               false,
               false,
               false,
               false,
               false
              ]
             },
             {
              "title": "Uncertainty vs Acoustic Indices - France"
             }
            ],
            "label": "France",
            "method": "update"
           },
           {
            "args": [
             {
              "visible": [
               false,
               false,
               false,
               false,
               false,
               false,
               false,
               false,
               false,
               false,
               false,
               false,
               false,
               false,
               false,
               false,
               false,
               false,
               false,
               false,
               false,
               false,
               false,
               false,
               false,
               false,
               false,
               false,
               false,
               false,
               false,
               false,
               false,
               false,
               false,
               false,
               true,
               true,
               true,
               true,
               true,
               true,
               true,
               true,
               true,
               true,
               true,
               true
              ]
             },
             {
              "title": "Uncertainty vs Acoustic Indices - Spain"
             }
            ],
            "label": "Spain",
            "method": "update"
           }
          ],
          "direction": "down",
          "pad": {
           "r": 10,
           "t": 10
          },
          "showactive": true,
          "x": 0.1,
          "xanchor": "left",
          "y": 1.1,
          "yanchor": "top"
         }
        ],
        "width": 1000,
        "xaxis": {
         "anchor": "y",
         "domain": [
          0,
          0.2888888888888889
         ],
         "title": {
          "text": "ACI"
         }
        },
        "xaxis2": {
         "anchor": "y2",
         "domain": [
          0.35555555555555557,
          0.6444444444444445
         ],
         "title": {
          "text": "ADI"
         }
        },
        "xaxis3": {
         "anchor": "y3",
         "domain": [
          0.7111111111111111,
          1
         ],
         "title": {
          "text": "BI"
         }
        },
        "xaxis4": {
         "anchor": "y4",
         "domain": [
          0,
          0.2888888888888889
         ],
         "title": {
          "text": "Hf"
         }
        },
        "xaxis5": {
         "anchor": "y5",
         "domain": [
          0.35555555555555557,
          0.6444444444444445
         ],
         "title": {
          "text": "NDSI"
         }
        },
        "xaxis6": {
         "anchor": "y6",
         "domain": [
          0.7111111111111111,
          1
         ],
         "title": {
          "text": "EVNspCount"
         }
        },
        "yaxis": {
         "anchor": "x",
         "domain": [
          0.625,
          1
         ],
         "title": {
          "text": "Uncertainty"
         }
        },
        "yaxis2": {
         "anchor": "x2",
         "domain": [
          0.625,
          1
         ],
         "title": {
          "text": ""
         }
        },
        "yaxis3": {
         "anchor": "x3",
         "domain": [
          0.625,
          1
         ],
         "title": {
          "text": ""
         }
        },
        "yaxis4": {
         "anchor": "x4",
         "domain": [
          0,
          0.375
         ],
         "title": {
          "text": "Uncertainty"
         }
        },
        "yaxis5": {
         "anchor": "x5",
         "domain": [
          0,
          0.375
         ],
         "title": {
          "text": ""
         }
        },
        "yaxis6": {
         "anchor": "x6",
         "domain": [
          0,
          0.375
         ],
         "title": {
          "text": ""
         }
        }
       }
      }
     },
     "metadata": {},
     "output_type": "display_data"
    }
   ],
   "source": [
    "import plotly.graph_objects as go\n",
    "from plotly.subplots import make_subplots\n",
    "import numpy as np\n",
    "\n",
    "def create_uncertainty_vs_indices_plotly(df, indices):\n",
    "    # Get list of unique countries\n",
    "    countries = df['country'].unique().tolist()\n",
    "    \n",
    "    # Create subplots - one for each acoustic index\n",
    "    n_cols = 3\n",
    "    n_rows = (len(indices) + n_cols - 1) // n_cols\n",
    "    \n",
    "    fig = make_subplots(rows=n_rows, cols=n_cols, \n",
    "                        subplot_titles=[f'Uncertainty vs {index}' for index in indices])\n",
    "    \n",
    "    # Add traces for each country (initially all invisible except first country)\n",
    "    for c_idx, country in enumerate(countries):\n",
    "        country_df = df[df['country'] == country]\n",
    "        \n",
    "        for i, index in enumerate(indices):\n",
    "            row = i // n_cols + 1\n",
    "            col = i % n_cols + 1\n",
    "            \n",
    "            # Only calculate correlation if we have enough data points\n",
    "            if len(country_df) > 2:\n",
    "                corr = country_df[['uncertainty', index]].corr().iloc[0, 1]\n",
    "                corr_text = f'r = {corr:.3f}'\n",
    "            else:\n",
    "                corr_text = 'insufficient data'\n",
    "            \n",
    "            # Add scatter plot\n",
    "            visible = True if c_idx == 0 else False\n",
    "            \n",
    "            fig.add_trace(\n",
    "                go.Scatter(\n",
    "                    x=country_df[index],\n",
    "                    y=country_df['uncertainty'],\n",
    "                    mode='markers',\n",
    "                    marker=dict(\n",
    "                        size=8,\n",
    "                        opacity=0.6,\n",
    "                    ),\n",
    "                    name=f'{index} - {country}',\n",
    "                    showlegend=False,\n",
    "                    visible=visible,\n",
    "                    legendgroup=country\n",
    "                ),\n",
    "                row=row, col=col\n",
    "            )\n",
    "            \n",
    "            # Add regression line if we have enough data points\n",
    "            if len(country_df) > 2:\n",
    "                # Calculate regression line\n",
    "                x = country_df[index].values\n",
    "                y = country_df['uncertainty'].values\n",
    "                mask = ~np.isnan(x) & ~np.isnan(y)\n",
    "                if sum(mask) > 1:  # Need at least 2 points for regression\n",
    "                    x = x[mask]\n",
    "                    y = y[mask]\n",
    "                    slope, intercept = np.polyfit(x, y, 1)\n",
    "                    x_range = np.linspace(min(x), max(x), 100)\n",
    "                    y_range = slope * x_range + intercept\n",
    "                    \n",
    "                    # Add trend line\n",
    "                    fig.add_trace(\n",
    "                        go.Scatter(\n",
    "                            x=x_range,\n",
    "                            y=y_range,\n",
    "                            mode='lines',\n",
    "                            line=dict(color='red', width=2),\n",
    "                            showlegend=False,\n",
    "                            visible=visible,\n",
    "                            legendgroup=country\n",
    "                        ),\n",
    "                        row=row, col=col\n",
    "                    )\n",
    "            \n",
    "    \n",
    "    # Create dropdown menu for country selection\n",
    "    buttons = []\n",
    "    \n",
    "    for c_idx, country in enumerate(countries):\n",
    "        # Calculate which traces belong to this country (each country has 2*len(indices) traces)\n",
    "        # For each index: 1 scatter plot + 1 trend line\n",
    "        traces_per_country = 2 * len(indices)\n",
    "        visible_traces = [False] * (traces_per_country * len(countries))\n",
    "        \n",
    "        # Set the traces for the selected country to visible\n",
    "        for i in range(traces_per_country):\n",
    "            visible_traces[c_idx * traces_per_country + i] = True\n",
    "        \n",
    "        button = dict(\n",
    "            label=country,\n",
    "            method=\"update\",\n",
    "            args=[\n",
    "                {\"visible\": visible_traces},\n",
    "                {\"title\": f\"Uncertainty vs Acoustic Indices - {country}\"}\n",
    "            ]\n",
    "        )\n",
    "        buttons.append(button)\n",
    "    \n",
    "    fig.update_layout(\n",
    "        height=250*n_rows,\n",
    "        width=1000,\n",
    "        title=\"Uncertainty vs Acoustic Indices by Country\",\n",
    "        updatemenus=[dict(\n",
    "            active=0,\n",
    "            buttons=buttons,\n",
    "            direction=\"down\",\n",
    "            pad={\"r\": 10, \"t\": 10},\n",
    "            showactive=True,\n",
    "            x=0.1,\n",
    "            xanchor=\"left\",\n",
    "            y=1.1,\n",
    "            yanchor=\"top\"\n",
    "        )],\n",
    "        annotations=[\n",
    "            dict(text=\"Select Country:\",\n",
    "                 x=0.01,\n",
    "                 y=1.1,\n",
    "                 xref=\"paper\",\n",
    "                 yref=\"paper\",\n",
    "                 showarrow=False)\n",
    "        ]\n",
    "    )\n",
    "    \n",
    "    # Update axes labels\n",
    "    for i, index in enumerate(indices):\n",
    "        row = i // n_cols + 1\n",
    "        col = i % n_cols + 1\n",
    "        fig.update_xaxes(title_text=index, row=row, col=col)\n",
    "        fig.update_yaxes(title_text=\"Uncertainty\" if col == 1 else \"\", row=row, col=col)\n",
    "    \n",
    "    return fig\n",
    "\n",
    "# Create and display the plot\n",
    "indices = ['ACI', 'ADI', 'BI', 'Hf', 'NDSI', 'EVNspCount']\n",
    "fig = create_uncertainty_vs_indices_plotly(agg_df, indices)\n",
    "fig.show()"
   ]
  },
  {
   "cell_type": "code",
   "execution_count": null,
   "id": "c096a9ea",
   "metadata": {},
   "outputs": [],
   "source": []
  },
  {
   "cell_type": "code",
   "execution_count": null,
   "id": "fedd8e76",
   "metadata": {},
   "outputs": [],
   "source": []
  },
  {
   "cell_type": "code",
   "execution_count": null,
   "id": "618910a0",
   "metadata": {},
   "outputs": [],
   "source": []
  },
  {
   "cell_type": "code",
   "execution_count": null,
   "id": "78367a9d",
   "metadata": {},
   "outputs": [],
   "source": []
  },
  {
   "cell_type": "code",
   "execution_count": null,
   "id": "8d9181d7",
   "metadata": {},
   "outputs": [],
   "source": []
  },
  {
   "cell_type": "code",
   "execution_count": null,
   "id": "c9103bac",
   "metadata": {},
   "outputs": [],
   "source": []
  },
  {
   "cell_type": "code",
   "execution_count": null,
   "id": "1a091451",
   "metadata": {},
   "outputs": [],
   "source": []
  },
  {
   "cell_type": "code",
   "execution_count": null,
   "id": "cfc86168",
   "metadata": {},
   "outputs": [],
   "source": []
  },
  {
   "cell_type": "code",
   "execution_count": null,
   "id": "98cb1d70",
   "metadata": {},
   "outputs": [],
   "source": []
  }
 ],
 "metadata": {
  "kernelspec": {
   "display_name": ".venv",
   "language": "python",
   "name": "python3"
  },
  "language_info": {
   "codemirror_mode": {
    "name": "ipython",
    "version": 3
   },
   "file_extension": ".py",
   "mimetype": "text/x-python",
   "name": "python",
   "nbconvert_exporter": "python",
   "pygments_lexer": "ipython3",
   "version": "3.12.9"
  }
 },
 "nbformat": 4,
 "nbformat_minor": 5
}
