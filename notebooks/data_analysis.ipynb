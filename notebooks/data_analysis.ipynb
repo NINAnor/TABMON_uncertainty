{
 "cells": [
  {
   "cell_type": "code",
   "execution_count": 7,
   "id": "d6f3de66",
   "metadata": {},
   "outputs": [],
   "source": [
    "import pandas as pd\n",
    "import statsmodels.formula.api as sm\n",
    "import duckdb\n",
    "import matplotlib.pyplot as plt\n",
    "import seaborn as sns\n",
    "import numpy as np"
   ]
  },
  {
   "cell_type": "markdown",
   "id": "d875e626",
   "metadata": {},
   "source": [
    "# uncertainty visualization.\n",
    "\n",
    "Even though DL models have uncertainty, it's beneficial to know the factors of this uncertainty. **We define uncertainty as cross-entropy ..**\n",
    "\n",
    "Even though model uncertainty is likely to be a result of species specific variables (e.g. difference in training data, diversity of songs for a certain species etc...) we hypothesize that model uncertainty can also be caused by environmental factors such as variability in species presence, background noise, microphone degradation.\n",
    "\n",
    "Background noise could be influenced by terrain condition (type of forest, wetlands, snow dampen the sound; open landscape, low humidity propagate the sound further); anthropophony and other natural noises.\n",
    "To quantify background noise it is possible to use some acoustic indices.\n",
    "\n",
    "The most obvious indices would be \n",
    "\n",
    "- **NDVI** (higher values indicate a soundscape dominated by anthropophony), \n",
    "- **Acoustic Complexity Index ACI** (reflect irregular amplitudes, has been linked to singing activity of birds) \n",
    "- **acoustic entropy H** (high values correlate with more even background).\n",
    "\n",
    "Explanation about acoustic indices: [Acoustic Index User's Guide](https://ecohack.shinyapps.io/Acoustic_Index_Users_Guide/)"
   ]
  },
  {
   "cell_type": "markdown",
   "id": "f87d0752",
   "metadata": {},
   "source": [
    "**ACI**: Higher values can indicate storms, rain, insect stridulation or high levels of bird activity, while lower values could be associated with consistent cicada noise where there is little change in amplitude over short periods of time (Bradfer-Lawrence et al 2019). Given the original rationale for the index, ACI has received considerable research attention as a potential proxy for (avian) biodiversity. Some positive associations have been reported between ACI and avian species richness (e.g. McGrann et al., 2022), however, a review found any link to be inconsistent (Bateman & Uzal 2021).\n",
    "\n",
    "**NDVI**: Values closer to +1 indicate a soundscape dominated by biophony, closer to -1 indicates high levels of anthropophony. \n",
    "\n",
    "**H**: Higher values are associated with a more even signal (i.e., amplitude is evenly distributed among frequency bands and temporal frames) and lower values with a less even signal (i.e., unevenly distributed amplitude among frequency bands and temporal frames). \n",
    "\n",
    "**BI**: Higher values indicate a greater disparity between the loudest and quietest bands. Originally designed to reflect complexity of Hawaiian birdsong, to act as a proxy for relative avian abundance.\n",
    "\n"
   ]
  },
  {
   "cell_type": "markdown",
   "id": "e9244e47",
   "metadata": {},
   "source": [
    "# Parse the parquet files"
   ]
  },
  {
   "cell_type": "code",
   "execution_count": 8,
   "id": "a0653471",
   "metadata": {},
   "outputs": [],
   "source": [
    "duckdf = duckdb.sql(\"FROM read_parquet('/home/benjamin.cretois/data/s3mount/bencretois-ns8129k-proj-tabmon/parquet_results/*/*/*.parquet', hive_partitioning=true)\")\n",
    "\n",
    "duckdf_sub = duckdb.sql(\"\"\"\n",
    "SELECT * FROM duckdf \n",
    "-- USING SAMPLE 100000 ROWS\n",
    "\"\"\")"
   ]
  },
  {
   "cell_type": "code",
   "execution_count": 9,
   "id": "ce2e9146",
   "metadata": {},
   "outputs": [
    {
     "name": "stdout",
     "output_type": "stream",
     "text": [
      "┌──────────────────────────────┬────────────┬──────────────────────┬────────────────────────────────────────────────────────────────────────────────────────────────────────────────────────────────────────────────────────────────────────────────────────────────────────────────────────────────────────────────────────────────────────────────────────────────────────────────────────────────────────────────────────────────────────────────────────────────────────────────────────────────────────────────────────────────────────────────────────────────────────────────────────────────────────────────────────────────────────────────────────────────────────────────────────────────────────────────────────────────────────────────────────────────────────────────────────────────────────────────────────────────────────────────────────────────────────────────────────────────────────────────────────────────────────────────────────────────────────────────────────────────────────────────────────────────────────────────────────────────────────────────────────────────────────────────────────────────────────────────────────────────────────────────────────────────────────────────────────────────────────────────────────────────────────────────────────────────────────────────────────────────────────────────────────────────────────────────────────────┬───────┬──────────────────────┬─────────────────────────┬─────────────────┬──────────┬──────────┬────────────────────────────┬─────────┬──────────────────┬─────────┬───────────┐\n",
      "│           filename           │ start time │     uncertainty      │                                                                                                                                                                                                                                                                                                                                                                                                                                                                                                                                                                                                                                                           energy                                                                                                                                                                                                                                                                                                                                                                                                                                                                                                                                                                                                                                                           │ rank  │      confidence      │     scientific name     │   common name   │   lat    │   lng    │          datetime          │  model  │ model_checkpoint │ country │ device_id │\n",
      "│           varchar            │   int64    │        double        │                                                                                                                                                                                                                                                                                                                    struct(aci double, actspcount double, actspfract double, actspmean double, adi double, aei double, agi double, anthroenergy double, bgnf double, bi double, bioenergy double, eas double, ecu double, ecv double, enrf double, eps double, eps_kurt double, eps_skew double, evnspcount double, evnspfract double, evnspmean double, hfc double, h_ginisimpson double, h_havrda double, h_renyi double, h_gamma double, h_pairedshannon double, hf double, kurtf double, leqf double, lfc double, meanf double, mfc double, nbpeaks bigint, ndsi double, raoq double, roicover double, roitotal bigint, rou double, skewf double, snrf double, tfsd double, varf double, rba double)                                                                                                                                                                                                                                                                                                                    │ int64 │        double        │         varchar         │     varchar     │  double  │  double  │          varchar           │ varchar │      int32       │ varchar │  varchar  │\n",
      "├──────────────────────────────┼────────────┼──────────────────────┼────────────────────────────────────────────────────────────────────────────────────────────────────────────────────────────────────────────────────────────────────────────────────────────────────────────────────────────────────────────────────────────────────────────────────────────────────────────────────────────────────────────────────────────────────────────────────────────────────────────────────────────────────────────────────────────────────────────────────────────────────────────────────────────────────────────────────────────────────────────────────────────────────────────────────────────────────────────────────────────────────────────────────────────────────────────────────────────────────────────────────────────────────────────────────────────────────────────────────────────────────────────────────────────────────────────────────────────────────────────────────────────────────────────────────────────────────────────────────────────────────────────────────────────────────────────────────────────────────────────────────────────────────────────────────────────────────────────────────────────────────────────────────────────────────────────────────────────────────────────────────────────────────────────────────────────────────────────────────────────┼───────┼──────────────────────┼─────────────────────────┼─────────────────┼──────────┼──────────┼────────────────────────────┼─────────┼──────────────────┼─────────┼───────────┤\n",
      "│ 2025-03-10T08_45_00.000Z.mp3 │         12 │ 0.007604438811540604 │ {'ACI': 366.20184326171875, 'ACTspCount': 73.498046875, 'ACTspFract': 0.26249302455357143, 'ACTspMean': 23.06694507598877, 'ADI': 1.912599000583818, 'AEI': 0.45533770021876324, 'AGI': 2.967834949493408, 'AnthroEnergy': 1504.4501953125, 'BGNf': 2.970760479778192, 'BI': 25.711473958333332, 'BioEnergy': 44.864505767822266, 'EAS': 0.07631921869031799, 'ECU': 0.1994267040551062, 'ECV': 0.13019420809561044, 'ENRf': 7.561182265248521, 'EPS': 0.22860399881977056, 'EPS_KURT': 15.854733703428138, 'EPS_SKEW': 3.2054699722749094, 'EVNspCount': 1.7188287550403223, 'EVNspFract': 0.13454241071428572, 'EVNspMean': 0.07308910383597883, 'HFC': 0.2712126245847176, 'H_GiniSimpson': 0.8940095007419586, 'H_Havrda': 0.32877881204088527, 'H_Renyi': 2.1465113162994385, 'H_gamma': 4345.228630176204, 'H_pairedShannon': 3.590317487716675, 'Hf': 0.4241136885766085, 'KURTf': 57.04569952373293, 'LEQf': 100.5611819954327, 'LFC': 0.28490259740259744, 'MEANf': 0.03366955369710922, 'MFC': 0.28619541080680977, 'NBPEAKS': 61, 'NDSI': -0.9420847296714783, 'RAOQ': 0.07612711090129246, 'ROIcover': 1.327427455357143, 'ROItotal': 6, 'ROU': 2128.63818359375, 'SKEWf': 7.169339601814669, 'SNRf': 4.59042178547033, 'TFSD': 0.5754515528678894, 'VARf': 0.010005414485931396, 'rBA': 0.02982119657099247}  │     0 │ 0.012436903081834316 │ Anser anser             │ Greylag Goose   │ 43.12253 │ 6.208296 │ 2025-05-30 03:22:55.216223 │ birdnet │             NULL │ France  │ 688a86aa  │\n",
      "│ 2025-03-10T08_45_00.000Z.mp3 │         12 │ 0.007604438811540604 │ {'ACI': 366.20184326171875, 'ACTspCount': 73.498046875, 'ACTspFract': 0.26249302455357143, 'ACTspMean': 23.06694507598877, 'ADI': 1.912599000583818, 'AEI': 0.45533770021876324, 'AGI': 2.967834949493408, 'AnthroEnergy': 1504.4501953125, 'BGNf': 2.970760479778192, 'BI': 25.711473958333332, 'BioEnergy': 44.864505767822266, 'EAS': 0.07631921869031799, 'ECU': 0.1994267040551062, 'ECV': 0.13019420809561044, 'ENRf': 7.561182265248521, 'EPS': 0.22860399881977056, 'EPS_KURT': 15.854733703428138, 'EPS_SKEW': 3.2054699722749094, 'EVNspCount': 1.7188287550403223, 'EVNspFract': 0.13454241071428572, 'EVNspMean': 0.07308910383597883, 'HFC': 0.2712126245847176, 'H_GiniSimpson': 0.8940095007419586, 'H_Havrda': 0.32877881204088527, 'H_Renyi': 2.1465113162994385, 'H_gamma': 4345.228630176204, 'H_pairedShannon': 3.590317487716675, 'Hf': 0.4241136885766085, 'KURTf': 57.04569952373293, 'LEQf': 100.5611819954327, 'LFC': 0.28490259740259744, 'MEANf': 0.03366955369710922, 'MFC': 0.28619541080680977, 'NBPEAKS': 61, 'NDSI': -0.9420847296714783, 'RAOQ': 0.07612711090129246, 'ROIcover': 1.327427455357143, 'ROItotal': 6, 'ROU': 2128.63818359375, 'SKEWf': 7.169339601814669, 'SNRf': 4.59042178547033, 'TFSD': 0.5754515528678894, 'VARf': 0.010005414485931396, 'rBA': 0.02982119657099247}  │     1 │ 0.011213811114430428 │ Alopochen aegyptiaca    │ Egyptian Goose  │ 43.12253 │ 6.208296 │ 2025-05-30 03:22:55.216223 │ birdnet │             NULL │ France  │ 688a86aa  │\n",
      "│ 2025-03-10T08_45_00.000Z.mp3 │         18 │ 0.008785906247794628 │ {'ACI': 320.07244873046875, 'ACTspCount': 65.21875, 'ACTspFract': 0.23292410714285716, 'ACTspMean': 15.775213241577148, 'ADI': 1.4844174400185393, 'AEI': 0.6442876281272394, 'AGI': 1.8074132204055786, 'AnthroEnergy': 2328.56982421875, 'BGNf': 2.9938137485894, 'BI': 27.84597395833333, 'BioEnergy': 10.06071949005127, 'EAS': 0.0719840635920388, 'ECU': 0.30998724480377815, 'ECV': 0.1412279075018733, 'ENRf': 9.34109080861976, 'EPS': 0.2360693502103166, 'EPS_KURT': 12.043390741336255, 'EPS_SKEW': 2.8446572193178223, 'EVNspCount': 1.3782132056451613, 'EVNspFract': 0.10373186383928573, 'EVNspMean': 0.0658236314033189, 'HFC': 0.22410299003322257, 'H_GiniSimpson': 0.8966561630368233, 'H_Havrda': 0.3290615848576029, 'H_Renyi': 2.1785597801208496, 'H_gamma': 801.1345881564736, 'H_pairedShannon': 3.427635669708252, 'Hf': 0.39779904357012563, 'KURTf': 51.8476034669338, 'LEQf': 102.34109030833261, 'LFC': 0.31006493506493504, 'MEANf': 0.02717963419854641, 'MFC': 0.2747779422649889, 'NBPEAKS': 34, 'NDSI': -0.9913960099220276, 'RAOQ': 0.003851913197859816, 'ROIcover': 6.1572265625, 'ROItotal': 18, 'ROU': 3164.89013671875, 'SKEWf': 6.854922382552638, 'SNRf': 6.347277060030361, 'TFSD': 0.5709872841835022, 'VARf': 0.01604308933019638, 'rBA': 0.004320557229220867}             │     0 │ 0.023054732009768486 │ Melanocorypha calandra  │ Calandra Lark   │ 43.12253 │ 6.208296 │ 2025-05-30 03:22:55.216223 │ birdnet │             NULL │ France  │ 688a86aa  │\n",
      "│ 2025-03-10T08_45_00.000Z.mp3 │         18 │ 0.008785906247794628 │ {'ACI': 320.07244873046875, 'ACTspCount': 65.21875, 'ACTspFract': 0.23292410714285716, 'ACTspMean': 15.775213241577148, 'ADI': 1.4844174400185393, 'AEI': 0.6442876281272394, 'AGI': 1.8074132204055786, 'AnthroEnergy': 2328.56982421875, 'BGNf': 2.9938137485894, 'BI': 27.84597395833333, 'BioEnergy': 10.06071949005127, 'EAS': 0.0719840635920388, 'ECU': 0.30998724480377815, 'ECV': 0.1412279075018733, 'ENRf': 9.34109080861976, 'EPS': 0.2360693502103166, 'EPS_KURT': 12.043390741336255, 'EPS_SKEW': 2.8446572193178223, 'EVNspCount': 1.3782132056451613, 'EVNspFract': 0.10373186383928573, 'EVNspMean': 0.0658236314033189, 'HFC': 0.22410299003322257, 'H_GiniSimpson': 0.8966561630368233, 'H_Havrda': 0.3290615848576029, 'H_Renyi': 2.1785597801208496, 'H_gamma': 801.1345881564736, 'H_pairedShannon': 3.427635669708252, 'Hf': 0.39779904357012563, 'KURTf': 51.8476034669338, 'LEQf': 102.34109030833261, 'LFC': 0.31006493506493504, 'MEANf': 0.02717963419854641, 'MFC': 0.2747779422649889, 'NBPEAKS': 34, 'NDSI': -0.9913960099220276, 'RAOQ': 0.003851913197859816, 'ROIcover': 6.1572265625, 'ROItotal': 18, 'ROU': 3164.89013671875, 'SKEWf': 6.854922382552638, 'SNRf': 6.347277060030361, 'TFSD': 0.5709872841835022, 'VARf': 0.01604308933019638, 'rBA': 0.004320557229220867}             │     1 │ 0.010221575386822224 │ Locustella luscinioides │ Savi's Warbler  │ 43.12253 │ 6.208296 │ 2025-05-30 03:22:55.216223 │ birdnet │             NULL │ France  │ 688a86aa  │\n",
      "│ 2025-03-10T08_45_00.000Z.mp3 │         57 │ 0.007759213913232088 │ {'ACI': 368.42816162109375, 'ACTspCount': 67.505859375, 'ACTspFract': 0.2410923549107143, 'ACTspMean': 13.928571939468384, 'ADI': 1.5657093643514817, 'AEI': 0.6357787739783156, 'AGI': 1.882197380065918, 'AnthroEnergy': 851.4253540039062, 'BGNf': -3.2057109013150455, 'BI': 22.4315625, 'BioEnergy': 13.798462867736816, 'EAS': 0.016287926548121945, 'ECU': 0.1664478145322731, 'ECV': 0.0680005362416678, 'ENRf': 4.997292162968915, 'EPS': 0.21485320579613465, 'EPS_KURT': 52.410566887087064, 'EPS_SKEW': 5.495812862714156, 'EVNspCount': 1.2653309811827955, 'EVNspFract': 0.08187081473214286, 'EVNspMean': 0.060340429593554595, 'HFC': 0.23352159468438538, 'H_GiniSimpson': 0.7923827171325684, 'H_Havrda': 0.31462813168764114, 'H_Renyi': 1.4401706457138062, 'H_gamma': 1736.244955023436, 'H_pairedShannon': 2.875704288482666, 'Hf': 0.3190831193273541, 'KURTf': 109.19974420952533, 'LEQf': 97.99729195896118, 'LFC': 0.3358766233766234, 'MEANf': 0.018133042380213737, 'MFC': 0.27309400444115467, 'NBPEAKS': 30, 'NDSI': -0.9681043028831482, 'RAOQ': 0.02249279051934856, 'ROIcover': 3.2031249999999996, 'ROItotal': 4, 'ROU': 1356.8045654296875, 'SKEWf': 9.790969140972281, 'SNRf': 8.20300306428396, 'TFSD': 0.5806185603141785, 'VARf': 0.005843665916472673, 'rBA': 0.01620630919933319} │     0 │  0.03910775110125542 │ Gyps fulvus             │ Griffon Vulture │ 43.12253 │ 6.208296 │ 2025-05-30 03:22:55.216223 │ birdnet │             NULL │ France  │ 688a86aa  │\n",
      "└──────────────────────────────┴────────────┴──────────────────────┴────────────────────────────────────────────────────────────────────────────────────────────────────────────────────────────────────────────────────────────────────────────────────────────────────────────────────────────────────────────────────────────────────────────────────────────────────────────────────────────────────────────────────────────────────────────────────────────────────────────────────────────────────────────────────────────────────────────────────────────────────────────────────────────────────────────────────────────────────────────────────────────────────────────────────────────────────────────────────────────────────────────────────────────────────────────────────────────────────────────────────────────────────────────────────────────────────────────────────────────────────────────────────────────────────────────────────────────────────────────────────────────────────────────────────────────────────────────────────────────────────────────────────────────────────────────────────────────────────────────────────────────────────────────────────────────────────────────────────────────────────────────────────────────────────────────────────────────────────────────────────────────────────────────────────────────────────────────────────────────┴───────┴──────────────────────┴─────────────────────────┴─────────────────┴──────────┴──────────┴────────────────────────────┴─────────┴──────────────────┴─────────┴───────────┘\n",
      "\n"
     ]
    }
   ],
   "source": [
    "duckdb.sql(\"FROM duckdf_sub LIMIT 5\").show()"
   ]
  },
  {
   "cell_type": "code",
   "execution_count": 10,
   "id": "4c0f2932",
   "metadata": {},
   "outputs": [],
   "source": [
    "# Parse the filename to extract the time the file has been recorded\n",
    "# Some files have a timestamp with milliseconds, others with seconds, and some just with hours and minutes - need to handle all cases\n",
    "\n",
    "filtered_data = duckdb.sql(\"\"\"\n",
    "SELECT \n",
    "    *,\n",
    "    COALESCE(\n",
    "        -- Try parsing with milliseconds\n",
    "        TRY_STRPTIME(\n",
    "            REPLACE(\n",
    "                REPLACE(\n",
    "                    REPLACE(\n",
    "                        REGEXP_EXTRACT(filename, '(.*)\\\\.mp3$', 1),\n",
    "                        'T', ' '\n",
    "                    ),\n",
    "                    '_', ':'\n",
    "                ),\n",
    "                'Z', ''\n",
    "            ),\n",
    "            '%Y-%m-%d %H:%M:%S.%f'\n",
    "        ),\n",
    "        -- Try parsing with seconds but no milliseconds\n",
    "        TRY_STRPTIME(\n",
    "            REPLACE(\n",
    "                REPLACE(\n",
    "                    REPLACE(\n",
    "                        REGEXP_EXTRACT(filename, '(.*)\\\\.mp3$', 1),\n",
    "                        'T', ' '\n",
    "                    ),\n",
    "                    '_', ':'\n",
    "                ),\n",
    "                'Z', ''\n",
    "            ),\n",
    "            '%Y-%m-%d %H:%M:%S'\n",
    "        ),\n",
    "        -- Try parsing with just hours and minutes\n",
    "        TRY_STRPTIME(\n",
    "            REPLACE(\n",
    "                REPLACE(\n",
    "                    REPLACE(\n",
    "                        REGEXP_EXTRACT(filename, '(.*)\\\\.mp3$', 1),\n",
    "                        'T', ' '\n",
    "                    ),\n",
    "                    '_', ':'\n",
    "                ),\n",
    "                'Z', ''\n",
    "            ),\n",
    "            '%Y-%m-%d %H:%M'\n",
    "        )\n",
    "    ) AS time_recorded,\n",
    "    energy['ACI'] AS ACI,\n",
    "    energy['ADI'] AS ADI,\n",
    "    energy['BI'] AS BI,\n",
    "    energy['EVNspCount'] AS EVNspCount,\n",
    "    energy['EVNspMean'] AS EVNspMean,\n",
    "    energy['Hf'] AS Hf,\n",
    "    energy['NDSI'] AS NDSI\n",
    "FROM duckdf_sub\n",
    "WHERE REGEXP_EXTRACT(filename, '(.*)\\\\.mp3$', 1) IS NOT NULL\n",
    "\"\"\")"
   ]
  },
  {
   "cell_type": "markdown",
   "id": "14f5a8e2",
   "metadata": {},
   "source": [
    "# Temporally aggregate the files - choose TIME_GRANULARITY accordingly"
   ]
  },
  {
   "cell_type": "code",
   "execution_count": null,
   "id": "d0c3b32c",
   "metadata": {},
   "outputs": [],
   "source": [
    "TIME_GRANULARITY = \"week\"  # Options: 'hour', 'day', 'week', 'month', 'quarter', 'year'\n",
    "\n",
    "# Create a dynamic time-based aggregation query\n",
    "time_aggregated = duckdb.sql(f\"\"\"\n",
    "    SELECT \n",
    "        device_id,\n",
    "        country,\n",
    "        lat,\n",
    "        DATE_TRUNC('{TIME_GRANULARITY}', time_recorded)::DATE AS time_period,\n",
    "        AVG(uncertainty) AS uncertainty,\n",
    "        AVG(ACI) AS ACI,\n",
    "        AVG(ADI) AS ADI,\n",
    "        AVG(BI) AS BI,\n",
    "        AVG(Hf) AS Hf,\n",
    "        AVG(NDSI) AS NDSI,\n",
    "        AVG(EVNspCount) AS EVNspCount\n",
    "    FROM filtered_data\n",
    "    GROUP BY device_id, country, lat, DATE_TRUNC('{TIME_GRANULARITY}', time_recorded)::DATE\n",
    "    ORDER BY lat DESC, device_id\n",
    "\"\"\")\n",
    "\n",
    "agg_df = time_aggregated.df()\n",
    "\n",
    "# Update column names to reflect the current time granularity\n",
    "agg_df = agg_df.rename(columns={'time_period': f'{TIME_GRANULARITY}'})\n",
    "\n",
    "# Create device labels with country\n",
    "agg_df['device_label'] = agg_df['device_id'] + ' (' + agg_df['country'] + ')'\n",
    "device_labels = agg_df.sort_values('lat', ascending=False)[['device_label', 'device_id']].drop_duplicates()"
   ]
  },
  {
   "cell_type": "code",
   "execution_count": null,
   "id": "c65348a8",
   "metadata": {},
   "outputs": [
    {
     "name": "stdout",
     "output_type": "stream",
     "text": [
      "┌──────────────┐\n",
      "│ count_star() │\n",
      "│    int64     │\n",
      "├──────────────┤\n",
      "│     40286485 │\n",
      "└──────────────┘\n",
      "\n"
     ]
    }
   ],
   "source": [
    "duckdb.sql(\"SELECT COUNT(*) FROM duckdf_sub\").show()"
   ]
  },
  {
   "cell_type": "code",
   "execution_count": null,
   "id": "2973244c",
   "metadata": {},
   "outputs": [],
   "source": [
    "agg_df['device_label'] = agg_df['device_id'] + ' (' + agg_df['country'] + ')'\n",
    "device_labels = agg_df.sort_values('lat', ascending=False)[['device_label', 'device_id']].drop_duplicates()"
   ]
  },
  {
   "cell_type": "markdown",
   "id": "6a468334",
   "metadata": {},
   "source": [
    "# Plot uncertainty vs acoustic indices over time"
   ]
  },
  {
   "cell_type": "code",
   "execution_count": null,
   "id": "603e792d",
   "metadata": {},
   "outputs": [
    {
     "data": {
      "application/vnd.plotly.v1+json": {
       "config": {
        "plotlyServerURL": "https://plot.ly"
       },
       "data": [
        {
         "colorbar": {
          "title": {
           "text": "uncertainty"
          }
         },
         "colorscale": [
          [
           0,
           "#440154"
          ],
          [
           0.1111111111111111,
           "#482878"
          ],
          [
           0.2222222222222222,
           "#3e4989"
          ],
          [
           0.3333333333333333,
           "#31688e"
          ],
          [
           0.4444444444444444,
           "#26828e"
          ],
          [
           0.5555555555555556,
           "#1f9e89"
          ],
          [
           0.6666666666666666,
           "#35b779"
          ],
          [
           0.7777777777777778,
           "#6ece58"
          ],
          [
           0.8888888888888888,
           "#b5de2b"
          ],
          [
           1,
           "#fde725"
          ]
         ],
         "hovertemplate": "Device: %{y}<br>Week: %{x}<br>Value: %{z}<extra></extra>",
         "type": "heatmap",
         "visible": true,
         "x": [
          "2025-01-13T00:00:00.000000",
          "2025-01-20T00:00:00.000000",
          "2025-01-27T00:00:00.000000",
          "2025-02-03T00:00:00.000000",
          "2025-02-10T00:00:00.000000",
          "2025-02-17T00:00:00.000000",
          "2025-02-24T00:00:00.000000",
          "2025-03-03T00:00:00.000000",
          "2025-03-10T00:00:00.000000",
          "2025-03-17T00:00:00.000000",
          "2025-03-24T00:00:00.000000",
          "2025-03-31T00:00:00.000000"
         ],
         "y": [
          "dc98ad82 (Norway)",
          "1b36a79e (Norway)",
          "22f9afc5 (Norway)",
          "8ac55f2f (Norway)",
          "179e153c (Norway)",
          "4cb16fa2 (Norway)",
          "c27ff1cf (Norway)",
          "eb289bed (Norway)",
          "889bef22 (Norway)",
          "20069731 (Norway)",
          "2b0e29ef (Norway)",
          "d51cd90c (Norway)",
          "94dc95d8 (Norway)",
          "3c94309d (Norway)",
          "6a306e76 (Norway)",
          "1920e8d5 (Norway)",
          "3e481576 (Norway)",
          "932ef8d5 (Norway)",
          "11d0c4a2 (Norway)",
          "3b0c3815 (Norway)",
          "93be5da2 (Norway)",
          "e848f182 (Norway)",
          "d642707c (Norway)",
          "5bc534f0 (Norway)",
          "c7289269 (Norway)",
          "29eb3e1b (Norway)",
          "3e07ce56 (Norway)",
          "941752da (Norway)",
          "cdfb50bf (Norway)",
          "b91151a3 (Norway)",
          "d88bc03a (Norway)",
          "5a6ba752 (Norway)",
          "7e4b3d4f (Norway)",
          "d7a35b3c (Netherlands)",
          "f0dc521c (Netherlands)",
          "d593cb78 (Netherlands)",
          "498873b2 (Netherlands)",
          "9a2290fc (Netherlands)",
          "de594337 (Netherlands)",
          "6174ecbe (Netherlands)",
          "8f06b854 (Netherlands)",
          "cfc291d3 (Netherlands)",
          "3b425ce9 (Netherlands)",
          "fb104ba8 (Netherlands)",
          "44e6e23b (Netherlands)",
          "63c64349 (Netherlands)",
          "30d19c18 (Netherlands)",
          "438d2740 (Netherlands)",
          "688a86aa (France)",
          "c1405178 (France)",
          "6b3c38e6 (France)",
          "613266b (Spain)",
          "2d00da80 (Spain)",
          "1c1dcfe8 (Spain)",
          "55dc62ae (Spain)",
          "379e35d4 (Spain)",
          "f1a26bc9 (Spain)",
          "b5812468 (Spain)",
          "36308864 (Spain)",
          "8e7fead8 (Spain)",
          "49da8233 (Spain)"
         ],
         "z": {
          "bdata": "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",
          "dtype": "f8",
          "shape": "61, 12"
         }
        },
        {
         "colorbar": {
          "title": {
           "text": "ACI"
          }
         },
         "colorscale": [
          [
           0,
           "#440154"
          ],
          [
           0.1111111111111111,
           "#482878"
          ],
          [
           0.2222222222222222,
           "#3e4989"
          ],
          [
           0.3333333333333333,
           "#31688e"
          ],
          [
           0.4444444444444444,
           "#26828e"
          ],
          [
           0.5555555555555556,
           "#1f9e89"
          ],
          [
           0.6666666666666666,
           "#35b779"
          ],
          [
           0.7777777777777778,
           "#6ece58"
          ],
          [
           0.8888888888888888,
           "#b5de2b"
          ],
          [
           1,
           "#fde725"
          ]
         ],
         "hovertemplate": "Device: %{y}<br>Week: %{x}<br>Value: %{z}<extra></extra>",
         "type": "heatmap",
         "visible": false,
         "x": [
          "2025-01-13T00:00:00.000000",
          "2025-01-20T00:00:00.000000",
          "2025-01-27T00:00:00.000000",
          "2025-02-03T00:00:00.000000",
          "2025-02-10T00:00:00.000000",
          "2025-02-17T00:00:00.000000",
          "2025-02-24T00:00:00.000000",
          "2025-03-03T00:00:00.000000",
          "2025-03-10T00:00:00.000000",
          "2025-03-17T00:00:00.000000",
          "2025-03-24T00:00:00.000000",
          "2025-03-31T00:00:00.000000"
         ],
         "y": [
          "dc98ad82 (Norway)",
          "1b36a79e (Norway)",
          "22f9afc5 (Norway)",
          "8ac55f2f (Norway)",
          "179e153c (Norway)",
          "4cb16fa2 (Norway)",
          "c27ff1cf (Norway)",
          "eb289bed (Norway)",
          "889bef22 (Norway)",
          "20069731 (Norway)",
          "2b0e29ef (Norway)",
          "d51cd90c (Norway)",
          "94dc95d8 (Norway)",
          "3c94309d (Norway)",
          "6a306e76 (Norway)",
          "1920e8d5 (Norway)",
          "3e481576 (Norway)",
          "932ef8d5 (Norway)",
          "11d0c4a2 (Norway)",
          "3b0c3815 (Norway)",
          "93be5da2 (Norway)",
          "e848f182 (Norway)",
          "d642707c (Norway)",
          "5bc534f0 (Norway)",
          "c7289269 (Norway)",
          "29eb3e1b (Norway)",
          "3e07ce56 (Norway)",
          "941752da (Norway)",
          "cdfb50bf (Norway)",
          "b91151a3 (Norway)",
          "d88bc03a (Norway)",
          "5a6ba752 (Norway)",
          "7e4b3d4f (Norway)",
          "d7a35b3c (Netherlands)",
          "f0dc521c (Netherlands)",
          "d593cb78 (Netherlands)",
          "498873b2 (Netherlands)",
          "9a2290fc (Netherlands)",
          "de594337 (Netherlands)",
          "6174ecbe (Netherlands)",
          "8f06b854 (Netherlands)",
          "cfc291d3 (Netherlands)",
          "3b425ce9 (Netherlands)",
          "fb104ba8 (Netherlands)",
          "44e6e23b (Netherlands)",
          "63c64349 (Netherlands)",
          "30d19c18 (Netherlands)",
          "438d2740 (Netherlands)",
          "688a86aa (France)",
          "c1405178 (France)",
          "6b3c38e6 (France)",
          "613266b (Spain)",
          "2d00da80 (Spain)",
          "1c1dcfe8 (Spain)",
          "55dc62ae (Spain)",
          "379e35d4 (Spain)",
          "f1a26bc9 (Spain)",
          "b5812468 (Spain)",
          "36308864 (Spain)",
          "8e7fead8 (Spain)",
          "49da8233 (Spain)"
         ],
         "z": {
          "bdata": "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",
          "dtype": "f8",
          "shape": "61, 12"
         }
        },
        {
         "colorbar": {
          "title": {
           "text": "ADI"
          }
         },
         "colorscale": [
          [
           0,
           "#440154"
          ],
          [
           0.1111111111111111,
           "#482878"
          ],
          [
           0.2222222222222222,
           "#3e4989"
          ],
          [
           0.3333333333333333,
           "#31688e"
          ],
          [
           0.4444444444444444,
           "#26828e"
          ],
          [
           0.5555555555555556,
           "#1f9e89"
          ],
          [
           0.6666666666666666,
           "#35b779"
          ],
          [
           0.7777777777777778,
           "#6ece58"
          ],
          [
           0.8888888888888888,
           "#b5de2b"
          ],
          [
           1,
           "#fde725"
          ]
         ],
         "hovertemplate": "Device: %{y}<br>Week: %{x}<br>Value: %{z}<extra></extra>",
         "type": "heatmap",
         "visible": false,
         "x": [
          "2025-01-13T00:00:00.000000",
          "2025-01-20T00:00:00.000000",
          "2025-01-27T00:00:00.000000",
          "2025-02-03T00:00:00.000000",
          "2025-02-10T00:00:00.000000",
          "2025-02-17T00:00:00.000000",
          "2025-02-24T00:00:00.000000",
          "2025-03-03T00:00:00.000000",
          "2025-03-10T00:00:00.000000",
          "2025-03-17T00:00:00.000000",
          "2025-03-24T00:00:00.000000",
          "2025-03-31T00:00:00.000000"
         ],
         "y": [
          "dc98ad82 (Norway)",
          "1b36a79e (Norway)",
          "22f9afc5 (Norway)",
          "8ac55f2f (Norway)",
          "179e153c (Norway)",
          "4cb16fa2 (Norway)",
          "c27ff1cf (Norway)",
          "eb289bed (Norway)",
          "889bef22 (Norway)",
          "20069731 (Norway)",
          "2b0e29ef (Norway)",
          "d51cd90c (Norway)",
          "94dc95d8 (Norway)",
          "3c94309d (Norway)",
          "6a306e76 (Norway)",
          "1920e8d5 (Norway)",
          "3e481576 (Norway)",
          "932ef8d5 (Norway)",
          "11d0c4a2 (Norway)",
          "3b0c3815 (Norway)",
          "93be5da2 (Norway)",
          "e848f182 (Norway)",
          "d642707c (Norway)",
          "5bc534f0 (Norway)",
          "c7289269 (Norway)",
          "29eb3e1b (Norway)",
          "3e07ce56 (Norway)",
          "941752da (Norway)",
          "cdfb50bf (Norway)",
          "b91151a3 (Norway)",
          "d88bc03a (Norway)",
          "5a6ba752 (Norway)",
          "7e4b3d4f (Norway)",
          "d7a35b3c (Netherlands)",
          "f0dc521c (Netherlands)",
          "d593cb78 (Netherlands)",
          "498873b2 (Netherlands)",
          "9a2290fc (Netherlands)",
          "de594337 (Netherlands)",
          "6174ecbe (Netherlands)",
          "8f06b854 (Netherlands)",
          "cfc291d3 (Netherlands)",
          "3b425ce9 (Netherlands)",
          "fb104ba8 (Netherlands)",
          "44e6e23b (Netherlands)",
          "63c64349 (Netherlands)",
          "30d19c18 (Netherlands)",
          "438d2740 (Netherlands)",
          "688a86aa (France)",
          "c1405178 (France)",
          "6b3c38e6 (France)",
          "613266b (Spain)",
          "2d00da80 (Spain)",
          "1c1dcfe8 (Spain)",
          "55dc62ae (Spain)",
          "379e35d4 (Spain)",
          "f1a26bc9 (Spain)",
          "b5812468 (Spain)",
          "36308864 (Spain)",
          "8e7fead8 (Spain)",
          "49da8233 (Spain)"
         ],
         "z": {
          "bdata": "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",
          "dtype": "f8",
          "shape": "61, 12"
         }
        },
        {
         "colorbar": {
          "title": {
           "text": "BI"
          }
         },
         "colorscale": [
          [
           0,
           "#440154"
          ],
          [
           0.1111111111111111,
           "#482878"
          ],
          [
           0.2222222222222222,
           "#3e4989"
          ],
          [
           0.3333333333333333,
           "#31688e"
          ],
          [
           0.4444444444444444,
           "#26828e"
          ],
          [
           0.5555555555555556,
           "#1f9e89"
          ],
          [
           0.6666666666666666,
           "#35b779"
          ],
          [
           0.7777777777777778,
           "#6ece58"
          ],
          [
           0.8888888888888888,
           "#b5de2b"
          ],
          [
           1,
           "#fde725"
          ]
         ],
         "hovertemplate": "Device: %{y}<br>Week: %{x}<br>Value: %{z}<extra></extra>",
         "type": "heatmap",
         "visible": false,
         "x": [
          "2025-01-13T00:00:00.000000",
          "2025-01-20T00:00:00.000000",
          "2025-01-27T00:00:00.000000",
          "2025-02-03T00:00:00.000000",
          "2025-02-10T00:00:00.000000",
          "2025-02-17T00:00:00.000000",
          "2025-02-24T00:00:00.000000",
          "2025-03-03T00:00:00.000000",
          "2025-03-10T00:00:00.000000",
          "2025-03-17T00:00:00.000000",
          "2025-03-24T00:00:00.000000",
          "2025-03-31T00:00:00.000000"
         ],
         "y": [
          "dc98ad82 (Norway)",
          "1b36a79e (Norway)",
          "22f9afc5 (Norway)",
          "8ac55f2f (Norway)",
          "179e153c (Norway)",
          "4cb16fa2 (Norway)",
          "c27ff1cf (Norway)",
          "eb289bed (Norway)",
          "889bef22 (Norway)",
          "20069731 (Norway)",
          "2b0e29ef (Norway)",
          "d51cd90c (Norway)",
          "94dc95d8 (Norway)",
          "3c94309d (Norway)",
          "6a306e76 (Norway)",
          "1920e8d5 (Norway)",
          "3e481576 (Norway)",
          "932ef8d5 (Norway)",
          "11d0c4a2 (Norway)",
          "3b0c3815 (Norway)",
          "93be5da2 (Norway)",
          "e848f182 (Norway)",
          "d642707c (Norway)",
          "5bc534f0 (Norway)",
          "c7289269 (Norway)",
          "29eb3e1b (Norway)",
          "3e07ce56 (Norway)",
          "941752da (Norway)",
          "cdfb50bf (Norway)",
          "b91151a3 (Norway)",
          "d88bc03a (Norway)",
          "5a6ba752 (Norway)",
          "7e4b3d4f (Norway)",
          "d7a35b3c (Netherlands)",
          "f0dc521c (Netherlands)",
          "d593cb78 (Netherlands)",
          "498873b2 (Netherlands)",
          "9a2290fc (Netherlands)",
          "de594337 (Netherlands)",
          "6174ecbe (Netherlands)",
          "8f06b854 (Netherlands)",
          "cfc291d3 (Netherlands)",
          "3b425ce9 (Netherlands)",
          "fb104ba8 (Netherlands)",
          "44e6e23b (Netherlands)",
          "63c64349 (Netherlands)",
          "30d19c18 (Netherlands)",
          "438d2740 (Netherlands)",
          "688a86aa (France)",
          "c1405178 (France)",
          "6b3c38e6 (France)",
          "613266b (Spain)",
          "2d00da80 (Spain)",
          "1c1dcfe8 (Spain)",
          "55dc62ae (Spain)",
          "379e35d4 (Spain)",
          "f1a26bc9 (Spain)",
          "b5812468 (Spain)",
          "36308864 (Spain)",
          "8e7fead8 (Spain)",
          "49da8233 (Spain)"
         ],
         "z": {
          "bdata": "AAAAAAAA+H/ySENavL4vQP1pqIM2WCpAYZqJwjtgL0D9yNzKvjsnQChfl7hJbixAJz6lNo+0KkAEWre/4sswQLH/xSljuitAav8SHnKvL0AuymEbzIArQOMwc+er8idAAAAAAAAA+H/dLQEd+nInQMvHlF+9hCRAAAAAAAAA+H8AAAAAAAD4fwAAAAAAAPh/AAAAAAAA+H8AAAAAAAD4fwAAAAAAAPh/AAAAAAAA+H8AAAAAAAD4fwAAAAAAAPh/AAAAAAAA+H8f/7z7F7ExQKkPpGuVmChAv1856mtnL0AAAAAAAAD4fwAAAAAAAPh/AAAAAAAA+H8AAAAAAAD4fwAAAAAAAPh/AAAAAAAA+H8AAAAAAAD4fwAAAAAAAPh/AAAAAAAA+H8LmL+AYCYrQKsS96KnPCdAAAAAAAAA+H8AAAAAAAD4fwAAAAAAAPh/AAAAAAAA+H8AAAAAAAD4fwAAAAAAAPh/AAAAAAAA+H8AAAAAAAD4fwAAAAAAAPh/AAAAAAAA+H8AAAAAAAD4f10ArvEwziVAAAAAAAAA+H8AAAAAAAD4fwAAAAAAAPh/AAAAAAAA+H8AAAAAAAD4fwAAAAAAAPh/AAAAAAAA+H8AAAAAAAD4fwAAAAAAAPh/AAAAAAAA+H8AAAAAAAD4f3BS3Go3WyNAO3+v+MmFJEAWoX6YkuQjQFCQOZIX5iNAphW8sJolJUBs3wEYOq8pQFF6RWsuGidADF52DSjHJ0AXv1M0U5kmQEoOVRKuySdAAAAAAAAA+H8AAAAAAAD4fwAAAAAAAPh/AAAAAAAA+H8AAAAAAAD4fwAAAAAAAPh/AAAAAAAA+H8AAAAAAAD4fwAAAAAAAPh/ITVp4moQMEDzHUR52/0sQKCB1MkCaSlAAAAAAAAA+H8AAAAAAAD4f1s6Fz2SCiRA1ByV479AJUAposoP5jQkQDTxd4/7biRAAAAAAAAA+H8AAAAAAAD4fwAAAAAAAPh/AAAAAAAA+H8AAAAAAAD4fwAAAAAAAPh/6zQvJQZXKEA4ZRRTNTgmQAAAAAAAAPh/AAAAAAAA+H8AAAAAAAD4fwAAAAAAAPh/AAAAAAAA+H8AAAAAAAD4fwAAAAAAAPh/AAAAAAAA+H8AAAAAAAD4fwAAAAAAAPh/AAAAAAAA+H8AAAAAAAD4fwAAAAAAAPh/AAAAAAAA+H8AAAAAAAD4fwAAAAAAAPh/LOyiq3h3JUAovKfzgKYlQFQpDUjiwCRAH/pzQ/75JEDBXxTblPMkQKokSRSNECNAAAAAAAAA+H8AAAAAAAD4fwAAAAAAAPh/AAAAAAAA+H8AAAAAAAD4fwAAAAAAAPh/LKOvBc26JUAAAAAAAAD4fwAAAAAAAPh/AAAAAAAA+H8AAAAAAAD4fwAAAAAAAPh/AAAAAAAA+H8AAAAAAAD4fwAAAAAAAPh/AAAAAAAA+H8AAAAAAAD4fwAAAAAAAPh/anwRl+a7I0CtuDw3zYsjQK0T21PzACRA4sX7LViAI0D/I6p9I7ckQPqwuu96HyVAAAAAAAAA+H8AAAAAAAD4fwAAAAAAAPh/AAAAAAAA+H8AAAAAAAD4fwAAAAAAAPh/147GCmJiJEAFiVIVHzEkQFvjjU3ixCNA5T9038fLJEBcwDZI5zQkQOkf+2aHKCNAAAAAAAAA+H8AAAAAAAD4fwAAAAAAAPh/AAAAAAAA+H8AAAAAAAD4fwAAAAAAAPh/o/UV+TEEKUCYwsxjyl8rQN83TMD4cihAYqPrCakkKUB+6cY6ZIspQMhCJPfbXSdAAAAAAAAA+H8AAAAAAAD4f19nDumrQSNAAAAAAAAA+H8AAAAAAAD4fwAAAAAAAPh/tW3oLVPcIkAAAAAAAAD4fwAAAAAAAPh/AAAAAAAA+H8AAAAAAAD4fwAAAAAAAPh/AAAAAAAA+H8AAAAAAAD4fwAAAAAAAPh/AAAAAAAA+H8AAAAAAAD4fwAAAAAAAPh/VwGXGQLkJ0DYCj4dgCUoQFUGeIpvliZAGm31wJx2J0D4CJ0AGlgrQGJPhHXH8itAAAAAAAAA+H8AAAAAAAD4fwAAAAAAAPh/AAAAAAAA+H8AAAAAAAD4fwAAAAAAAPh/8IQOIMDvIkAAAAAAAAD4fwAAAAAAAPh/AAAAAAAA+H8AAAAAAAD4fwAAAAAAAPh/AAAAAAAA+H8AAAAAAAD4fwAAAAAAAPh/AAAAAAAA+H8AAAAAAAD4f49PnIL7oChAOpwu4g/1I0AAAAAAAAD4fwAAAAAAAPh/AAAAAAAA+H8AAAAAAAD4fwAAAAAAAPh/AAAAAAAA+H8AAAAAAAD4fwAAAAAAAPh/AAAAAAAA+H8AAAAAAAD4fwAAAAAAAPh/QeYRZ4hfMEAAAAAAAAD4fwAAAAAAAPh/AAAAAAAA+H8AAAAAAAD4fwAAAAAAAPh/AAAAAAAA+H8AAAAAAAD4fwAAAAAAAPh/AAAAAAAA+H8AAAAAAAD4fwAAAAAAAPh/AAAAAAAA+H8AAAAAAAD4fwAAAAAAAPh/C7nEAeDwKUBHQ3iwJ4csQC25+2/fjihAAAAAAAAA+H8AAAAAAAD4fwAAAAAAAPh/AAAAAAAA+H8AAAAAAAD4fwAAAAAAAPh/AAAAAAAA+H8AAAAAAAD4f9FOEu18GzNAI4HhlL1YMEAhugxJYsExQAAAAAAAAPh/AAAAAAAA+H8AAAAAAAD4fwAAAAAAAPh/AAAAAAAA+H8AAAAAAAD4fwAAAAAAAPh/AAAAAAAA+H8AAAAAAAD4fwAAAAAAAPh/q2hA8KdwM0Dq9J7+0mMxQDeQLtN3kC9AAAAAAAAA+H8AAAAAAAD4fwAAAAAAAPh/AAAAAAAA+H8AAAAAAAD4fwAAAAAAAPh/AAAAAAAA+H8AAAAAAAD4fwAAAAAAAPh/AAAAAAAA+H/uUfrMWKU6QFZy/9lSOzBAAAAAAAAA+H8AAAAAAAD4fwAAAAAAAPh/AAAAAAAA+H8AAAAAAAD4fwAAAAAAAPh/AAAAAAAA+H8AAAAAAAD4fwAAAAAAAPh/AAAAAAAA+H+jB9LMsYIuQBARcPWhXyhAAAAAAAAA+H8AAAAAAAD4fwAAAAAAAPh/AAAAAAAA+H8AAAAAAAD4fwAAAAAAAPh/AAAAAAAA+H8AAAAAAAD4fwAAAAAAAPh/AAAAAAAA+H+SUpUh4CwvQJSPpLyfWixAAAAAAAAA+H8AAAAAAAD4fwAAAAAAAPh/AAAAAAAA+H8AAAAAAAD4fwAAAAAAAPh/AAAAAAAA+H8AAAAAAAD4fwAAAAAAAPh/AAAAAAAA+H/l50hCHIYyQCNMa0jL2DFAAAAAAAAA+H8AAAAAAAD4fwAAAAAAAPh/AAAAAAAA+H8AAAAAAAD4fwAAAAAAAPh/AAAAAAAA+H8AAAAAAAD4fwAAAAAAAPh/AAAAAAAA+H+lkNDjMCQyQD+CcXzMqytAAAAAAAAA+H8AAAAAAAD4fwAAAAAAAPh/AAAAAAAA+H8AAAAAAAD4fwAAAAAAAPh/AAAAAAAA+H8AAAAAAAD4fwAAAAAAAPh/AAAAAAAA+H/bAMfqAm80QAAAAAAAAPh/AAAAAAAA+H8AAAAAAAD4fwAAAAAAAPh/AAAAAAAA+H8AAAAAAAD4fwAAAAAAAPh/AAAAAAAA+H8AAAAAAAD4fwAAAAAAAPh/AAAAAAAA+H9vX/N3XOAtQBIa9WkDfC9AAAAAAAAA+H8AAAAAAAD4fwAAAAAAAPh/AAAAAAAA+H8AAAAAAAD4fwAAAAAAAPh/AAAAAAAA+H8AAAAAAAD4fwAAAAAAAPh/AAAAAAAA+H/fA/PTsH44QCSsksSW0TFAAAAAAAAA+H8AAAAAAAD4fwAAAAAAAPh/AAAAAAAA+H8AAAAAAAD4fwAAAAAAAPh/AAAAAAAA+H8AAAAAAAD4fwAAAAAAAPh/AAAAAAAA+H/9Ch5N/K0sQBZhPRqlzytAAAAAAAAA+H8AAAAAAAD4fwAAAAAAAPh/AAAAAAAA+H8AAAAAAAD4fwAAAAAAAPh/AAAAAAAA+H8AAAAAAAD4fwAAAAAAAPh/AAAAAAAA+H87YWc9MWctQHeIf9lKNylAAAAAAAAA+H8AAAAAAAD4fwAAAAAAAPh/AAAAAAAA+H8AAAAAAAD4fwAAAAAAAPh/AAAAAAAA+H8AAAAAAAD4fwAAAAAAAPh/AAAAAAAA+H8a/EAR2f8nQNslTpSERSZAAAAAAAAA+H8AAAAAAAD4fwAAAAAAAPh/AAAAAAAA+H8AAAAAAAD4fwAAAAAAAPh/32mU2oq9KUAmDdijKxoqQAyJ90t1QihARezB77nyKEDufXlVbh4sQGt2djGBISlAAAAAAAAA+H8AAAAAAAD4fwAAAAAAAPh/AAAAAAAA+H8AAAAAAAD4f+FJZ5kBeyNAYyCOsRn2JECF4GxXQRQmQL/d2V0AkiVASQx6P2w1KUB07PAWq3IpQNRy82CbeilAAAAAAAAA+H8AAAAAAAD4fwAAAAAAAPh/AAAAAAAA+H8AAAAAAAD4f8yUuNA3KCRA/H44uFFeJkDHizowrEEnQJ6X8SEc9iVA3qWRZTreJUDuPK6THMImQFV5VxGApCRAAAAAAAAA+H8AAAAAAAD4fwAAAAAAAPh/AAAAAAAA+H8AAAAAAAD4f+9p0lV4cSRAo6lH9IWvJUCOlu+k3ukkQLD6iltxdCRAZeLRXsErJEC6isPFaX8lQD+NjWzOKSdAAAAAAAAA+H8AAAAAAAD4fxcFJUmAYiJAoplqs7q6IkBB1duHQcYiQCMUvvYfrCNAzCqNwRltI0A6L6e9CZQiQJAn+qVQIiNAdy4PTP6dI0Bkbdgs55IjQDU/V81lhCRAAAAAAAAA+H8AAAAAAAD4f02j27x21yRAzHjA/rZmJUAV/iSZK7AlQL63VqJgpSVAsZfG74kcJkC1AeLILDEmQNTf+HalbiZAlNBBCuitJkBA8UPzALomQPTnjpOXBCtAAAAAAAAA+H8AAAAAAAD4f3ECTWxZFCVAP+OP8OfdJEBWUkr9wyYlQFYjYupeKCVAmLJcQNe/JkC9bxT8qh0oQLaYRXajciZAScIFmgItJUB7j0drpaQlQOuuTZbTqCRAAAAAAAAA+H8AAAAAAAD4f2sdjmy3FSRA9p1p+/PGJEAKVBcfr4slQO5BgDHVwSRA7vF6wbmpJUArMQm2cCElQCBX7NlIWCVA20DK5zroJkDJFneUQ60nQP2YVxGrridAAAAAAAAA+H8AAAAAAAD4fwAAAAAAAPh/58S1PJN/L0D+UkZta6UoQL9YfwToZStAjBq14W4/J0DbQYbDPrgmQM1Ad6VpfSdAj+FZkqofK0D3o7tYrTsvQAT4Oi81YjFAAAAAAAAA+H8AAAAAAAD4fwAAAAAAAPh/KBCopT8YJEA3+xNl+bcjQFTf1S+5JiRAuKEdy1bsI0DHzG9pS7UjQO91MjFhSiNAUugKJb26JEA5XWuUnI4lQKubB5Pw4yVAAAAAAAAA+H8AAAAAAAD4fwAAAAAAAPh/CHc5SqwCKUBm0pZd75ApQOoq2+0J/SlAxi1mZHVUJkBMq2bbT6ErQC3FESx8SyhAAvomZN4CLECAlUvDZPomQAuGL6m+ViZAAAAAAAAA+H8AAAAAAAD4fwAAAAAAAPh/qZXWwWNaJUBfogKda+AkQLxdtoz98iZAfFNKkLhkJUDSW2LJ7+wkQBr/5MGFfSNAuYSHlQWMJUB2nCP6JQsmQFQMANqV3yRAAAAAAAAA+H8AAAAAAAD4fwAAAAAAAPh/cbHrZgpmJEB0e0/fdg4jQFV6eKExhiRA08lnvdK2IkC7DKRGUgclQJSzd0ALVCRAhLRlFFWoJUBqCxPPoWcoQPe91GlcaSZAAAAAAAAA+H8AAAAAAAD4fwAAAAAAAPh/1C6Y946uJUCsXxKH8eclQGQiX+AR9CNAjGdH1mVeJkAR3sV3rnYnQBySO+Z7RSZAtORgQ6ntJkCwh3B4QfMnQGVxZgIssiZAAAAAAAAA+H8AAAAAAAD4fwAAAAAAAPh/2IYogoMWJ0CTC7TziDImQFUoc4xKsCpA0BIzLcKKKkDNEmbIlXoqQI1168wu0ydAwJG7FwswKkAcOqmlNK0qQFOb3kmQBipAAAAAAAAA+H8AAAAAAAD4fwAAAAAAAPh/AAAAAAAA+H8AAAAAAAD4fwAAAAAAAPh/AAAAAAAA+H8AAAAAAAD4f39QAWls8yZAUixRcqQwJ0Agvtu4Rg0mQNFkVxuPZiVAAAAAAAAA+H8AAAAAAAD4fwAAAAAAAPh/AAAAAAAA+H8AAAAAAAD4fwAAAAAAAPh/AAAAAAAA+H8AAAAAAAD4f2ZptYbJ5yZAYTF3XzH+J0B1OqUGLmkmQCsjiV7vjiVAAAAAAAAA+H8AAAAAAAD4fwAAAAAAAPh/AAAAAAAA+H8AAAAAAAD4fwAAAAAAAPh/AAAAAAAA+H8AAAAAAAD4f1k/Oht3BSZAlraQhdTDKEBo7IxfK54kQM4bypdAhyRAAAAAAAAA+H8AAAAAAAD4fwAAAAAAAPh/AAAAAAAA+H8AAAAAAAD4fwAAAAAAAPh/AAAAAAAA+H8AAAAAAAD4fwAAAAAAAPh/qnMa4wsTKEDMiO0ytZooQDxuvGMA+CZAAAAAAAAA+H8AAAAAAAD4fwAAAAAAAPh/AAAAAAAA+H8AAAAAAAD4fwAAAAAAAPh/AAAAAAAA+H8AAAAAAAD4fwAAAAAAAPh/pWZwpsLGM0BDoVx+vEgtQLZmRmPgWS9AAAAAAAAA+H8AAAAAAAD4fwAAAAAAAPh/AAAAAAAA+H8AAAAAAAD4fwAAAAAAAPh/AAAAAAAA+H8AAAAAAAD4fwAAAAAAAPh/7nUUSYhDK0BAD4S80ssqQOWfDqHefypAAAAAAAAA+H8AAAAAAAD4fwAAAAAAAPh/AAAAAAAA+H8AAAAAAAD4fwAAAAAAAPh/AAAAAAAA+H8AAAAAAAD4fwAAAAAAAPh/AaGV/sX2MUDj2pCB45grQFowexyf4SpAAAAAAAAA+H8AAAAAAAD4fwAAAAAAAPh/AAAAAAAA+H8AAAAAAAD4fwAAAAAAAPh/AAAAAAAA+H8AAAAAAAD4fwAAAAAAAPh/AAAAAAAA+H/YeQdiFQclQKRb5YNw6iZAAAAAAAAA+H8AAAAAAAD4fwAAAAAAAPh/AAAAAAAA+H8AAAAAAAD4fwAAAAAAAPh/AAAAAAAA+H8AAAAAAAD4fwAAAAAAAPh/fA3EAWbjKEAAAAAAAAD4fwAAAAAAAPh/AAAAAAAA+H8AAAAAAAD4fwAAAAAAAPh/AAAAAAAA+H8AAAAAAAD4f2xBpZB2NiRAZ5tVR0/OJEDAhVz8H7ErQDGKth5JNCNAWVVXmQ8KKECblpKDd08jQDL3qOvsdCNAAAAAAAAA+H8AAAAAAAD4fwAAAAAAAPh/AAAAAAAA+H8AAAAAAAD4f7Z6tz/qZyhAkydjK2peKUAPR2JFYIUvQDZlYDaHrylAwtOeXhXCK0BsPcA5cd0rQKlSYPFZEyxAAAAAAAAA+H8AAAAAAAD4fwAAAAAAAPh/AAAAAAAA+H8AAAAAAAD4fwVAKcR8mCVATpDaSv+UJkDt2Nzj7s0sQOVbUkfgQiVAYdKzDaVwJ0ApJ7OsS6wnQCdgaCj3TCRAAAAAAAAA+H8AAAAAAAD4fwAAAAAAAPh/AAAAAAAA+H8AAAAAAAD4fwAAAAAAAPh/AAAAAAAA+H8AAAAAAAD4f9U/HAWtPydAt2WBeoFaKUAzaEV5h4MuQAAenw7vbypA",
          "dtype": "f8",
          "shape": "61, 12"
         }
        },
        {
         "colorbar": {
          "title": {
           "text": "Hf"
          }
         },
         "colorscale": [
          [
           0,
           "#440154"
          ],
          [
           0.1111111111111111,
           "#482878"
          ],
          [
           0.2222222222222222,
           "#3e4989"
          ],
          [
           0.3333333333333333,
           "#31688e"
          ],
          [
           0.4444444444444444,
           "#26828e"
          ],
          [
           0.5555555555555556,
           "#1f9e89"
          ],
          [
           0.6666666666666666,
           "#35b779"
          ],
          [
           0.7777777777777778,
           "#6ece58"
          ],
          [
           0.8888888888888888,
           "#b5de2b"
          ],
          [
           1,
           "#fde725"
          ]
         ],
         "hovertemplate": "Device: %{y}<br>Week: %{x}<br>Value: %{z}<extra></extra>",
         "type": "heatmap",
         "visible": false,
         "x": [
          "2025-01-13T00:00:00.000000",
          "2025-01-20T00:00:00.000000",
          "2025-01-27T00:00:00.000000",
          "2025-02-03T00:00:00.000000",
          "2025-02-10T00:00:00.000000",
          "2025-02-17T00:00:00.000000",
          "2025-02-24T00:00:00.000000",
          "2025-03-03T00:00:00.000000",
          "2025-03-10T00:00:00.000000",
          "2025-03-17T00:00:00.000000",
          "2025-03-24T00:00:00.000000",
          "2025-03-31T00:00:00.000000"
         ],
         "y": [
          "dc98ad82 (Norway)",
          "1b36a79e (Norway)",
          "22f9afc5 (Norway)",
          "8ac55f2f (Norway)",
          "179e153c (Norway)",
          "4cb16fa2 (Norway)",
          "c27ff1cf (Norway)",
          "eb289bed (Norway)",
          "889bef22 (Norway)",
          "20069731 (Norway)",
          "2b0e29ef (Norway)",
          "d51cd90c (Norway)",
          "94dc95d8 (Norway)",
          "3c94309d (Norway)",
          "6a306e76 (Norway)",
          "1920e8d5 (Norway)",
          "3e481576 (Norway)",
          "932ef8d5 (Norway)",
          "11d0c4a2 (Norway)",
          "3b0c3815 (Norway)",
          "93be5da2 (Norway)",
          "e848f182 (Norway)",
          "d642707c (Norway)",
          "5bc534f0 (Norway)",
          "c7289269 (Norway)",
          "29eb3e1b (Norway)",
          "3e07ce56 (Norway)",
          "941752da (Norway)",
          "cdfb50bf (Norway)",
          "b91151a3 (Norway)",
          "d88bc03a (Norway)",
          "5a6ba752 (Norway)",
          "7e4b3d4f (Norway)",
          "d7a35b3c (Netherlands)",
          "f0dc521c (Netherlands)",
          "d593cb78 (Netherlands)",
          "498873b2 (Netherlands)",
          "9a2290fc (Netherlands)",
          "de594337 (Netherlands)",
          "6174ecbe (Netherlands)",
          "8f06b854 (Netherlands)",
          "cfc291d3 (Netherlands)",
          "3b425ce9 (Netherlands)",
          "fb104ba8 (Netherlands)",
          "44e6e23b (Netherlands)",
          "63c64349 (Netherlands)",
          "30d19c18 (Netherlands)",
          "438d2740 (Netherlands)",
          "688a86aa (France)",
          "c1405178 (France)",
          "6b3c38e6 (France)",
          "613266b (Spain)",
          "2d00da80 (Spain)",
          "1c1dcfe8 (Spain)",
          "55dc62ae (Spain)",
          "379e35d4 (Spain)",
          "f1a26bc9 (Spain)",
          "b5812468 (Spain)",
          "36308864 (Spain)",
          "8e7fead8 (Spain)",
          "49da8233 (Spain)"
         ],
         "z": {
          "bdata": "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",
          "dtype": "f8",
          "shape": "61, 12"
         }
        },
        {
         "colorbar": {
          "title": {
           "text": "NDSI"
          }
         },
         "colorscale": [
          [
           0,
           "#440154"
          ],
          [
           0.1111111111111111,
           "#482878"
          ],
          [
           0.2222222222222222,
           "#3e4989"
          ],
          [
           0.3333333333333333,
           "#31688e"
          ],
          [
           0.4444444444444444,
           "#26828e"
          ],
          [
           0.5555555555555556,
           "#1f9e89"
          ],
          [
           0.6666666666666666,
           "#35b779"
          ],
          [
           0.7777777777777778,
           "#6ece58"
          ],
          [
           0.8888888888888888,
           "#b5de2b"
          ],
          [
           1,
           "#fde725"
          ]
         ],
         "hovertemplate": "Device: %{y}<br>Week: %{x}<br>Value: %{z}<extra></extra>",
         "type": "heatmap",
         "visible": false,
         "x": [
          "2025-01-13T00:00:00.000000",
          "2025-01-20T00:00:00.000000",
          "2025-01-27T00:00:00.000000",
          "2025-02-03T00:00:00.000000",
          "2025-02-10T00:00:00.000000",
          "2025-02-17T00:00:00.000000",
          "2025-02-24T00:00:00.000000",
          "2025-03-03T00:00:00.000000",
          "2025-03-10T00:00:00.000000",
          "2025-03-17T00:00:00.000000",
          "2025-03-24T00:00:00.000000",
          "2025-03-31T00:00:00.000000"
         ],
         "y": [
          "dc98ad82 (Norway)",
          "1b36a79e (Norway)",
          "22f9afc5 (Norway)",
          "8ac55f2f (Norway)",
          "179e153c (Norway)",
          "4cb16fa2 (Norway)",
          "c27ff1cf (Norway)",
          "eb289bed (Norway)",
          "889bef22 (Norway)",
          "20069731 (Norway)",
          "2b0e29ef (Norway)",
          "d51cd90c (Norway)",
          "94dc95d8 (Norway)",
          "3c94309d (Norway)",
          "6a306e76 (Norway)",
          "1920e8d5 (Norway)",
          "3e481576 (Norway)",
          "932ef8d5 (Norway)",
          "11d0c4a2 (Norway)",
          "3b0c3815 (Norway)",
          "93be5da2 (Norway)",
          "e848f182 (Norway)",
          "d642707c (Norway)",
          "5bc534f0 (Norway)",
          "c7289269 (Norway)",
          "29eb3e1b (Norway)",
          "3e07ce56 (Norway)",
          "941752da (Norway)",
          "cdfb50bf (Norway)",
          "b91151a3 (Norway)",
          "d88bc03a (Norway)",
          "5a6ba752 (Norway)",
          "7e4b3d4f (Norway)",
          "d7a35b3c (Netherlands)",
          "f0dc521c (Netherlands)",
          "d593cb78 (Netherlands)",
          "498873b2 (Netherlands)",
          "9a2290fc (Netherlands)",
          "de594337 (Netherlands)",
          "6174ecbe (Netherlands)",
          "8f06b854 (Netherlands)",
          "cfc291d3 (Netherlands)",
          "3b425ce9 (Netherlands)",
          "fb104ba8 (Netherlands)",
          "44e6e23b (Netherlands)",
          "63c64349 (Netherlands)",
          "30d19c18 (Netherlands)",
          "438d2740 (Netherlands)",
          "688a86aa (France)",
          "c1405178 (France)",
          "6b3c38e6 (France)",
          "613266b (Spain)",
          "2d00da80 (Spain)",
          "1c1dcfe8 (Spain)",
          "55dc62ae (Spain)",
          "379e35d4 (Spain)",
          "f1a26bc9 (Spain)",
          "b5812468 (Spain)",
          "36308864 (Spain)",
          "8e7fead8 (Spain)",
          "49da8233 (Spain)"
         ],
         "z": {
          "bdata": "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",
          "dtype": "f8",
          "shape": "61, 12"
         }
        },
        {
         "colorbar": {
          "title": {
           "text": "EVNspCount"
          }
         },
         "colorscale": [
          [
           0,
           "#440154"
          ],
          [
           0.1111111111111111,
           "#482878"
          ],
          [
           0.2222222222222222,
           "#3e4989"
          ],
          [
           0.3333333333333333,
           "#31688e"
          ],
          [
           0.4444444444444444,
           "#26828e"
          ],
          [
           0.5555555555555556,
           "#1f9e89"
          ],
          [
           0.6666666666666666,
           "#35b779"
          ],
          [
           0.7777777777777778,
           "#6ece58"
          ],
          [
           0.8888888888888888,
           "#b5de2b"
          ],
          [
           1,
           "#fde725"
          ]
         ],
         "hovertemplate": "Device: %{y}<br>Week: %{x}<br>Value: %{z}<extra></extra>",
         "type": "heatmap",
         "visible": false,
         "x": [
          "2025-01-13T00:00:00.000000",
          "2025-01-20T00:00:00.000000",
          "2025-01-27T00:00:00.000000",
          "2025-02-03T00:00:00.000000",
          "2025-02-10T00:00:00.000000",
          "2025-02-17T00:00:00.000000",
          "2025-02-24T00:00:00.000000",
          "2025-03-03T00:00:00.000000",
          "2025-03-10T00:00:00.000000",
          "2025-03-17T00:00:00.000000",
          "2025-03-24T00:00:00.000000",
          "2025-03-31T00:00:00.000000"
         ],
         "y": [
          "dc98ad82 (Norway)",
          "1b36a79e (Norway)",
          "22f9afc5 (Norway)",
          "8ac55f2f (Norway)",
          "179e153c (Norway)",
          "4cb16fa2 (Norway)",
          "c27ff1cf (Norway)",
          "eb289bed (Norway)",
          "889bef22 (Norway)",
          "20069731 (Norway)",
          "2b0e29ef (Norway)",
          "d51cd90c (Norway)",
          "94dc95d8 (Norway)",
          "3c94309d (Norway)",
          "6a306e76 (Norway)",
          "1920e8d5 (Norway)",
          "3e481576 (Norway)",
          "932ef8d5 (Norway)",
          "11d0c4a2 (Norway)",
          "3b0c3815 (Norway)",
          "93be5da2 (Norway)",
          "e848f182 (Norway)",
          "d642707c (Norway)",
          "5bc534f0 (Norway)",
          "c7289269 (Norway)",
          "29eb3e1b (Norway)",
          "3e07ce56 (Norway)",
          "941752da (Norway)",
          "cdfb50bf (Norway)",
          "b91151a3 (Norway)",
          "d88bc03a (Norway)",
          "5a6ba752 (Norway)",
          "7e4b3d4f (Norway)",
          "d7a35b3c (Netherlands)",
          "f0dc521c (Netherlands)",
          "d593cb78 (Netherlands)",
          "498873b2 (Netherlands)",
          "9a2290fc (Netherlands)",
          "de594337 (Netherlands)",
          "6174ecbe (Netherlands)",
          "8f06b854 (Netherlands)",
          "cfc291d3 (Netherlands)",
          "3b425ce9 (Netherlands)",
          "fb104ba8 (Netherlands)",
          "44e6e23b (Netherlands)",
          "63c64349 (Netherlands)",
          "30d19c18 (Netherlands)",
          "438d2740 (Netherlands)",
          "688a86aa (France)",
          "c1405178 (France)",
          "6b3c38e6 (France)",
          "613266b (Spain)",
          "2d00da80 (Spain)",
          "1c1dcfe8 (Spain)",
          "55dc62ae (Spain)",
          "379e35d4 (Spain)",
          "f1a26bc9 (Spain)",
          "b5812468 (Spain)",
          "36308864 (Spain)",
          "8e7fead8 (Spain)",
          "49da8233 (Spain)"
         ],
         "z": {
          "bdata": "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",
          "dtype": "f8",
          "shape": "61, 12"
         }
        }
       ],
       "layout": {
        "annotations": [
         {
          "showarrow": false,
          "text": "Select Acoustic Index:",
          "x": 0.5,
          "xref": "paper",
          "y": 1.12,
          "yref": "paper"
         }
        ],
        "height": 800,
        "margin": {
         "b": 70,
         "l": 200,
         "r": 20,
         "t": 100
        },
        "template": {
         "data": {
          "bar": [
           {
            "error_x": {
             "color": "#2a3f5f"
            },
            "error_y": {
             "color": "#2a3f5f"
            },
            "marker": {
             "line": {
              "color": "#E5ECF6",
              "width": 0.5
             },
             "pattern": {
              "fillmode": "overlay",
              "size": 10,
              "solidity": 0.2
             }
            },
            "type": "bar"
           }
          ],
          "barpolar": [
           {
            "marker": {
             "line": {
              "color": "#E5ECF6",
              "width": 0.5
             },
             "pattern": {
              "fillmode": "overlay",
              "size": 10,
              "solidity": 0.2
             }
            },
            "type": "barpolar"
           }
          ],
          "carpet": [
           {
            "aaxis": {
             "endlinecolor": "#2a3f5f",
             "gridcolor": "white",
             "linecolor": "white",
             "minorgridcolor": "white",
             "startlinecolor": "#2a3f5f"
            },
            "baxis": {
             "endlinecolor": "#2a3f5f",
             "gridcolor": "white",
             "linecolor": "white",
             "minorgridcolor": "white",
             "startlinecolor": "#2a3f5f"
            },
            "type": "carpet"
           }
          ],
          "choropleth": [
           {
            "colorbar": {
             "outlinewidth": 0,
             "ticks": ""
            },
            "type": "choropleth"
           }
          ],
          "contour": [
           {
            "colorbar": {
             "outlinewidth": 0,
             "ticks": ""
            },
            "colorscale": [
             [
              0,
              "#0d0887"
             ],
             [
              0.1111111111111111,
              "#46039f"
             ],
             [
              0.2222222222222222,
              "#7201a8"
             ],
             [
              0.3333333333333333,
              "#9c179e"
             ],
             [
              0.4444444444444444,
              "#bd3786"
             ],
             [
              0.5555555555555556,
              "#d8576b"
             ],
             [
              0.6666666666666666,
              "#ed7953"
             ],
             [
              0.7777777777777778,
              "#fb9f3a"
             ],
             [
              0.8888888888888888,
              "#fdca26"
             ],
             [
              1,
              "#f0f921"
             ]
            ],
            "type": "contour"
           }
          ],
          "contourcarpet": [
           {
            "colorbar": {
             "outlinewidth": 0,
             "ticks": ""
            },
            "type": "contourcarpet"
           }
          ],
          "heatmap": [
           {
            "colorbar": {
             "outlinewidth": 0,
             "ticks": ""
            },
            "colorscale": [
             [
              0,
              "#0d0887"
             ],
             [
              0.1111111111111111,
              "#46039f"
             ],
             [
              0.2222222222222222,
              "#7201a8"
             ],
             [
              0.3333333333333333,
              "#9c179e"
             ],
             [
              0.4444444444444444,
              "#bd3786"
             ],
             [
              0.5555555555555556,
              "#d8576b"
             ],
             [
              0.6666666666666666,
              "#ed7953"
             ],
             [
              0.7777777777777778,
              "#fb9f3a"
             ],
             [
              0.8888888888888888,
              "#fdca26"
             ],
             [
              1,
              "#f0f921"
             ]
            ],
            "type": "heatmap"
           }
          ],
          "histogram": [
           {
            "marker": {
             "pattern": {
              "fillmode": "overlay",
              "size": 10,
              "solidity": 0.2
             }
            },
            "type": "histogram"
           }
          ],
          "histogram2d": [
           {
            "colorbar": {
             "outlinewidth": 0,
             "ticks": ""
            },
            "colorscale": [
             [
              0,
              "#0d0887"
             ],
             [
              0.1111111111111111,
              "#46039f"
             ],
             [
              0.2222222222222222,
              "#7201a8"
             ],
             [
              0.3333333333333333,
              "#9c179e"
             ],
             [
              0.4444444444444444,
              "#bd3786"
             ],
             [
              0.5555555555555556,
              "#d8576b"
             ],
             [
              0.6666666666666666,
              "#ed7953"
             ],
             [
              0.7777777777777778,
              "#fb9f3a"
             ],
             [
              0.8888888888888888,
              "#fdca26"
             ],
             [
              1,
              "#f0f921"
             ]
            ],
            "type": "histogram2d"
           }
          ],
          "histogram2dcontour": [
           {
            "colorbar": {
             "outlinewidth": 0,
             "ticks": ""
            },
            "colorscale": [
             [
              0,
              "#0d0887"
             ],
             [
              0.1111111111111111,
              "#46039f"
             ],
             [
              0.2222222222222222,
              "#7201a8"
             ],
             [
              0.3333333333333333,
              "#9c179e"
             ],
             [
              0.4444444444444444,
              "#bd3786"
             ],
             [
              0.5555555555555556,
              "#d8576b"
             ],
             [
              0.6666666666666666,
              "#ed7953"
             ],
             [
              0.7777777777777778,
              "#fb9f3a"
             ],
             [
              0.8888888888888888,
              "#fdca26"
             ],
             [
              1,
              "#f0f921"
             ]
            ],
            "type": "histogram2dcontour"
           }
          ],
          "mesh3d": [
           {
            "colorbar": {
             "outlinewidth": 0,
             "ticks": ""
            },
            "type": "mesh3d"
           }
          ],
          "parcoords": [
           {
            "line": {
             "colorbar": {
              "outlinewidth": 0,
              "ticks": ""
             }
            },
            "type": "parcoords"
           }
          ],
          "pie": [
           {
            "automargin": true,
            "type": "pie"
           }
          ],
          "scatter": [
           {
            "fillpattern": {
             "fillmode": "overlay",
             "size": 10,
             "solidity": 0.2
            },
            "type": "scatter"
           }
          ],
          "scatter3d": [
           {
            "line": {
             "colorbar": {
              "outlinewidth": 0,
              "ticks": ""
             }
            },
            "marker": {
             "colorbar": {
              "outlinewidth": 0,
              "ticks": ""
             }
            },
            "type": "scatter3d"
           }
          ],
          "scattercarpet": [
           {
            "marker": {
             "colorbar": {
              "outlinewidth": 0,
              "ticks": ""
             }
            },
            "type": "scattercarpet"
           }
          ],
          "scattergeo": [
           {
            "marker": {
             "colorbar": {
              "outlinewidth": 0,
              "ticks": ""
             }
            },
            "type": "scattergeo"
           }
          ],
          "scattergl": [
           {
            "marker": {
             "colorbar": {
              "outlinewidth": 0,
              "ticks": ""
             }
            },
            "type": "scattergl"
           }
          ],
          "scattermap": [
           {
            "marker": {
             "colorbar": {
              "outlinewidth": 0,
              "ticks": ""
             }
            },
            "type": "scattermap"
           }
          ],
          "scattermapbox": [
           {
            "marker": {
             "colorbar": {
              "outlinewidth": 0,
              "ticks": ""
             }
            },
            "type": "scattermapbox"
           }
          ],
          "scatterpolar": [
           {
            "marker": {
             "colorbar": {
              "outlinewidth": 0,
              "ticks": ""
             }
            },
            "type": "scatterpolar"
           }
          ],
          "scatterpolargl": [
           {
            "marker": {
             "colorbar": {
              "outlinewidth": 0,
              "ticks": ""
             }
            },
            "type": "scatterpolargl"
           }
          ],
          "scatterternary": [
           {
            "marker": {
             "colorbar": {
              "outlinewidth": 0,
              "ticks": ""
             }
            },
            "type": "scatterternary"
           }
          ],
          "surface": [
           {
            "colorbar": {
             "outlinewidth": 0,
             "ticks": ""
            },
            "colorscale": [
             [
              0,
              "#0d0887"
             ],
             [
              0.1111111111111111,
              "#46039f"
             ],
             [
              0.2222222222222222,
              "#7201a8"
             ],
             [
              0.3333333333333333,
              "#9c179e"
             ],
             [
              0.4444444444444444,
              "#bd3786"
             ],
             [
              0.5555555555555556,
              "#d8576b"
             ],
             [
              0.6666666666666666,
              "#ed7953"
             ],
             [
              0.7777777777777778,
              "#fb9f3a"
             ],
             [
              0.8888888888888888,
              "#fdca26"
             ],
             [
              1,
              "#f0f921"
             ]
            ],
            "type": "surface"
           }
          ],
          "table": [
           {
            "cells": {
             "fill": {
              "color": "#EBF0F8"
             },
             "line": {
              "color": "white"
             }
            },
            "header": {
             "fill": {
              "color": "#C8D4E3"
             },
             "line": {
              "color": "white"
             }
            },
            "type": "table"
           }
          ]
         },
         "layout": {
          "annotationdefaults": {
           "arrowcolor": "#2a3f5f",
           "arrowhead": 0,
           "arrowwidth": 1
          },
          "autotypenumbers": "strict",
          "coloraxis": {
           "colorbar": {
            "outlinewidth": 0,
            "ticks": ""
           }
          },
          "colorscale": {
           "diverging": [
            [
             0,
             "#8e0152"
            ],
            [
             0.1,
             "#c51b7d"
            ],
            [
             0.2,
             "#de77ae"
            ],
            [
             0.3,
             "#f1b6da"
            ],
            [
             0.4,
             "#fde0ef"
            ],
            [
             0.5,
             "#f7f7f7"
            ],
            [
             0.6,
             "#e6f5d0"
            ],
            [
             0.7,
             "#b8e186"
            ],
            [
             0.8,
             "#7fbc41"
            ],
            [
             0.9,
             "#4d9221"
            ],
            [
             1,
             "#276419"
            ]
           ],
           "sequential": [
            [
             0,
             "#0d0887"
            ],
            [
             0.1111111111111111,
             "#46039f"
            ],
            [
             0.2222222222222222,
             "#7201a8"
            ],
            [
             0.3333333333333333,
             "#9c179e"
            ],
            [
             0.4444444444444444,
             "#bd3786"
            ],
            [
             0.5555555555555556,
             "#d8576b"
            ],
            [
             0.6666666666666666,
             "#ed7953"
            ],
            [
             0.7777777777777778,
             "#fb9f3a"
            ],
            [
             0.8888888888888888,
             "#fdca26"
            ],
            [
             1,
             "#f0f921"
            ]
           ],
           "sequentialminus": [
            [
             0,
             "#0d0887"
            ],
            [
             0.1111111111111111,
             "#46039f"
            ],
            [
             0.2222222222222222,
             "#7201a8"
            ],
            [
             0.3333333333333333,
             "#9c179e"
            ],
            [
             0.4444444444444444,
             "#bd3786"
            ],
            [
             0.5555555555555556,
             "#d8576b"
            ],
            [
             0.6666666666666666,
             "#ed7953"
            ],
            [
             0.7777777777777778,
             "#fb9f3a"
            ],
            [
             0.8888888888888888,
             "#fdca26"
            ],
            [
             1,
             "#f0f921"
            ]
           ]
          },
          "colorway": [
           "#636efa",
           "#EF553B",
           "#00cc96",
           "#ab63fa",
           "#FFA15A",
           "#19d3f3",
           "#FF6692",
           "#B6E880",
           "#FF97FF",
           "#FECB52"
          ],
          "font": {
           "color": "#2a3f5f"
          },
          "geo": {
           "bgcolor": "white",
           "lakecolor": "white",
           "landcolor": "#E5ECF6",
           "showlakes": true,
           "showland": true,
           "subunitcolor": "white"
          },
          "hoverlabel": {
           "align": "left"
          },
          "hovermode": "closest",
          "mapbox": {
           "style": "light"
          },
          "paper_bgcolor": "white",
          "plot_bgcolor": "#E5ECF6",
          "polar": {
           "angularaxis": {
            "gridcolor": "white",
            "linecolor": "white",
            "ticks": ""
           },
           "bgcolor": "#E5ECF6",
           "radialaxis": {
            "gridcolor": "white",
            "linecolor": "white",
            "ticks": ""
           }
          },
          "scene": {
           "xaxis": {
            "backgroundcolor": "#E5ECF6",
            "gridcolor": "white",
            "gridwidth": 2,
            "linecolor": "white",
            "showbackground": true,
            "ticks": "",
            "zerolinecolor": "white"
           },
           "yaxis": {
            "backgroundcolor": "#E5ECF6",
            "gridcolor": "white",
            "gridwidth": 2,
            "linecolor": "white",
            "showbackground": true,
            "ticks": "",
            "zerolinecolor": "white"
           },
           "zaxis": {
            "backgroundcolor": "#E5ECF6",
            "gridcolor": "white",
            "gridwidth": 2,
            "linecolor": "white",
            "showbackground": true,
            "ticks": "",
            "zerolinecolor": "white"
           }
          },
          "shapedefaults": {
           "line": {
            "color": "#2a3f5f"
           }
          },
          "ternary": {
           "aaxis": {
            "gridcolor": "white",
            "linecolor": "white",
            "ticks": ""
           },
           "baxis": {
            "gridcolor": "white",
            "linecolor": "white",
            "ticks": ""
           },
           "bgcolor": "#E5ECF6",
           "caxis": {
            "gridcolor": "white",
            "linecolor": "white",
            "ticks": ""
           }
          },
          "title": {
           "x": 0.05
          },
          "xaxis": {
           "automargin": true,
           "gridcolor": "white",
           "linecolor": "white",
           "ticks": "",
           "title": {
            "standoff": 15
           },
           "zerolinecolor": "white",
           "zerolinewidth": 2
          },
          "yaxis": {
           "automargin": true,
           "gridcolor": "white",
           "linecolor": "white",
           "ticks": "",
           "title": {
            "standoff": 15
           },
           "zerolinecolor": "white",
           "zerolinewidth": 2
          }
         }
        },
        "title": {
         "text": "Acoustic Index by Device Over Time"
        },
        "updatemenus": [
         {
          "active": 0,
          "buttons": [
           {
            "args": [
             {
              "visible": [
               true,
               false,
               false,
               false,
               false,
               false,
               false
              ]
             },
             {
              "title": "uncertainty by Device Over Time"
             }
            ],
            "label": "uncertainty",
            "method": "update"
           },
           {
            "args": [
             {
              "visible": [
               false,
               true,
               false,
               false,
               false,
               false,
               false
              ]
             },
             {
              "title": "ACI by Device Over Time"
             }
            ],
            "label": "ACI",
            "method": "update"
           },
           {
            "args": [
             {
              "visible": [
               false,
               false,
               true,
               false,
               false,
               false,
               false
              ]
             },
             {
              "title": "ADI by Device Over Time"
             }
            ],
            "label": "ADI",
            "method": "update"
           },
           {
            "args": [
             {
              "visible": [
               false,
               false,
               false,
               true,
               false,
               false,
               false
              ]
             },
             {
              "title": "BI by Device Over Time"
             }
            ],
            "label": "BI",
            "method": "update"
           },
           {
            "args": [
             {
              "visible": [
               false,
               false,
               false,
               false,
               true,
               false,
               false
              ]
             },
             {
              "title": "Hf by Device Over Time"
             }
            ],
            "label": "Hf",
            "method": "update"
           },
           {
            "args": [
             {
              "visible": [
               false,
               false,
               false,
               false,
               false,
               true,
               false
              ]
             },
             {
              "title": "NDSI by Device Over Time"
             }
            ],
            "label": "NDSI",
            "method": "update"
           },
           {
            "args": [
             {
              "visible": [
               false,
               false,
               false,
               false,
               false,
               false,
               true
              ]
             },
             {
              "title": "EVNspCount by Device Over Time"
             }
            ],
            "label": "EVNspCount",
            "method": "update"
           }
          ],
          "direction": "down",
          "pad": {
           "r": 10,
           "t": 10
          },
          "showactive": true,
          "x": 0.58,
          "xanchor": "left",
          "y": 1.15,
          "yanchor": "top"
         }
        ],
        "width": 1200,
        "xaxis": {
         "title": {
          "text": "Week"
         }
        },
        "yaxis": {
         "title": {
          "text": "Device ID by Latitude (Country)"
         }
        }
       }
      }
     },
     "metadata": {},
     "output_type": "display_data"
    }
   ],
   "source": [
    "import plotly.graph_objects as go\n",
    "\n",
    "fig = go.Figure()\n",
    "\n",
    "# Add a heatmap trace for each acoustic index\n",
    "acoustic_indices = ['uncertainty', 'ACI', 'ADI', 'BI', 'Hf', 'NDSI', 'EVNspCount']\n",
    "\n",
    "for i, index in enumerate(acoustic_indices):\n",
    "    # Create pivot table but keep the ordering by latitude\n",
    "    pivot_data = agg_df.pivot_table(\n",
    "        values=index,\n",
    "        index='device_id',\n",
    "        columns=TIME_GRANULARITY,\n",
    "        aggfunc='mean'\n",
    "    )\n",
    "    \n",
    "    # Reorder the pivot table rows according to latitude\n",
    "    pivot_data = pivot_data.reindex(device_labels['device_id'])\n",
    "    \n",
    "    # Set visibility\n",
    "    visible = True if i == 0 else False\n",
    "    \n",
    "    # Add trace with ordered labels\n",
    "    fig.add_trace(\n",
    "        go.Heatmap(\n",
    "            z=pivot_data.values,\n",
    "            x=pivot_data.columns,\n",
    "            y=device_labels['device_label'],  # Use the labels with country\n",
    "            colorscale='Viridis',\n",
    "            visible=visible,\n",
    "            colorbar=dict(title=index),\n",
    "            hovertemplate=\"Device: %{y}<br>{TIME_GRANULARITY}: %{x}<br>Value: %{z}<extra></extra>\"\n",
    "        )\n",
    "    )\n",
    "\n",
    "# Create buttons for dropdown menu\n",
    "buttons = []\n",
    "for i, index in enumerate(acoustic_indices):\n",
    "    button = dict(\n",
    "        method=\"update\",\n",
    "        label=index,\n",
    "        args=[\n",
    "            {\"visible\": [j == i for j in range(len(acoustic_indices))]},\n",
    "            {\"title\": f\"{index} by Device Over Time\"}\n",
    "        ]\n",
    "    )\n",
    "    buttons.append(button)\n",
    "\n",
    "# Add dropdown menu\n",
    "fig.update_layout(\n",
    "    updatemenus=[\n",
    "        dict(\n",
    "            active=0,\n",
    "            buttons=buttons,\n",
    "            direction=\"down\",\n",
    "            pad={\"r\": 10, \"t\": 10},\n",
    "            showactive=True,\n",
    "            x=0.58,\n",
    "            xanchor=\"left\",\n",
    "            y=1.15,\n",
    "            yanchor=\"top\"\n",
    "        )\n",
    "    ],\n",
    "    title=\"Acoustic Index by Device Over Time\",\n",
    "    height=800,\n",
    "    width=1200,\n",
    "    xaxis_title=\"Week\",\n",
    "    yaxis_title=\"Device ID by Latitude (Country)\",\n",
    "    margin=dict(l=200, r=20, t=100, b=70),  # Increased left margin for longer labels\n",
    ")\n",
    "\n",
    "# Add a label for the dropdown\n",
    "fig.add_annotation(\n",
    "    text=\"Select Acoustic Index:\",\n",
    "    x=0.5,\n",
    "    y=1.12,\n",
    "    xref=\"paper\",\n",
    "    yref=\"paper\",\n",
    "    showarrow=False\n",
    ")\n",
    "\n",
    "# Show figure\n",
    "fig.show()"
   ]
  },
  {
   "cell_type": "markdown",
   "id": "4cd45c57",
   "metadata": {},
   "source": [
    "# Plot uncertainty vs acoustic indices per country"
   ]
  },
  {
   "cell_type": "code",
   "execution_count": null,
   "id": "e5a45189",
   "metadata": {},
   "outputs": [
    {
     "data": {
      "application/vnd.plotly.v1+json": {
       "config": {
        "plotlyServerURL": "https://plot.ly"
       },
       "data": [
        {
         "legendgroup": "Norway",
         "marker": {
          "opacity": 0.6,
          "size": 8
         },
         "mode": "markers",
         "name": "ACI - Norway",
         "showlegend": false,
         "type": "scatter",
         "visible": true,
         "x": {
          "bdata": "up5rXP1Ec0Cs9aAFIzFzQNX0uqgxRnNARZGE6pB3c0Bg9cBHTypzQA1GhD9wU3NAFp39NdgZc0CciwkHl09zQBbsvY0lMnNA8tg5UiYrc0DSUAXFVkNzQNT6YucaLnNABuCipeZRc0D9Da8CpG50QB+urNgTJHRAkbCUHKiPc0AGS9BEHptzQLBCFAz/LHNAMile0Mdkc0CO3glB0wtzQApY31QjLXNAkrY/og8Qc0B1Xx5bjRNzQJNiM1HiDXNAAqMDSa0Qc0BUzm9OAhpzQDA5Jyz4HHNAWkgIU9wNc0CL3YZ5xxxzQNWDJcLf/3NA0vpxdIOOc0DusCyzON9zQM5DNcUEFXNAJwNgjcUdc0AFVmzMORNzQP+nzNSLG3NAIPiwWX4Ec0D5Aocb6xVzQBXY69P3KHNAFWfyZDolc0C8Jr/crRdzQElyCo7yNHNAHGojOEgsc0AaOuazNjNzQKSSjsmsVnNAzdgS4d8Pc0DDusknoAhzQNDUWzWUDXNAtIvSRe0Rc0BvacFKkg1zQPZYYeMuHXNAaSdhrhoRc0CE2QxliBVzQBKnlEfeK3NAplB9+3QTc0DE0QY2PRdzQMj0HFN1DHNA/q+5uNUzc0Cmw9z2/ElzQEXbAAa5RXNAUFunVHtfc0DF5FqTdDZzQGncDqxMQ3NAyuFEsvYFc0C/vwX9cBJzQGX3CWTKKXNAD/27KzQZc0ATCuPE1CVzQE2NK1tIJnNAK52JByAac0ADqoA26iVzQPjIBl4mEXNAQ6uSgp4Yc0BJxoSQK29zQB8Q2pcLLnNAmynIW2NFc0C2Wl7agT9zQOjUgnQIf3NARhdd9JVbdkBINfzuezhzQL7MZQ7VhXNAfIZyL2NXc0Dr0jxXoZNzQJkNLn5AlXNAJh6HSoXQc0Ax+NIeIvBzQEgyiJp8JnNAWk1jt0mjc0A8z1rbUTZzQPAnwDCxcXNAlEBleSSjc0BI9FBoQJpzQNHgznX2HnRAdXdq9tBac0CJXzuZwZZzQIxNiHWLUnNAb7KXIltRc0DljpHqHU9zQEQAQi8xanNAF6rYia0mc0DDV3idoytzQJmY8h6hynNAMbFrVoNvc0Bfn/CqGkVzQIJmaxatInNA",
          "dtype": "f8"
         },
         "xaxis": "x",
         "y": {
          "bdata": "2ai7c6OKeT8+CCkCm/55Pyi/7hepQYI//KO0ISgleD+2zKszOKN0P3ojnzAXXII/TJL38RgRdj8jToV3Hqd0PwzxE+H5VHU/5S9piNTWdj9R1ZgAZjp4PzuMr8IrhHo/9D86bQQ5eD/pzlDsX+l9PzeTGfBf5Ho/yw/zcnMqej+u6XzabE14P/j5M5Ar4Hg/BjIpilW5eT9KJEMrRjqBP2HtL1QJp4s/flViipgZfz9mhWY4l/h7PyET/0FtwXc/A6fjYgCsdj/z3Ke5ZFJxP9KlJiLBF3Y/Or4zRRJcfT/FG6hrH4CKP+ghrc44ems/UvioXgKCYz/87Dwo4/VzPxZfGn6Zf3M/LYcvnz5tcT+ekgiXt29xP/EBBLLwaHA/rtbccz0HeD8KLs4RvGZ6P+kpHArxS3A/qUhHGxWGcT9r1JFCfLhoP9LuqWHaYXU/uZtQTB4Hcj9fegcyyD9xP/SBCR7Rk3Q/Al/CJSH9dj8KfXiR+S52P6Ti/twJ2oM/JmgxvrK8eD8xtM0lnv+BP9+a4DGStnQ/jUoSuwL4az/ivmkBPddqP6l4smcAmmo/xzy5NWDQaT8yRXL+53ltPxvhXw3tHWk/UKxO3x8Zgz/UdsSduzCDP7zxtA5Z64I/DEq2V4nGgz+xDowqUoKCPzFVr9kKUIM/LeXLG//ldz8sadUU6Q92P0Z8hkt4nog/g4WbfZ46gD+nFGxIB6+EP0SSmrPULo0/NzDKycEegz9hDlLZqXuAP4fbFpkoA3E/qhF560C0dz9R+gRkj3p7P+4ffMSfIYM/WvJOg6y9dj8RJvehou16P4h7JXBfs4E/XXTR7Z9Kez/sa1pVbQJ+PxAj+quH2oA/VVFj0lNqgj9iy8MZcz+DP5Y2ZdFy2IM/ZscHMJo+gz8+C8mDxiCEP70kxwCg8X4/LAvqUX1jgD+3PzwXdfyNP+HdfY5BZog/eAyLZMYfXj/uwitRyQ9uP5QqTqiby3g/3vIobS8VcD/6eoG791mJP1s+TvEs54U/rZenf6achD8uNWo5UCyJP0utmvcGSYQ/PcTjvT/9ij+2zWE+fcKKP1fpk5CZXIA/cAevSfbjgD94BQX4K9KBP8XEhSq30oI/",
          "dtype": "f8"
         },
         "yaxis": "y"
        },
        {
         "legendgroup": "Norway",
         "line": {
          "color": "red",
          "width": 2
         },
         "mode": "lines",
         "showlegend": false,
         "type": "scatter",
         "visible": true,
         "x": {
          "bdata": "IPiwWX4Ec0CxpXR/IQ1zQEJTOKXEFXNA1AD8ymcec0Blrr/wCidzQPZbgxauL3NAhwlHPFE4c0AYtwpi9EBzQKpkzoeXSXNAOxKSrTpSc0DMv1XT3VpzQF1tGfmAY3NA7hrdHiRsc0B/yKBEx3RzQBF2ZGpqfXNAoiMokA2Gc0Az0eu1sI5zQMR+r9tTl3NAVSxzAfefc0Dn2TYnmqhzQHiH+kw9sXNACTW+cuC5c0Ca4oGYg8JzQCuQRb4my3NAvT0J5MnTc0BO68wJbdxzQN+YkC8Q5XNAcEZUVbPtc0AB9Bd7VvZzQJOh26D5/nNAJE+fxpwHdEC1/GLsPxB0QEaqJhLjGHRA11fqN4YhdEBoBa5dKSp0QPqycYPMMnRAi2A1qW87dEAcDvnOEkR0QK27vPS1THRAPmmAGllVdEDQFkRA/F10QGHEB2afZnRA8nHLi0JvdECDH4+x5Xd0QBTNUteIgHRApnoW/SuJdEA3KNoiz5F0QMjVnUhymnRAWYNhbhWjdEDqMCWUuKt0QHze6LlbtHRADYys3/68dECeOXAFosV0QC/nMytFznRAwJT3UOjWdEBSQrt2i990QOPvfpwu6HRAdJ1CwtHwdEAFSwbodPl0QJb4yQ0YAnVAKKaNM7sKdUC5U1FZXhN1QEoBFX8BHHVA267YpKQkdUBsXJzKRy11QP4JYPDqNXVAj7cjFo4+dUAgZec7MUd1QLESq2HUT3VAQsBuh3dYdUDTbTKtGmF1QGUb9tK9aXVA9si5+GBydUCHdn0eBHt1QBgkQUSng3VAqdEEakqMdUA6f8iP7ZR1QMwsjLWQnXVAXdpP2zOmdUDuhxMB1651QH811yZ6t3VAEOOaTB3AdUCikF5ywMh1QDM+Iphj0XVAxOvlvQbadUBVmanjqeJ1QOZGbQlN63VAePQwL/DzdUAJovRUk/x1QJpPuHo2BXZAK/17oNkNdkC8qj/GfBZ2QE5YA+wfH3ZA3wXHEcMndkBws4o3ZjB2QAFhTl0JOXZAkg4Sg6xBdkAkvNWoT0p2QLVpmc7yUnZARhdd9JVbdkA=",
          "dtype": "f8"
         },
         "xaxis": "x",
         "y": {
          "bdata": "SgogxMLZfD9cPGDRFuF8P3BuoN5q6Hw/hKDg677vfD+W0iD5Evd8P6oEYQZn/nw/vDahE7sFfT/QaOEgDw19P+KaIS5jFH0/9sxhO7cbfT8I/6FICyN9Pxwx4lVfKn0/LmMiY7MxfT9ClWJwBzl9P1bHon1bQH0/aPniiq9HfT98KyOYA099P45dY6VXVn0/oo+jsqtdfT+0weO//2R9P8jzI81TbH0/2iVk2qdzfT/uV6Tn+3p9PwCK5PRPgn0/FLwkAqSJfT8o7mQP+JB9PzogpRxMmH0/TlLlKaCffT9ghCU39KZ9P3S2ZURIrn0/huilUZy1fT+aGuZe8Lx9P6xMJmxExH0/wH5meZjLfT/SsKaG7NJ9P+bi5pNA2n0/+hQnoZThfT8MR2eu6Oh9PyB5p7s88H0/MqvnyJD3fT9G3SfW5P59P1gPaOM4Bn4/bEGo8IwNfj9+c+j94BR+P5KlKAs1HH4/ptdoGIkjfj+4Cakl3Sp+P8w76TIxMn4/3m0pQIU5fj/yn2lN2UB+PwTSqVotSH4/GATqZ4FPfj8qNip11VZ+Pz5oaoIpXn4/UJqqj31lfj9kzOqc0Wx+P3j+KqoldH4/ijBrt3l7fj+eYqvEzYJ+P7CU69Ehin4/xMYr33WRfj/W+GvsyZh+P+oqrPkdoH4//FzsBnKnfj8QjywUxq5+PyTBbCEatn4/NvOsLm69fj9KJe07wsR+P1xXLUkWzH4/cIltVmrTfj+Cu61jvtp+P5bt7XAS4n4/qB8ufmbpfj+8UW6LuvB+P86DrpgO+H4/4rXupWL/fj/05y6ztgZ/Pwgab8AKDn8/HEyvzV4Vfz8ufu/ashx/P0KwL+gGJH8/VOJv9Vorfz9oFLACrzJ/P3pG8A8DOn8/jngwHVdBfz+gqnAqq0h/P7TcsDf/T38/yA7xRFNXfz/aQDFSp15/P+5ycV/7ZX8/AKWxbE9tfz8U1/F5o3R/PyYJMof3e38/OjtylEuDfz9MbbKhn4p/P2Cf8q7zkX8/ctEyvEeZfz+GA3PJm6B/P5o1s9bvp38/rGfz40Ovfz8=",
          "dtype": "f8"
         },
         "yaxis": "y"
        },
        {
         "legendgroup": "Norway",
         "marker": {
          "opacity": 0.6,
          "size": 8
         },
         "mode": "markers",
         "name": "ADI - Norway",
         "showlegend": false,
         "type": "scatter",
         "visible": true,
         "x": {
          "bdata": "kF0CN8p58j9kTHmiSV32P1M2/06ku+8/VR7o1YEK+T+dL/d75I/2P1iz5U5J1Pg/ZOWftRDU9j+oWsM9RB3yPz3zott1s/M/pC6w3EGA9z+fwl+eDWT7P+ei9jCgXP4/jcx0k98u9D+qvnUv56raP0zS5cSZteI/eQlmJ0zQ6D9iGc6Yv0bmP4vvOLSv6vc/DY4GKmweAkCMzjtD6GMBQC2xvA8NAwJASQqj5dR7AUDnl1Gc1ToBQPyctRdyMgFA6qaoQuD6/z+EfU+Fsuj9PzxWM5WVkf8/NGS+tDisAUBPZTcBG6kBQK7KK/XxauA/LSAZHs9MuD+tGXIbG8fXPwdlT0gs2fk/kjaqAmwx9z81AAIxbxP+P65tLjVD8fk/l2TPvCWNAUB1cRdtzHQBQHU7LkMYVPU/kgVnlTxm8T9glBf/cif3P/zFSdRrMO0/TWUiNHGq7T+OmuM8ZsX4PzuR9zsoIf8/BdJzbNnTAUCHZGM854YAQHYMp3ut2AFAS6jgAUtWAEApYT+XV00BQJXMADbi6v4/Xa54zmvg9j8t0BjjJyvzP8SZ3ZVjMP8/K3Vr8iZC9z9I2V/Sz1D0P74Lwquv7fg/QROfePN1/z88oSxJD9b6P2pFln2eDQBAZdq8wYNR+z8ETPfWYK3/P0KUvoH5Rvw/TB+HbwDpAUAdRsY72Z36P3rnZvjhNABAGp6l/lUOAkDEc7gvGPIAQC6WflJ4OQJAWMjGLq/QAUDeyaCJzcr+P9x8BvkEjv4/tqlxms3w/D+qLu2gkP/tP1/ZFrMVmwBAuzYsyQgg4j8p9zYaS1DxP9kMqAF81Pg/46QGIKhXAEAT/ljwolkBQCrkuRi1SAFAMCO3vJCYAEA/FlfcPAP9P24k/47XlwBAGKKnU/Y1AUA6jwP83CYAQGjspZcDifk/w1trNp5y8D+3rsu1L/AAQFozDQPZbPo/P38rrn0S3D80SyavZI7gP2vadbJzdOs/8NnkEKnl9D/6b0TQX6ABQBz6H4z8PAJAzNftPWeHAUBQ0z9CMf76P87jJK3bPvo/vmynuco+AUA+9NdPtUEBQJRpKjdHQvA/Qi+bdTwV9D/oIvjZmAfzP511e70xqvk/",
          "dtype": "f8"
         },
         "xaxis": "x2",
         "y": {
          "bdata": "2ai7c6OKeT8+CCkCm/55Pyi/7hepQYI//KO0ISgleD+2zKszOKN0P3ojnzAXXII/TJL38RgRdj8jToV3Hqd0PwzxE+H5VHU/5S9piNTWdj9R1ZgAZjp4PzuMr8IrhHo/9D86bQQ5eD/pzlDsX+l9PzeTGfBf5Ho/yw/zcnMqej+u6XzabE14P/j5M5Ar4Hg/BjIpilW5eT9KJEMrRjqBP2HtL1QJp4s/flViipgZfz9mhWY4l/h7PyET/0FtwXc/A6fjYgCsdj/z3Ke5ZFJxP9KlJiLBF3Y/Or4zRRJcfT/FG6hrH4CKP+ghrc44ems/UvioXgKCYz/87Dwo4/VzPxZfGn6Zf3M/LYcvnz5tcT+ekgiXt29xP/EBBLLwaHA/rtbccz0HeD8KLs4RvGZ6P+kpHArxS3A/qUhHGxWGcT9r1JFCfLhoP9LuqWHaYXU/uZtQTB4Hcj9fegcyyD9xP/SBCR7Rk3Q/Al/CJSH9dj8KfXiR+S52P6Ti/twJ2oM/JmgxvrK8eD8xtM0lnv+BP9+a4DGStnQ/jUoSuwL4az/ivmkBPddqP6l4smcAmmo/xzy5NWDQaT8yRXL+53ltPxvhXw3tHWk/UKxO3x8Zgz/UdsSduzCDP7zxtA5Z64I/DEq2V4nGgz+xDowqUoKCPzFVr9kKUIM/LeXLG//ldz8sadUU6Q92P0Z8hkt4nog/g4WbfZ46gD+nFGxIB6+EP0SSmrPULo0/NzDKycEegz9hDlLZqXuAP4fbFpkoA3E/qhF560C0dz9R+gRkj3p7P+4ffMSfIYM/WvJOg6y9dj8RJvehou16P4h7JXBfs4E/XXTR7Z9Kez/sa1pVbQJ+PxAj+quH2oA/VVFj0lNqgj9iy8MZcz+DP5Y2ZdFy2IM/ZscHMJo+gz8+C8mDxiCEP70kxwCg8X4/LAvqUX1jgD+3PzwXdfyNP+HdfY5BZog/eAyLZMYfXj/uwitRyQ9uP5QqTqiby3g/3vIobS8VcD/6eoG791mJP1s+TvEs54U/rZenf6achD8uNWo5UCyJP0utmvcGSYQ/PcTjvT/9ij+2zWE+fcKKP1fpk5CZXIA/cAevSfbjgD94BQX4K9KBP8XEhSq30oI/",
          "dtype": "f8"
         },
         "yaxis": "y2"
        },
        {
         "legendgroup": "Norway",
         "line": {
          "color": "red",
          "width": 2
         },
         "mode": "lines",
         "showlegend": false,
         "type": "scatter",
         "visible": true,
         "x": {
          "bdata": "LSAZHs9MuD84NSPUI/O9PyKlFkW8zME/qK8boOafxD8tuiD7EHPHP7LEJVY7Rso/OM8qsWUZzT++2S8MkOzPPyJymjPdX9E/ZfccYXLJ0j+nfJ+OBzPUP+oBIrycnNU/LYek6TEG1z9wDCcXx2/YP7KRqURc2dk/9RYscvFC2z84nK6fhqzcP3shMc0bFt4/vqaz+rB/3z8AFhsUo3TgP6JY3KptKeE/Q5udQTje4T/l3V7YApPiP4YgIG/NR+M/KGPhBZj84z/JpaKcYrHkP2voYzMtZuU/DCslyvca5j+tbeZgws/mP0+wp/eMhOc/8PJojlc56D+SNSolIu7oPzN467vsouk/1LqsUrdX6j92/W3pgQzrPxdAL4BMwes/uYLwFhd27D9axbGt4SrtP/sHc0Ss3+0/nUo023aU7j8+jfVxQUnvP+DPtggM/u8/QAm8T2tZ8D+Rqhyb0LPwP+JLfeY1DvE/Mu3dMZto8T+Djj59AMPxP9Qvn8hlHfI/JdH/E8t38j91cmBfMNLyP8YTwaqVLPM/F7Uh9vqG8z9oVoJBYOHzP7j34ozFO/Q/CZlD2CqW9D9aOqQjkPD0P6rbBG/1SvU/+3xlulql9T9MHsYFwP/1P5y/JlElWvY/7WCHnIq09j8+Aujn7w73P4+jSDNVafc/30SpfrrD9z8w5gnKHx74P4GHahWFePg/0SjLYOrS+D8iyiusTy35P3NrjPe0h/k/xAztQhri+T8Urk2Ofzz6P2VPrtnklvo/tvAOJUrx+j8Gkm9wr0v7P1cz0LsUpvs/qNQwB3oA/D/4dZFS31r8P0kX8p1Etfw/mrhS6akP/T/rWbM0D2r9Pzv7E4B0xP0/jJx0y9ke/j/dPdUWP3n+Py3fNWKk0/4/foCWrQku/z/PIff4boj/Px/DV0TU4v8/ODLcx5weAEDggoxtz0sAQInTPBMCeQBAMSTtuDSmAEDZdJ1eZ9MAQIHFTQSaAAFAKhb+qcwtAUDSZq5P/1oBQHq3XvUxiAFAIwgPm2S1AUDLWL9Al+IBQHOpb+bJDwJAHPofjPw8AkA=",
          "dtype": "f8"
         },
         "xaxis": "x2",
         "y": {
          "bdata": "R/fIIuHBaT/VkZ32HjlqP2MscspcsGo/8cZGnponaz9/YRty2J5rPw3870UWFmw/m5bEGVSNbD8qMZntkQRtP7jLbcHPe20/RmZClQ3zbT/UABdpS2puP2Kb6zyJ4W4/8DXAEMdYbz9+0JTkBNBvP4a1NFyhI3A/zQIfRkBfcD8UUAkw35pwP1ud8xl+1nA/ourdAx0ScT/pN8jtu01xPzCFstdaiXE/d9KcwfnEcT++H4ermAByPwVtcZU3PHI/TLpbf9Z3cj+TB0ZpdbNyP9pUMFMU73I/IaIaPbMqcz9o7wQnUmZzP6887xDxoXM/9onZ+o/dcz8+18PkLhl0P4Qkrs7NVHQ/y3GYuGyQdD8Sv4KiC8x0P1oMbYyqB3U/oFlXdklDdT/opkFg6H51Py70K0qHunU/dkEWNCb2dT+8jgAexTF2PwTc6gdkbXY/SinV8QKpdj+Sdr/boeR2P9jDqcVAIHc/HxGUr99bdz9mXn6Zfpd3P66raIMd03c/9PhSbbwOeD88Rj1XW0p4P4KTJ0H6hXg/yuARK5nBeD8RLvwUOP14P1h75v7WOHk/nsjQ6HV0eT/mFbvSFLB5Pyxjpbyz63k/dLCPplInej+7/XmQ8WJ6PwJLZHqQnno/SJhOZC/aej+Q5ThOzhV7P9cyIzhtUXs/HoANIgyNez9lzfcLq8h7P6wa4vVJBHw/82fM3+g/fD86tbbJh3t8P4ECobMmt3w/yE+LncXyfD8PnXWHZC59P1bqX3EDan0/nTdKW6KlfT/khDRFQeF9PyvSHi/gHH4/ch8JGX9Yfj+5bPMCHpR+PwC63ey8z34/RwfI1lsLfz+OVLLA+kZ/P9WhnKqZgn8/HO+GlDi+fz9jPHF+1/l/P9XELTS7GoA/eOsiqYo4gD8cEhgeWlaAP8A4DZMpdIA/Y18CCPmRgD8Ghvd8yK+AP6qs7PGXzYA/TtPhZmfrgD/x+dbbNgmBP5QgzFAGJ4E/OEfBxdVEgT/cbbY6pWKBP36Uq690gIE/IrugJESegT/G4ZWZE7yBP2kIiw7j2YE/DS+Ag7L3gT8=",
          "dtype": "f8"
         },
         "yaxis": "y2"
        },
        {
         "legendgroup": "Norway",
         "marker": {
          "opacity": 0.6,
          "size": 8
         },
         "mode": "markers",
         "name": "BI - Norway",
         "showlegend": false,
         "type": "scatter",
         "visible": true,
         "x": {
          "bdata": "Jz6lNo+0KkBq/xIecq8vQOMwc+er8idABFq3v+LLMEAoX5e4SW4sQC7KYRvMgCtA/WmogzZYKkDySENavL4vQGGaicI7YC9A/cjcyr47J0Cx/8UpY7orQMvHlF+9hCRA3S0BHfpyJ0Af/7z7F7ExQL9fOeprZy9AqQ+ka5WYKEALmL+AYCYrQKsS96KnPCdAXQCu8TDOJUAMXnYNKMcnQEoOVRKuySdAphW8sJolJUBRekVrLhonQHBS3Go3WyNAFqF+mJLkI0A7f6/4yYUkQGzfARg6rylAUJA5khfmI0AXv1M0U5kmQCE1aeJqEDBAoIHUyQJpKUDzHUR52/0sQDTxd4/7biRA1ByV479AJUAposoP5jQkQFs6Fz2SCiRAOGUUUzU4JkDrNC8lBlcoQFQpDUjiwCRAH/pzQ/75JECqJEkUjRAjQMFfFNuU8yRAKLyn84CmJUAs7KKreHclQCyjrwXNuiVAanwRl+a7I0DixfstWIAjQPqwuu96HyVArbg8N82LI0D/I6p9I7ckQK0T21PzACRAXMA2SOc0JEBb441N4sQjQNeOxgpiYiRA6R/7ZocoI0DlP3Tfx8skQAWJUhUfMSRAYqPrCakkKUDIQiT3210nQKP1FfkxBClAmMLMY8pfK0DfN0zA+HIoQH7pxjpkiylAtW3oLVPcIkBfZw7pq0EjQPgInQAaWCtAVQZ4im+WJkBXAZcZAuQnQGJPhHXH8itAGm31wJx2J0DYCj4dgCUoQPCEDiDA7yJAOpwu4g/1I0CPT5yC+6AoQEHmEWeIXzBAC7nEAeDwKUAtuftv344oQEdDeLAnhyxA0U4S7XwbM0AjgeGUvVgwQCG6DEliwTFAN5Au03eQL0CraEDwp3AzQOr0nv7SYzFAVnL/2VI7MEDuUfrMWKU6QBARcPWhXyhAowfSzLGCLkCUj6S8n1osQJJSlSHgLC9AI0xrSMvYMUDl50hCHIYyQKWQ0OMwJDJAP4JxfMyrK0DbAMfqAm80QBIa9WkDfC9Ab1/zd1zgLUAkrJLEltExQN8D89OwfjhAFmE9GqXPK0D9Ch5N/K0sQDthZz0xZy1Ad4h/2Uo3KUAa/EAR2f8nQNslTpSERSZA",
          "dtype": "f8"
         },
         "xaxis": "x3",
         "y": {
          "bdata": "2ai7c6OKeT8+CCkCm/55Pyi/7hepQYI//KO0ISgleD+2zKszOKN0P3ojnzAXXII/TJL38RgRdj8jToV3Hqd0PwzxE+H5VHU/5S9piNTWdj9R1ZgAZjp4PzuMr8IrhHo/9D86bQQ5eD/pzlDsX+l9PzeTGfBf5Ho/yw/zcnMqej+u6XzabE14P/j5M5Ar4Hg/BjIpilW5eT9KJEMrRjqBP2HtL1QJp4s/flViipgZfz9mhWY4l/h7PyET/0FtwXc/A6fjYgCsdj/z3Ke5ZFJxP9KlJiLBF3Y/Or4zRRJcfT/FG6hrH4CKP+ghrc44ems/UvioXgKCYz/87Dwo4/VzPxZfGn6Zf3M/LYcvnz5tcT+ekgiXt29xP/EBBLLwaHA/rtbccz0HeD8KLs4RvGZ6P+kpHArxS3A/qUhHGxWGcT9r1JFCfLhoP9LuqWHaYXU/uZtQTB4Hcj9fegcyyD9xP/SBCR7Rk3Q/Al/CJSH9dj8KfXiR+S52P6Ti/twJ2oM/JmgxvrK8eD8xtM0lnv+BP9+a4DGStnQ/jUoSuwL4az/ivmkBPddqP6l4smcAmmo/xzy5NWDQaT8yRXL+53ltPxvhXw3tHWk/UKxO3x8Zgz/UdsSduzCDP7zxtA5Z64I/DEq2V4nGgz+xDowqUoKCPzFVr9kKUIM/LeXLG//ldz8sadUU6Q92P0Z8hkt4nog/g4WbfZ46gD+nFGxIB6+EP0SSmrPULo0/NzDKycEegz9hDlLZqXuAP4fbFpkoA3E/qhF560C0dz9R+gRkj3p7P+4ffMSfIYM/WvJOg6y9dj8RJvehou16P4h7JXBfs4E/XXTR7Z9Kez/sa1pVbQJ+PxAj+quH2oA/VVFj0lNqgj9iy8MZcz+DP5Y2ZdFy2IM/ZscHMJo+gz8+C8mDxiCEP70kxwCg8X4/LAvqUX1jgD+3PzwXdfyNP+HdfY5BZog/eAyLZMYfXj/uwitRyQ9uP5QqTqiby3g/3vIobS8VcD/6eoG791mJP1s+TvEs54U/rZenf6achD8uNWo5UCyJP0utmvcGSYQ/PcTjvT/9ij+2zWE+fcKKP1fpk5CZXIA/cAevSfbjgD94BQX4K9KBP8XEhSq30oI/",
          "dtype": "f8"
         },
         "yaxis": "y3"
        },
        {
         "legendgroup": "Norway",
         "line": {
          "color": "red",
          "width": 2
         },
         "mode": "lines",
         "showlegend": false,
         "type": "scatter",
         "visible": true,
         "x": {
          "bdata": "tW3oLVPcIkAVaQLkWzUjQHVkHJpkjiNA1V82UG3nI0A1W1AGdkAkQJVWarx+mSRA9lGEcofyJEBWTZ4okEslQLZIuN6YpCVAFkTSlKH9JUB2P+xKqlYmQNY6BgGzryZANjYgt7sIJ0CWMTptxGEnQPYsVCPNuidAVihu2dUTKEC2I4iP3mwoQBYfokXnxShAdhq8++8eKUDWFdax+HcpQDYR8GcB0SlAlwwKHgoqKkD3ByTUEoMqQFcDPoob3CpAt/5XQCQ1K0AX+nH2LI4rQHf1i6w15ytA1/ClYj5ALEA37L8YR5ksQJjn2c5P8ixA+OLzhFhLLUBY3g07YaQtQLjZJ/Fp/S1AGNVBp3JWLkB40Ftde68uQNjLdROECC9AOMePyYxhL0CYwql/lbovQPze4RrPCTBArNzudVM2MEBc2vvQ12IwQAzYCCxcjzBAvNUVh+C7MEBs0yLiZOgwQBzRLz3pFDFAzM48mG1BMUB8zEnz8W0xQCzKVk52mjFA3MdjqfrGMUCMxXAEf/MxQDzDfV8DIDJA7MCKuodMMkCcvpcVDHkyQEy8pHCQpTJA/LmxyxTSMkCst74mmf4yQFy1y4EdKzNADLPY3KFXM0C9sOU3JoQzQG2u8pKqsDNAHaz/7S7dM0DNqQxJswk0QH2nGaQ3NjRALaUm/7tiNEDdojNaQI80QI2gQLXEuzRAPZ5NEEnoNEDtm1przRQ1QJ2ZZ8ZRQTVATZd0IdZtNUD9lIF8Wpo1QK6SjtfexjVAXpCbMmPzNUAOjqiN5x82QL6LtehrTDZAbonCQ/B4NkAeh8+edKU2QM6E3Pn40TZAfoLpVH3+NkAugPavASs3QN59AwuGVzdAjnsQZgqEN0A+eR3BjrA3QO52KhwT3TdAnnQ3d5cJOEBOckTSGzY4QP5vUS2gYjhArm1eiCSPOEBea2vjqLs4QA5peD4t6DhAvmaFmbEUOUBuZJL0NUE5QB5in0+6bTlAzl+sqj6aOUB+XbkFw8Y5QC5bxmBH8zlA3ljTu8sfOkCOVuAWUEw6QD5U7XHUeDpA7lH6zFilOkA=",
          "dtype": "f8"
         },
         "xaxis": "x3",
         "y": {
          "bdata": "SKHn4EtveD/XsfmOHKh4P2fCCz3t4Hg/9tId670ZeT+G4y+ZjlJ5Pxb0QUdfi3k/pgRU9S/EeT82FWajAP15P8YleFHRNXo/VTaK/6Fuej/kRpytcqd6P3RXrltD4Ho/BGjACRQZez+UeNK35FF7PyOJ5GW1ins/spn2E4bDez9CqgjCVvx7P9K6GnAnNXw/YsssHvhtfD/y2z7MyKZ8P4DsUHqZ33w/Ev1iKGoYfT+gDXXWOlF9PzAeh4QLin0/wC6ZMtzCfT9QP6vgrPt9P+BPvY59NH4/bmDPPE5tfj/+cOHqHqZ+P46B85jv3n4/HpIFR8AXfz+uohf1kFB/Pz6zKaNhiX8/zsM7UTLCfz9e1E3/Avt/P3byr9bpGYA/vvq4LVI2gD8GA8KEulKAP04Ly9sib4A/lhPUMouLgD/dG92J86eAPyUk5uBbxIA/bSzvN8TggD+1NPiOLP2AP/08AeaUGYE/REUKPf01gT+MTROUZVKBP9RVHOvNboE/HF4lQjaLgT9kZi6ZnqeBP6xuN/AGxIE/83ZAR2/ggT87f0me1/yBP4OHUvU/GYI/y49bTKg1gj8TmGSjEFKCP1qgbfp4boI/oqh2UeGKgj/rsH+oSaeCPzO5iP+xw4I/esGRVhrggj/CyZqtgvyCPwrSowTrGIM/UtqsW1M1gz+a4rWyu1GDP+HqvgkkboM/KfPHYIyKgz9x+9C39KaDP7kD2g5dw4M/AQzjZcXfgz9JFOy8LfyDP5Ec9ROWGIQ/2ST+av40hD8hLQfCZlGEP2g1EBnPbYQ/sD0ZcDeKhD/4RSLHn6aEP0BOKx4Iw4Q/iFY0dXDfhD/PXj3M2PuEPxdnRiNBGIU/X29Peqk0hT+nd1jREVGFP+9/YSh6bYU/N4hqf+KJhT9+kHPWSqaFP8aYfC2zwoU/DqGFhBvfhT9WqY7bg/uFP56xlzLsF4Y/5bmgiVQ0hj8twqngvFCGP3XKsjclbYY/vdK7jo2Jhj8E28Tl9aWGP0zjzTxewoY/lOvWk8behj/c89/qLvuGPyT86EGXF4c/bATymP8zhz8=",
          "dtype": "f8"
         },
         "yaxis": "y3"
        },
        {
         "legendgroup": "Norway",
         "marker": {
          "opacity": 0.6,
          "size": 8
         },
         "mode": "markers",
         "name": "Hf - Norway",
         "showlegend": false,
         "type": "scatter",
         "visible": true,
         "x": {
          "bdata": "q5iL2Jo42j/zaGcJCOTbP1RaK0koiNk/25yoteix3z+G9tvXuQLbPwzIjBSa6eA/G0WCR14q3D/bFY5Nt+3XP7zA47IgU9k/UvfQcgNd3T/D64g8PhThP0hfpx1yhuI/pFGwFVRR2j8AZzlOwZXTP/tyRXuEN9Q/UcCZ/pte1j+REY9mHbbVP5wIHv6hQN8/DIoA1n2Q5j9TwVqA6drlP/mXfB3NAeg/C8zxCHWE5j/KKI9HRRHmP5IrQdl2yOU/b9QjiVJX5D+Ge6t6OO3hP1XUs+2gB+I/Elv62Sw25z+lU0Y1fHfnP/g8+tPshc4/N8TIYEzFxz/yKhDYfaDNPyKYa7FL5tw/ryOXtl2r2z8xURl06eXiP6l0QTIPgN8/IBhpGVeA4z8TeQBid2XkP8ZFwFwslNk/M5x1AU+Q1j+ZO/pz+bDYP1zOaFw+y9Y/RsBXIuGu1D/XMTsO8drdP5lqrfTek+I/eztCCKPC5z/bdVGIxXXlPwm4N8FH+Oc//jYYoku35T8L0cb1J7jmPzhL/QYSe+Q/U3UJ/n0G2z/JTkQ72HraP8s1N0ZtFuQ/7+BVp3GT3j9yDofLW1vZP7VBN9f8Fd4/0z2MAvXU4T95oRSvLxXhPz8CaP/XQuM/pfsL2NYL4T91PhLN2DfhP/XHiliSnOA/TWL9d6J05j9QWk6L4D7gP5JORng9leM/3Y1yfZ+i5D/fIlcQnNfkP3QBxcCr6OY/0qhM7tc/5T/wOXdcdKTiP4+y9XZxpeI/9k+yDlI84z+7mGbIHYXaP37+I4JSYuU/gDvmmvi+0T9MUySNOzPaP3hi9ukyyOA/HN7MNIZq4z9FhvMeLVfhP9RoNWSerOI/YWgulPHm5T/t0WfaitXgP1d+2HgZYeY/HY570eoj4D+/1Q1fR2DgP+y4S80Adt4/u49aKv2E2D+s/nod6GfjPwg+t2ESbt4/EG3+0szUyj8xK3x9t7rPP7B1HS1qHdQ/fqLZFd7C1z8tYDDOIXXiPy+lMMkYxeY/ZKLmBZb+4z+YRhE0wQ7XP8EA+Mjac9c/lFv7rmPK5T9SY1rj4NnlPyEPJspHRdY/0CKL+wOJ2z98kCpX8mXbPwfan9sqC+I/",
          "dtype": "f8"
         },
         "xaxis": "x4",
         "y": {
          "bdata": "2ai7c6OKeT8+CCkCm/55Pyi/7hepQYI//KO0ISgleD+2zKszOKN0P3ojnzAXXII/TJL38RgRdj8jToV3Hqd0PwzxE+H5VHU/5S9piNTWdj9R1ZgAZjp4PzuMr8IrhHo/9D86bQQ5eD/pzlDsX+l9PzeTGfBf5Ho/yw/zcnMqej+u6XzabE14P/j5M5Ar4Hg/BjIpilW5eT9KJEMrRjqBP2HtL1QJp4s/flViipgZfz9mhWY4l/h7PyET/0FtwXc/A6fjYgCsdj/z3Ke5ZFJxP9KlJiLBF3Y/Or4zRRJcfT/FG6hrH4CKP+ghrc44ems/UvioXgKCYz/87Dwo4/VzPxZfGn6Zf3M/LYcvnz5tcT+ekgiXt29xP/EBBLLwaHA/rtbccz0HeD8KLs4RvGZ6P+kpHArxS3A/qUhHGxWGcT9r1JFCfLhoP9LuqWHaYXU/uZtQTB4Hcj9fegcyyD9xP/SBCR7Rk3Q/Al/CJSH9dj8KfXiR+S52P6Ti/twJ2oM/JmgxvrK8eD8xtM0lnv+BP9+a4DGStnQ/jUoSuwL4az/ivmkBPddqP6l4smcAmmo/xzy5NWDQaT8yRXL+53ltPxvhXw3tHWk/UKxO3x8Zgz/UdsSduzCDP7zxtA5Z64I/DEq2V4nGgz+xDowqUoKCPzFVr9kKUIM/LeXLG//ldz8sadUU6Q92P0Z8hkt4nog/g4WbfZ46gD+nFGxIB6+EP0SSmrPULo0/NzDKycEegz9hDlLZqXuAP4fbFpkoA3E/qhF560C0dz9R+gRkj3p7P+4ffMSfIYM/WvJOg6y9dj8RJvehou16P4h7JXBfs4E/XXTR7Z9Kez/sa1pVbQJ+PxAj+quH2oA/VVFj0lNqgj9iy8MZcz+DP5Y2ZdFy2IM/ZscHMJo+gz8+C8mDxiCEP70kxwCg8X4/LAvqUX1jgD+3PzwXdfyNP+HdfY5BZog/eAyLZMYfXj/uwitRyQ9uP5QqTqiby3g/3vIobS8VcD/6eoG791mJP1s+TvEs54U/rZenf6achD8uNWo5UCyJP0utmvcGSYQ/PcTjvT/9ij+2zWE+fcKKP1fpk5CZXIA/cAevSfbjgD94BQX4K9KBP8XEhSq30oI/",
          "dtype": "f8"
         },
         "yaxis": "y4"
        },
        {
         "legendgroup": "Norway",
         "line": {
          "color": "red",
          "width": 2
         },
         "mode": "lines",
         "showlegend": false,
         "type": "scatter",
         "visible": true,
         "x": {
          "bdata": "N8TIYEzFxz/mjD1ZJYDIP5VVslH+Osk/RB4nStf1yT/z5ptCsLDKP6KvEDuJa8s/UXiFM2ImzD8AQforO+HMP68JbyQUnM0/XtLjHO1Wzj8Nm1gVxhHPP7xjzQ2fzM8/NhYhA7xD0D+Nelt/KKHQP+TelfuU/tA/PEPQdwFc0T+Upwr0bbnRP+sLRXDaFtI/QnB/7EZ00j+a1Llos9HSP/I49OQfL9M/SZ0uYYyM0z+gAWnd+OnTP/hlo1llR9Q/UMrd1dGk1D+nLhhSPgLVP/6SUs6qX9U/VveMShe91T+uW8fGgxrWPwXAAUPwd9Y/XCQ8v1zV1j+0iHY7yTLXPwztsLc1kNc/Y1HrM6Lt1z+6tSWwDkvYPxIaYCx7qNg/an6aqOcF2T/B4tQkVGPZPxhHD6HAwNk/cKtJHS0e2j/ID4SZmXvaPx90vhUG2do/dtj4kXI22z/OPDMO35PbPyahbYpL8ds/fgWoBrhO3D/UaeKCJKzcPyzOHP+QCd0/hDJXe/1m3T/clpH3acTdPzL7y3PWId4/il8G8EJ/3j/iw0Bsr9zePzooe+gbOt8/kIy1ZIiX3z/o8O/g9PTfP6Aqla4wKeA/zFyy7OZX4D/3js8qnYbgPyPB7GhTteA/T/MJpwnk4D97JSflvxLhP6ZXRCN2QeE/0olhYSxw4T/+u36f4p7hPyrum92YzeE/VSC5G0/84T+BUtZZBSviP62E85e7WeI/2bYQ1nGI4j8E6S0UKLfiPzAbS1Le5eI/XE1okJQU4z+If4XOSkPjP7OxogwBcuM/3+O/Sreg4z8LFt2Ibc/jPzdI+sYj/uM/YnoXBdos5D+OrDRDkFvkP7reUYFGiuQ/5hBvv/y45D8RQ4z9sufkPz11qTtpFuU/aafGeR9F5T+V2eO31XPlP8ALAfaLouU/7D0eNELR5T8YcDty+P/lP0SiWLCuLuY/cNR17mRd5j+bBpMsG4zmP8c4sGrRuuY/82rNqIfp5j8enermPRjnP0rPByX0Ruc/dgElY6p15z+iM0KhYKTnP85lX98W0+c/+Zd8Hc0B6D8=",
          "dtype": "f8"
         },
         "xaxis": "x4",
         "y": {
          "bdata": "OntZVRgRcD/+F7vbrkpwP8O0HGJFhHA/iFF+6Nu9cD9M7t9ucvdwPxGLQfUIMXE/1ieje59qcT+bxAQCNqRxP2BhZojM3XE/JP7HDmMXcj/pmimV+VByP643ixuQinI/c9TsoSbEcj84cU4ovf1yP/wNsK5TN3M/waoRNepwcz+GR3O7gKpzP0rk1EEX5HM/D4E2yK0ddD/UHZhORFd0P5m6+dTakHQ/XldbW3HKdD8i9LzhBwR1P+eQHmiePXU/rC2A7jR3dT9wyuF0y7B1PzVnQ/th6nU/+gOlgfgjdj+/oAYIj112P4Q9aI4ll3Y/SNrJFLzQdj8NdyubUgp3P9ITjSHpQ3c/lrDup399dz9bTVAuFrd3PyDqsbSs8Hc/5YYTO0MqeD+qI3XB2WN4P27A1kdwnXg/M104zgbXeD/4+ZlUnRB5P72W+9ozSnk/gTNdYcqDeT9G0L7nYL15PwttIG739nk/0AmC9I0wej+UpuN6JGp6P1lDRQG7o3o/HuCmh1Hdej/jfAgO6BZ7P6cZapR+UHs/bLbLGhWKez8xUy2hq8N7P/fvjidC/Xs/uozwrdg2fD9/KVI0b3B8P0XGs7oFqnw/CmMVQZzjfD/N/3bHMh19P5Oc2E3JVn0/WDk61F+QfT8d1pta9sl9P+Fy/eCMA34/pg9fZyM9fj9rrMDtuXZ+PzBJInRQsH4/9OWD+ubpfj+5guWAfSN/P34fRwcUXX8/Q7yojaqWfz8HWQoUQdB/P+b6Nc3rBIA/SMlmELchgD+rl5dTgj6APw1myJZNW4A/cDT52Rh4gD/SAiod5JSAPzTRWmCvsYA/lp+Lo3rOgD/5bbzmReuAP1w87SkRCIE/vgoebdwkgT8g2U6wp0GBP4Knf/NyXoE/5XWwNj57gT9IROF5CZiBP6oSEr3UtIE/DOFCAKDRgT9ur3NDa+6BP9F9pIY2C4I/NEzVyQEogj+WGgYNzUSCP/joNlCYYYI/Wrdnk2N+gj+8hZjWLpuCPx9UyRn6t4I/giL6XMXUgj/k8CqgkPGCP0a/W+NbDoM/qI2MJicrgz8=",
          "dtype": "f8"
         },
         "yaxis": "y4"
        },
        {
         "legendgroup": "Norway",
         "marker": {
          "opacity": 0.6,
          "size": 8
         },
         "mode": "markers",
         "name": "NDSI - Norway",
         "showlegend": false,
         "type": "scatter",
         "visible": true,
         "x": {
          "bdata": "UxbB742z6782UwOFbafpvyNNHe0K8eq/LMKBKgft578iQDj3vrzqv9XOETnm/+W/xJD+HzWh6r+GiljKYsrsv5Si/pfy3Ou/9ZHWUx9V6r83ntbJqRDmvxXFWwnbwOa/iOhnKJbD67/UoY8lT6vvvx2PpROxP++/DaWl+d8C7r8QxP48b4fuv5ypfBokn+m/wnJPQUzj4L/MfuScwynfvzr74pOR6tW/adNGrveK3780DUyJDvHdvz0qDA67F+G/odGolvkJ4r8GDsmq/H/lv3l6RXdUzeS/t5lpBrIc3b+OjDwAcarYvwZAS1R9ve2/tImq/UPT779WIqnPkVvvv4t3AWm0Rum/OKDKjKGp6b8+4mcrrYTkv1tikzXItOe/0L7sGxQ+6L8jq0IkGHHnvzPcymStR+u/lG3rEI/Z7L+pFAjLOA/rv+CGn3YMeO2/DlOOtinH7b8ujiFDrgDpv/QMPFWwBeW/d6Hr6e7O3r+Wtp1wLG7hvwQ5R9BBB9y/FMq4eNCA4b+PFvk51QHfv6iTPBg6PuK/KLdNTtGt6b9Nlu84D5XpvzYDuYwAg+K/PJCeIZ/05r8kEocbnIvqv0NX/rEmL+i/j7gobGUv6L9CT3jlR9Tov4Bexbtpoea/R913QSuK6L8ngPuZ5Lbnv7lONwL6pui/6PB3tNpj4b+7GxYtmtXmv/ntR2uNX+K/SEoikcq55L9z/7VUY93iv1qhxfS+ttm/iEhzozF04r8ZpTfeKNHlv0mkXpVM2eS/QHL144Yt5b9tq7O1myzsv5/Mi0J4vt+/4d7UADv87r8txG6bq1Prv6M148ZaD+i/XXTRkwal3L9JRBeI3eHnv6XqR1LTf+C/9GOG4lg52L8qiaSuvm/pv4Umacud5Ni/z0LVyEdF4L/t13ILqyXlv52875GTNOq/8G3XZARA7b8sjYc883jhvwjNqnBkkuW/yFJxWs4A778oGoE4ex3vv00mqlbvHu2/YzSZxVpq6r93VBd1fDvgv7IAH87PCM6/yUpLeNdp5L9HBtQ8Hbnsv0JAmRZvQu2/kqOPs/Gc2r8KOoDkC9HZv0JmJtd1Oe2/ag3ifHSV6b8tVr5VHs/rv5Q0s6BwL+a/",
          "dtype": "f8"
         },
         "xaxis": "x5",
         "y": {
          "bdata": "2ai7c6OKeT8+CCkCm/55Pyi/7hepQYI//KO0ISgleD+2zKszOKN0P3ojnzAXXII/TJL38RgRdj8jToV3Hqd0PwzxE+H5VHU/5S9piNTWdj9R1ZgAZjp4PzuMr8IrhHo/9D86bQQ5eD/pzlDsX+l9PzeTGfBf5Ho/yw/zcnMqej+u6XzabE14P/j5M5Ar4Hg/BjIpilW5eT9KJEMrRjqBP2HtL1QJp4s/flViipgZfz9mhWY4l/h7PyET/0FtwXc/A6fjYgCsdj/z3Ke5ZFJxP9KlJiLBF3Y/Or4zRRJcfT/FG6hrH4CKP+ghrc44ems/UvioXgKCYz/87Dwo4/VzPxZfGn6Zf3M/LYcvnz5tcT+ekgiXt29xP/EBBLLwaHA/rtbccz0HeD8KLs4RvGZ6P+kpHArxS3A/qUhHGxWGcT9r1JFCfLhoP9LuqWHaYXU/uZtQTB4Hcj9fegcyyD9xP/SBCR7Rk3Q/Al/CJSH9dj8KfXiR+S52P6Ti/twJ2oM/JmgxvrK8eD8xtM0lnv+BP9+a4DGStnQ/jUoSuwL4az/ivmkBPddqP6l4smcAmmo/xzy5NWDQaT8yRXL+53ltPxvhXw3tHWk/UKxO3x8Zgz/UdsSduzCDP7zxtA5Z64I/DEq2V4nGgz+xDowqUoKCPzFVr9kKUIM/LeXLG//ldz8sadUU6Q92P0Z8hkt4nog/g4WbfZ46gD+nFGxIB6+EP0SSmrPULo0/NzDKycEegz9hDlLZqXuAP4fbFpkoA3E/qhF560C0dz9R+gRkj3p7P+4ffMSfIYM/WvJOg6y9dj8RJvehou16P4h7JXBfs4E/XXTR7Z9Kez/sa1pVbQJ+PxAj+quH2oA/VVFj0lNqgj9iy8MZcz+DP5Y2ZdFy2IM/ZscHMJo+gz8+C8mDxiCEP70kxwCg8X4/LAvqUX1jgD+3PzwXdfyNP+HdfY5BZog/eAyLZMYfXj/uwitRyQ9uP5QqTqiby3g/3vIobS8VcD/6eoG791mJP1s+TvEs54U/rZenf6achD8uNWo5UCyJP0utmvcGSYQ/PcTjvT/9ij+2zWE+fcKKP1fpk5CZXIA/cAevSfbjgD94BQX4K9KBP8XEhSq30oI/",
          "dtype": "f8"
         },
         "yaxis": "y5"
        },
        {
         "legendgroup": "Norway",
         "line": {
          "color": "red",
          "width": 2
         },
         "mode": "lines",
         "showlegend": false,
         "type": "scatter",
         "visible": true,
         "x": {
          "bdata": "tImq/UPT778vl/LbYpTvv6qkOrqBVe+/JLKCmKAW77+fv8p2v9fuvxrNElXemO6/lNpaM/1Z7r8P6KIRHBvuv4r16u863O2/BQMzzlmd7b+AEHuseF7tv/odw4qXH+2/dSsLabbg7L/wOFNH1aHsv2pGmyX0Yuy/5VPjAxMk7L9gYSviMeXrv9tuc8BQpuu/Vny7nm9n67/QiQN9jijrv0uXS1ut6eq/xqSTOcyq6r9AstsX62vqv7u/I/YJLeq/Ns1r1Cju6b+x2rOyR6/pvyzo+5BmcOm/pvVDb4Ux6b8hA4xNpPLov5wQ1CvDs+i/Fh4cCuJ06L+RK2ToADbovww5rMYf9+e/h0b0pD64578CVDyDXXnnv3xhhGF8Oue/927MP5v75r9yfBQeurzmv+yJXPzYfea/Z5ek2vc+5r/ipOy4FgDmv12yNJc1weW/2L98dVSC5b9SzcRTc0Plv83aDDKSBOW/SOhUELHF5L/C9Zzuz4bkvz0D5czuR+S/uBAtqw0J5L8zHnWJLMrjv64rvWdLi+O/KDkFRmpM47+jRk0kiQ3jvx5UlQKozuK/mGHd4MaP4r8TbyW/5VDiv458bZ0EEuK/CYq1eyPT4b+El/1ZQpThv/6kRThhVeG/ebKNFoAW4b/0v9X0ntfgv27NHdO9mOC/6dplsdxZ4L9k6K2P+xrgv77r69s0uN+/tAZ8mHI637+oIQxVsLzev548nBHuPt6/lFcszivB3b+IcryKaUPdv36NTEenxdy/dKjcA+VH3L9qw2zAIsrbv2De/HxgTNu/VPmMOZ7O2r9KFB3221Dav0AvrbIZ09m/NEo9b1dV2b8qZc0rldfYvyCAXejSWdi/FpvtpBDc178Mtn1hTl7XvwDRDR6M4Na/9uud2sli1r/sBi6XB+XVv+AhvlNFZ9W/1jxOEIPp1L/MV97MwGvUv8Jybon+7dO/uI3+RTxw07+sqI4CevLSv6LDHr+3dNK/mN6ue/X20b+M+T44M3nRv4IUz/Rw+9C/eC9fsa590L/clN7b2P/Pv8jK/lRUBM+/sgAfzs8Izr8=",
          "dtype": "f8"
         },
         "xaxis": "x5",
         "y": {
          "bdata": "FhLQsCKucz+EGEWg2+5zP/Ieuo+UL3Q/YCUvf01wdD/OK6RuBrF0PzwyGV6/8XQ/qziOTXgydT8ZPwM9MXN1P4dFeCzqs3U/9UvtG6P0dT9jUmILXDV2P9JY1/oUdnY/QF9M6s22dj+uZcHZhvd2PxxsNsk/OHc/inKruPh4dz/4eCCosbl3P2Z/lZdq+nc/1IUKhyM7eD9DjH923Ht4P7GS9GWVvHg/H5lpVU79eD+On95EBz55P/ylUzTAfnk/aazII3m/eT/Xsj0TMgB6P0W5sgLrQHo/tL8n8qOBej8ixpzhXMJ6P5DMEdEVA3s//9KGwM5Dez9t2fuvh4R7P9vfcJ9AxXs/SebljvkFfD+37Fp+skZ8PyXzz21rh3w/k/lEXSTIfD8BALpM3Qh9P3AGLzyWSX0/3gykK0+KfT9MExkbCMt9P7oZjgrBC34/KCAD+nlMfj+XJnjpMo1+PwUt7djrzX4/czNiyKQOfz/hOde3XU9/P09ATKcWkH8/vUbBls/Qfz+WJhtDxAiAP8yp1bogKYA/BC2QMn1JgD87sEqq2WmAP3IzBSI2ioA/qra/mZKqgD/gOXoR78qAPxi9NIlL64A/TkDvAKgLgT+Fw6l4BCyBP7xGZPBgTIE/9MkeaL1sgT8qTdnfGY2BP2LQk1d2rYE/mVNOz9LNgT/Q1ghHL+6BPwdaw76LDoI/Pt19Nugugj91YDiuRE+CP6zj8iWhb4I/42atnf2Pgj8a6mcVWrCCP1JtIo220II/iPDcBBPxgj/Ac5d8bxGDP/b2UfTLMYM/LnoMbChSgz9l/cbjhHKDP5yAgVvhkoM/0wM80z2zgz8Kh/ZKmtODP0EKscL284M/eI1rOlMUhD+vECayrzSEP+aT4CkMVYQ/HheboWh1hD9UmlUZxZWEP4wdEJEhtoQ/w6DKCH7WhD/6I4WA2vaEPzGnP/g2F4U/aCr6b5M3hT+frbTn71eFP9Ywb19MeIU/DbQp16iYhT9EN+ROBbmFP3y6nsZh2YU/sj1ZPr75hT/pwBO2GhqGPyBEzi13OoY/WMeIpdNahj8=",
          "dtype": "f8"
         },
         "yaxis": "y5"
        },
        {
         "legendgroup": "Norway",
         "marker": {
          "opacity": 0.6,
          "size": 8
         },
         "mode": "markers",
         "name": "EVNspCount - Norway",
         "showlegend": false,
         "type": "scatter",
         "visible": true,
         "x": {
          "bdata": "l0dFTA++yD/qBkgQh6HGPyh8xd4Ta8s/UfPBdwGgyT8ehm9aC1vFPxw8ZCr39ck/tg4VfHmgxT8ajSsK5xbKP+cKcGELtMc/62Nb4cYFxj8IfS80RQ/EP59+XjEU1cc/DXtIbepwzT/lYGdM5F/XPwsziA+nW9M//PwA/DAHzD+MM4ebXe7NP/LTA6244Mc/nOOlXyMuyj+sU/ULh57DPzq3C3Sd+cQ/2YQ8F3qpwj//o+S3UF7CPxsZF2dOqsM/9njElUA+wj9eS21IwuLCP57YGokhnsI/ZQYQz9Nlwj+INatdyBDFP/RrMMADJeE/j443Hvma4T+emZdr8aXbP1xg6bdn8cQ/FEkWxi2SxT8BowcCKAPEP7kTBNQOmcU/lpBYGwF3xD+uiYlC4wHGPwHfo/ol+cQ/VguQBZMcxj8uewN3UnPDP9kdNwqx2sc/73EHh9xZxz8QxNFhgkzKPygR6grAtdA/TrVRxp2gwj/jDGhSBM7BP2JJtUd+fcI/fWIqagjVwj/WTeR6QtLCPyvst+7llMI/SuGlEy60wj81Qwib70/DPwHGuvR9KcU/UyZcZhU4wT8pWQYjYBPDP9Ax7yYT+8I/GBACOEkPyj+18q7dHT/LPyvb59hcAss/gAQxyKVizj+GgiGXR8rIP/ysm3ArYcs/gu0E/VHpwj9TarJXS47FP882PYGeKM4/+nNWGFtGyD+6ZQ8sgaHMP0+p/zC2dNA/iSKc47uRyj/KW6wrA7bLP10ygO3YgMM/QMdf4Pakxj9fhtB45cPOP+pgOKKv580/Stwv6LpczD9RQ7sfUBTJP1KlSiL9gcs//fzzzz9M8z9bXDOnMHXNP8u0x6xlbtE/oyFZy85K0T9b7O9iUFXUP75ge5YKSdI/IkbOaQ7H2T/ZzUDcirjdPw2BK633Wsc/KPBuRHgD0D99B7ua8CvMPwdxvSPT+c8/k/1T1mxf4T+PXPx8uw/dP5SvBGWHTts/HMdkGcvN1j8LLazF5yDXP5Vd3fczXdE/I5S1vxYTyz/tkTc2Sh/QPyEOfBZT8c4/jJhTHI6bzD9Gy/UCTtjNP+X9KJcwhNA/+kmz9/Uuzj90HysVE/HJPxTptoyfzsU/",
          "dtype": "f8"
         },
         "xaxis": "x6",
         "y": {
          "bdata": "2ai7c6OKeT8+CCkCm/55Pyi/7hepQYI//KO0ISgleD+2zKszOKN0P3ojnzAXXII/TJL38RgRdj8jToV3Hqd0PwzxE+H5VHU/5S9piNTWdj9R1ZgAZjp4PzuMr8IrhHo/9D86bQQ5eD/pzlDsX+l9PzeTGfBf5Ho/yw/zcnMqej+u6XzabE14P/j5M5Ar4Hg/BjIpilW5eT9KJEMrRjqBP2HtL1QJp4s/flViipgZfz9mhWY4l/h7PyET/0FtwXc/A6fjYgCsdj/z3Ke5ZFJxP9KlJiLBF3Y/Or4zRRJcfT/FG6hrH4CKP+ghrc44ems/UvioXgKCYz/87Dwo4/VzPxZfGn6Zf3M/LYcvnz5tcT+ekgiXt29xP/EBBLLwaHA/rtbccz0HeD8KLs4RvGZ6P+kpHArxS3A/qUhHGxWGcT9r1JFCfLhoP9LuqWHaYXU/uZtQTB4Hcj9fegcyyD9xP/SBCR7Rk3Q/Al/CJSH9dj8KfXiR+S52P6Ti/twJ2oM/JmgxvrK8eD8xtM0lnv+BP9+a4DGStnQ/jUoSuwL4az/ivmkBPddqP6l4smcAmmo/xzy5NWDQaT8yRXL+53ltPxvhXw3tHWk/UKxO3x8Zgz/UdsSduzCDP7zxtA5Z64I/DEq2V4nGgz+xDowqUoKCPzFVr9kKUIM/LeXLG//ldz8sadUU6Q92P0Z8hkt4nog/g4WbfZ46gD+nFGxIB6+EP0SSmrPULo0/NzDKycEegz9hDlLZqXuAP4fbFpkoA3E/qhF560C0dz9R+gRkj3p7P+4ffMSfIYM/WvJOg6y9dj8RJvehou16P4h7JXBfs4E/XXTR7Z9Kez/sa1pVbQJ+PxAj+quH2oA/VVFj0lNqgj9iy8MZcz+DP5Y2ZdFy2IM/ZscHMJo+gz8+C8mDxiCEP70kxwCg8X4/LAvqUX1jgD+3PzwXdfyNP+HdfY5BZog/eAyLZMYfXj/uwitRyQ9uP5QqTqiby3g/3vIobS8VcD/6eoG791mJP1s+TvEs54U/rZenf6achD8uNWo5UCyJP0utmvcGSYQ/PcTjvT/9ij+2zWE+fcKKP1fpk5CZXIA/cAevSfbjgD94BQX4K9KBP8XEhSq30oI/",
          "dtype": "f8"
         },
         "yaxis": "y6"
        },
        {
         "legendgroup": "Norway",
         "line": {
          "color": "red",
          "width": 2
         },
         "mode": "lines",
         "showlegend": false,
         "type": "scatter",
         "visible": true,
         "x": {
          "bdata": "UyZcZhU4wT+5RMQBxZrCPyBjLJ10/cM/hoGUOCRgxT/sn/zT08LGP1O+ZG+DJcg/udzMCjOIyT8g+zSm4urKP4YZnUGSTcw/7DcF3UGwzT9TVm148RLPP1y66onQOtA/kMmeVyjs0D/D2FIlgJ3RP/bnBvPXTtI/Kve6wC8A0z9cBm+Oh7HTP5AVI1zfYtQ/wyTXKTcU1T/2M4v3jsXVPypDP8XmdtY/XFLzkj4o1z+QYadgltnXP8NwWy7uitg/9n8P/EU82T8qj8PJne3ZP1yed5f1nto/kK0rZU1Q2z/CvN8ypQHcP/bLkwD9stw/KttHzlRk3T9c6vubrBXeP5D5r2kEx94/wghkN1x43z/7C4wC2hTgP5UTZumFbeA/LhtA0DHG4D/IIhq33R7hP2Eq9J2Jd+E/+zHOhDXQ4T+VOahr4SjiPy5BglKNgeI/yEhcOTna4j9hUDYg5TLjP/tXEAeRi+M/lF/q7Tzk4z8uZ8TU6DzkP8hunruUleQ/YXZ4okDu5D/7fVKJ7EblP5WFLHCYn+U/Lo0GV0T45T/IlOA98FDmP2GcuiScqeY/+6OUC0gC5z+Vq27y81rnPy6zSNmfs+c/yLoiwEsM6D9hwvym92ToP/vJ1o2jveg/ldGwdE8W6T8u2Ypb+27pP8jgZEKnx+k/Yeg+KVMg6j/77xgQ/3jqP5X38vaq0eo/Lv/M3VYq6z/IBqfEAoPrP2EOgauu2+s/+xVbklo07D+VHTV5Bo3sPy4lD2Cy5ew/yCzpRl4+7T9hNMMtCpftP/s7nRS27+0/lUN3+2FI7j8uS1HiDaHuP8hSK8m5+e4/YVoFsGVS7z/7Yd+WEavvP8q03L7eAfA/l7hJsjQu8D9kvLalilrwPzDAI5nghvA//cOQjDaz8D/Kx/1/jN/wP5fLanPiC/E/ZM/XZjg48T8w00RajmTxP/3WsU3kkPE/ytoeQTq98T+X3os0kOnxP2Ti+CfmFfI/MOZlGzxC8j/96dIOkm7yP8rtPwLomvI/lvGs9T3H8j9j9Rnpk/PyPzD5htzpH/M//fzzzz9M8z8=",
          "dtype": "f8"
         },
         "xaxis": "x6",
         "y": {
          "bdata": "hSkP7xsLfT84jEu84Ax9P+vuh4mlDn0/nlHEVmoQfT9RtAAkLxJ9PwQXPfHzE30/t3l5vrgVfT9p3LWLfRd9Pxw/8lhCGX0/z6EuJgcbfT+CBGvzyxx9PzVnp8CQHn0/6MnjjVUgfT+bLCBbGiJ9P06PXCjfI30/AfKY9aMlfT+0VNXCaCd9P2e3EZAtKX0/GRpOXfIqfT/MfIoqtyx9P3/fxvd7Ln0/MkIDxUAwfT/lpD+SBTJ9P5gHfF/KM30/S2q4LI81fT/+zPT5Uzd9P7EvMccYOX0/ZJJtlN06fT8X9alhojx9P8pX5i5nPn0/fLoi/CtAfT8vHV/J8EF9P+J/m5a1Q30/leLXY3pFfT9IRRQxP0d9P/unUP4DSX0/rgqNy8hKfT9hbcmYjUx9PxTQBWZSTn0/xzJCMxdQfT96lX4A3FF9Pyz4us2gU30/31r3mmVVfT+SvTNoKld9P0UgcDXvWH0/+IKsArRafT+r5ejPeFx9P15IJZ09Xn0/EathagJgfT/EDZ43x2F9P3dw2gSMY30/KtMW0lBlfT/cNVOfFWd9P4+Yj2zaaH0/QvvLOZ9qfT/1XQgHZGx9P6jARNQobn0/WyOBoe1vfT8Ohr1usnF9P8Ho+Tt3c30/dEs2CTx1fT8nrnLWAHd9P9oQr6PFeH0/jXPrcIp6fT8/1ic+T3x9P/I4ZAsUfn0/pZug2Nh/fT9Y/tylnYF9PwthGXNig30/vsNVQCeFfT9xJpIN7IZ9PySJztqwiH0/1+sKqHWKfT+KTkd1Oox9Pz2xg0L/jX0/8BPAD8SPfT+idvzciJF9P1XZOKpNk30/CDx1dxKVfT+7nrFE15Z9P24B7hGcmH0/IWQq32CafT/UxmasJZx9P4cpo3nqnX0/OozfRq+ffT/t7hsUdKF9P6BRWOE4o30/UrSUrv2kfT8FF9F7wqZ9P7h5DUmHqH0/a9xJFkyqfT8eP4bjEKx9P9GhwrDVrX0/hAT/fZqvfT83ZztLX7F9P+rJdxgks30/nSy05ei0fT9Qj/CyrbZ9PwLyLIByuH0/tVRpTTe6fT8=",
          "dtype": "f8"
         },
         "yaxis": "y6"
        },
        {
         "legendgroup": "Netherlands",
         "marker": {
          "opacity": 0.6,
          "size": 8
         },
         "mode": "markers",
         "name": "ACI - Netherlands",
         "showlegend": false,
         "type": "scatter",
         "visible": false,
         "x": {
          "bdata": "MNxoqm0Yc0AMkHhT0yVzQEI3XAegNXNAt/lYKpwPc0D8X/8vkDFzQPF9s/49E3NAi1HYTCNNc0DTterMLyBzQAu3+xWpEXNAyg75d6lNc0Bbo1moEVFzQGVK5psuGnNAYaL3Zg0dc0A0VJ8NgCFzQJsa76r1HXNAeK/uVWw1c0BGQHOS/jdzQIuh5CVVSnNAnvE7cR4lc0CKbJSWvDFzQO9SRgynJnNAV+po6mUoc0DzlrgE4RlzQLtOcUtWHnNAri1KNSVSc0CFbP9+nA9zQH07spR3GnNAz5Wa8sMyc0AQv5dWuENzQFR1A4sNUHNAM1+THYM5c0BDiNR42jJzQDUxQv4bTHNATiPv2Vsqc0BSkmJvdD1zQHBu0LOeGXNASqQMjo9Ac0BUA29uDCxzQOfIwbCYLXNAIkoWF8gmc0CbHmBX8g5zQPgnNc1pSnNAwAoxIdgmc0AWaWQV+y9zQKa5/gtAQnNAr90M6nhzc0DwbBXdIzVzQK2JSjrMKnNAgDLyxqEYc0Dp0s6JizlzQM4k4H7HPXNAMzXCYHMmc0CdYz6axzxzQK/o9TaERnNAGGIpT6A0c0Aqk9x+RzJzQKmp27JjCHNA4uzmdU1gc0AHOOqbm2JzQOqMto2eO3NAZiqsRzs7c0ByDrCRyRZzQHt8Qq6KcHNA4yBHVIc4c0CDC6P0PzNzQBsVMtwEQnNAAkDptnlYc0DZ4kxM3wRzQM5rYBRhBXNAQaZ9uc//ckBOJ90nAANzQNEHOYpxAXNAFYaoDAEXc0BOnPUn4UFzQIZOGdd+eHNAGevO9btic0App3PxiRVzQIouv0ozWnNA8JtIlHYqc0AzHVNwTCJzQGPjALGfDnNAVwWT3FQbc0DjSo1HMitzQM85e5qrC3NAoy36G8cmc0AD1dH08T9zQDBbYMGtFnNApnDSpLYtc0DIm2wgqjhzQOQQgZh8M3NAtHLOMPJgc0BgYt0OHjFzQEK8TnE0NHNAlSFeu85vc0BAbh4IyRxzQHFqXdQXLXNAh/AwU+0ic0AV/VzMWQpzQCdIg1m0H3NAruHT6h0qc0BKfFF9EQtzQFmu5vpPQHNACqg56psSc0AgBtxDAy9zQMKpSQVtDnNAcLLS+34Wc0AAi+uVBBdzQII8JZgTRHNAvZEnhngic0BXazfiOyRzQKcBPYUHHHNAGmiSx4cLc0DECe2ebCRzQOuka6w/CXNAmMKBCNwXc0AgCWqfqW5zQIEF7Yy3JnNAEGpatKgZc0ClvjsDJxdzQIS4qVBEJXNA5hBypBsic0ARjJE+XiZzQAGcEqp/PXNA6qlVGncbc0A5w6WSZDNzQPEEbs0eEXNAfzxQZiAtc0BOcngQ8jNzQByHorMtJXNAzICVBsAtc0A=",
          "dtype": "f8"
         },
         "xaxis": "x",
         "y": {
          "bdata": "CcmbIjRZgj+simq/fQmEP82S/XR7J4Q/gdNqrcCghD8Y5c4XzpWEPyoe5a5udYE/74+mZQCJhj+FEtx8ufCBP/4+kb9K1X8/RxW8oLK+hT+vgSxk/QuIPw/14nDgdnY/imrR/1zWgj/eFLMjwWSCP6KPMkcH+IA/urpCezT+gT83vzVl19WBP4GDRRpKa4I/8E6GQck7fT9+xiHcd5KCP/2+fsoYvXs/jQmX0ObNdz+Q6l87knV7P6OmbFwewnk/q61Xnz7xej8ysraj3Wd+P7i4sn3IPHg/kzLIqQE6cT+iWPr84xFyP0aAbeJku3Q/hFMC7NFPcT+yANHBoqtvP5kbaozfFXI/af2xOhpmbz8fFea7OPFuPxGpv/ohz2w/uvQjnXcWcj+Avy87aF9wP52yug2WZ3I/FaE71Ftzbj/+dmc+jlhpP3pPGToEhG8/J3hi1cUAcT/Kn4A+R4dyPz/IbTE1vHM/JTJfO2/aeD8tsdEJ+P9xPzUPBhiHs3A/DsvtGGhscD84TBX3/xaAPziwrLTpwng/IpbSuyM/cT//57OwzFt8P6Ya0I3KJXk/8HeLmjLRfD/RARZkfhZ5P+dUaiErXG8/AMWgVNR7eT9scpdP54Z7PxHqeUY8DXY/O0sAiDjqdD/7TruR3NNuPzFmvdwBT3I//yVvematcj/wDzu9DYZ1P+aQSmSOLXI/IYmCoYJ7eT/qy996KY16P9Ph029BO4M/eRc/L2nTej/n3FIgt4d8P8ptJ2vDNoE/opoFIgkjgj8AjXADdi2DP42gPyFKxoU/gnFzZkYnhz/A/BwPslx/P8P7tl7GLm4/IFG5NUmmgD/OwfCPDh9xP+/nZoMWf3A/MPe2Z2DecD+bA+1XiTNxP8b6GiOLgHg/NN+Zi4PdgD9+0lcELm6APzDKclVDhoE/IZITJZUsfj8NOckV1kt+P4QSGEjYEoM/FtZN4Abffj9i5yMHnoaEP54iD1L3aYI/45tnI2QbhD9Ev9YHpsF5P1Yg9mOqJoI/QL+jZBEigz+18ohkiT6BP82x2FPJwH8//GNMP5Gagj8K0zPorOF6P9z+tKlPNnk/agU83Mfxcz8jMHDU2JKCP50+SnIP8XQ/BCeEKYdQdT+hioqp5rZ+PxFn5TvgH3A//5R/BgntgT8PafGeKwSBP6DotcRo2oA/HIg2lvyjeT9Et3HhWAmFP5oyxKFibHI/mjMayzO1az9O6zRUdVdwP90dDpkusIA/NatWSquEgT9DPP+KUyyDP4MXNKd6lH4/yAZTYH3wgj/w9XhsDTODP8nLIUeGwYU/NCtvrBcWgj92Lq5XzPCAP9cH6JiC43A/FkCP43sKcj/eGIHYpER5P5UkDrl1JIM/NWCtyP0ZhT8=",
          "dtype": "f8"
         },
         "yaxis": "y"
        },
        {
         "legendgroup": "Netherlands",
         "line": {
          "color": "red",
          "width": 2
         },
         "mode": "lines",
         "showlegend": false,
         "type": "scatter",
         "visible": false,
         "x": {
          "bdata": "QaZ9uc//ckD5EeTLBwFzQLJ9St4/AnNAaumw8HcDc0AiVRcDsARzQNrAfRXoBXNAkyzkJyAHc0BLmEo6WAhzQAMEsUyQCXNAvG8XX8gKc0B0231xAAxzQCxH5IM4DXNA5bJKlnAOc0CdHrGoqA9zQFWKF7vgEHNADfZ9zRgSc0DGYeTfUBNzQH7NSvKIFHNANjmxBMEVc0DvpBcX+RZzQKcQfikxGHNAX3zkO2kZc0AX6EpOoRpzQNBTsWDZG3NAiL8XcxEdc0BAK36FSR5zQPmW5JeBH3NAsQJLqrkgc0BpbrG88SFzQCLaF88pI3NA2kV+4WEkc0CSseTzmSVzQEodSwbSJnNAA4mxGAooc0C79BcrQilzQHNgfj16KnNALMzkT7Irc0DkN0ti6ixzQJyjsXQiLnNAVA8Yh1ovc0ANe36ZkjBzQMXm5KvKMXNAfVJLvgIzc0A2vrHQOjRzQO4pGONyNXNAppV+9ao2c0BeAeUH4zdzQBdtSxobOXNAz9ixLFM6c0CHRBg/iztzQECwflHDPHNA+BvlY/s9c0Cwh0t2Mz9zQGnzsYhrQHNAIV8Ym6NBc0DZyn6t20JzQJE25b8TRHNASqJL0ktFc0ACDrLkg0ZzQLp5GPe7R3NAc+V+CfRIc0ArUeUbLEpzQOO8Sy5kS3NAmyiyQJxMc0BUlBhT1E1zQAwAf2UMT3NAxGvld0RQc0B910uKfFFzQDVDspy0UnNA7a4Yr+xTc0CmGn/BJFVzQF6G5dNcVnNAFvJL5pRXc0DOXbL4zFhzQIfJGAsFWnNAPzV/HT1bc0D3oOUvdVxzQLAMTEKtXXNAaHiyVOVec0Ag5BhnHWBzQNhPf3lVYXNAkbvli41ic0BJJ0yexWNzQAGTsrD9ZHNAuv4YwzVmc0Byan/VbWdzQCrW5eelaHNA4kFM+t1pc0CbrbIMFmtzQFMZGR9ObHNAC4V/MYZtc0DE8OVDvm5zQHxcTFb2b3NANMiyaC5xc0DtMxl7ZnJzQKWff42ec3NAXQvmn9Z0c0AVd0yyDnZzQM7issRGd3NAhk4Z1354c0A=",
          "dtype": "f8"
         },
         "xaxis": "x",
         "y": {
          "bdata": "oCvGwAZvez+sLryZjnN7P7gxsnIWeHs/xDSoS558ez/MN54kJoF7P9g6lP2thXs/5D2K1jWKez/wQICvvY57P/xDdohFk3s/CEdsYc2Xez8USmI6VZx7PxxNWBPdoHs/LFBO7GSlez80U0TF7Kl7P0BWOp50rns/SFkwd/yyez9YXCZQhLd7P2RfHCkMvHs/bGISApTAez98ZQjbG8V7P4Ro/rOjyXs/kGv0jCvOez+Ybupls9J7P6hx4D4713s/sHTWF8Pbez+8d8zwSuB7P8h6wsnS5Hs/1H24olrpez/ggK574u17P+yDpFRq8ns/+IaaLfL2ez8AipAGevt7PwyNht8BAHw/GJB8uIkEfD8kk3KREQl8PyyWaGqZDXw/PJleQyESfD9EnFQcqRZ8P1CfSvUwG3w/XKJAzrgffD9opTanQCR8P3SoLIDIKHw/fKsiWVAtfD+Mrhgy2DF8P5SxDgtgNnw/oLQE5Oc6fD+ot/q8bz98P7i68JX3Q3w/wL3mbn9IfD/MwNxHB018P9zD0iCPUXw/5MbI+RZWfD/wyb7Snlp8P/zMtKsmX3w/CNCqhK5jfD8Q06BdNmh8PxzWlja+bHw/KNmMD0ZxfD803ILozXV8P0DfeMFVenw/TOJumt1+fD9Y5WRzZYN8P2DoWkzth3w/bOtQJXWMfD947kb+/JB8P4TxPNeElXw/jPQysAyafD+c9yiJlJ58P6T6HmIco3w/sP0UO6SnfD+8AAsULKx8P8gDAe2zsHw/1Ab3xTu1fD/cCe2ew7l8P+wM43dLvnw/9A/ZUNPCfD8AE88pW8d8PwwWxQLjy3w/GBm722rQfD8gHLG08tR8Pywfp4162Xw/PCKdZgLefD9EJZM/iuJ8P1AoiRgS53w/XCt/8ZnrfD9oLnXKIfB8P3Axa6Op9Hw/fDRhfDH5fD+IN1dVuf18P5Q6TS5BAn0/nD1DB8kGfT+sQDngUAt9P7hDL7nYD30/wEYlkmAUfT/QSRtr6Bh9P9hMEURwHX0/5E8HHfghfT/sUv31fyZ9P/xV884HK30/BFnpp48vfT8=",
          "dtype": "f8"
         },
         "yaxis": "y"
        },
        {
         "legendgroup": "Netherlands",
         "marker": {
          "opacity": 0.6,
          "size": 8
         },
         "mode": "markers",
         "name": "ADI - Netherlands",
         "showlegend": false,
         "type": "scatter",
         "visible": false,
         "x": {
          "bdata": "V7X/+HxnAECAeQlSaxz+P+mEls6gRvc/K3nNdZqtAEDM2YdhKgoAQEzXUBJkkf0/F6KE4q3E/D+amBbbytf9P2+gCr4AzP8/8jPbN0WO/z+0mQ+RCJr5P6UpK7SpQ/g/sxqWQkElAUAQ2gsV/FAAQIPvmCvbSf0/B3HqaH9u+j+EgcmPYID4Pxvpm98a3/I/e4AykV+W9T8qvSMk6Xr7P8Oikpsvd/g/It9T6AXi9D//waOxoID5P8BAfKkUEvo/LswgX2AI5D/n+WJwIXEAQBsS2uvphfg/KOqdvXZD8D+OcAN/DdzuPymBNVmy1uQ/SppZrJ8s6z8oggR8vAnvPw2qcszDG9s/zt6YP44A6z9oGGbGs0XwP+frmec4lfE/C2Hf+ZQq6D9lw42owsviPwyOwJbT4PI/hApfxUS05z9Jy/2PzCfzP0leEJT2JPA/TXgKfNg+6j+CE4W9GqPpP8uWywJcpO8/6lcv5eH33T8895vITOToP4bIrZD0bPM/ouo9q29r8T9pI6l0B1D6P6/SrpZUuPA/ngw07PcJ6T/dhOp+9Kf0P7PigU3toeM/VOT5Z8r58j+y4+xldpHzP7ozyBFIrfs/jm/5uOES8j9E+yC41+DkPwOe9T9i++8/4Un2Wnnd8j/Co365DnX2PwN1yiMkU/I/trvXlSgn7j8YPIgQ7sL2P2KcHwXUjuM/wdI399397j8gyVA0I3r8PyPoROQW6AFAqL5MVl6vAECKkKQU6KMAQGv+Ocjz6wBAhz/lwO8rAUD61SQkupj8P7x/I92X1QBA5TsG6mvv/j9nZCbh65z/P82Isa1p9vk/SZv+VEjl8D++WOCHEhDzPwYnmfFsFvU/VGFqUo1j9T9yDVJznkbsPzspGDSsBfs/SU3/bNhE9j/8JFCDmKD0P+ExjLMDufg/YjBhnK3H8z/hFDj3ELr3P3FPwyWKZfo/Pg7dhj3q5T9k3DRVIj//P3yq3rHgX+A/K9AeCjbV9T+mTWEQ9Kn2PxUCker1EPM/1Zu68JwB+j923IC07ob+P3FnbD0BtPE/Wij3GFWH+j/U9DX/2iL9P2Txw9RVEf8/bhIOQAuG9z8oIu3eix8CQDiaagb19f8/RSHN4xDZAED29Gvx4xUCQKlJ/1iDawJAb9OiWwrsAUDwe8n9jZ4BQHAcXW7CWwJAVKUZZltdAUAt83dZ7x4CQIfxLrVKGwFAzTsIxihi+j9V66bZNYD/P2jG02wL1AFA/SygaGogAUAfqKu0VCMBQHZZdMpXNf8/0XkNK/8uAUBus3o+N6YBQAegRMkqJgFAdz1b6DvVAUBz6WBVdNgBQHhL832jawFAXA0iPPa6AUBvq7Ao5WQBQOAjkMko7QFAtjJWcmzUAUA=",
          "dtype": "f8"
         },
         "xaxis": "x2",
         "y": {
          "bdata": "CcmbIjRZgj+simq/fQmEP82S/XR7J4Q/gdNqrcCghD8Y5c4XzpWEPyoe5a5udYE/74+mZQCJhj+FEtx8ufCBP/4+kb9K1X8/RxW8oLK+hT+vgSxk/QuIPw/14nDgdnY/imrR/1zWgj/eFLMjwWSCP6KPMkcH+IA/urpCezT+gT83vzVl19WBP4GDRRpKa4I/8E6GQck7fT9+xiHcd5KCP/2+fsoYvXs/jQmX0ObNdz+Q6l87knV7P6OmbFwewnk/q61Xnz7xej8ysraj3Wd+P7i4sn3IPHg/kzLIqQE6cT+iWPr84xFyP0aAbeJku3Q/hFMC7NFPcT+yANHBoqtvP5kbaozfFXI/af2xOhpmbz8fFea7OPFuPxGpv/ohz2w/uvQjnXcWcj+Avy87aF9wP52yug2WZ3I/FaE71Ftzbj/+dmc+jlhpP3pPGToEhG8/J3hi1cUAcT/Kn4A+R4dyPz/IbTE1vHM/JTJfO2/aeD8tsdEJ+P9xPzUPBhiHs3A/DsvtGGhscD84TBX3/xaAPziwrLTpwng/IpbSuyM/cT//57OwzFt8P6Ya0I3KJXk/8HeLmjLRfD/RARZkfhZ5P+dUaiErXG8/AMWgVNR7eT9scpdP54Z7PxHqeUY8DXY/O0sAiDjqdD/7TruR3NNuPzFmvdwBT3I//yVvematcj/wDzu9DYZ1P+aQSmSOLXI/IYmCoYJ7eT/qy996KY16P9Ph029BO4M/eRc/L2nTej/n3FIgt4d8P8ptJ2vDNoE/opoFIgkjgj8AjXADdi2DP42gPyFKxoU/gnFzZkYnhz/A/BwPslx/P8P7tl7GLm4/IFG5NUmmgD/OwfCPDh9xP+/nZoMWf3A/MPe2Z2DecD+bA+1XiTNxP8b6GiOLgHg/NN+Zi4PdgD9+0lcELm6APzDKclVDhoE/IZITJZUsfj8NOckV1kt+P4QSGEjYEoM/FtZN4Abffj9i5yMHnoaEP54iD1L3aYI/45tnI2QbhD9Ev9YHpsF5P1Yg9mOqJoI/QL+jZBEigz+18ohkiT6BP82x2FPJwH8//GNMP5Gagj8K0zPorOF6P9z+tKlPNnk/agU83Mfxcz8jMHDU2JKCP50+SnIP8XQ/BCeEKYdQdT+hioqp5rZ+PxFn5TvgH3A//5R/BgntgT8PafGeKwSBP6DotcRo2oA/HIg2lvyjeT9Et3HhWAmFP5oyxKFibHI/mjMayzO1az9O6zRUdVdwP90dDpkusIA/NatWSquEgT9DPP+KUyyDP4MXNKd6lH4/yAZTYH3wgj/w9XhsDTODP8nLIUeGwYU/NCtvrBcWgj92Lq5XzPCAP9cH6JiC43A/FkCP43sKcj/eGIHYpER5P5UkDrl1JIM/NWCtyP0ZhT8=",
          "dtype": "f8"
         },
         "yaxis": "y2"
        },
        {
         "legendgroup": "Netherlands",
         "line": {
          "color": "red",
          "width": 2
         },
         "mode": "lines",
         "showlegend": false,
         "type": "scatter",
         "visible": false,
         "x": {
          "bdata": "DapyzMMb2z/ANHm/t1LcP3O/f7Krid0/JkqGpZ/A3j/Z1IyYk/ffP8avycVDl+A/IPVMv70y4T95OtC4N87hP9J/U7KxaeI/LMXWqysF4z+GClqlpaDjP99P3Z4fPOQ/OJVgmJnX5D+S2uORE3PlP+wfZ4uNDuY/RWXqhAeq5j+eqm1+gUXnP/jv8Hf74Oc/UjV0cXV86D+revdq7xfpPwTAemRps+k/XgX+XeNO6j+4SoFXXerqPxGQBFHXhes/atWHSlEh7D/EGgtEy7zsPx5gjj1FWO0/dqURN7/z7T/Q6pQwOY/uPyowGCqzKu8/hHWbIy3G7z9uXY+O0zDwPxsAUYuQfvA/yKISiE3M8D91RdSEChrxPyHolYHHZ/E/zopXfoS18T97LRl7QQPyPyjQ2nf+UPI/1HKcdLue8j+BFV5xeOzyPy64H241OvM/21rhavKH8z+H/aJnr9XzPzSgZGRsI/Q/4UImYSlx9D+O5edd5r70PzqIqVqjDPU/5yprV2Ba9T+UzSxUHaj1P0Fw7lDa9fU/7RKwTZdD9j+atXFKVJH2P0dYM0cR3/Y/8/r0Q84s9z+gnbZAi3r3P01AeD1IyPc/+uI5OgUW+D+nhfs2wmP4P1MovTN/sfg/AMt+MDz/+D+tbUAt+Uz5P1kQAiq2mvk/BrPDJnPo+T+zVYUjMDb6P2D4RiDtg/o/DZsIHarR+j+5PcoZZx/7P2bgixYkbfs/E4NNE+G6+z+/JQ8Qngj8P2zI0AxbVvw/GWuSCRik/D/GDVQG1fH8P3OwFQOSP/0/H1PX/06N/T/M9Zj8C9v9P3mYWvnIKP4/JTsc9oV2/j/S3d3yQsT+P3+An+//Ef8/LCNh7Lxf/z/ZxSLpea3/P4Vo5OU2+/8/mQVT8XkkAEDw1rNvWEsAQEaoFO42cgBAnHl1bBWZAEDzStbq878AQEkcN2nS5gBAoO2X57ANAUD2vvhljzQBQEyQWeRtWwFAo2G6YkyCAUD5MhvhKqkBQE8EfF8J0AFAptXc3ef2AUD8pj1cxh0CQFN4ntqkRAJAqUn/WINrAkA=",
          "dtype": "f8"
         },
         "xaxis": "x2",
         "y": {
          "bdata": "aCq2bygCcj+Kz0cpFi5yP6x02eIDWnI/zhlrnPGFcj/xvvxV37FyPxNkjg/N3XI/NQkgyboJcz9XrrGCqDVzP3lTQzyWYXM/m/jU9YONcz+9nWavcblzP99C+Ghf5XM/AeiJIk0RdD8jjRvcOj10P0UyrZUoaXQ/Z9c+TxaVdD+JfNAIBMF0P6shYsLx7HQ/zsbze98YdT/wa4U1zUR1PxERF++6cHU/NLaoqKicdT9WWzpilsh1P3gAzBuE9HU/mqVd1XEgdj+8Su+OX0x2P97vgEhNeHY/AJUSAjukdj8iOqS7KNB2P0TfNXUW/HY/ZoTHLgQodz+IKVno8VN3P6rO6qHff3c/zHN8W82rdz/uGA4Vu9d3PxC+n86oA3g/MmMxiJYveD9UCMNBhFt4P3atVPtxh3g/mFLmtF+zeD+693duTd94P9ycCSg7C3k//0Gb4Sg3eT8g5yybFmN5P0KMvlQEj3k/ZTFQDvK6eT+H1uHH3+Z5P6h7c4HNEno/yyAFO7s+ej/txZb0qGp6PxBrKK6Wlno/MRC6Z4TCej9TtUshcu56P3Za3dpfGns/l/9ulE1Gez+5pABOO3J7P9xJkgcpnns//u4jwRbKez8glLV6BPZ7P0I5RzTyIXw/ZN7Y7d9NfD+Gg2qnzXl8P6go/GC7pXw/ys2NGqnRfD/sch/Ulv18Pw4YsY2EKX0/ML1CR3JVfT9SYtQAYIF9P3QHZrpNrX0/lqz3czvZfT+4UYktKQV+P9r2GucWMX4//JusoARdfj8eQT5a8oh+P0HmzxPgtH4/Yothzc3gfj+EMPOGuwx/P6fVhECpOH8/yHoW+pZkfz/qH6izhJB/Pw3FOW1yvH8/L2rLJmDofz+ohy7wJgqAPzpa98wdIIA/yizAqRQ2gD9c/4iGC0yAP+zRUWMCYoA/fqQaQPl3gD8Pd+Mc8I2AP6BJrPnmo4A/MRx11t25gD/C7j2z1M+AP1LBBpDL5YA/5JPPbML7gD91ZphJuRGBPwY5YSawJ4E/lwsqA6c9gT8o3vLfnVOBP7mwu7yUaYE/SoOEmYt/gT8=",
          "dtype": "f8"
         },
         "yaxis": "y2"
        },
        {
         "legendgroup": "Netherlands",
         "marker": {
          "opacity": 0.6,
          "size": 8
         },
         "mode": "markers",
         "name": "BI - Netherlands",
         "showlegend": false,
         "type": "scatter",
         "visible": false,
         "x": {
          "bdata": "32mU2oq9KUBF7MHvufIoQGt2djGBISlAJg3YoysaKkDufXlVbh4sQAyJ90t1QihAdOzwFqtyKUC/3dldAJIlQGMgjrEZ9iRASQx6P2w1KUDUcvNgm3opQOFJZ5kBeyNAheBsV0EUJkDHizowrEEnQPx+OLhRXiZA3qWRZTreJUDuPK6THMImQFV5VxGApCRAzJS40DcoJECel/EhHPYlQLqKw8VpfyVAsPqKW3F0JEBl4tFewSskQKOpR/SFryVAP42NbM4pJ0COlu+k3ukkQO9p0lV4cSRAkCf6pVAiI0B3Lg9M/p0jQDU/V81lhCRAZG3YLOeSI0A6L6e9CZQiQCMUvvYfrCNAoplqs7q6IkBB1duHQcYiQBcFJUmAYiJAzCqNwRltI0C+t1aiYKUlQLUB4sgsMSZAzHjA/rZmJUBNo9u8dtckQBX+JJkrsCVAsZfG74kcJkDU3/h2pW4mQJTQQQrorSZA9OeOk5cEK0BA8UPzALomQFZSSv3DJiVAP+OP8OfdJEC9bxT8qh0oQHuPR2ulpCVAViNi6l4oJUBJwgWaAi0lQOuuTZbTqCRAtphFdqNyJkCYslxA178mQHECTWxZFCVA20DK5zroJkD9mFcRq64nQCBX7NlIWCVA7vF6wbmpJUBrHY5stxUkQApUFx+viyVA9p1p+/PGJEArMQm2cCElQO5BgDHVwSRAyRZ3lEOtJ0C/WH8E6GUrQNtBhsM+uCZA58S1PJN/L0D+UkZta6UoQIwateFuPydAzUB3pWl9J0CP4VmSqh8rQAT4Oi81YjFA96O7WK07L0BS6AolvbokQDf7E2X5tyNAq5sHk/DjJUC4oR3LVuwjQO91MjFhSiNAKBCopT8YJEBU39UvuSYkQMfMb2lLtSNAOV1rlJyOJUAtxREsfEsoQMYtZmR1VCZACHc5SqwCKUBm0pZd75ApQICVS8Nk+iZA6irb7Qn9KUBMq2bbT6ErQAuGL6m+ViZAAvomZN4CLEB8U0qQuGQlQFQMANqV3yRAuYSHlQWMJUDSW2LJ7+wkQLxdtoz98iZAdpwj+iULJkCpldbBY1olQF+iAp1r4CRAGv/kwYV9I0BqCxPPoWcoQHGx62YKZiRAdHtP33YOI0CUs3dAC1QkQNPJZ73StiJAhLRlFFWoJUD3vdRpXGkmQLsMpEZSByVAVXp4oTGGJEAR3sV3rnYnQGQiX+AR9CNA1C6Y946uJUCsXxKH8eclQIxnR9ZlXiZAHJI75ntFJkBlcWYCLLImQLTkYEOp7SZAsIdweEHzJ0DAkbsXCzAqQFOb3kmQBipAjXXrzC7TJ0DQEjMtwooqQNiGKIKDFidAkwu084gyJkBVKHOMSrAqQM0SZsiVeipAHDqppTStKkA=",
          "dtype": "f8"
         },
         "xaxis": "x3",
         "y": {
          "bdata": "CcmbIjRZgj+simq/fQmEP82S/XR7J4Q/gdNqrcCghD8Y5c4XzpWEPyoe5a5udYE/74+mZQCJhj+FEtx8ufCBP/4+kb9K1X8/RxW8oLK+hT+vgSxk/QuIPw/14nDgdnY/imrR/1zWgj/eFLMjwWSCP6KPMkcH+IA/urpCezT+gT83vzVl19WBP4GDRRpKa4I/8E6GQck7fT9+xiHcd5KCP/2+fsoYvXs/jQmX0ObNdz+Q6l87knV7P6OmbFwewnk/q61Xnz7xej8ysraj3Wd+P7i4sn3IPHg/kzLIqQE6cT+iWPr84xFyP0aAbeJku3Q/hFMC7NFPcT+yANHBoqtvP5kbaozfFXI/af2xOhpmbz8fFea7OPFuPxGpv/ohz2w/uvQjnXcWcj+Avy87aF9wP52yug2WZ3I/FaE71Ftzbj/+dmc+jlhpP3pPGToEhG8/J3hi1cUAcT/Kn4A+R4dyPz/IbTE1vHM/JTJfO2/aeD8tsdEJ+P9xPzUPBhiHs3A/DsvtGGhscD84TBX3/xaAPziwrLTpwng/IpbSuyM/cT//57OwzFt8P6Ya0I3KJXk/8HeLmjLRfD/RARZkfhZ5P+dUaiErXG8/AMWgVNR7eT9scpdP54Z7PxHqeUY8DXY/O0sAiDjqdD/7TruR3NNuPzFmvdwBT3I//yVvematcj/wDzu9DYZ1P+aQSmSOLXI/IYmCoYJ7eT/qy996KY16P9Ph029BO4M/eRc/L2nTej/n3FIgt4d8P8ptJ2vDNoE/opoFIgkjgj8AjXADdi2DP42gPyFKxoU/gnFzZkYnhz/A/BwPslx/P8P7tl7GLm4/IFG5NUmmgD/OwfCPDh9xP+/nZoMWf3A/MPe2Z2DecD+bA+1XiTNxP8b6GiOLgHg/NN+Zi4PdgD9+0lcELm6APzDKclVDhoE/IZITJZUsfj8NOckV1kt+P4QSGEjYEoM/FtZN4Abffj9i5yMHnoaEP54iD1L3aYI/45tnI2QbhD9Ev9YHpsF5P1Yg9mOqJoI/QL+jZBEigz+18ohkiT6BP82x2FPJwH8//GNMP5Gagj8K0zPorOF6P9z+tKlPNnk/agU83Mfxcz8jMHDU2JKCP50+SnIP8XQ/BCeEKYdQdT+hioqp5rZ+PxFn5TvgH3A//5R/BgntgT8PafGeKwSBP6DotcRo2oA/HIg2lvyjeT9Et3HhWAmFP5oyxKFibHI/mjMayzO1az9O6zRUdVdwP90dDpkusIA/NatWSquEgT9DPP+KUyyDP4MXNKd6lH4/yAZTYH3wgj/w9XhsDTODP8nLIUeGwYU/NCtvrBcWgj92Lq5XzPCAP9cH6JiC43A/FkCP43sKcj/eGIHYpER5P5UkDrl1JIM/NWCtyP0ZhT8=",
          "dtype": "f8"
         },
         "yaxis": "y3"
        },
        {
         "legendgroup": "Netherlands",
         "line": {
          "color": "red",
          "width": 2
         },
         "mode": "lines",
         "showlegend": false,
         "type": "scatter",
         "visible": false,
         "x": {
          "bdata": "FwUlSYBiIkAkZ74n3YwiQDHJVwY6tyJAPSvx5JbhIkBKjYrD8wsjQFfvI6JQNiNAZFG9gK1gI0Bws1ZfCosjQH0V8D1ntSNAineJHMTfI0CX2SL7IAokQKQ7vNl9NCRAsJ1VuNpeJEC9/+6WN4kkQMphiHWUsyRA18MhVPHdJEDkJbsyTgglQPCHVBGrMiVA/ent7wddJUAKTIfOZIclQBeuIK3BsSVAIxC6ix7cJUAwclNqewYmQD3U7EjYMCZASjaGJzVbJkBWmB8GkoUmQGP6uOTuryZAcFxSw0vaJkB9vuuhqAQnQIoghYAFLydAloIeX2JZJ0Cj5Lc9v4MnQLBGURwcridAvajq+njYJ0DKCoTZ1QIoQNZsHbgyLShA4862lo9XKEDwMFB17IEoQP2S6VNJrChACvWCMqbWKEAWVxwRAwEpQCO5te9fKylAMBtPzrxVKUA8feisGYApQErfgYt2qilAVkEbatPUKUBjo7RIMP8pQHAFTieNKSpAfGfnBepTKkCKyYDkRn4qQJYrGsOjqCpAo42zoQDTKkCw70yAXf0qQLxR5l66JytAybN/PRdSK0DWFRkcdHwrQON3svrQpitA8NlL2S3RK0D8O+W3ivsrQAmefpbnJSxAFgAYdURQLEAiYrFToXosQDDESjL+pCxAPCbkEFvPLEBJiH3vt/ksQFbqFs4UJC1AYkywrHFOLUBwrkmLzngtQHwQ42kroy1AiXJ8SIjNLUCW1BUn5fctQKI2rwVCIi5Ar5hI5J5MLkC8+uHC+3YuQMlce6FYoS5A1r4UgLXLLkDiIK5eEvYuQO+CRz1vIC9A/OTgG8xKL0AIR3r6KHUvQBapE9mFny9AIgutt+LJL0AvbUaWP/QvQJ7nbzpODzBApJi8qXwkMECrSQkZqzkwQLH6VYjZTjBAuKui9wdkMEC+XO9mNnkwQMQNPNZkjjBAy76IRZOjMEDRb9W0wbgwQNggIiTwzTBA3tFukx7jMEDkgrsCTfgwQOozCHJ7DTFA8eRU4akiMUD4laFQ2DcxQP5G7r8GTTFABPg6LzViMUA=",
          "dtype": "f8"
         },
         "xaxis": "x3",
         "y": {
          "bdata": "TSgirHF4cz9L5IYFctBzP0mg615yKHQ/RVxQuHKAdD9BGLURc9h0Pz/UGWtzMHU/PZB+xHOIdT85TOMddOB1PzUISHd0OHY/M8Ss0HSQdj8xgBEqdeh2Py88doN1QHc/Kfja3HWYdz8ntD82dvB3PyVwpI92SHg/IywJ6XageD8h6G1Cd/h4Pxuk0pt3UHk/GWA39XeoeT8XHJxOeAB6PxXYAKh4WHo/D5RlAXmwej8NUMpaeQh7PwsML7R5YHs/CciTDXq4ez8DhPhmehB8PwFAXcB6aHw///vBGXvAfD/9tyZzexh9P/tzi8x7cH0/9S/wJXzIfT/z61R/fCB+P/Gnudh8eH4/72MeMn3Qfj/rH4OLfSh/P+fb5+R9gH8/5ZdMPn7Yfz/yqdhLPxiAP/AHi3g/RIA/7mU9pT9wgD/sw+/RP5yAP+whov4/yIA/6n9UK0D0gD/o3QZYQCCBP+g7uYRATIE/5plrsUB4gT/k9x3eQKSBP+RV0ApB0IE/4LOCN0H8gT/gETVkQSiCP95v55BBVII/3s2ZvUGAgj/cK0zqQayCP9qJ/hZC2II/2OewQ0IEgz/YRWNwQjCDP9ajFZ1CXIM/1AHIyUKIgz/SX3r2QrSDP9K9LCND4IM/0BvfT0MMhD/OeZF8QziEP87XQ6lDZIQ/zDX21UOQhD/Kk6gCRLyEP8jxWi9E6IQ/xk8NXEQUhT/Grb+IRECFP8QLcrVEbIU/wmkk4kSYhT/Cx9YORcSFP8AliTtF8IU/voM7aEUchj++4e2URUiGP7w/oMFFdIY/up1S7kWghj+4+wQbRsyGP7ZZt0dG+IY/trdpdEYkhz+0FRyhRlCHP7Rzzs1GfIc/sNGA+kaohz+wLzMnR9SHP66N5VNHAIg/rOuXgEcsiD+sSUqtR1iIP6qn/NlHhIg/qgWvBkiwiD+oY2EzSNyIP6TBE2BICIk/pB/GjEg0iT+ifXi5SGCJP6LbKuZIjIk/oDndEkm4iT+el48/SeSJP5z1QWxJEIo/nFP0mEk8ij+csabFSWiKP5gPWfJJlIo/lm0LH0rAij8=",
          "dtype": "f8"
         },
         "yaxis": "y3"
        },
        {
         "legendgroup": "Netherlands",
         "marker": {
          "opacity": 0.6,
          "size": 8
         },
         "mode": "markers",
         "name": "Hf - Netherlands",
         "showlegend": false,
         "type": "scatter",
         "visible": false,
         "x": {
          "bdata": "kyQCCvla4T/ubYrGkQ7gP26omx5xMtY/3CMyauUD4j+8PExetMHgP1f/ZKXN9t0/wYauAwte3T9qA2zKLxDfP/ePCEnY7+E/IoXPaLDh4T/q3iEEyEDWP793G2L149s/IkPfg8UB5D9KDoyzVT/iP3IvtPuSj+A/JtXlvpwl3j+ZI9iXh1jbP2lStDueHdc/ElzVVY6b1z+mShzXUAvfP8cz3g0uUdw/gxnwJJqG2z93zj8Wx3PdP6ZZPkUVSd8/f1qhOi2J0z8X7Hta+pvjP9hf+wmm0tk/8+k+nLo71j9Rbm+NKmHVP7q0qjl5pNM/8XJQNSx60z+6zIgrkJnUP+q+asxXO9E/O0Dm+ExZ0z8hnjugbmnWP+gSYrovv9U/nLw6VQyB0z/Unt98uJDSP5BdUjnUTdg/W5xFbyGI0z9pEz/yHAjXP2t4xWHq79U/d/JONATA1D9olFMd58jVP33MUn1h4tU/jEgLbQeM1T+LuGrZF2DSP8HxUCKh3tc/FMoSZtVv1j+2bfPgWuTcP40Ka3yvytU/k1WpIk6m0z8es977tkbYP0NWBXwam9I/D7DNLvpg2D8nvXu+X43YP0DjPaGLTdw/pbVTZQZt1j+XCGhPWpTSP4kiNFtfedg/q4nSPW/H2D+O4SFqsDXZP6hgxQG1cdg/tYsVHxdj1j/OeW1K1XnaP4c3pyM+otI/p/a6L2w31T8SqrcqyCrZPwy4f+MBA90/TbpGybsd3T9MnOJaklffP0uTZnzbFt8/ull8aly84D8i5gcVGuvaP4TvbgjEQ98/U/BFZFAc3T8jhmKADyzhP29Ywkl7qt0/XjitMx0g0T/KpHMbhqzXPwVzj+LNFdY/NOdvrd3x2T+bp6XhcTfTP4NGH/MArN0/NoxyuxR62D8dSa41ZMXXP1+DLsn7K9k/lY0JrPk91z/ec5ijxmrYPzFVyVH/c9k/eTnBtbY10z+I5q2iUfHbP6vzS1Bbd9A/kO07thmn2D+1wd28HnnaP2pbBoYyldE/CKwJIrCk3D9zZ0ZiyHTfP+ybWAQ6cNU/IiazEPd72T8nh1XjrXfeP8OZw3rRS+E/6dLT15At1z+fWB80sO3mP8n/tVi1CeI/1Pjo+WfE4z8gfkr4QRrnP8BqjYt2oeg/EZCH53kC5T/piaSLqrrlP13TToeUAeY/9Knq+9484j/YQfy6SGbnP46j0eadwOQ/loust5WN3D84ip8hIpXiP7RKWcb2n+Y/wg+MHVmh5T8mW+AQ5EvlPza34qyEt+I/iFZI38qt5T+z72QHjrjhP40OCW5nw+M/LTM5D0qE4z/tJq87oVTjPwHRi8H4r+E/cF+Sfea44j/lLVS5fsDhP7f26HfGrOE/YFVRvvJV4z8=",
          "dtype": "f8"
         },
         "xaxis": "x4",
         "y": {
          "bdata": "CcmbIjRZgj+simq/fQmEP82S/XR7J4Q/gdNqrcCghD8Y5c4XzpWEPyoe5a5udYE/74+mZQCJhj+FEtx8ufCBP/4+kb9K1X8/RxW8oLK+hT+vgSxk/QuIPw/14nDgdnY/imrR/1zWgj/eFLMjwWSCP6KPMkcH+IA/urpCezT+gT83vzVl19WBP4GDRRpKa4I/8E6GQck7fT9+xiHcd5KCP/2+fsoYvXs/jQmX0ObNdz+Q6l87knV7P6OmbFwewnk/q61Xnz7xej8ysraj3Wd+P7i4sn3IPHg/kzLIqQE6cT+iWPr84xFyP0aAbeJku3Q/hFMC7NFPcT+yANHBoqtvP5kbaozfFXI/af2xOhpmbz8fFea7OPFuPxGpv/ohz2w/uvQjnXcWcj+Avy87aF9wP52yug2WZ3I/FaE71Ftzbj/+dmc+jlhpP3pPGToEhG8/J3hi1cUAcT/Kn4A+R4dyPz/IbTE1vHM/JTJfO2/aeD8tsdEJ+P9xPzUPBhiHs3A/DsvtGGhscD84TBX3/xaAPziwrLTpwng/IpbSuyM/cT//57OwzFt8P6Ya0I3KJXk/8HeLmjLRfD/RARZkfhZ5P+dUaiErXG8/AMWgVNR7eT9scpdP54Z7PxHqeUY8DXY/O0sAiDjqdD/7TruR3NNuPzFmvdwBT3I//yVvematcj/wDzu9DYZ1P+aQSmSOLXI/IYmCoYJ7eT/qy996KY16P9Ph029BO4M/eRc/L2nTej/n3FIgt4d8P8ptJ2vDNoE/opoFIgkjgj8AjXADdi2DP42gPyFKxoU/gnFzZkYnhz/A/BwPslx/P8P7tl7GLm4/IFG5NUmmgD/OwfCPDh9xP+/nZoMWf3A/MPe2Z2DecD+bA+1XiTNxP8b6GiOLgHg/NN+Zi4PdgD9+0lcELm6APzDKclVDhoE/IZITJZUsfj8NOckV1kt+P4QSGEjYEoM/FtZN4Abffj9i5yMHnoaEP54iD1L3aYI/45tnI2QbhD9Ev9YHpsF5P1Yg9mOqJoI/QL+jZBEigz+18ohkiT6BP82x2FPJwH8//GNMP5Gagj8K0zPorOF6P9z+tKlPNnk/agU83Mfxcz8jMHDU2JKCP50+SnIP8XQ/BCeEKYdQdT+hioqp5rZ+PxFn5TvgH3A//5R/BgntgT8PafGeKwSBP6DotcRo2oA/HIg2lvyjeT9Et3HhWAmFP5oyxKFibHI/mjMayzO1az9O6zRUdVdwP90dDpkusIA/NatWSquEgT9DPP+KUyyDP4MXNKd6lH4/yAZTYH3wgj/w9XhsDTODP8nLIUeGwYU/NCtvrBcWgj92Lq5XzPCAP9cH6JiC43A/FkCP43sKcj/eGIHYpER5P5UkDrl1JIM/NWCtyP0ZhT8=",
          "dtype": "f8"
         },
         "yaxis": "y4"
        },
        {
         "legendgroup": "Netherlands",
         "line": {
          "color": "red",
          "width": 2
         },
         "mode": "lines",
         "showlegend": false,
         "type": "scatter",
         "visible": false,
         "x": {
          "bdata": "q/NLUFt30D/ui6gRKczQPzEkBdP2INE/c7xhlMR10T+2VL5VksrRP/nsGhdgH9I/PIV32C100j9+HdSZ+8jSP8G1MFvJHdM/BE6NHJdy0z9H5undZMfTP4p+Rp8yHNQ/zBajYABx1D8Pr/8hzsXUP1JHXOObGtU/ld+4pGlv1T/YdxVmN8TVPxoQcicFGdY/XajO6NJt1j+gQCuqoMLWP+LYh2tuF9c/JnHkLDxs1z9oCUHuCcHXP6uhna/XFdg/7jn6cKVq2D8w0lYyc7/YP3Rqs/NAFNk/tgIQtQ5p2T/5mmx23L3ZPzwzyTeqEto/fssl+Xdn2j/BY4K6RbzaPwT83nsTEds/R5Q7PeFl2z+KLJj+rrrbP8zE9L98D9w/D11RgUpk3D9S9a1CGLncP5SNCgTmDd0/2CVnxbNi3T8avsOGgbfdP11WIEhPDN4/oO58CR1h3j/ihtnK6rXePyYfNoy4Ct8/aLeSTYZf3z+rT+8OVLTfP/fzJeiQBOA/GEDUyPcu4D86jIKpXlngP1vYMIrFg+A/fCTfaiyu4D+ecI1Lk9jgP7+8Oyz6AuE/4AjqDGEt4T8CVZjtx1fhPyShRs4uguE/Re30rpWs4T9mOaOP/NbhP4iFUXBjAeI/qdH/UMor4j/KHa4xMVbiP+xpXBKYgOI/DbYK8/6q4j8uArnTZdXiP1BOZ7TM/+I/cpoVlTMq4z+S5sN1mlTjP7QyclYBf+M/1n4gN2ip4z/3ys4Xz9PjPxgXffg1/uM/OmMr2Zwo5D9br9m5A1PkP3z7h5pqfeQ/nkc2e9Gn5D+/k+RbONLkP+Dfkjyf/OQ/AixBHQYn5T8keO/9bFHlP0TEnd7Te+U/ZhBMvzqm5T+IXPqfodDlP6moqIAI++U/yvRWYW8l5j/sQAVC1k/mPw2NsyI9euY/LtlhA6Sk5j9QJRDkCs/mP3JxvsRx+eY/kr1spdgj5z+0CRuGP07nP9ZVyWameOc/96F3Rw2j5z8Y7iUodM3nPzo61Ajb9+c/W4aC6UEi6D980jDKqEzoP54e36oPd+g/wGqNi3ah6D8=",
          "dtype": "f8"
         },
         "xaxis": "x4",
         "y": {
          "bdata": "AkKpc1Z/dj/FKUOqVaZ2P4cR3eBUzXY/Sfl2F1T0dj8M4RBOUxt3P87IqoRSQnc/kLBEu1Fpdz9SmN7xUJB3PxSAeChQt3c/1mcSX0/edz+YT6yVTgV4P1s3RsxNLHg/HR/gAk1TeD/fBno5THp4P6LuE3BLoXg/ZNatpkrIeD8mvkfdSe94P+il4RNJFnk/qo17Skg9eT9sdRWBR2R5Py5dr7dGi3k/8URJ7kWyeT+zLOMkRdl5P3UUfVtEAHo/OPwWkkMnej/647DIQk56P7zLSv9BdXo/frPkNUGcej9Am35sQMN6PwKDGKM/6no/xGqy2T4Rez+GUkwQPjh7P0k65kY9X3s/CyKAfTyGez/OCRq0O617P5Dxs+o61Hs/UtlNITr7ez8UwedXOSJ8P9aogY44SXw/mJAbxTdwfD9aeLX7Npd8PxxgTzI2vnw/30fpaDXlfD+hL4OfNAx9P2QXHdYzM30/Jv+2DDNafT/o5lBDMoF9P6rO6nkxqH0/bLaEsDDPfT8unh7nL/Z9P/CFuB0vHX4/sm1SVC5Efj91VeyKLWt+Pzc9hsEskn4/+CQg+Cu5fj+8DLouK+B+P370U2UqB38/QNztmykufz8CxIfSKFV/P8WrIQkofH8/hpO7Pyejfz9Ie1V2Jsp/Pwtj76wl8X8/ZqXEcRIMgD9ImRENkh+APyiNXqgRM4A/CoGrQ5FGgD/qdPjeEFqAP8xoRXqQbYA/rlySFRCBgD+OUN+wj5SAP29ELEwPqIA/UDh55467gD8yLMaCDs+APxIgEx6O4oA/9BNguQ32gD/UB61UjQmBP7b7+e8MHYE/l+9Gi4wwgT9445MmDESBP1nX4MGLV4E/OsstXQtrgT8cv3r4in6BP/yyx5MKkoE/3qYUL4qlgT+/mmHKCbmBP6COrmWJzIE/gIL7AAnggT9idkiciPOBP0RqlTcIB4I/JF7i0ocagj8FUi9uBy6CP+ZFfAmHQYI/yDnJpAZVgj+oLRZAhmiCP4ohY9sFfII/ahWwdoWPgj9MCf0RBaOCPy39Sa2EtoI/DvGWSATKgj8=",
          "dtype": "f8"
         },
         "yaxis": "y4"
        },
        {
         "legendgroup": "Netherlands",
         "marker": {
          "opacity": 0.6,
          "size": 8
         },
         "mode": "markers",
         "name": "NDSI - Netherlands",
         "showlegend": false,
         "type": "scatter",
         "visible": false,
         "x": {
          "bdata": "65xExvvQ5b/Xt9CrHe/mv0Dm7d7zu+u/R90VAqcK5L8STkPwXUPlv8ZbgsNXIOi/oC5SQ2645r+DIR/slnfnv9dZsdkOZOW/NwKrSrBV47/G2hyC1tbrv9HhAEcO3um/EWP5hzmW4r+lsMs95q7kv0LiVrJq0Oa/NRU5VXrX6L/Of3DHgYXpvyh5RbHCxey/LUWm3IY97L8xyD54zhnovxDEy5BOTum/QSQVpyUl6r+uxYp/spDov986w0qygOe/EBx6q0al7r/sRlQfGZ/jv/Y+ziBA2+q/UZHxUUTP7L/QS49KCfLsv3u92QIH9+6/g5uUkEOB7b+gM11quTbtvzFfuCzcQe+/9uUVIGCJ7r91FsE4cOPsvy3hR4kTYu2/Kj2qzOMX7r8HtpnkIgjvv0NnDtA5Vuu/aTxPAMmc7r8SltfYVczsv1IF7NjJYu2/HNSPBmCO7b8d/eOB5KDtv0kmQExzTu2/HNeoEOyW77+eeVe/cXvuv8V0L3YWr+y/UHgYIVep7b9J0O5tn6/ovx12Pp4q7ey/p1NN8wio7r+UQlCLnvTrv9flXrYx7e6/hBH6/YI7679W62kZD4rrvx6Dc1dQ9Oq/VTvv5Q2y7L88ZEVzW5Puv1ya+oAK1+u/ImnCquyr67+U4Caxpprsv8KTySMl7Oy/BcNcD3/47b8rAtHyOczqv1eEQB4nJu+/VPmxSnXM7L8VRHJibjLqv/raHqhkreq/vCx6wVHF5r8i79MtZSzov2XAuFSt6+m/Vuis6PR96L96agRgzerpv0n1hFF/E+W/uvTxIUBo6L9fN9e5Tgnnv9StP5nzDOm/SUL540Ww7r99rrg6viPsvz2oc5Esnuy/OPXx+/7t678Np60SVMzuv1nRKTz8ROm/38ocVsnj6r+lOCCu9pXsv0GKVNbINuy/t7GlL1R47b9xupeCyibtv32Gd7f2euu/mLPru8Br77+wMYcZE1Tqv4MiCcWoru+/glRLwbgg7L/0o9NkdOHqv4gJ/cRF5e6/BjBD+3jB6b8jdICEzZDov1f/Qi+RKO2/6uhaUDlE6r8VTYg0G43pv8vbZGouT+a/OWBxqXp67L+mTx7iFwvYv0DJsLCCsua/48tmYcHo5L9gmPQZV6zev+WoApBAM9y/FtJRY0kg4r+hihPXPS3dv+Jx3/nMn+G/MpS8Rg+g57+aaaAhS3Hcv8zIb/o1teO/O6VEWHio6r9zhhHKHfrkvymC5o+ISuC/G2us7PU+4b+IROpuSTPgv6nQNYX3d+S/NjNaddMy37/IdCR1nhznv5FOSXQgt+C/Nbm3kU/P5L8d0rJ95oPlv1PlH34V4ui/srqqecdw57+JrA2qjzfovxNM+rkun+e/ijvAHbm7478=",
          "dtype": "f8"
         },
         "xaxis": "x5",
         "y": {
          "bdata": "CcmbIjRZgj+simq/fQmEP82S/XR7J4Q/gdNqrcCghD8Y5c4XzpWEPyoe5a5udYE/74+mZQCJhj+FEtx8ufCBP/4+kb9K1X8/RxW8oLK+hT+vgSxk/QuIPw/14nDgdnY/imrR/1zWgj/eFLMjwWSCP6KPMkcH+IA/urpCezT+gT83vzVl19WBP4GDRRpKa4I/8E6GQck7fT9+xiHcd5KCP/2+fsoYvXs/jQmX0ObNdz+Q6l87knV7P6OmbFwewnk/q61Xnz7xej8ysraj3Wd+P7i4sn3IPHg/kzLIqQE6cT+iWPr84xFyP0aAbeJku3Q/hFMC7NFPcT+yANHBoqtvP5kbaozfFXI/af2xOhpmbz8fFea7OPFuPxGpv/ohz2w/uvQjnXcWcj+Avy87aF9wP52yug2WZ3I/FaE71Ftzbj/+dmc+jlhpP3pPGToEhG8/J3hi1cUAcT/Kn4A+R4dyPz/IbTE1vHM/JTJfO2/aeD8tsdEJ+P9xPzUPBhiHs3A/DsvtGGhscD84TBX3/xaAPziwrLTpwng/IpbSuyM/cT//57OwzFt8P6Ya0I3KJXk/8HeLmjLRfD/RARZkfhZ5P+dUaiErXG8/AMWgVNR7eT9scpdP54Z7PxHqeUY8DXY/O0sAiDjqdD/7TruR3NNuPzFmvdwBT3I//yVvematcj/wDzu9DYZ1P+aQSmSOLXI/IYmCoYJ7eT/qy996KY16P9Ph029BO4M/eRc/L2nTej/n3FIgt4d8P8ptJ2vDNoE/opoFIgkjgj8AjXADdi2DP42gPyFKxoU/gnFzZkYnhz/A/BwPslx/P8P7tl7GLm4/IFG5NUmmgD/OwfCPDh9xP+/nZoMWf3A/MPe2Z2DecD+bA+1XiTNxP8b6GiOLgHg/NN+Zi4PdgD9+0lcELm6APzDKclVDhoE/IZITJZUsfj8NOckV1kt+P4QSGEjYEoM/FtZN4Abffj9i5yMHnoaEP54iD1L3aYI/45tnI2QbhD9Ev9YHpsF5P1Yg9mOqJoI/QL+jZBEigz+18ohkiT6BP82x2FPJwH8//GNMP5Gagj8K0zPorOF6P9z+tKlPNnk/agU83Mfxcz8jMHDU2JKCP50+SnIP8XQ/BCeEKYdQdT+hioqp5rZ+PxFn5TvgH3A//5R/BgntgT8PafGeKwSBP6DotcRo2oA/HIg2lvyjeT9Et3HhWAmFP5oyxKFibHI/mjMayzO1az9O6zRUdVdwP90dDpkusIA/NatWSquEgT9DPP+KUyyDP4MXNKd6lH4/yAZTYH3wgj/w9XhsDTODP8nLIUeGwYU/NCtvrBcWgj92Lq5XzPCAP9cH6JiC43A/FkCP43sKcj/eGIHYpER5P5UkDrl1JIM/NWCtyP0ZhT8=",
          "dtype": "f8"
         },
         "yaxis": "y5"
        },
        {
         "legendgroup": "Netherlands",
         "line": {
          "color": "red",
          "width": 2
         },
         "mode": "lines",
         "showlegend": false,
         "type": "scatter",
         "visible": false,
         "x": {
          "bdata": "gyIJxaiu77/Rzyra0XvvvyB9TO/6SO+/bipuBCQW77+9148ZTePuvwuFsS52sO6/WTLTQ5997r+o3/RYyEruv/aMFm7xF+6/RDo4gxrl7b+T51mYQ7Ltv+GUe61sf+2/MEKdwpVM7b9+777Xvhntv8yc4Ozn5uy/G0oCAhG07L9p9yMXOoHsv7ikRSxjTuy/BlJnQYwb7L9U/4hWtejrv6Osqmveteu/8VnMgAeD679AB+6VMFDrv460D6tZHeu/3GExwILq6r8qD1PVq7fqv3m8dOrUhOq/x2mW//1R6r8WF7gUJx/qv2TE2SlQ7Om/snH7Pnm56b8BHx1Uoobpv0/MPmnLU+m/nnlgfvQg6b/sJoKTHe7ovzrUo6hGu+i/iYHFvW+I6L/XLufSmFXovybcCOjBIui/dIkq/erv57/CNkwSFL3nvxDkbSc9iue/X5GPPGZX57+uPrFRjyTnv/zr0ma48ea/Spn0e+G+5r+YRhaRCozmv+fzN6YzWea/NqFZu1wm5r+ETnvQhfPlv9L7nOWuwOW/IKm++teN5b9vVuAPAVvlv74DAiUqKOW/DLEjOlP15L9aXkVPfMLkv6gLZ2Slj+S/97iIec5c5L9FZqqO9ynkv5QTzKMg9+O/4sDtuEnE478wbg/OcpHjv34bMeObXuO/zchS+MQr478cdnQN7vjiv2ojliIXxuK/uNC3N0CT4r8GftlMaWDiv1Ur+2GSLeK/pNgcd7v64b/yhT6M5Mfhv0AzYKENleG/juCBtjZi4b/djaPLXy/hvyw7xeCI/OC/eujm9bHJ4L/IlQgL25bgvxZDKiAEZOC/ZfBLNS0x4L9mO9uUrPzfvwOWHr/+lt+/oPBh6VAx3788S6UTo8vev9ql6D31Zd6/dgAsaEcA3r8UW2+SmZrdv7C1srzrNN2/TBD25j3P3L/qajkRkGncv4bFfDviA9y/IiDAZTSe27/AegOQhjjbv1zVRrrY0tq/+i+K5Cpt2r+Wis0OfQfavzLlEDnPodm/0D9UYyE82b9smpeNc9bYvwr12rfFcNi/pk8e4hcL2L8=",
          "dtype": "f8"
         },
         "xaxis": "x5",
         "y": {
          "bdata": "f39jQO40dj/Au/WGBGV2PwD4h80alXY/QTQaFDHFdj+BcKxaR/V2P8KsPqFdJXc/A+nQ53NVdz9DJWMuioV3P4Rh9XSgtXc/xZ2Hu7bldz8F2hkCzRV4P0YWrEjjRXg/hlI+j/l1eD/HjtDVD6Z4PwjLYhwm1ng/SAf1YjwGeT+JQ4epUjZ5P8l/GfBoZnk/CryrNn+WeT9L+D19lcZ5P4s00MOr9nk/zHBiCsImej8MrfRQ2FZ6P0zphpfuhno/jSUZ3gS3ej/OYaskG+d6Pw6ePWsxF3s/T9rPsUdHez+PFmL4XXd7P9BS9D50p3s/EY+GhYrXez9RyxjMoAd8P5IHqxK3N3w/0kM9Wc1nfD8TgM+f45d8P1S8Yeb5x3w/lPjzLBD4fD/VNIZzJih9PxVxGLo8WH0/Vq2qAFOIfT+X6TxHabh9P9glz41/6H0/GGJh1JUYfj9YnvMarEh+P5nahWHCeH4/2hYYqNiofj8bU6ru7th+P1uPPDUFCX8/m8vOexs5fz/cB2HCMWl/Px1E8whImX8/XoCFT17Jfz+evBeWdPl/P2/8VG7FFIA/kBqekdAsgD+wOOe020SAP9BWMNjmXIA/8HR5+/F0gD8Qk8Ie/YyAPzCxC0IIpYA/Uc9UZRO9gD9y7Z2IHtWAP5IL56sp7YA/sikwzzQFgT/SR3nyPx2BP/JlwhVLNYE/E4QLOVZNgT80olRcYWWBP1TAnX9sfYE/dN7moneVgT+U/C/Ggq2BP7QaeemNxYE/1TjCDJndgT/1VgswpPWBPxV1VFOvDYI/NpOddrolgj9WseaZxT2CP3bPL73QVYI/lu144Nttgj+3C8ID54WCP9cpCyfynYI/+EdUSv21gj8YZp1tCM6CPziE5pAT5oI/WKIvtB7+gj94wHjXKRaDP5newfo0LoM/ufwKHkBGgz/ZGlRBS16DP/o4nWRWdoM/Glfmh2GOgz86dS+rbKaDP1uTeM53voM/e7HB8YLWgz+bzwoVju6DP7ztUziZBoQ/3AudW6QehD/8KeZ+rzaEPxxIL6K6ToQ/PWZ4xcVmhD8=",
          "dtype": "f8"
         },
         "yaxis": "y5"
        },
        {
         "legendgroup": "Netherlands",
         "marker": {
          "opacity": 0.6,
          "size": 8
         },
         "mode": "markers",
         "name": "EVNspCount - Netherlands",
         "showlegend": false,
         "type": "scatter",
         "visible": false,
         "x": {
          "bdata": "wmBFKJtGxT/9VZ1KIeHHP8Mvvct7Wso/MbQSj/PtxT8RQusiptrIPxUm/0ROGMU/wTGzwfYxzD/xwiST/qrGP2EWGm0y3cU/rTg+iEeoyz9EMNuNMw7NP3dgO0/DhMY/LJZZVAOsxj+hE6r47OXFP5Tbl1jQwMc/URw/buxzxz+loKiY75XJP0SXKAYEQ8w/f7lI0ub3yD/j2d4UNNHHP/PIEsuuecg/RShteGgNyT+dqJdRE8PGP2UCDw2AN8o/eWlX2PPOzj91sj9ezyDHPyDXdnWHqsk/plmB6Kf9xD+BLBURaffFP7KQk3CWoMc/d3g73LQxxT+sY5y9eovEP5XWLH7K28g/tzIho9M6xj8X6RUjRWLFP4u1jCn7acQ/GacqnUqQxj8x7h2vSQ3GP1he+Bf7S8Q/J+op76APxj+hF+gi9GjDP/yh2PYNN8U/cBPqupB1xT+vk1CnVBDHPzhlT8OxP8Y/Pf6JfzGYzz+OKFMey5LFP6A8eJfeacQ/OGnZEYoqxT/Cq+kQSDbHP/5cuwubCsg/IKuRn35GxT9yrXdgTnLHP/SrsfELcMo/FqYd6v0sxz8W4yhavUfGP0+XkNDKvcI/LcwwRlm2yT8UV1KCOlnKPy2rpGkoIcg/21aki9NkyD8hDt2mtKXGPz7XKtFkpck/Bfh/p9otyj+0CuladMfGP7C5K1MFg8k/Fte9rHWByT+5KRZ46U7HP+LhDh1/ncY/idfCCeFXxj9+mJ0CrgLDPyatnYXTesQ/dfdcR80pyz9kQQMML4vQP0lftrCCCNc/8p6Leuxt0z80X68lYW/DP6MtgVyofcQ/Ai5+58Tpxj+YVcM9CAjFPzsSqzkmtcM/qVpeyUDqxj94geNBX2fHP6WYQoHoAMM/FRdV22GTxT9ZwXzXqEHNP+XTn3YTlcU/sFkeYdbtxD/LIhroXsDEP/4WMVsnSsk/hvC4ih5hyT/5luwjOEHLP6NAttvrkcs/1V0XR0cl0D8a6a2m+RLEP8iaZM4/QsU/1fkbhxLOwz8dvKaEBhHBPxL7/CyKL8U/2P5HTyC2xD9QkkqvfEPDP06UJ6ycjsE/F3MWWhIjwz97tuVbDHHJP9P1LqcrLcU/X79wanitwz+sSf1GBrrEPwVIIIEEGsI/bP1la3b7xj8PYiq/Y3rHP2Dmw2wCJcY/jvnI5EDwwz9usFHPgvrGPwA8xYwCTcM/D5/JGdT/xT/btynvA57EP/cxIz8+i8U/ShtNJVpfxT/TmdYbXCzFP/SpgoJkg8Y/+QO8vxdlxj9o7DA3UWTIPzPQ9TF1k8o/nQHfVnRsxj+BqQMpa9jIPzqVJR8SWMU/S8D7pO6/xD/aljGBKnXHPxrXLkpsR8k/V4dqx91TyT8=",
          "dtype": "f8"
         },
         "xaxis": "x6",
         "y": {
          "bdata": "CcmbIjRZgj+simq/fQmEP82S/XR7J4Q/gdNqrcCghD8Y5c4XzpWEPyoe5a5udYE/74+mZQCJhj+FEtx8ufCBP/4+kb9K1X8/RxW8oLK+hT+vgSxk/QuIPw/14nDgdnY/imrR/1zWgj/eFLMjwWSCP6KPMkcH+IA/urpCezT+gT83vzVl19WBP4GDRRpKa4I/8E6GQck7fT9+xiHcd5KCP/2+fsoYvXs/jQmX0ObNdz+Q6l87knV7P6OmbFwewnk/q61Xnz7xej8ysraj3Wd+P7i4sn3IPHg/kzLIqQE6cT+iWPr84xFyP0aAbeJku3Q/hFMC7NFPcT+yANHBoqtvP5kbaozfFXI/af2xOhpmbz8fFea7OPFuPxGpv/ohz2w/uvQjnXcWcj+Avy87aF9wP52yug2WZ3I/FaE71Ftzbj/+dmc+jlhpP3pPGToEhG8/J3hi1cUAcT/Kn4A+R4dyPz/IbTE1vHM/JTJfO2/aeD8tsdEJ+P9xPzUPBhiHs3A/DsvtGGhscD84TBX3/xaAPziwrLTpwng/IpbSuyM/cT//57OwzFt8P6Ya0I3KJXk/8HeLmjLRfD/RARZkfhZ5P+dUaiErXG8/AMWgVNR7eT9scpdP54Z7PxHqeUY8DXY/O0sAiDjqdD/7TruR3NNuPzFmvdwBT3I//yVvematcj/wDzu9DYZ1P+aQSmSOLXI/IYmCoYJ7eT/qy996KY16P9Ph029BO4M/eRc/L2nTej/n3FIgt4d8P8ptJ2vDNoE/opoFIgkjgj8AjXADdi2DP42gPyFKxoU/gnFzZkYnhz/A/BwPslx/P8P7tl7GLm4/IFG5NUmmgD/OwfCPDh9xP+/nZoMWf3A/MPe2Z2DecD+bA+1XiTNxP8b6GiOLgHg/NN+Zi4PdgD9+0lcELm6APzDKclVDhoE/IZITJZUsfj8NOckV1kt+P4QSGEjYEoM/FtZN4Abffj9i5yMHnoaEP54iD1L3aYI/45tnI2QbhD9Ev9YHpsF5P1Yg9mOqJoI/QL+jZBEigz+18ohkiT6BP82x2FPJwH8//GNMP5Gagj8K0zPorOF6P9z+tKlPNnk/agU83Mfxcz8jMHDU2JKCP50+SnIP8XQ/BCeEKYdQdT+hioqp5rZ+PxFn5TvgH3A//5R/BgntgT8PafGeKwSBP6DotcRo2oA/HIg2lvyjeT9Et3HhWAmFP5oyxKFibHI/mjMayzO1az9O6zRUdVdwP90dDpkusIA/NatWSquEgT9DPP+KUyyDP4MXNKd6lH4/yAZTYH3wgj/w9XhsDTODP8nLIUeGwYU/NCtvrBcWgj92Lq5XzPCAP9cH6JiC43A/FkCP43sKcj/eGIHYpER5P5UkDrl1JIM/NWCtyP0ZhT8=",
          "dtype": "f8"
         },
         "yaxis": "y6"
        },
        {
         "legendgroup": "Netherlands",
         "line": {
          "color": "red",
          "width": 2
         },
         "mode": "lines",
         "showlegend": false,
         "type": "scatter",
         "visible": false,
         "x": {
          "bdata": "HbymhAYRwT//1brrA1zBP+HvzlIBp8E/wwnjuf7xwT+mI/cg/DzCP4g9C4j5h8I/alcf7/bSwj9McTNW9B3DPy6LR73xaMM/EKVbJO+zwz/yvm+L7P7DP9XYg/LpScQ/t/KXWeeUxD+ZDKzA5N/EP3smwCfiKsU/XUDUjt91xT9AWuj13MDFPyJ0/FzaC8Y/BI4QxNdWxj/mpyQr1aHGP8jBOJLS7MY/qttM+c83xz+M9WBgzYLHP24PdcfKzcc/USmJLsgYyD8zQ52VxWPIPxVdsfzCrsg/93bFY8D5yD/akNnKvUTJP7yq7TG7j8k/nsQBmbjayT+A3hUAtiXKP2L4KWezcMo/RBI+zrC7yj8mLFI1rgbLPwhGZpyrUcs/6l96A6mcyz/NeY5qpufLP6+TotGjMsw/ka22OKF9zD9zx8qfnsjMP1bh3gacE80/OPvybZlezT8aFQfVlqnNP/wuGzyU9M0/3kgvo5E/zj/AYkMKj4rOP6J8V3GM1c4/hJZr2Ikgzz9msH8/h2vPP0nKk6aEts8/FvLTBsEA0D8G/126PybQP/gL6G2+S9A/6RhyIT1x0D/aJfzUu5bQP8syhog6vNA/vD8QPLnh0D+tTJrvNwfRP55ZJKO2LNE/j2auVjVS0T+AczgKtHfRP3KAwr0yndE/Yo1McbHC0T9UmtYkMOjRP0SnYNiuDdI/NrTqiy0z0j8mwXQ/rFjSPxjO/vIqftI/CduIpqmj0j/65xJaKMnSP+v0nA2n7tI/3AEnwSUU0z/NDrF0pDnTP74bOygjX9M/sCjF26GE0z+gNU+PIKrTP5JC2UKfz9M/gk9j9h310z90XO2pnBrUP2Rpd10bQNQ/VnYBEZpl1D9Hg4vEGIvUPziQFXiXsNQ/KZ2fKxbW1D8aqinflPvUPwu3s5ITIdU//MM9RpJG1T/u0Mf5EGzVP97dUa2PkdU/0OrbYA631T/A92UUjdzVP7IE8McLAtY/oxF6e4on1j+UHgQvCU3WP4UrjuKHctY/djgYlgaY1j9nRaJJhb3WP1hSLP0D49Y/SV+2sIII1z8=",
          "dtype": "f8"
         },
         "xaxis": "x6",
         "y": {
          "bdata": "xSR514l2dT8Evieb6sV1P0NX1l5LFXY/gvCEIqxkdj/CiTPmDLR2PwAj4qltA3c/P7yQbc5Sdz9+VT8xL6J3P73u7fSP8Xc//IecuPBAeD86IUt8UZB4P3q6+T+y33g/uVOoAxMveT/47FbHc355PzeGBYvUzXk/dR+0TjUdej+1uGISlmx6P/RREdb2u3o/M+u/mVcLez9yhG5duFp7P7AdHSEZqns/77bL5Hn5ez8uUHqo2kh8P23pKGw7mHw/rYLXL5znfD/sG4bz/DZ9Pyq1NLddhn0/aU7jer7VfT+p55E+HyV+P+iAQAKAdH4/JxrvxeDDfj9ls52JQRN/P6RMTE2iYn8/4+X6EAOyfz+Rv1TqsQCAPzAMLExiKIA/0FgDrhJQgD9wpdoPw3eAPw/ysXFzn4A/rj6J0yPHgD9Oi2A11O6AP+7XN5eEFoE/jSQP+TQ+gT8sceZa5WWBP8y9vbyVjYE/bAqVHka1gT8KV2yA9tyBP6qjQ+KmBII/SvAaRFcsgj/oPPKlB1SCP4iJyQe4e4I/KNagaWijgj/IInjLGMuCP2hvTy3J8oI/Brwmj3kagz+mCP7wKUKDP0ZV1VLaaYM/5qGstIqRgz+E7oMWO7mDPyQ7W3jr4IM/xIcy2psIhD9i1Ak8TDCEPwQh4Z38V4Q/om24/6x/hD9Cuo9hXaeEP+AGZ8MNz4Q/gFM+Jb72hD8goBWHbh6FP8Ds7OgeRoU/YDnESs9thT/+hZusf5WFP57Scg4wvYU/Ph9KcODkhT/cayHSkAyGP3y4+DNBNIY/HAXQlfFbhj+6Uaf3oYOGP1yefllSq4Y/+upVuwLThj+aNy0ds/qGPziEBH9jIoc/2NDb4BNKhz94HbNCxHGHPxhqiqR0mYc/uLZhBiXBhz9WAzlo1eiHP/ZPEMqFEIg/lpznKzY4iD826b6N5l+IP9Q1lu+Wh4g/dIJtUUeviD8Sz0Sz99aIP7QbHBWo/og/UmjzdlgmiT/ytMrYCE6JP5IBojq5dYk/ME55nGmdiT/QmlD+GcWJP3DnJ2DK7Ik/EDT/wXoUij8=",
          "dtype": "f8"
         },
         "yaxis": "y6"
        },
        {
         "legendgroup": "France",
         "marker": {
          "opacity": 0.6,
          "size": 8
         },
         "mode": "markers",
         "name": "ACI - France",
         "showlegend": false,
         "type": "scatter",
         "visible": false,
         "x": {
          "bdata": "IF83nI0yc0CQC7USZiFzQHwtBIHRJHNAjzrMY40Sc0Cl/lN0xiNzQOBoocr1D3NA0n2M/3NBc0B9aCR08xRzQL9e7uHADHNASAgdyK4dc0DwIs999CRzQHc26WPABXNA",
          "dtype": "f8"
         },
         "xaxis": "x",
         "y": {
          "bdata": "MtBhn0pAfD9XC+1zu1J5P3stQc4qWH8/GgaKhMnRfD9VbFthaQWBP9o3nSAKYX0/lVKG49elfz+LXa3IAluAP89MLb2qaHE/GITea3tkcj/yVhdR4GByPwfuxeyEt20/",
          "dtype": "f8"
         },
         "yaxis": "y"
        },
        {
         "legendgroup": "France",
         "line": {
          "color": "red",
          "width": 2
         },
         "mode": "lines",
         "showlegend": false,
         "type": "scatter",
         "visible": false,
         "x": {
          "bdata": "dzbpY8AFc0Ay7CjFWgZzQO2haCb1BnNAqFeoh48Hc0BjDejoKQhzQB/DJ0rECHNA2nhnq14Jc0CVLqcM+QlzQFDk5m2TCnNAC5omzy0Lc0DGT2YwyAtzQIEFppFiDHNAPLvl8vwMc0D3cCVUlw1zQLImZbUxDnNAbtykFswOc0ApkuR3Zg9zQORHJNkAEHNAn/1jOpsQc0Bas6ObNRFzQBVp4/zPEXNA0B4jXmoSc0CL1GK/BBNzQEaKoiCfE3NAAUDigTkUc0C99SHj0xRzQHirYURuFXNAM2GhpQgWc0DuFuEGoxZzQKnMIGg9F3NAZIJgydcXc0AfOKAqchhzQNrt34sMGXNAlaMf7aYZc0BQWV9OQRpzQAwPn6/bGnNAx8TeEHYbc0CCeh5yEBxzQD0wXtOqHHNA+OWdNEUdc0Czm92V3x1zQG5RHfd5HnNAKQddWBQfc0DkvJy5rh9zQJ9y3BpJIHNAWygcfOMgc0AW3lvdfSFzQNGTmz4YInNAjEnbn7Iic0BH/xoBTSNzQAK1WmLnI3NAvWqaw4Ekc0B4INokHCVzQDPWGYa2JXNA7otZ51Amc0CqQZlI6yZzQGX32KmFJ3NAIK0YCyAoc0DbYlhsuihzQJYYmM1UKXNAUc7XLu8pc0AMhBeQiSpzQMc5V/EjK3NAgu+WUr4rc0A9pdazWCxzQPlaFhXzLHNAtBBWdo0tc0BvxpXXJy5zQCp81TjCLnNA5TEVmlwvc0Cg51T79i9zQFudlFyRMHNAFlPUvSsxc0DRCBQfxjFzQIy+U4BgMnNASHST4foyc0ADKtNClTNzQL7fEqQvNHNAeZVSBco0c0A0S5JmZDVzQO8A0sf+NXNAqrYRKZk2c0BlbFGKMzdzQCAikevNN3NA29fQTGg4c0CXjRCuAjlzQFJDUA+dOXNADfmPcDc6c0DIrs/R0TpzQINkDzNsO3NAPhpPlAY8c0D5z471oDxzQLSFzlY7PXNAbzsOuNU9c0Aq8U0ZcD5zQOamjXoKP3NAoVzN26Q/c0BcEg09P0BzQBfITJ7ZQHNA0n2M/3NBc0A=",
          "dtype": "f8"
         },
         "xaxis": "x",
         "y": {
          "bdata": "AG8hlpuFdT8AcJQgG6F1PyBxB6uavHU/QHJ6NRrYdT9gc+2/mfN1P6B0YEoZD3Y/oHXT1Jgqdj/AdkZfGEZ2P+B3uemXYXY/4HgsdBd9dj8Aep/+lph2PyB7EokWtHY/IHyFE5bPdj9AffidFet2P2B+ayiVBnc/oH/eshQidz/AgFE9lD13P8CBxMcTWXc/4II3UpN0dz8AhKrcEpB3PwCFHWeSq3c/IIaQ8RHHdz9AhwN8keJ3P0CIdgYR/nc/YInpkJAZeD+gilwbEDV4P8CLz6WPUHg/4IxCMA9seD/gjbW6jod4PwCPKEUOo3g/IJCbz42+eD8gkQ5aDdp4P0CSgeSM9Xg/YJP0bgwReT9glGf5iyx5P8CV2oMLSHk/wJZNDotjeT/gl8CYCn95PwCZMyOKmnk/AJqmrQm2eT8gmxk4idF5P0CcjMII7Xk/QJ3/TIgIej9gnnLXByR6P4Cf5WGHP3o/wKBY7AZbej/goct2hnZ6P+CiPgEGkno/AKSxi4Wtej8gpSQWBcl6PyCml6CE5Ho/QKcKKwQAez9gqH21gxt7P2Cp8D8DN3s/gKpjyoJSez/Aq9ZUAm57P+CsSd+BiXs/AK68aQGlez8Ary/0gMB7PyCwon4A3Hs/QLEVCYD3ez9AsoiT/xJ8P2Cz+x1/Lnw/gLRuqP5JfD+AteEyfmV8P+C2VL39gHw/4LfHR32cfD8AuTrS/Ld8PyC6rVx803w/ILsg5/vufD9AvJNxewp9P2C9Bvz6JX0/YL55hnpBfT+Av+wQ+lx9P6DAX5t5eH0/4MHSJfmTfT8Aw0WweK99PwDEuDr4yn0/IMUrxXfmfT9Axp5P9wF+P0DHEdp2HX4/YMiEZPY4fj+AyffudVR+P4DKann1b34/oMvdA3WLfj/gzFCO9KZ+PwDOwxh0wn4/IM82o/Pdfj8g0Kktc/l+P0DRHLjyFH8/YNKPQnIwfz9g0wLN8Ut/P4DUdVdxZ38/oNXo4fCCfz+g1ltscJ5/P+DXzvbvuX8/ANlBgW/Vfz8g2rQL7/B/P6DtE0s3BoA/IG5NEPcTgD8=",
          "dtype": "f8"
         },
         "yaxis": "y"
        },
        {
         "legendgroup": "France",
         "marker": {
          "opacity": 0.6,
          "size": 8
         },
         "mode": "markers",
         "name": "ADI - France",
         "showlegend": false,
         "type": "scatter",
         "visible": false,
         "x": {
          "bdata": "fSiHtfIh+z9tAdYQ8Wv3P9Sk8K9H6f8/JCZ1irbb+z99+QW3zYj/P8QKHTJbuvw/lTX9/oey+D+iWjdTQF7+P1g2drK/E/w/kZhfkpRz/j/TbNWz7V/9P82A8KxLiv0/",
          "dtype": "f8"
         },
         "xaxis": "x2",
         "y": {
          "bdata": "MtBhn0pAfD9XC+1zu1J5P3stQc4qWH8/GgaKhMnRfD9VbFthaQWBP9o3nSAKYX0/lVKG49elfz+LXa3IAluAP89MLb2qaHE/GITea3tkcj/yVhdR4GByPwfuxeyEt20/",
          "dtype": "f8"
         },
         "yaxis": "y2"
        },
        {
         "legendgroup": "France",
         "line": {
          "color": "red",
          "width": 2
         },
         "mode": "lines",
         "showlegend": false,
         "type": "scatter",
         "visible": false,
         "x": {
          "bdata": "bQHWEPFr9z8gjO0C5YH3P9QWBfXYl/c/h6Ec58yt9z87LDTZwMP3P+62S8u02fc/okFjvajv9z9VzHqvnAX4PwlXkqGQG/g/vOGpk4Qx+D9wbMGFeEf4PyP32HdsXfg/14HwaWBz+D+KDAhcVIn4Pz6XH05In/g/8SE3QDy1+D+krE4yMMv4P1g3ZiQk4fg/C8J9Fhj3+D+/TJUIDA35P3LXrPr/Ivk/JmLE7PM4+T/Z7Nve5075P41389DbZPk/QAILw896+T/0jCK1w5D5P6cXOqe3pvk/WqJRmau8+T8OLWmLn9L5P8K3gH2T6Pk/dUKYb4f++T8oza9hexT6P9xXx1NvKvo/j+LeRWNA+j9DbfY3V1b6P/b3DSpLbPo/qoIlHD+C+j9dDT0OM5j6PxGYVAAnrvo/xCJs8hrE+j94rYPkDtr6Pys4m9YC8Po/3sKyyPYF+z+STcq66hv7P0bY4azeMfs/+WL5ntJH+z+s7RCRxl37P2B4KIO6c/s/EwNAda6J+z/HjVdnop/7P3oYb1mWtfs/LqOGS4rL+z/hLZ49fuH7P5W4tS9y9/s/SEPNIWYN/D/8zeQTWiP8P69Y/AVOOfw/YuMT+EFP/D8WbivqNWX8P8r4Qtwpe/w/fYNazh2R/D8wDnLAEaf8P+SYibIFvfw/lyOhpPnS/D9LrriW7ej8P/440Ijh/vw/ssPnetUU/T9lTv9sySr9PxjZFl+9QP0/zGMuUbFW/T+A7kVDpWz9PzN5XTWZgv0/5gN1J42Y/T+ajowZga79P04ZpAt1xP0/AaS7/Wja/T+0LtPvXPD9P2i56uFQBv4/G0QC1EQc/j/PzhnGODL+P4JZMbgsSP4/NuRIqiBe/j/pbmCcFHT+P5z5d44Iiv4/UISPgPyf/j8ED6dy8LX+P7eZvmTky/4/aiTWVtjh/j8er+1IzPf+P9E5BTvADf8/hcQcLbQj/z84TzQfqDn/P+zZSxGcT/8/n2RjA5Bl/z9S73r1g3v/PwZ6kud3kf8/ugSq2Wun/z9tj8HLX73/PyAa2b1T0/8/1KTwr0fp/z8=",
          "dtype": "f8"
         },
         "xaxis": "x2",
         "y": {
          "bdata": "c814JDieeT8YKBGcVJ95P7yCqRNxoHk/Yd1Bi42heT8GONoCqqJ5P6uScnrGo3k/T+0K8uKkeT/0R6Np/6V5P5miO+Ebp3k/Pf3TWDioeT/iV2zQVKl5P4eyBEhxqnk/Kw2dv42reT/QZzU3qqx5P3XCza7GrXk/Gh1mJuOueT++d/6d/695P2PSlhUcsXk/CC0vjTiyeT+sh8cEVbN5P1HiX3xxtHk/9jz48421eT+al5BrqrZ5Pz/yKOPGt3k/5EzBWuO4eT+Ip1nS/7l5Py0C8kkcu3k/0lyKwTi8eT92tyI5Vb15PxsSu7Bxvnk/wGxTKI6/eT9kx+ufqsB5PwkihBfHwXk/rnwcj+PCeT9T17QGAMR5P/cxTX4cxXk/nIzl9TjGeT9B531tVcd5P+VBFuVxyHk/ipyuXI7JeT8v90bUqsp5P9NR30vHy3k/eKx3w+PMeT8dBxA7AM55P8JhqLIcz3k/ZrxAKjnQeT8LF9mhVdF5P7BxcRly0nk/VMwJkY7TeT/5JqIIq9R5P56BOoDH1Xk/QtzS9+PWeT/nNmtvANh5P4yRA+cc2Xk/MOybXjnaeT/VRjTWVdt5P3qhzE1y3Hk/HvxkxY7deT/DVv08q955P2ixlbTH33k/DQwuLOTgeT+xZsajAOJ5P1bBXhsd43k/+xv3kjnkeT+fdo8KVuV5P0TRJ4Jy5nk/6SvA+Y7neT+Nhlhxq+h5PzLh8OjH6Xk/1zuJYOTqeT98liHYAOx5PyDxuU8d7Xk/xUtSxznueT9qpuo+Vu95Pw4Bg7Zy8Hk/s1sbLo/xeT9YtrOlq/J5P/wQTB3I83k/oWvklOT0eT9GxnwMAfZ5P+ogFYQd93k/j3ut+zn4eT801kVzVvl5P9gw3upy+nk/fYt2Yo/7eT8i5g7aq/x5P8dAp1HI/Xk/a5s/yeT+eT8Q9tdAAQB6P7VQcLgdAXo/WasIMDoCej/+BaGnVgN6P6NgOR9zBHo/R7vRlo8Fej/sFWoOrAZ6P5FwAobIB3o/Nsua/eQIej/aJTN1AQp6P3+Ay+wdC3o/JNtjZDoMej8=",
          "dtype": "f8"
         },
         "yaxis": "y2"
        },
        {
         "legendgroup": "France",
         "marker": {
          "opacity": 0.6,
          "size": 8
         },
         "mode": "markers",
         "name": "BI - France",
         "showlegend": false,
         "type": "scatter",
         "visible": false,
         "x": {
          "bdata": "UixRcqQwJ0DRZFcbj2YlQH9QAWls8yZAIL7buEYNJkBmabWGyecmQCsjiV7vjiVAYTF3XzH+J0B1OqUGLmkmQGjsjF8rniRAWT86G3cFJkCWtpCF1MMoQM4bypdAhyRA",
          "dtype": "f8"
         },
         "xaxis": "x3",
         "y": {
          "bdata": "MtBhn0pAfD9XC+1zu1J5P3stQc4qWH8/GgaKhMnRfD9VbFthaQWBP9o3nSAKYX0/lVKG49elfz+LXa3IAluAP89MLb2qaHE/GITea3tkcj/yVhdR4GByPwfuxeyEt20/",
          "dtype": "f8"
         },
         "yaxis": "y3"
        },
        {
         "legendgroup": "France",
         "line": {
          "color": "red",
          "width": 2
         },
         "mode": "lines",
         "showlegend": false,
         "type": "scatter",
         "visible": false,
         "x": {
          "bdata": "zhvKl0CHJEAj2mkoNZIkQHiYCbkpnSRAzFapSR6oJEAhFUnaErMkQHbT6GoHviRAy5GI+/vIJEAfUCiM8NMkQHQOyBzl3iRAycxnrdnpJEAeiwc+zvQkQHJJp87C/yRAxwdHX7cKJUAcxubvqxUlQHGEhoCgICVAxkImEZUrJUAaAcahiTYlQG+/ZTJ+QSVAxH0Fw3JMJUAZPKVTZ1clQG36RORbYiVAwrjkdFBtJUAXd4QFRXglQGw1JJY5gyVAwPPDJi6OJUAVsmO3IpklQGpwA0gXpCVAvy6j2AuvJUAU7UJpALolQGir4vn0xCVAvWmCiunPJUASKCIb3tolQGfmwavS5SVAu6RhPMfwJUAQYwHNu/slQGUhoV2wBiZAut9A7qQRJkAOnuB+mRwmQGNcgA+OJyZAuBogoIIyJkAN2b8wdz0mQGKXX8FrSCZAtlX/UWBTJkALFJ/iVF4mQGDSPnNJaSZAtZDeAz50JkAJT36UMn8mQF4NHiUniiZAs8u9tRuVJkAIil1GEKAmQFxI/dYEqyZAsQadZ/m1JkAGxTz47cAmQFuD3IjiyyZAsEF8GdfWJkAEAByqy+EmQFm+uzrA7CZArnxby7T3JkACO/tbqQInQFf5muydDSdArLc6fZIYJ0ABdtoNhyMnQFY0ep57LidAqvIZL3A5J0D/sLm/ZEQnQFRvWVBZTydAqS354E1aJ0D965hxQmUnQFKqOAI3cCdAp2jYkit7J0D8JngjIIYnQFDlF7QUkSdApaO3RAmcJ0D6YVfV/aYnQE8g92XysSdApN6W9ua8J0D4nDaH28cnQE1b1hfQ0idAohl2qMTdJ0D31xU5uegnQEuWtcmt8ydAoFRVWqL+J0D1EvXqlgkoQErRlHuLFChAno80DIAfKEDzTdScdCooQEgMdC1pNShAncoTvl1AKEDyiLNOUksoQEZHU99GVihAmwXzbzthKEDww5IAMGwoQEWCMpEkdyhAmUDSIRmCKEDu/nGyDY0oQEO9EUMCmChAmHux0/aiKEDsOVFk660oQEH48PTfuChAlraQhdTDKEA=",
          "dtype": "f8"
         },
         "xaxis": "x3",
         "y": {
          "bdata": "XZAILRs6dj9zUMB04U92P4kQeLynZXY/ndAvBG57dj+zkOdLNJF2P8lQn5P6pnY/3xBX28C8dj/10A4jh9J2PwuRxmpN6HY/IVF+shP+dj83ETb62RN3P0vR7UGgKXc/YZGliWY/dz93UV3RLFV3P40RFRnzanc/o9HMYLmAdz+3kYSof5Z3P89RPPBFrHc/5RH0NwzCdz/70at/0td3Pw+SY8eY7Xc/JVIbD18DeD87EtNWJRl4P1HSip7rLng/ZZJC5rFEeD97UvoteFp4P5MSsnU+cHg/qdJpvQSGeD+/kiEFy5t4P9NS2UyRsXg/6RKRlFfHeD//0kjcHd14PxWTACTk8ng/KVO4a6oIeT8/E3CzcB55P1XTJ/s2NHk/bZPfQv1JeT+BU5eKw195P5cTT9KJdXk/rdMGGlCLeT/Dk75hFqF5P9lTdqnctnk/7RMu8aLMeT8D1OU4aeJ5PxmUnYAv+Hk/L1RVyPUNej9FFA0QvCN6P1vUxFeCOXo/cZR8n0hPej+HVDTnDmV6P5sU7C7Veno/sdSjdpuQej/HlFu+YaZ6P91UEwYovHo/8xTLTe7Rej8J1YKVtOd6Px+VOt16/Xo/NVXyJEETez9JFapsByl7P1/VYbTNPns/dZUZ/JNUez+LVdFDWmp7P6EViYsggHs/tdVA0+aVez/Llfgarat7P+NVsGJzwXs/+RVoqjnXez8N1h/y/+x7PyOW1znGAnw/OVaPgYwYfD9PFkfJUi58P2PW/hAZRHw/eZa2WN9ZfD+PVm6gpW98P6UWJuhrhXw/vdbdLzKbfD/RlpV3+LB8P+dWTb++xnw//RYFB4XcfD8T17xOS/J8PyeXdJYRCH0/PVcs3tcdfT9TF+QlnjN9P2nXm21kSX0/f5dTtSpffT+VVwv98HR9P6sXw0S3in0/wdd6jH2gfT/XlzLUQ7Z9P+tX6hsKzH0/ARiiY9DhfT8X2Fmrlvd9Py2YEfNcDX4/QVjJOiMjfj9ZGIGC6Th+P2/YOMqvTn4/hZjwEXZkfj+ZWKhZPHp+P68YYKECkH4/xdgX6cilfj8=",
          "dtype": "f8"
         },
         "yaxis": "y3"
        },
        {
         "legendgroup": "France",
         "marker": {
          "opacity": 0.6,
          "size": 8
         },
         "mode": "markers",
         "name": "Hf - France",
         "showlegend": false,
         "type": "scatter",
         "visible": false,
         "x": {
          "bdata": "aJESBA9C3z/9G816ypLaP1sL8anz/uA/jL+jT11C3z9Llgk4qxrgP0uoc4mFvN0/UO01ehb13D9wDvdVIp3eP4aqS1a+nt8/4flu3W964j/CNLAPxCXgP5BRE5L9T98/",
          "dtype": "f8"
         },
         "xaxis": "x4",
         "y": {
          "bdata": "MtBhn0pAfD9XC+1zu1J5P3stQc4qWH8/GgaKhMnRfD9VbFthaQWBP9o3nSAKYX0/lVKG49elfz+LXa3IAluAP89MLb2qaHE/GITea3tkcj/yVhdR4GByPwfuxeyEt20/",
          "dtype": "f8"
         },
         "yaxis": "y4"
        },
        {
         "legendgroup": "France",
         "line": {
          "color": "red",
          "width": 2
         },
         "mode": "lines",
         "showlegend": false,
         "type": "scatter",
         "visible": false,
         "x": {
          "bdata": "/RvNesqS2j8J7Q3oo63aPxa+TlV9yNo/Io+Pwlbj2j8uYNAvMP7aPzsxEZ0JGds/RwJSCuMz2z9T05J3vE7bP2Ck0+SVads/bHUUUm+E2z94RlW/SJ/bP4UXliwiuts/kejWmfvU2z+duRcH1e/bP6qKWHSuCtw/tluZ4Ycl3D/CLNpOYUDcP8/9Grw6W9w/285bKRR23D/nn5yW7ZDcP/Rw3QPHq9w/AEIecaDG3D8ME1/eeeHcPxnkn0tT/Nw/JbXguCwX3T8xhiEmBjLdPz5XYpPfTN0/SiijALln3T9W+eNtkoLdP2PKJNtrnd0/b5tlSEW43T97bKa1HtPdP4g95yL47d0/lA4okNEI3j+g32j9qiPeP62wqWqEPt4/uYHq111Z3j/FUitFN3TeP9IjbLIQj94/3vSsH+qp3j/qxe2Mw8TeP/aWLvqc394/A2hvZ3b63j8PObDUTxXfPxwK8UEpMN8/KNsxrwJL3z80rHIc3GXfP0B9s4m1gN8/TU709o6b3z9ZHzVkaLbfP2bwddFB0d8/csG2Phvs3z8/yftVegPgP8UxnAznEOA/TJo8w1Me4D/SAt15wCvgP1hrfTAtOeA/3tMd55lG4D9kPL6dBlTgP+qkXlRzYeA/cA3/CuBu4D/3dZ/BTHzgP33eP3i5ieA/A0fgLiaX4D+Jr4DlkqTgPw8YIZz/seA/loDBUmy/4D8c6WEJ2czgP6JRAsBF2uA/KLqidrLn4D+uIkMtH/XgPzSL4+OLAuE/uvODmvgP4T9BXCRRZR3hP8fExAfSKuE/TS1lvj444T/TlQV1q0XhP1n+pSsYU+E/4GZG4oRg4T9mz+aY8W3hP+w3h09ee+E/cqAnBsuI4T/4CMi8N5bhP35xaHOko+E/BNoIKhGx4T+KQqngfb7hPxGrSZfqy+E/lxPqTVfZ4T8dfIoExObhP6PkKrsw9OE/Kk3LcZ0B4j+wtWsoCg/iPzYeDN92HOI/vIasleMp4j9C70xMUDfiP8hX7QK9ROI/TsCNuSlS4j/UKC5wll/iP1uRziYDbeI/4flu3W964j8=",
          "dtype": "f8"
         },
         "xaxis": "x4",
         "y": {
          "bdata": "660T33xcfT9t+ithHUl9P+5GROO9NX0/b5NcZV4ifT/x33Tn/g59P3EsjWmf+3w/83il6z/ofD91xb1t4NR8P/UR1u+AwXw/d17ucSGufD/5qgb0wZp8P3n3HnZih3w/+0M3+AJ0fD98kE96o2B8P/3cZ/xDTXw/fymAfuQ5fD8AdpgAhSZ8P4HCsIIlE3w/Aw/JBMb/ez+EW+GGZux7PwWo+QgH2Xs/h/QRi6fFez8IQSoNSLJ7P4mNQo/onns/C9paEYmLez+MJnOTKXh7Pw1zixXKZHs/j7+jl2pRez8QDLwZCz57P5FY1JurKns/E6XsHUwXez+U8QSg7AN7PxU+HSKN8Ho/loo1pC3dej8Y100mzsl6P5kjZqhutno/GnB+Kg+jej+cvJasr496Px0Jry5QfHo/nlXHsPBoej8got8ykVV6P6Hu97QxQno/IjsQN9Iuej+khyi5cht6PyXUQDsTCHo/piBZvbP0eT8obXE/VOF5P6m5icH0zXk/KgaiQ5W6eT+sUrrFNad5Py2f0kfWk3k/ruvqyXaAeT8wOANMF215P7GEG863WXk/MdEzUFhGeT+zHUzS+DJ5PzRqZFSZH3k/trZ81jkMeT84A5VY2vh4P7lPrdp65Xg/O5zFXBvSeD+76N3eu754Pzw19mBcq3g/voEO4/yXeD8/ziZlnYR4P8EaP+c9cXg/QWdXad5deD/Ds2/rfkp4P0QAiG0fN3g/xkyg778jeD9HmbhxYBB4P8nl0PMA/Xc/SjLpdaHpdz/LfgH4QdZ3P0zLGXriwnc/zhcy/IKvdz9PZEp+I5x3P9GwYgDEiHc/Uf16gmR1dz/SSZMEBWJ3P1SWq4alTnc/1uLDCEY7dz9XL9yK5id3P9l79AyHFHc/WsgMjycBdz/cFCURyO12P1xhPZNo2nY/3a1VFQnHdj9f+m2XqbN2P+BGhhlKoHY/YZOem+qMdj/i37Ydi3l2P2Qsz58rZnY/5XjnIcxSdj9nxf+jbD92P+gRGCYNLHY/al4wqK0Ydj/rqkgqTgV2P2z3YKzu8XU/7UN5Lo/edT8=",
          "dtype": "f8"
         },
         "yaxis": "y4"
        },
        {
         "legendgroup": "France",
         "marker": {
          "opacity": 0.6,
          "size": 8
         },
         "mode": "markers",
         "name": "NDSI - France",
         "showlegend": false,
         "type": "scatter",
         "visible": false,
         "x": {
          "bdata": "ntSkwvoC6b+bWoR5Q+7qvw1PTNrB5+a/PtjtbxNT6L+PKzk9MOznv8S2eF7eTOm/8MGALozQ6b+j+LkVy5rov31u0yea/ea/ZnBSxoX3478iJTPFFMDmv8VLdjZVfOe/",
          "dtype": "f8"
         },
         "xaxis": "x5",
         "y": {
          "bdata": "MtBhn0pAfD9XC+1zu1J5P3stQc4qWH8/GgaKhMnRfD9VbFthaQWBP9o3nSAKYX0/lVKG49elfz+LXa3IAluAP89MLb2qaHE/GITea3tkcj/yVhdR4GByPwfuxeyEt20/",
          "dtype": "f8"
         },
         "yaxis": "y5"
        },
        {
         "legendgroup": "France",
         "line": {
          "color": "red",
          "width": 2
         },
         "mode": "lines",
         "showlegend": false,
         "type": "scatter",
         "visible": false,
         "x": {
          "bdata": "m1qEeUPu6r+azPqOQdzqv5o+caQ/yuq/mbDnuT246r+ZIl7PO6bqv5iU1OQ5lOq/mAZL+jeC6r+XeMEPNnDqv5fqNyU0Xuq/llyuOjJM6r+WziRQMDrqv5VAm2UuKOq/lbIReywW6r+UJIiQKgTqv5SW/qUo8um/kwh1uybg6b+SeuvQJM7pv5LsYeYivOm/kV7Y+yCq6b+R0E4RH5jpv5BCxSYdhum/kLQ7PBt06b+PJrJRGWLpv4+YKGcXUOm/jgqffBU+6b+OfBWSEyzpv43ui6cRGum/jWACvQ8I6b+M0njSDfbov4xE7+cL5Oi/i7Zl/QnS6L+KKNwSCMDov4qaUigGrui/iQzJPQSc6L+Jfj9TAorov4jwtWgAeOi/iGIsfv5l6L+H1KKT/FPov4dGGan6Qei/hriPvvgv6L+GKgbU9h3ov4WcfOn0C+i/hA7z/vL557+EgGkU8efnv4Ty3ynv1ee/g2RWP+3D57+C1sxU67Hnv4JIQ2rpn+e/gbq5f+eN57+BLDCV5Xvnv4Cepqrjaee/gBAdwOFX579/gpPV30Xnv3/0CevdM+e/fmaAANwh579+2PYV2g/nv31KbSvY/ea/fLzjQNbr5r98LlpW1Nnmv3yg0GvSx+a/exJHgdC15r96hL2WzqPmv3r2M6zMkea/eWiqwcp/5r952iDXyG3mv3hMl+zGW+a/eL4NAsVJ5r93MIQXwzfmv3ai+izBJea/dhRxQr8T5r92hudXvQHmv3X4XW277+W/dGrUgrnd5b903EqYt8vlv3ROwa21ueW/c8A3w7On5b9yMq7YsZXlv3KkJO6vg+W/cRabA65x5b9xiBEZrF/lv3D6hy6qTeW/cGz+Q6g75b9v3nRZpinlv25Q626kF+W/bsJhhKIF5b9uNNiZoPPkv22mTq+e4eS/bBjFxJzP5L9sijvamr3kv2v8se+Yq+S/a24oBZeZ5L9q4J4alYfkv2pSFTCTdeS/acSLRZFj5L9pNgJbj1Hkv2ioeHCNP+S/aBrvhYst5L9njGWbiRvkv2b+27CHCeS/ZnBSxoX3478=",
          "dtype": "f8"
         },
         "xaxis": "x5",
         "y": {
          "bdata": "7DRTvL+Dfz86zWU1HmF/P4pleK58Pn8/2v2KJ9sbfz8qlp2gOfl+P3gusBmY1n4/yMbCkvazfj8YX9ULVZF+P2j354Szbn4/to/6/RFMfj8GKA13cCl+P1bAH/DOBn4/plgyaS3kfT/08ETii8F9P0SJV1vqnn0/lCFq1Eh8fT/iuXxNp1l9PzJSj8YFN30/gOqhP2QUfT/SgrS4wvF8PyAbxzEhz3w/cLPZqn+sfD++S+wj3ol8PxDk/pw8Z3w/XnwRFptEfD+uFCSP+SF8P/ysNghY/3s/TkVJgbbcez+c3Vv6FLp7P+x1bnNzl3s/Og6B7NF0ez+KppNlMFJ7P9o+pt6OL3s/KNe4V+0Mez94b8vQS+p6P8gH3kmqx3o/GKDwwgilej9mOAM8Z4J6P7bQFbXFX3o/BmkoLiQ9ej9WATunghp6P6SZTSDh93k/8jFgmT/VeT9EynISnrJ5P5RihYv8j3k/4vqXBFtteT8wk6p9uUp5P4IrvfYXKHk/0MPPb3YFeT8gXOLo1OJ4P2709GEzwHg/wIwH25GdeD8OJRpU8Hp4P169LM1OWHg/rFU/Rq01eD/+7VG/CxN4P0yGZDhq8Hc/mh53scjNdz/qtokqJ6t3PzxPnKOFiHc/iueuHORldz/Yf8GVQkN3PygY1A6hIHc/eLDmh//9dj/ISPkAXtt2PxbhC3q8uHY/Znke8xqWdj+2ETFseXN2PwSqQ+XXUHY/VEJWXjYudj+k2mjXlAt2P/Rye1Dz6HU/QguOyVHGdT+So6BCsKN1P+I7s7sOgXU/MtTFNG1edT+AbNityzt1P9AE6yYqGXU/Hp39n4j2dD9uNRAZ59N0P77NIpJFsXQ/DmY1C6SOdD9c/keEAmx0P6yWWv1gSXQ//C5tdr8mdD9Mx3/vHQR0P5pfkmh84XM/6vek4dq+cz86kLdaOZxzP4goytOXeXM/2MDcTPZWcz8oWe/FVDRzP3jxAT+zEXM/xokUuBHvcj8WIicxcMxyP2S6OarOqXI/tlJMIy2Hcj8E616ci2RyP1KDcRXqQXI/ohuEjkgfcj8=",
          "dtype": "f8"
         },
         "yaxis": "y5"
        },
        {
         "legendgroup": "France",
         "marker": {
          "opacity": 0.6,
          "size": 8
         },
         "mode": "markers",
         "name": "EVNspCount - France",
         "showlegend": false,
         "type": "scatter",
         "visible": false,
         "x": {
          "bdata": "sr5hTuWtxT99ablU2qLEPzOlNQZxScQ/D2tZbaTUwj8ITktLQibHP/ibCVZOt8Q/zz5rNGAvyj8odrdI6ybFP3g/hC6ktsM/VO8y9XlMxD8ALYigBBvEP4WLYL0P3MI/",
          "dtype": "f8"
         },
         "xaxis": "x6",
         "y": {
          "bdata": "MtBhn0pAfD9XC+1zu1J5P3stQc4qWH8/GgaKhMnRfD9VbFthaQWBP9o3nSAKYX0/lVKG49elfz+LXa3IAluAP89MLb2qaHE/GITea3tkcj/yVhdR4GByPwfuxeyEt20/",
          "dtype": "f8"
         },
         "yaxis": "y6"
        },
        {
         "legendgroup": "France",
         "line": {
          "color": "red",
          "width": 2
         },
         "mode": "lines",
         "showlegend": false,
         "type": "scatter",
         "visible": false,
         "x": {
          "bdata": "D2tZbaTUwj8RPOXoqOfCPxMNcWSt+sI/Fd7837ENwz8Xr4hbtiDDPxmAFNe6M8M/G1GgUr9Gwz8dIizOw1nDPx7zt0nIbMM/IMRDxcx/wz8ilc9A0ZLDPyRmW7zVpcM/JjfnN9q4wz8oCHOz3svDPyrZ/i7j3sM/LKqKqufxwz8uexYm7ATEPzBMoqHwF8Q/Mh0uHfUqxD807rmY+T3EPza/RRT+UMQ/OJDRjwJkxD86YV0LB3fEPzwy6YYLisQ/PgN1AhCdxD8/1AB+FLDEP0GljPkYw8Q/Q3YYdR3WxD9FR6TwIenEP0cYMGwm/MQ/Sem75yoPxT9LukdjLyLFP02L094zNcU/T1xfWjhIxT9RLevVPFvFP1P+dlFBbsU/Vc8CzUWBxT9XoI5ISpTFP1lxGsROp8U/WkKmP1O6xT9cEzK7V83FP17kvTZc4MU/YLVJsmDzxT9ihtUtZQbGP2RXYalpGcY/ZijtJG4sxj9o+Xigcj/GP2rKBBx3UsY/bJuQl3tlxj9ubBwTgHjGP3A9qI6Ei8Y/cg40Comexj9037+FjbHGP3awSwGSxMY/eIHXfJbXxj96UmP4murGP3wj73Of/cY/fvR676MQxz+AxQZrqCPHP4GWkuasNsc/g2ceYrFJxz+FOKrdtVzHP4cJNlm6b8c/idrB1L6Cxz+Lq01Qw5XHP4182cvHqMc/j01lR8y7xz+RHvHC0M7HP5PvfD7V4cc/lcAIutn0xz+WkZQ13gfIP5hiILHiGsg/mjOsLOctyD+cBDio60DIP57VwyPwU8g/oKZPn/RmyD+id9sa+XnIP6RIZ5b9jMg/phnzEQKgyD+o6n6NBrPIP6q7CgkLxsg/rIyWhA/ZyD+uXSIAFOzIP7AurnsY/8g/sv859xwSyT+00MVyISXJP7ahUe4lOMk/uHLdaSpLyT+6Q2nlLl7JP7wU9WAzcck/vuWA3DeEyT+/tgxYPJfJP8GHmNNAqsk/w1gkT0W9yT/FKbDKSdDJP8f6O0ZO48k/ycvHwVL2yT/LnFM9VwnKP81t37hbHMo/zz5rNGAvyj8=",
          "dtype": "f8"
         },
         "xaxis": "x6",
         "y": {
          "bdata": "CFFKwVrQdT9ORuUGifR1P5Q7gEy3GHY/2jAbkuU8dj8eJrbXE2F2P2QbUR1ChXY/qhDsYnCpdj/wBYeons12PzT7Ie7M8XY/evC8M/sVdz/A5Vd5KTp3Pwbb8r5XXnc/TNCNBIaCdz+SxShKtKZ3P9i6w4/iync/HrBe1RDvdz9kpfkaPxN4P6qalGBtN3g/8I8vpptbeD82hcrryX94P3p6ZTH4o3g/wG8AdybIeD8GZZu8VOx4P0xaNgKDEHk/kk/RR7E0eT/WRGyN31h5Pxw6B9MNfXk/Yi+iGDyheT+oJD1easV5P+4Z2KOY6Xk/NA9z6cYNej96BA4v9TF6P8D5qHQjVno/Bu9DulF6ej9M5N7/f556P5LZeUWuwno/1s4Ui9zmej8cxK/QCgt7P2K5ShY5L3s/pq7lW2dTez/so4ChlXd7PzKZG+fDm3s/eI62LPK/ez++g1FyIOR7PwR57LdOCHw/Sm6H/XwsfD+QYyJDq1B8P9ZYvYjZdHw/HE5YzgeZfD9iQ/MTNr18P6g4jllk4Xw/7i0pn5IFfT8yI8TkwCl9P3gYXyrvTX0/vg36bx1yfT8EA5W1S5Z9P0r4L/t5un0/kO3KQKjefT/W4mWG1gJ+PxrYAMwEJ34/YM2bETNLfj+mwjZXYW9+P+y30ZyPk34/Mq1s4r23fj94ogco7Nt+P76Xom0aAH8/BI09s0gkfz9Kgtj4dkh/P453cz6lbH8/1GwOhNOQfz8YYqnJAbV/P15XRA8w2X8/pEzfVF79fz/1ID1NxhCAP5ibCnDdIoA/OxbYkvQ0gD/ekKW1C0eAP4ELc9giWYA/JIZA+zlrgD/HAA4eUX2AP2p720Boj4A/DfaoY3+hgD+wcHaGlrOAP1PrQ6mtxYA/9WURzMTXgD+Y4N7u2+mAPztbrBHz+4A/3tV5NAoOgT+BUEdXISCBPyTLFHo4MoE/x0XinE9EgT9pwK+/ZlaBPww7feJ9aIE/r7VKBZV6gT9SMBgorIyBP/Wq5UrDnoE/mCWzbdqwgT87oICQ8cKBP94aTrMI1YE/gZUb1h/ngT8=",
          "dtype": "f8"
         },
         "yaxis": "y6"
        },
        {
         "legendgroup": "Spain",
         "marker": {
          "opacity": 0.6,
          "size": 8
         },
         "mode": "markers",
         "name": "ACI - Spain",
         "showlegend": false,
         "type": "scatter",
         "visible": false,
         "x": {
          "bdata": "XbRDxpRXc0B2ba66Pc9zQAWqsY8Ey3NAYPikqyYbc0C0O6L/jz1zQA+oyXHDD3NAtfJm+NSEc0D/KP9SbLRzQGbhagM8HHNAbap9Svt9c0D69vFXoXBzQN7sHw61hXNAytrT2SlEc0Dl7HMZqSZzQPKLJU/M73VAP9txxRocc0DvbZ6XyxdzQPUQ2l9FFHNAb15ILgNsc0ARGRei8hBzQGZNUBaZFHNAMDj4JOsic0BNXm+li4pzQHjlrixXLXNAZRTFf9RIc0C14GAggSNzQOa+nkwHXXNAAiDSwXklc0COmkKmFjJzQFeMbvU2k3NArp0/ScI3c0BvVuIF3FNzQAiLuNK7FHRAjwAzMrUpc0CKIcIcgLRzQG4ktTIFXXNAbtpaSVh/c0DjlRXPHVJzQCwYtvMMFnRAgDhDRodfc0A=",
          "dtype": "f8"
         },
         "xaxis": "x",
         "y": {
          "bdata": "LAYbCfn5dj+S53r9KfJ2P54JfzAZbHg/fzQsnqyWez8/O+Jj2QCAP4HGbkDNHHw/S8pN+/CzdD8fRY+YQy93P5G6foAzsXg/cDSKsQBXez98RI4mZ+V6PyK5Uda8A3w/kJ6DD2FegD/rlTBAG3CAP36x5Mstv34/42YZUDg8dT/UzrMSdeZyPzvw1ZgO23Q/1hGL92NddD9pyJhv+ih7P19ckv6uIXE/chW271uZeD+2h2Qmonl9P74qAL2yUn0/CTOU3SghfD9LLhF098F7P1rauFAko3k/o6ACp9sffz/c369muAx/P3IlEaZtCXY/eNndKMhFcz8LCltB7b9yP20EJL9kXHQ/V3HJUFB6dj9tvyi2T892PyfEiT3KInQ/Zk5WJ1q4fD/k9+ODxAp6P+OhN0fBe3s/CKh/LVzWeD8=",
          "dtype": "f8"
         },
         "yaxis": "y"
        },
        {
         "legendgroup": "Spain",
         "line": {
          "color": "red",
          "width": 2
         },
         "mode": "lines",
         "showlegend": false,
         "type": "scatter",
         "visible": false,
         "x": {
          "bdata": "D6jJccMPc0CTg9e5MhdzQBZf5QGiHnNAmjrzSREmc0AdFgGSgC1zQKHxDtrvNHNAJc0cIl88c0CoqCpqzkNzQCyEOLI9S3NAr19G+qxSc0AzO1RCHFpzQLYWYoqLYXNAOvJv0vpoc0C+zX0aanBzQEGpi2LZd3NAxYSZqkh/c0BIYKfyt4ZzQMw7tTonjnNAUBfDgpaVc0DT8tDKBZ1zQFfO3hJ1pHNA2qnsWuSrc0BehfqiU7NzQOFgCOvCunNAZTwWMzLCc0DpFyR7oclzQGzzMcMQ0XNA8M4/C4DYc0Bzqk1T799zQPeFW5te53NAe2Fp483uc0D+PHcrPfZzQIIYhXOs/XNABfSSuxsFdECJz6ADiwx0QAyrrkv6E3RAkIa8k2kbdEAUYsrb2CJ0QJc92CNIKnRAGxnma7cxdECe9POzJjl0QCLQAfyVQHRApqsPRAVIdEAphx2MdE90QK1iK9TjVnRAMD45HFNedEC0GUdkwmV0QDj1VKwxbXRAu9Bi9KB0dEA/rHA8EHx0QMKHfoR/g3RARmOMzO6KdEDKPpoUXpJ0QE0aqFzNmXRA0fW1pDyhdEBU0cPsq6h0QNis0TQbsHRAW4jffIq3dEDfY+3E+b50QGM/+wxpxnRA5hoJVdjNdEBq9hadR9V0QO3RJOW23HRAca0yLSbkdED0iEB1let0QHhkTr0E83RA/D9cBXT6dEB/G2pN4wF1QAP3d5VSCXVAhtKF3cEQdUAKrpMlMRh1QI6JoW2gH3VAEWWvtQ8ndUCVQL39fi51QBgcy0XuNXVAnPfYjV09dUAg0+bVzER1QKOu9B08THVAJ4oCZqtTdUCqZRCuGlt1QC5BHvaJYnVAshwsPvlpdUA1+DmGaHF1QLnTR87XeHVAPK9VFkeAdUDAimNetod1QENmcaYlj3VAx0F/7pSWdUBKHY02BJ51QM74mn5zpXVAUtSoxuKsdUDVr7YOUrR1QFmLxFbBu3VA3GbSnjDDdUBgQuDmn8p1QOQd7i4P0nVAZ/n7dn7ZdUDr1Am/7eB1QG6wFwdd6HVA8oslT8zvdUA=",
          "dtype": "f8"
         },
         "xaxis": "x",
         "y": {
          "bdata": "2QYKEEbseD8qRHJtafN4P3qB2sqM+ng/y75CKLABeT8a/KqF0wh5P2s5E+P2D3k/vHZ7QBoXeT8MtOOdPR55P13xS/tgJXk/rS60WIQseT/9axy2pzN5P02phBPLOnk/nubscO5BeT/vI1XOEUl5Pz9hvSs1UHk/kJ4liVhXeT/f243me155PzAZ9kOfZXk/gVZeocJseT/Rk8b+5XN5PyLRLlwJe3k/cg6XuSyCeT/CS/8WUIl5PxKJZ3RzkHk/Y8bP0ZaXeT+0Azgvup55PwRBoIzdpXk/VX4I6gCteT+lu3BHJLR5P/X42KRHu3k/RjZBAmvCeT+Wc6lfjsl5P+ewEb2x0Hk/N+55GtXXeT+IK+J3+N55P9doStUb5nk/KKayMj/teT954xqQYvR5P8kgg+2F+3k/Gl7rSqkCej9qm1OozAl6P7rYuwXwEHo/CxYkYxMYej9bU4zANh96P6yQ9B1aJno//M1ce30tej9NC8XYoDR6P51ILTbEO3o/7YWVk+dCej8+w/3wCkp6P44AZk4uUXo/3z3Oq1FYej8wezYJdV96P3+4nmaYZno/0PUGxLttej8gM28h33R6P3Fw134CfHo/wa0/3CWDej8S66c5SYp6P2IoEJdskXo/smV49I+Yej8Do+BRs596P1PgSK/Wpno/pB2xDPqtej/0WhlqHbV6P0WYgcdAvHo/ldXpJGTDej/lElKCh8p6PzZQut+q0Xo/ho0iPc7Yej/Xyoqa8d96PygI8/cU53o/d0VbVTjuej/IgsOyW/V6PxjAKxB//Ho/af2TbaIDez+6OvzKxQp7Pwp4ZCjpEXs/WrXMhQwZez+q8jTjLyB7P/svnUBTJ3s/TG0FnnYuez+cqm37mTV7P+3n1Vi9PHs/PCU+tuBDez+NYqYTBEt7P92fDnEnUns/Lt12zkpZez9+Gt8rbmB7P89XR4mRZ3s/H5Wv5rRuez9v0hdE2HV7P8APgKH7fHs/EE3o/h6Eez9hilBcQot7P7LHuLllkns/AgUhF4mZez9SQol0rKB7P6J/8dHPp3s/87xZL/Ouez8=",
          "dtype": "f8"
         },
         "yaxis": "y"
        },
        {
         "legendgroup": "Spain",
         "marker": {
          "opacity": 0.6,
          "size": 8
         },
         "mode": "markers",
         "name": "ADI - Spain",
         "showlegend": false,
         "type": "scatter",
         "visible": false,
         "x": {
          "bdata": "uV6ebT3z9T9+ju76Ilv2P9U9CpREYvQ/AFNnCd1V+D9qdAriPGL3P0+PHpS9nvs/nq6IFRqx7D8HxQeTpg30P2G2Ygpxv/w/8UHLpwlA9T+9zyLeFQb2P4h/E6+4bfM/chogbW1SAkBKHsX4zOgBQJmqD/zJyQBA7caHeJyq/D8/qSvrKhcAQDkG6V6ABfw/X1VlDiJj9z/jtpg76cQAQDO1C/W6x/4/oKIv2eG//z+TgQ/6Awf1P8qLlfcWF/o/55HCp6zl9T+2sbtfU2n+P3Jz8raTXvU/53nR0xohAUBwoXAEugX/PwBLp7ea3+s/qzgjHYAb+j80n1f0v5vyP7aJew51ieA/OzC5WCRR+D/YOIZi53nvP3i/2dCLAPU/M/mBWdAR+D+zBRZ2KmTuPwdU1SS1Q+o/GB6yDnkn8D8=",
          "dtype": "f8"
         },
         "xaxis": "x2",
         "y": {
          "bdata": "LAYbCfn5dj+S53r9KfJ2P54JfzAZbHg/fzQsnqyWez8/O+Jj2QCAP4HGbkDNHHw/S8pN+/CzdD8fRY+YQy93P5G6foAzsXg/cDSKsQBXez98RI4mZ+V6PyK5Uda8A3w/kJ6DD2FegD/rlTBAG3CAP36x5Mstv34/42YZUDg8dT/UzrMSdeZyPzvw1ZgO23Q/1hGL92NddD9pyJhv+ih7P19ckv6uIXE/chW271uZeD+2h2Qmonl9P74qAL2yUn0/CTOU3SghfD9LLhF098F7P1rauFAko3k/o6ACp9sffz/c369muAx/P3IlEaZtCXY/eNndKMhFcz8LCltB7b9yP20EJL9kXHQ/V3HJUFB6dj9tvyi2T892PyfEiT3KInQ/Zk5WJ1q4fD/k9+ODxAp6P+OhN0fBe3s/CKh/LVzWeD8=",
          "dtype": "f8"
         },
         "yaxis": "y2"
        },
        {
         "legendgroup": "Spain",
         "line": {
          "color": "red",
          "width": 2
         },
         "mode": "lines",
         "showlegend": false,
         "type": "scatter",
         "visible": false,
         "x": {
          "bdata": "tol7DnWJ4D/31igQNRzhPzgk1hH1ruE/eHGDE7VB4j+5vjAVddTiP/oL3hY1Z+M/O1mLGPX54z98pjgatYzkP73z5Rt1H+U//kCTHTWy5T8+jkAf9UTmP3/b7SC11+Y/wCibInVq5z8BdkgkNf3nP0LD9SX1j+g/ghCjJ7Ui6T/EXVApdbXpPwSr/So1SOo/RfiqLPXa6j+GRVgutW3rP8eSBTB1AOw/COCyMTWT7D9ILWAz9SXtP4p6DTW1uO0/yse6NnVL7j8LFWg4Nd7uP0xiFTr1cO8/xlfhndoB8D9n/reeOkvwPweljp+alPA/qEtloPrd8D9I8juhWifxP+iYEqK6cPE/iT/pohq68T8q5r+jegPyP8qMlqTaTPI/ajNtpTqW8j8K2kOmmt/yP6uAGqf6KPM/TCfxp1py8z/szceourvzP4x0nqkaBfQ/LBt1qnpO9D/NwUur2pf0P25oIqw64fQ/Dg/5rJoq9T+utc+t+nP1P09cpq5avfU/7wJ9r7oG9j+QqVOwGlD2PzBQKrF6mfY/0PYAstri9j9xndeyOiz3PxJErrOadfc/suqEtPq+9z9SkVu1Wgj4P/M3Mra6Ufg/k94Itxqb+D8zhd+3euT4P9QrtrjaLfk/dNKMuTp3+T8VeWO6msD5P7UfOrv6Cfo/VsYQvFpT+j/2bOe8upz6P5YTvr0a5vo/N7qUvnov+z/XYGu/2nj7P3gHQsA6wvs/GK4YwZoL/D+5VO/B+lT8P1n7xcJanvw/+aGcw7rn/D+aSHPEGjH9PzrvScV6ev0/25UgxtrD/T97PPfGOg3+PxvjzceaVv4/vImkyPqf/j9cMHvJWun+P/3WUcq6Mv8/nX0oyxp8/z8+JP/LesX/P2/lamZtBwBAvzjWZh0sAEAQjEFnzVAAQGDfrGd9dQBAsDIYaC2aAEAAhoNo3b4AQFDZ7miN4wBAoCxaaT0IAUDwf8Vp7SwBQEHTMGqdUQFAkSacak12AUDieQdr/ZoBQDLNcmutvwFAgiDea13kAUDSc0lsDQkCQCLHtGy9LQJAchogbW1SAkA=",
          "dtype": "f8"
         },
         "xaxis": "x2",
         "y": {
          "bdata": "D1HcypXOdT+prIN6rd51P0MIKyrF7nU/3GPS2dz+dT92v3mJ9A52PxAbITkMH3Y/qXbI6CMvdj9D0m+YOz92P90tF0hTT3Y/dom+92pfdj8Q5WWngm92P6pADVeaf3Y/RJy0BrKPdj/d91u2yZ92P3dTA2bhr3Y/Ea+qFfm/dj+qClLFENB2P0Rm+XQo4HY/3sGgJEDwdj94HUjUVwB3PxF574NvEHc/q9SWM4cgdz9FMD7jnjB3P96L5ZK2QHc/eOeMQs5Qdz8SQzTy5WB3P6ye26H9cHc/RfqCURWBdz/fVSoBLZF3P3ix0bBEoXc/Eg15YFyxdz+saCAQdMF3P0bEx7+L0Xc/3x9vb6Phdz95exYfu/F3PxPXvc7SAXg/rDJlfuoReD9GjgwuAiJ4P+Dps90ZMng/ekVbjTFCeD8ToQI9SVJ4P638qexgYng/RlhRnHhyeD/gs/hLkIJ4P3oPoPunkng/FGtHq7+ieD+uxu5a17J4P0cilgrvwng/4X09ugbTeD972eRpHuN4PxQ1jBk283g/rpAzyU0DeT9I7Np4ZRN5P+JHgih9I3k/e6Mp2JQzeT8V/9CHrEN5P69aeDfEU3k/SLYf59tjeT/iEceW83N5P3xtbkYLhHk/FckV9iKUeT+vJL2lOqR5P0mAZFVStHk/4tsLBWrEeT98N7O0gdR5PxaTWmSZ5Hk/sO4BFLH0eT9JSqnDyAR6P+OlUHPgFHo/fQH4Ivgkej8WXZ/SDzV6P7C4RoInRXo/ShTuMT9Vej/kb5XhVmV6P33LPJFudXo/FyfkQIaFej+xgovwnZV6P0reMqC1pXo/5DnaT821ej9+lYH/5MV6PxjxKK/81Xo/sUzQXhTmej9LqHcOLPZ6P+QDH75DBns/fl/GbVsWez8Yu20dcyZ7P7IWFc2KNns/THK8fKJGez/lzWMsulZ7P38pC9zRZns/GIWyi+l2ez+y4Fk7AYd7P0w8AesYl3s/5peomjCnez+A809KSLd7PxlP9/lfx3s/s6qeqXfXez9MBkZZj+d7P+Zh7Qin93s/gL2UuL4HfD8=",
          "dtype": "f8"
         },
         "yaxis": "y2"
        },
        {
         "legendgroup": "Spain",
         "marker": {
          "opacity": 0.6,
          "size": 8
         },
         "mode": "markers",
         "name": "BI - Spain",
         "showlegend": false,
         "type": "scatter",
         "visible": false,
         "x": {
          "bdata": "qnMa4wsTKEA8brxjAPgmQMyI7TK1mihAQ6FcfrxILUClZnCmwsYzQLZmRmPgWS9A5Z8Ood5/KkBAD4S80ssqQO51FEmIQytA49qQgeOYK0ABoZX+xfYxQFowexyf4SpApFvlg3DqJkDYeQdiFQclQHwNxAFm4yhAMYq2Hkk0I0BZVVeZDwooQDL3qOvsdCNAm5aSg3dPI0BsQaWQdjYkQMCFXPwfsStAZ5tVR0/OJEAPR2JFYIUvQLZ6tz/qZyhAkydjK2peKUA2ZWA2h68pQMLTnl4VwitAqVJg8VkTLEBsPcA5cd0rQE6Q2kr/lCZAJ2BoKPdMJEBh0rMNpXAnQO3Y3OPuzSxABUApxHyYJUApJ7OsS6wnQOVbUkfgQiVAAB6fDu9vKkC3ZYF6gVopQDNoRXmHgy5A1T8cBa0/J0A=",
          "dtype": "f8"
         },
         "xaxis": "x3",
         "y": {
          "bdata": "LAYbCfn5dj+S53r9KfJ2P54JfzAZbHg/fzQsnqyWez8/O+Jj2QCAP4HGbkDNHHw/S8pN+/CzdD8fRY+YQy93P5G6foAzsXg/cDSKsQBXez98RI4mZ+V6PyK5Uda8A3w/kJ6DD2FegD/rlTBAG3CAP36x5Mstv34/42YZUDg8dT/UzrMSdeZyPzvw1ZgO23Q/1hGL92NddD9pyJhv+ih7P19ckv6uIXE/chW271uZeD+2h2Qmonl9P74qAL2yUn0/CTOU3SghfD9LLhF098F7P1rauFAko3k/o6ACp9sffz/c369muAx/P3IlEaZtCXY/eNndKMhFcz8LCltB7b9yP20EJL9kXHQ/V3HJUFB6dj9tvyi2T892PyfEiT3KInQ/Zk5WJ1q4fD/k9+ODxAp6P+OhN0fBe3s/CKh/LVzWeD8=",
          "dtype": "f8"
         },
         "yaxis": "y3"
        },
        {
         "legendgroup": "Spain",
         "line": {
          "color": "red",
          "width": 2
         },
         "mode": "lines",
         "showlegend": false,
         "type": "scatter",
         "visible": false,
         "x": {
          "bdata": "MYq2Hkk0I0C1Ohl352gjQDnre8+FnSNAvZveJyTSI0BCTEGAwgYkQMb8o9hgOyRASq0GMf9vJEDOXWmJnaQkQFIOzOE72SRA1r4uOtoNJUBab5GSeEIlQN4f9OoWdyVAY9BWQ7WrJUDngLmbU+AlQGsxHPTxFCZA7+F+TJBJJkBzkuGkLn4mQPdCRP3MsiZAe/OmVWvnJkAApAmuCRwnQIRUbAaoUCdACAXPXkaFJ0CMtTG35LknQBBmlA+D7idAlBb3ZyEjKEAYx1nAv1coQJx3vBhejChAICgfcfzAKECl2IHJmvUoQCmJ5CE5KilArTlHetdeKUAx6qnSdZMpQLWaDCsUyClAOktvg7L8KUC++9HbUDEqQEKsNDTvZSpAxlyXjI2aKkBKDfrkK88qQM69XD3KAytAUm6/lWg4K0DWHiLuBm0rQFrPhEaloStA3n/nnkPWK0BiMEr34QosQOfgrE+APyxAa5EPqB50LEDvQXIAvagsQHPy1Fhb3SxA+KI3sfkRLUB8U5oJmEYtQAAE/WE2ey1AhLRfutSvLUAIZcISc+QtQIwVJWsRGS5AEMaHw69NLkCUduobToIuQBgnTXTsti5AnNevzIrrLkAgiBIlKSAvQKU4dX3HVC9AKenX1WWJL0CtmTouBL4vQDFKnYai8i9AW/1/b6ATMECdVbGb7y0wQN+t4sc+SDBAIQYU9I1iMEBjXkUg3XwwQKW2dkwslzBA5w6oeHuxMEApZ9mkysswQGu/CtEZ5jBArRc8/WgAMUDvb20puBoxQDLInlUHNTFAdCDQgVZPMUC2eAGupWkxQPjQMtr0gzFAOilkBkSeMUB8gZUyk7gxQL7Zxl7i0jFAADL4ijHtMUBCiim3gAcyQITiWuPPITJAxjqMDx88MkAIk707blYyQErr7me9cDJAjEMglAyLMkDOm1HAW6UyQBD0guyqvzJAUky0GPrZMkCUpOVESfQyQNb8FnGYDjNAGFVInecoM0BarXnJNkMzQJ0Fq/WFXTNA313cIdV3M0Ahtg1OJJIzQGMOP3pzrDNApWZwpsLGM0A=",
          "dtype": "f8"
         },
         "xaxis": "x3",
         "y": {
          "bdata": "akHX+BjDdj9TSjanD9h2Pz1TlVUG7XY/Jlz0A/0Bdz8QZVOy8xZ3P/ptsmDqK3c/5HYRD+FAdz/Of3C911V3P7iIz2vOanc/oZEuGsV/dz+Kmo3Iu5R3P3Sj7HayqXc/XqxLJam+dz9ItarTn9N3PzK+CYKW6Hc/HMdoMI39dz8G0MfegxJ4P+/YJo16J3g/2OGFO3E8eD/C6uTpZ1F4P6zzQ5heZng/lvyiRlV7eD+ABQL1S5B4P2oOYaNCpXg/UxfAUTm6eD89IB8AMM94PyYpfq4m5Hg/EDLdXB35eD/6OjwLFA55P+RDm7kKI3k/zkz6ZwE4eT+4VVkW+Ex5P6FeuMTuYXk/i2cXc+V2eT91cHYh3It5P1551c/SoHk/SII0fsm1eT8yi5MswMp5PxyU8tq233k/Bp1Ria30eT/vpbA3pAl6P9iuD+aaHno/wrdulJEzej+swM1CiEh6P5bJLPF+XXo/gNKLn3Vyej9q2+pNbId6P1TkSfxinHo/Pu2oqlmxej8n9gdZUMZ6PxD/ZgdH23o/+gfGtT3wej/kECVkNAV7P84ZhBIrGns/uCLjwCEvez+hK0JvGER7P4s0oR0PWXs/dD0AzAVuez9eRl96/IJ7P0hPvijzl3s/Mlgd1+msez8cYXyF4MF7PwZq2zPX1ns/8HI64s3rez/Ze5mQxAB8P8OE+D67FXw/rI1X7bEqfD+WlrabqD98P4CfFUqfVHw/aqh0+JVpfD9UsdOmjH58Pz26MlWDk3w/JsORA3qofD8QzPCxcL18P/vUT2Bn0nw/5N2uDl7nfD/O5g29VPx8P7jvbGtLEX0/ovjLGUImfT+MASvIODt9P3UKinYvUH0/XxPpJCZlfT9IHEjTHHp9PzIlp4ETj30/HC4GMAqkfT8GN2XeALl9P+8/xIz3zX0/2UgjO+7ifT/CUYLp5Pd9P6xa4ZfbDH4/lmNARtIhfj+AbJ/0yDZ+P2p1/qK/S34/U35dUbZgfj88h7z/rHV+PyeQG66jin4/EZl6XJqffj/6odkKkbR+P+SqOLmHyX4/zrOXZ37efj8=",
          "dtype": "f8"
         },
         "yaxis": "y3"
        },
        {
         "legendgroup": "Spain",
         "marker": {
          "opacity": 0.6,
          "size": 8
         },
         "mode": "markers",
         "name": "Hf - Spain",
         "showlegend": false,
         "type": "scatter",
         "visible": false,
         "x": {
          "bdata": "4cA05vnX3T8RPU78qNXaP617XiGTCN0/hRLVz+md2z+L7jQDKG3cP/woqk3Oa90/rSSGM5e31z/6KP6dzHnaP7QWmvUchtY/0Q0Up2MO2j/XTSu1kgzaP+b/olMoVNk/MMukq3GS5j8QoaTUcsHmP3fE2Gevy+U/Hpmga82I4D/5LmXMFm3gPzRHh5wvHeA/E2dZvlZN3D9jXaXPOLXjP0NhddIhjN8/wIwnRnp/4j+5VETpriLeP7TyxVsxF+A/tP1oYabd3T9w/OELmnrhP7qI4M9KHd0/00uaVXWK4D9fZ7L35wLiP3I7/bX/5NU/H838PSGZ3D/9DnbtTvDUPzgCTFZ09tI/iiXu+AkO3D8EYUeVfFDXP8MXVwqb2tg/vBElEy/K2T+lXswSbczTPwJKQ2870tM/hydxHw7M1D8=",
          "dtype": "f8"
         },
         "xaxis": "x4",
         "y": {
          "bdata": "LAYbCfn5dj+S53r9KfJ2P54JfzAZbHg/fzQsnqyWez8/O+Jj2QCAP4HGbkDNHHw/S8pN+/CzdD8fRY+YQy93P5G6foAzsXg/cDSKsQBXez98RI4mZ+V6PyK5Uda8A3w/kJ6DD2FegD/rlTBAG3CAP36x5Mstv34/42YZUDg8dT/UzrMSdeZyPzvw1ZgO23Q/1hGL92NddD9pyJhv+ih7P19ckv6uIXE/chW271uZeD+2h2Qmonl9P74qAL2yUn0/CTOU3SghfD9LLhF098F7P1rauFAko3k/o6ACp9sffz/c369muAx/P3IlEaZtCXY/eNndKMhFcz8LCltB7b9yP20EJL9kXHQ/V3HJUFB6dj9tvyi2T892PyfEiT3KInQ/Zk5WJ1q4fD/k9+ODxAp6P+OhN0fBe3s/CKh/LVzWeD8=",
          "dtype": "f8"
         },
         "yaxis": "y4"
        },
        {
         "legendgroup": "Spain",
         "line": {
          "color": "red",
          "width": 2
         },
         "mode": "lines",
         "showlegend": false,
         "type": "scatter",
         "visible": false,
         "x": {
          "bdata": "OAJMVnT20j+dVQv6GjvTPwGpyp3Bf9M/ZvyJQWjE0z/KT0nlDgnUPy+jCIm1TdQ/lPbHLFyS1D/4SYfQAtfUP12dRnSpG9U/wvAFGFBg1T8mRMW79qTVP4uXhF+d6dU/7+pDA0Qu1j9UPgOn6nLWP7iRwkqRt9Y/HeWB7jf81j+COEGS3kDXP+aLADaFhdc/S9+/2SvK1z+wMn990g7YPxSGPiF5U9g/edn9xB+Y2D/eLL1oxtzYP0KAfAxtIdk/ptM7sBNm2T8LJ/tTuqrZP3B6uvdg79k/1M15mwc02j85ITk/rnjaP550+OJUvdo/Asi3hvsB2z9nG3cqokbbP8xuNs5Ii9s/MML1ce/P2z+UFbUVlhTcP/podLk8Wdw/XrwzXeOd3D/CD/MAiuLcPydjsqQwJ90/jLZxSNdr3T/wCTHsfbDdP1Vd8I8k9d0/urCvM8s53j8eBG/XcX7eP4NXLnsYw94/6KrtHr8H3z9M/qzCZUzfP7BRbGYMkd8/FaUrCrPV3z89fPXWLA3gP+8l1SiAL+A/os+0etNR4D9UeZTMJnTgPwYjdB56luA/uMxTcM244D9rdjPCINvgPx0gExR0/eA/z8nyZccf4T+Cc9K3GkLhPzQdsgluZOE/5saRW8GG4T+YcHGtFKnhP0saUf9ny+E//cMwUbvt4T+wbRCjDhDiP2IX8PRhMuI/FMHPRrVU4j/Gaq+YCHfiP3gUj+pbmeI/K75uPK+74j/eZ06OAt7iP5ARLuBVAOM/QrsNMqki4z/0ZO2D/ETjP6YOzdVPZ+M/WbisJ6OJ4z8LYox59qvjP74LbMtJzuM/cLVLHZ3w4z8iXytv8BLkP9QIC8FDNeQ/hrLqEpdX5D85XMpk6nnkP+wFqrY9nOQ/nq+JCJG+5D9QWWla5ODkPwIDSaw3A+U/tKwo/ool5T9nVghQ3kflPxkA6KExauU/zKnH84SM5T9+U6dF2K7lPzD9hpcr0eU/4qZm6X7z5T+UUEY70hXmP0f6JY0lOOY/+aMF33ha5j+sTeUwzHzmP173xIIfn+Y/EKGk1HLB5j8=",
          "dtype": "f8"
         },
         "xaxis": "x4",
         "y": {
          "bdata": "IMm70ZI7dj/y6qi58092P8QMlqFUZHY/li6DibV4dj9oUHBxFo12PztyXVl3oXY/DZRKQdi1dj/gtTcpOcp2P7LXJBGa3nY/hPkR+frydj9WG//gWwd3Pyk97Mi8G3c/+17ZsB0wdz/NgMaYfkR3P6Cis4DfWHc/csSgaEBtdz9E5o1QoYF3PxYIezgClnc/6SloIGOqdz+7S1UIxL53P45tQvAk03c/YI8v2IXndz8ysRzA5vt3PwTTCahHEHg/1vT2j6gkeD+pFuR3CTl4P3s40V9qTXg/Tlq+R8theD8gfKsvLHZ4P/KdmBeNing/xL+F/+2eeD+X4XLnTrN4P2kDYM+vx3g/PCVNtxDceD8ORzqfcfB4P+BoJ4fSBHk/sooUbzMZeT+ErAFXlC15P1fO7j71QXk/KfDbJlZWeT/8EckOt2p5P84ztvYXf3k/oFWj3niTeT9yd5DG2ad5P0SZfa46vHk/F7tqlpvQeT/p3Fd+/OR5P7z+RGZd+Xk/jiAyTr4Nej9gQh82HyJ6PzJkDB6ANno/BYb5BeFKej/Xp+btQV96P6rJ09Wic3o/fOvAvQOIej9ODa6lZJx6PyAvm43FsHo/8lCIdSbFej/FcnVdh9l6P5eUYkXo7Xo/arZPLUkCez882DwVqhZ7Pw76Kf0KK3s/4BsX5Ws/ez+zPQTNzFN7P4Vf8bQtaHs/V4HenI58ez8qo8uE75B7P/zEuGxQpXs/zualVLG5ez+hCJM8Es57P3MqgCRz4ns/RUxtDNT2ez8Xblr0NAt8P+qPR9yVH3w/vLE0xPYzfD+O0yGsV0h8P2H1DpS4XHw/Mxf8exlxfD8FOeljeoV8P9ha1kvbmXw/qnzDMzyufD98nrAbncJ8P0/AnQP+1nw/IeKK617rfD/zA3jTv/98P8UlZbsgFH0/mEdSo4EofT9qaT+L4jx9PzyLLHNDUX0/D60ZW6RlfT/hzgZDBXp9P7Pw8ypmjn0/hRLhEseifT9YNM76J7d9PypWu+KIy30//HeoyunffT/PmZWySvR9P6G7gpqrCH4/c91vggwdfj8=",
          "dtype": "f8"
         },
         "yaxis": "y4"
        },
        {
         "legendgroup": "Spain",
         "marker": {
          "opacity": 0.6,
          "size": 8
         },
         "mode": "markers",
         "name": "NDSI - Spain",
         "showlegend": false,
         "type": "scatter",
         "visible": false,
         "x": {
          "bdata": "Sumh8q7+6L9Y6TWZ/UXrv5xPdfe45eq/54ajYu0B5r9kGGIWETHjv1pRsdtv9N+/TS1LMrwU7r8Zr/N6oR/sv0lzkhuyze2/Qaw7Ym8P6r/uxH7U9cPpvyV+ylHw++m/8UCsm80Y2r/vWJ9Gzrbcv83MzHLtR+K/vyBBVM/z5r+CUJJftoLnvyD458yK3Oa/hlMQWtBT6b/zhD2RTQ3kv0MHgfecCei/hbHPlwiX5b8B6n+CRgXov80ykC+phea/ExjUPdNn6b+WaCB2k2Dkv3C8+VURaum/NC8weeXS5b8LEfiTRUrjv4kCZVXdcO2/0QfxLD5u6b+eV8vX6+Htv3d2mMLFaO+/PRbl3e9h6r96pnR5gqnsv2+Fz9LRzuu/RunnkWp567/tOfZBLEzuv4ADL2+3Zu6/cZ/r5Cqh7b8=",
          "dtype": "f8"
         },
         "xaxis": "x5",
         "y": {
          "bdata": "LAYbCfn5dj+S53r9KfJ2P54JfzAZbHg/fzQsnqyWez8/O+Jj2QCAP4HGbkDNHHw/S8pN+/CzdD8fRY+YQy93P5G6foAzsXg/cDSKsQBXez98RI4mZ+V6PyK5Uda8A3w/kJ6DD2FegD/rlTBAG3CAP36x5Mstv34/42YZUDg8dT/UzrMSdeZyPzvw1ZgO23Q/1hGL92NddD9pyJhv+ih7P19ckv6uIXE/chW271uZeD+2h2Qmonl9P74qAL2yUn0/CTOU3SghfD9LLhF098F7P1rauFAko3k/o6ACp9sffz/c369muAx/P3IlEaZtCXY/eNndKMhFcz8LCltB7b9yP20EJL9kXHQ/V3HJUFB6dj9tvyi2T892PyfEiT3KInQ/Zk5WJ1q4fD/k9+ODxAp6P+OhN0fBe3s/CKh/LVzWeD8=",
          "dtype": "f8"
         },
         "yaxis": "y5"
        },
        {
         "legendgroup": "Spain",
         "line": {
          "color": "red",
          "width": 2
         },
         "mode": "lines",
         "showlegend": false,
         "type": "scatter",
         "visible": false,
         "x": {
          "bdata": "d3aYwsVo778dhQBESznvv8KTaMXQCe+/aKLQRlba7r8NsTjI26ruv7O/oElhe+6/WM4Iy+ZL7r/+3HBMbBzuv6Pr2M3x7O2/SfpAT3e97b/uCKnQ/I3tv5QXEVKCXu2/OSZ50wcv7b/fNOFUjf/sv4RDSdYS0Oy/KlKxV5ig7L/PYBnZHXHsv3VvgVqjQey/Gn7p2ygS7L/AjFFdruLrv2Wbud4zs+u/C6ohYLmD67+wuInhPlTrv1bH8WLEJOu//NVZ5En16r+h5MFlz8Xqv0bzKedUluq/7AGSaNpm6r+SEPrpXzfqvzcfYmvlB+q/3C3K7GrY6b+CPDJu8KjpvyhLmu91eem/zVkCcftJ6b9yaGrygBrpvxh30nMG6+i/voU69Yu76L9jlKJ2EYzovwijCviWXOi/rrFyeRwt6L9UwNr6of3nv/nOQnwnzue/n92q/aye579E7BJ/Mm/nv+r6egC4P+e/jwnjgT0Q5780GEsDw+Dmv9oms4RIsea/gDUbBs6B5r8mRIOHU1Lmv8tS6wjZIua/cGFTil7z5b8WcLsL5MPlv7x+I41plOW/YY2LDu9k5b8GnPOPdDXlv6yqWxH6BeW/UrnDkn/W5L/3xysUBafkv5zWk5WKd+S/QuX7FhBI5L/o82OYlRjkv40CzBkb6eO/MhE0m6C547/YH5wcJorjv34uBJ6rWuO/Iz1sHzEr47/IS9Sgtvviv25aPCI8zOK/FGmko8Gc4r+5dwwlR23iv16GdKbMPeK/BJXcJ1IO4r+qo0Sp197hv0+yrCpdr+G/9MAUrOJ/4b+az3wtaFDhv0De5K7tIOG/5exMMHPx4L+K+7Sx+MHgvzAKHTN+kuC/1hiFtANj4L98J+01iTPgvyE2VbcOBOC/jYl6cSip37/Ypkp0M0rfvyPEGnc+696/buHqeUmM3r+4/rp8VC3evwQci39fzt2/Tjlbgmpv3b+aViuFdRDdv+Rz+4eAsdy/MJHLiotS3L96rpuNlvPbv8bLa5ChlNu/Euk7k6w1279cBgyWt9bav6gj3JjCd9q/8UCsm80Y2r8=",
          "dtype": "f8"
         },
         "xaxis": "x5",
         "y": {
          "bdata": "B6fYYDV6dT+S2iZ8qJR1Px4OdZcbr3U/qUHDso7JdT81dRHOAeR1P8GoX+l0/nU/TdytBOgYdj/YD/wfWzN2P2RDSjvOTXY/73aYVkFodj97quZxtIJ2PwbeNI0nnXY/khGDqJq3dj8eRdHDDdJ2P6p4H9+A7HY/Naxt+vMGdz/B37sVZyF3P0wTCjHaO3c/2EZYTE1Wdz9keqZnwHB3P/Ct9IIzi3c/e+FCnqaldz8GFZG5GcB3P5JI39SM2nc/Hnwt8P/0dz+qr3sLcw94PzXjySbmKXg/wBYYQllEeD9MSmZdzF54P9h9tHg/eXg/ZLEClLKTeD/v5FCvJa54P3oYn8qYyHg/Bkzt5QvjeD+SfzsBf/14Px6ziRzyF3k/qebXN2UyeT81GiZT2Ex5P8FNdG5LZ3k/TIHCib6BeT/YtBClMZx5P2ToXsCktnk/7hut2xfReT96T/v2iut5PwaDSRL+BXo/kraXLXEgej8e6uVI5Dp6P6kdNGRXVXo/NFGCf8pvej/AhNCaPYp6P0y4HrawpHo/2Ots0SO/ej9jH7vsltl6P+5SCQgK9Ho/eoZXI30Oez8GuqU+8Ch7P5Lt81ljQ3s/HSFCddZdez+pVJCQSXh7PzSI3qu8kns/wLssxy+tez9M73riosd7P9giyf0V4ns/ZFYXGYn8ez/uiWU0/BZ8P3q9s09vMXw/BvEBa+JLfD+SJFCGVWZ8Px1YnqHIgHw/qIvsvDubfD80vzrYrrV8P8DyiPMh0Hw/TCbXDpXqfD/XWSUqCAV9P2ONc0V7H30/78DBYO45fT969A98YVR9PwYoXpfUbn0/klusskeJfT8ej/rNuqN9P6jCSOktvn0/NPaWBKHYfT/AKeUfFPN9P0xdMzuHDX4/15CBVvonfj9ixM9xbUJ+P+73HY3gXH4/eitsqFN3fj8GX7rDxpF+P5GSCN85rH4/HcZW+qzGfj+o+aQVIOF+PzQt8zCT+34/wGBBTAYWfz9MlI9neTB/P9fH3YLsSn8/Yvsrnl9lfz/uLnq50n9/P3piyNRFmn8/BpYW8Li0fz8=",
          "dtype": "f8"
         },
         "yaxis": "y5"
        },
        {
         "legendgroup": "Spain",
         "marker": {
          "opacity": 0.6,
          "size": 8
         },
         "mode": "markers",
         "name": "EVNspCount - Spain",
         "showlegend": false,
         "type": "scatter",
         "visible": false,
         "x": {
          "bdata": "qg9KTL0QzT+aoGXiPQfUP1bqjeOD4dY/k9y+F+Ghxj9ofrdDi2LKP7shA2KE3cQ/CisXVo6yzD9UzKx85EXPP/4zsMyGWsQ/FsOlVOcbyz/z5tLNx7rMP5o7LZibtMs/WnGlT7PDxD+PXHnXkELDP/1NjYp/NfA/yJvGYJmyxD9vtDMahPzDP9AG8fwlncM/45ylCC8lzD+SoH9daiPGP5lBCvpaDsY/dHUsDsArxz91EBV9HCrSPxwp20zOKsw/KUAWWUTfzT/ctv0wyiXLP6EuhybedM0/Bs9r2WHdzD88H7CyAKjMPyEdW3apTM4/aOpJlPTPxz+KiPA+MCfKP+YoQUhTJ9U/os3P+3vUxz/NJdUBdT7SP3fEWSLTB8o/WtH4MvHCyT+qsQw8xF/JP/kdY5ks+s8/YA4M7ya9yT8=",
          "dtype": "f8"
         },
         "xaxis": "x6",
         "y": {
          "bdata": "LAYbCfn5dj+S53r9KfJ2P54JfzAZbHg/fzQsnqyWez8/O+Jj2QCAP4HGbkDNHHw/S8pN+/CzdD8fRY+YQy93P5G6foAzsXg/cDSKsQBXez98RI4mZ+V6PyK5Uda8A3w/kJ6DD2FegD/rlTBAG3CAP36x5Mstv34/42YZUDg8dT/UzrMSdeZyPzvw1ZgO23Q/1hGL92NddD9pyJhv+ih7P19ckv6uIXE/chW271uZeD+2h2Qmonl9P74qAL2yUn0/CTOU3SghfD9LLhF098F7P1rauFAko3k/o6ACp9sffz/c369muAx/P3IlEaZtCXY/eNndKMhFcz8LCltB7b9yP20EJL9kXHQ/V3HJUFB6dj9tvyi2T892PyfEiT3KInQ/Zk5WJ1q4fD/k9+ODxAp6P+OhN0fBe3s/CKh/LVzWeD8=",
          "dtype": "f8"
         },
         "yaxis": "y6"
        },
        {
         "legendgroup": "Spain",
         "line": {
          "color": "red",
          "width": 2
         },
         "mode": "lines",
         "showlegend": false,
         "type": "scatter",
         "visible": false,
         "x": {
          "bdata": "j1x515BCwz8Wsmk4E2DEP54HWpmVfcU/JV1K+hebxj+ssjpbmrjHPzQIK7wc1sg/u10bHZ/zyT9Cswt+IRHLP8oI/N6jLsw/Ul7sPyZMzT/Zs9ygqGnOP2AJzQErh88/dK9esVZS0D842tbhF+HQP/sETxLZb9E/vy/HQpr+0T+CWj9zW43SP0aFt6McHNM/CrAv1N2q0z/O2qcEnznUP5IFIDVgyNQ/VTCYZSFX1T8YWxCW4uXVP9yFiMajdNY/oLAA92QD1z9k23gnJpLXPygG8VfnINg/6zBpiKiv2D+uW+G4aT7ZP3KGWekqzdk/NrHRGexb2j/620lKreraP74Gwnpueds/gjE6qy8I3D9EXLLb8JbcPwiHKgyyJd0/zLGiPHO03T+Q3BptNEPeP1QHk5310d4/GDILzrZg3z/cXIP+d+/fP8/DfZccP+A/Mdm5L32G4D+T7vXH3c3gP/UDMmA+FeE/Vxlu+J5c4T+5LqqQ/6PhPxpE5ihg6+E/fFkiwcAy4j/ebl5ZIXriP0CEmvGBweI/opnWieII4z8ErxIiQ1DjP2XETrqjl+M/x9mKUgTf4z8p78bqZCbkP4sEA4PFbeQ/7Rk/Gya15D9PL3uzhvzkP7FEt0vnQ+U/E1rz40eL5T90by98qNLlP9aEaxQJGuY/OJqnrGlh5j+ar+NEyqjmP/zEH90q8OY/XtpbdYs35z/A75cN7H7nPyEF1KVMxuc/gxoQPq0N6D/lL0zWDVXoP0dFiG5unOg/qVrEBs/j6D8LcACfLyvpP2yFPDeQcuk/zpp4z/C56T8wsLRnUQHqP5LF8P+xSOo/9NosmBKQ6j9W8Ggwc9fqP7gFpcjTHus/GRvhYDRm6z97MB35lK3rP91FWZH19Os/P1uVKVY87D+hcNHBtoPsPwOGDVoXy+w/ZJtJ8ncS7T/GsIWK2FntPyjGwSI5oe0/itv9upno7T/s8DlT+i/uP04Gdutad+4/rxuyg7u+7j8RMe4bHAbvP3NGKrR8Te8/1VtmTN2U7z83caLkPdzvP0xDbz7PEfA//U2Nin818D8=",
          "dtype": "f8"
         },
         "xaxis": "x6",
         "y": {
          "bdata": "atGIsSfOeD+D4kJiktp4P53z/BL95ng/twS3w2fzeD/RFXF00v94P+omKyU9DHk/BDjl1acYeT8eSZ+GEiV5PzhaWTd9MXk/UmsT6Oc9eT9rfM2YUkp5P4WNh0m9Vnk/n55B+idjeT+4r/uqkm95P9LAtVv9e3k/7NFvDGiIeT8G4ym90pR5Px/04209oXk/OQWeHqiteT9TFljPErp5P20nEoB9xnk/hjjMMOjSeT+gSYbhUt95P7paQJK963k/1Gv6Qij4eT/ufLTzkgR6PweObqT9EHo/IZ8oVWgdej87sOIF0yl6P1TBnLY9Nno/btJWZ6hCej+I4xAYE096P6L0ysh9W3o/vAWFeehnej/VFj8qU3R6P+8n+dq9gHo/CTmziyiNej8iSm08k5l6PzxbJ+39pXo/VmzhnWiyej9wfZtO0756P4qOVf89y3o/o58PsKjXej+9sMlgE+R6P9fBgxF+8Ho/8dI9wuj8ej8K5PdyUwl7PyT1sSO+FXs/PgZs1Cgiez9YFyaFky57P3Eo4DX+Ons/izma5mhHez+lSlSX01N7P75bDkg+YHs/2GzI+Khsez/yfYKpE3l7PwyPPFp+hXs/JqD2CumRez8/sbC7U557P1nCamy+qns/c9MkHSm3ez+M5N7Nk8N7P6b1mH7+z3s/wAZTL2ncez/aFw3g0+h7P/Qox5A+9Xs/DjqBQakBfD8nSzvyEw58P0Fc9aJ+Gnw/Wm2vU+kmfD90fmkEVDN8P46PI7W+P3w/qKDdZSlMfD/CsZcWlFh8P9vCUcf+ZHw/9dMLeGlxfD8P5cUo1H18Pyn2f9k+inw/Qgc6iqmWfD9cGPQ6FKN8P3Yprut+r3w/kDponOm7fD+pSyJNVMh8P8Nc3P2+1Hw/3W2WrinhfD/3flBflO18PxCQChD/+Xw/KqHEwGkGfT9Esn5x1BJ9P17DOCI/H30/eNTy0qkrfT+R5ayDFDh9P6v2ZjR/RH0/xAch5elQfT/eGNuVVF19P/gplUa/aX0/EjtP9yl2fT8sTAmolIJ9P0Vdw1j/jn0/X259CWqbfT8=",
          "dtype": "f8"
         },
         "yaxis": "y6"
        }
       ],
       "layout": {
        "annotations": [
         {
          "font": {
           "size": 16
          },
          "showarrow": false,
          "text": "Select Country:",
          "x": 0.01,
          "xanchor": "center",
          "xref": "paper",
          "y": 1.1,
          "yanchor": "bottom",
          "yref": "paper"
         },
         {
          "font": {
           "size": 16
          },
          "showarrow": false,
          "text": "Select Country:",
          "x": 0.01,
          "xanchor": "center",
          "xref": "paper",
          "y": 1.1,
          "yanchor": "bottom",
          "yref": "paper"
         },
         {
          "font": {
           "size": 16
          },
          "showarrow": false,
          "text": "Select Country:",
          "x": 0.01,
          "xanchor": "center",
          "xref": "paper",
          "y": 1.1,
          "yanchor": "bottom",
          "yref": "paper"
         },
         {
          "font": {
           "size": 16
          },
          "showarrow": false,
          "text": "Select Country:",
          "x": 0.01,
          "xanchor": "center",
          "xref": "paper",
          "y": 1.1,
          "yanchor": "bottom",
          "yref": "paper"
         },
         {
          "font": {
           "size": 16
          },
          "showarrow": false,
          "text": "Select Country:",
          "x": 0.01,
          "xanchor": "center",
          "xref": "paper",
          "y": 1.1,
          "yanchor": "bottom",
          "yref": "paper"
         },
         {
          "font": {
           "size": 16
          },
          "showarrow": false,
          "text": "Select Country:",
          "x": 0.01,
          "xanchor": "center",
          "xref": "paper",
          "y": 1.1,
          "yanchor": "bottom",
          "yref": "paper"
         }
        ],
        "height": 500,
        "template": {
         "data": {
          "bar": [
           {
            "error_x": {
             "color": "#2a3f5f"
            },
            "error_y": {
             "color": "#2a3f5f"
            },
            "marker": {
             "line": {
              "color": "#E5ECF6",
              "width": 0.5
             },
             "pattern": {
              "fillmode": "overlay",
              "size": 10,
              "solidity": 0.2
             }
            },
            "type": "bar"
           }
          ],
          "barpolar": [
           {
            "marker": {
             "line": {
              "color": "#E5ECF6",
              "width": 0.5
             },
             "pattern": {
              "fillmode": "overlay",
              "size": 10,
              "solidity": 0.2
             }
            },
            "type": "barpolar"
           }
          ],
          "carpet": [
           {
            "aaxis": {
             "endlinecolor": "#2a3f5f",
             "gridcolor": "white",
             "linecolor": "white",
             "minorgridcolor": "white",
             "startlinecolor": "#2a3f5f"
            },
            "baxis": {
             "endlinecolor": "#2a3f5f",
             "gridcolor": "white",
             "linecolor": "white",
             "minorgridcolor": "white",
             "startlinecolor": "#2a3f5f"
            },
            "type": "carpet"
           }
          ],
          "choropleth": [
           {
            "colorbar": {
             "outlinewidth": 0,
             "ticks": ""
            },
            "type": "choropleth"
           }
          ],
          "contour": [
           {
            "colorbar": {
             "outlinewidth": 0,
             "ticks": ""
            },
            "colorscale": [
             [
              0,
              "#0d0887"
             ],
             [
              0.1111111111111111,
              "#46039f"
             ],
             [
              0.2222222222222222,
              "#7201a8"
             ],
             [
              0.3333333333333333,
              "#9c179e"
             ],
             [
              0.4444444444444444,
              "#bd3786"
             ],
             [
              0.5555555555555556,
              "#d8576b"
             ],
             [
              0.6666666666666666,
              "#ed7953"
             ],
             [
              0.7777777777777778,
              "#fb9f3a"
             ],
             [
              0.8888888888888888,
              "#fdca26"
             ],
             [
              1,
              "#f0f921"
             ]
            ],
            "type": "contour"
           }
          ],
          "contourcarpet": [
           {
            "colorbar": {
             "outlinewidth": 0,
             "ticks": ""
            },
            "type": "contourcarpet"
           }
          ],
          "heatmap": [
           {
            "colorbar": {
             "outlinewidth": 0,
             "ticks": ""
            },
            "colorscale": [
             [
              0,
              "#0d0887"
             ],
             [
              0.1111111111111111,
              "#46039f"
             ],
             [
              0.2222222222222222,
              "#7201a8"
             ],
             [
              0.3333333333333333,
              "#9c179e"
             ],
             [
              0.4444444444444444,
              "#bd3786"
             ],
             [
              0.5555555555555556,
              "#d8576b"
             ],
             [
              0.6666666666666666,
              "#ed7953"
             ],
             [
              0.7777777777777778,
              "#fb9f3a"
             ],
             [
              0.8888888888888888,
              "#fdca26"
             ],
             [
              1,
              "#f0f921"
             ]
            ],
            "type": "heatmap"
           }
          ],
          "histogram": [
           {
            "marker": {
             "pattern": {
              "fillmode": "overlay",
              "size": 10,
              "solidity": 0.2
             }
            },
            "type": "histogram"
           }
          ],
          "histogram2d": [
           {
            "colorbar": {
             "outlinewidth": 0,
             "ticks": ""
            },
            "colorscale": [
             [
              0,
              "#0d0887"
             ],
             [
              0.1111111111111111,
              "#46039f"
             ],
             [
              0.2222222222222222,
              "#7201a8"
             ],
             [
              0.3333333333333333,
              "#9c179e"
             ],
             [
              0.4444444444444444,
              "#bd3786"
             ],
             [
              0.5555555555555556,
              "#d8576b"
             ],
             [
              0.6666666666666666,
              "#ed7953"
             ],
             [
              0.7777777777777778,
              "#fb9f3a"
             ],
             [
              0.8888888888888888,
              "#fdca26"
             ],
             [
              1,
              "#f0f921"
             ]
            ],
            "type": "histogram2d"
           }
          ],
          "histogram2dcontour": [
           {
            "colorbar": {
             "outlinewidth": 0,
             "ticks": ""
            },
            "colorscale": [
             [
              0,
              "#0d0887"
             ],
             [
              0.1111111111111111,
              "#46039f"
             ],
             [
              0.2222222222222222,
              "#7201a8"
             ],
             [
              0.3333333333333333,
              "#9c179e"
             ],
             [
              0.4444444444444444,
              "#bd3786"
             ],
             [
              0.5555555555555556,
              "#d8576b"
             ],
             [
              0.6666666666666666,
              "#ed7953"
             ],
             [
              0.7777777777777778,
              "#fb9f3a"
             ],
             [
              0.8888888888888888,
              "#fdca26"
             ],
             [
              1,
              "#f0f921"
             ]
            ],
            "type": "histogram2dcontour"
           }
          ],
          "mesh3d": [
           {
            "colorbar": {
             "outlinewidth": 0,
             "ticks": ""
            },
            "type": "mesh3d"
           }
          ],
          "parcoords": [
           {
            "line": {
             "colorbar": {
              "outlinewidth": 0,
              "ticks": ""
             }
            },
            "type": "parcoords"
           }
          ],
          "pie": [
           {
            "automargin": true,
            "type": "pie"
           }
          ],
          "scatter": [
           {
            "fillpattern": {
             "fillmode": "overlay",
             "size": 10,
             "solidity": 0.2
            },
            "type": "scatter"
           }
          ],
          "scatter3d": [
           {
            "line": {
             "colorbar": {
              "outlinewidth": 0,
              "ticks": ""
             }
            },
            "marker": {
             "colorbar": {
              "outlinewidth": 0,
              "ticks": ""
             }
            },
            "type": "scatter3d"
           }
          ],
          "scattercarpet": [
           {
            "marker": {
             "colorbar": {
              "outlinewidth": 0,
              "ticks": ""
             }
            },
            "type": "scattercarpet"
           }
          ],
          "scattergeo": [
           {
            "marker": {
             "colorbar": {
              "outlinewidth": 0,
              "ticks": ""
             }
            },
            "type": "scattergeo"
           }
          ],
          "scattergl": [
           {
            "marker": {
             "colorbar": {
              "outlinewidth": 0,
              "ticks": ""
             }
            },
            "type": "scattergl"
           }
          ],
          "scattermap": [
           {
            "marker": {
             "colorbar": {
              "outlinewidth": 0,
              "ticks": ""
             }
            },
            "type": "scattermap"
           }
          ],
          "scattermapbox": [
           {
            "marker": {
             "colorbar": {
              "outlinewidth": 0,
              "ticks": ""
             }
            },
            "type": "scattermapbox"
           }
          ],
          "scatterpolar": [
           {
            "marker": {
             "colorbar": {
              "outlinewidth": 0,
              "ticks": ""
             }
            },
            "type": "scatterpolar"
           }
          ],
          "scatterpolargl": [
           {
            "marker": {
             "colorbar": {
              "outlinewidth": 0,
              "ticks": ""
             }
            },
            "type": "scatterpolargl"
           }
          ],
          "scatterternary": [
           {
            "marker": {
             "colorbar": {
              "outlinewidth": 0,
              "ticks": ""
             }
            },
            "type": "scatterternary"
           }
          ],
          "surface": [
           {
            "colorbar": {
             "outlinewidth": 0,
             "ticks": ""
            },
            "colorscale": [
             [
              0,
              "#0d0887"
             ],
             [
              0.1111111111111111,
              "#46039f"
             ],
             [
              0.2222222222222222,
              "#7201a8"
             ],
             [
              0.3333333333333333,
              "#9c179e"
             ],
             [
              0.4444444444444444,
              "#bd3786"
             ],
             [
              0.5555555555555556,
              "#d8576b"
             ],
             [
              0.6666666666666666,
              "#ed7953"
             ],
             [
              0.7777777777777778,
              "#fb9f3a"
             ],
             [
              0.8888888888888888,
              "#fdca26"
             ],
             [
              1,
              "#f0f921"
             ]
            ],
            "type": "surface"
           }
          ],
          "table": [
           {
            "cells": {
             "fill": {
              "color": "#EBF0F8"
             },
             "line": {
              "color": "white"
             }
            },
            "header": {
             "fill": {
              "color": "#C8D4E3"
             },
             "line": {
              "color": "white"
             }
            },
            "type": "table"
           }
          ]
         },
         "layout": {
          "annotationdefaults": {
           "arrowcolor": "#2a3f5f",
           "arrowhead": 0,
           "arrowwidth": 1
          },
          "autotypenumbers": "strict",
          "coloraxis": {
           "colorbar": {
            "outlinewidth": 0,
            "ticks": ""
           }
          },
          "colorscale": {
           "diverging": [
            [
             0,
             "#8e0152"
            ],
            [
             0.1,
             "#c51b7d"
            ],
            [
             0.2,
             "#de77ae"
            ],
            [
             0.3,
             "#f1b6da"
            ],
            [
             0.4,
             "#fde0ef"
            ],
            [
             0.5,
             "#f7f7f7"
            ],
            [
             0.6,
             "#e6f5d0"
            ],
            [
             0.7,
             "#b8e186"
            ],
            [
             0.8,
             "#7fbc41"
            ],
            [
             0.9,
             "#4d9221"
            ],
            [
             1,
             "#276419"
            ]
           ],
           "sequential": [
            [
             0,
             "#0d0887"
            ],
            [
             0.1111111111111111,
             "#46039f"
            ],
            [
             0.2222222222222222,
             "#7201a8"
            ],
            [
             0.3333333333333333,
             "#9c179e"
            ],
            [
             0.4444444444444444,
             "#bd3786"
            ],
            [
             0.5555555555555556,
             "#d8576b"
            ],
            [
             0.6666666666666666,
             "#ed7953"
            ],
            [
             0.7777777777777778,
             "#fb9f3a"
            ],
            [
             0.8888888888888888,
             "#fdca26"
            ],
            [
             1,
             "#f0f921"
            ]
           ],
           "sequentialminus": [
            [
             0,
             "#0d0887"
            ],
            [
             0.1111111111111111,
             "#46039f"
            ],
            [
             0.2222222222222222,
             "#7201a8"
            ],
            [
             0.3333333333333333,
             "#9c179e"
            ],
            [
             0.4444444444444444,
             "#bd3786"
            ],
            [
             0.5555555555555556,
             "#d8576b"
            ],
            [
             0.6666666666666666,
             "#ed7953"
            ],
            [
             0.7777777777777778,
             "#fb9f3a"
            ],
            [
             0.8888888888888888,
             "#fdca26"
            ],
            [
             1,
             "#f0f921"
            ]
           ]
          },
          "colorway": [
           "#636efa",
           "#EF553B",
           "#00cc96",
           "#ab63fa",
           "#FFA15A",
           "#19d3f3",
           "#FF6692",
           "#B6E880",
           "#FF97FF",
           "#FECB52"
          ],
          "font": {
           "color": "#2a3f5f"
          },
          "geo": {
           "bgcolor": "white",
           "lakecolor": "white",
           "landcolor": "#E5ECF6",
           "showlakes": true,
           "showland": true,
           "subunitcolor": "white"
          },
          "hoverlabel": {
           "align": "left"
          },
          "hovermode": "closest",
          "mapbox": {
           "style": "light"
          },
          "paper_bgcolor": "white",
          "plot_bgcolor": "#E5ECF6",
          "polar": {
           "angularaxis": {
            "gridcolor": "white",
            "linecolor": "white",
            "ticks": ""
           },
           "bgcolor": "#E5ECF6",
           "radialaxis": {
            "gridcolor": "white",
            "linecolor": "white",
            "ticks": ""
           }
          },
          "scene": {
           "xaxis": {
            "backgroundcolor": "#E5ECF6",
            "gridcolor": "white",
            "gridwidth": 2,
            "linecolor": "white",
            "showbackground": true,
            "ticks": "",
            "zerolinecolor": "white"
           },
           "yaxis": {
            "backgroundcolor": "#E5ECF6",
            "gridcolor": "white",
            "gridwidth": 2,
            "linecolor": "white",
            "showbackground": true,
            "ticks": "",
            "zerolinecolor": "white"
           },
           "zaxis": {
            "backgroundcolor": "#E5ECF6",
            "gridcolor": "white",
            "gridwidth": 2,
            "linecolor": "white",
            "showbackground": true,
            "ticks": "",
            "zerolinecolor": "white"
           }
          },
          "shapedefaults": {
           "line": {
            "color": "#2a3f5f"
           }
          },
          "ternary": {
           "aaxis": {
            "gridcolor": "white",
            "linecolor": "white",
            "ticks": ""
           },
           "baxis": {
            "gridcolor": "white",
            "linecolor": "white",
            "ticks": ""
           },
           "bgcolor": "#E5ECF6",
           "caxis": {
            "gridcolor": "white",
            "linecolor": "white",
            "ticks": ""
           }
          },
          "title": {
           "x": 0.05
          },
          "xaxis": {
           "automargin": true,
           "gridcolor": "white",
           "linecolor": "white",
           "ticks": "",
           "title": {
            "standoff": 15
           },
           "zerolinecolor": "white",
           "zerolinewidth": 2
          },
          "yaxis": {
           "automargin": true,
           "gridcolor": "white",
           "linecolor": "white",
           "ticks": "",
           "title": {
            "standoff": 15
           },
           "zerolinecolor": "white",
           "zerolinewidth": 2
          }
         }
        },
        "title": {
         "text": "Uncertainty vs Acoustic Indices by Country"
        },
        "updatemenus": [
         {
          "active": 0,
          "buttons": [
           {
            "args": [
             {
              "visible": [
               true,
               true,
               true,
               true,
               true,
               true,
               true,
               true,
               true,
               true,
               true,
               true,
               false,
               false,
               false,
               false,
               false,
               false,
               false,
               false,
               false,
               false,
               false,
               false,
               false,
               false,
               false,
               false,
               false,
               false,
               false,
               false,
               false,
               false,
               false,
               false,
               false,
               false,
               false,
               false,
               false,
               false,
               false,
               false,
               false,
               false,
               false,
               false
              ]
             },
             {
              "title": "Uncertainty vs Acoustic Indices - Norway"
             }
            ],
            "label": "Norway",
            "method": "update"
           },
           {
            "args": [
             {
              "visible": [
               false,
               false,
               false,
               false,
               false,
               false,
               false,
               false,
               false,
               false,
               false,
               false,
               true,
               true,
               true,
               true,
               true,
               true,
               true,
               true,
               true,
               true,
               true,
               true,
               false,
               false,
               false,
               false,
               false,
               false,
               false,
               false,
               false,
               false,
               false,
               false,
               false,
               false,
               false,
               false,
               false,
               false,
               false,
               false,
               false,
               false,
               false,
               false
              ]
             },
             {
              "title": "Uncertainty vs Acoustic Indices - Netherlands"
             }
            ],
            "label": "Netherlands",
            "method": "update"
           },
           {
            "args": [
             {
              "visible": [
               false,
               false,
               false,
               false,
               false,
               false,
               false,
               false,
               false,
               false,
               false,
               false,
               false,
               false,
               false,
               false,
               false,
               false,
               false,
               false,
               false,
               false,
               false,
               false,
               true,
               true,
               true,
               true,
               true,
               true,
               true,
               true,
               true,
               true,
               true,
               true,
               false,
               false,
               false,
               false,
               false,
               false,
               false,
               false,
               false,
               false,
               false,
               false
              ]
             },
             {
              "title": "Uncertainty vs Acoustic Indices - France"
             }
            ],
            "label": "France",
            "method": "update"
           },
           {
            "args": [
             {
              "visible": [
               false,
               false,
               false,
               false,
               false,
               false,
               false,
               false,
               false,
               false,
               false,
               false,
               false,
               false,
               false,
               false,
               false,
               false,
               false,
               false,
               false,
               false,
               false,
               false,
               false,
               false,
               false,
               false,
               false,
               false,
               false,
               false,
               false,
               false,
               false,
               false,
               true,
               true,
               true,
               true,
               true,
               true,
               true,
               true,
               true,
               true,
               true,
               true
              ]
             },
             {
              "title": "Uncertainty vs Acoustic Indices - Spain"
             }
            ],
            "label": "Spain",
            "method": "update"
           }
          ],
          "direction": "down",
          "pad": {
           "r": 10,
           "t": 10
          },
          "showactive": true,
          "x": 0.1,
          "xanchor": "left",
          "y": 1.1,
          "yanchor": "top"
         }
        ],
        "width": 1000,
        "xaxis": {
         "anchor": "y",
         "domain": [
          0,
          0.2888888888888889
         ],
         "title": {
          "text": "ACI"
         }
        },
        "xaxis2": {
         "anchor": "y2",
         "domain": [
          0.35555555555555557,
          0.6444444444444445
         ],
         "title": {
          "text": "ADI"
         }
        },
        "xaxis3": {
         "anchor": "y3",
         "domain": [
          0.7111111111111111,
          1
         ],
         "title": {
          "text": "BI"
         }
        },
        "xaxis4": {
         "anchor": "y4",
         "domain": [
          0,
          0.2888888888888889
         ],
         "title": {
          "text": "Hf"
         }
        },
        "xaxis5": {
         "anchor": "y5",
         "domain": [
          0.35555555555555557,
          0.6444444444444445
         ],
         "title": {
          "text": "NDSI"
         }
        },
        "xaxis6": {
         "anchor": "y6",
         "domain": [
          0.7111111111111111,
          1
         ],
         "title": {
          "text": "EVNspCount"
         }
        },
        "yaxis": {
         "anchor": "x",
         "domain": [
          0.625,
          1
         ],
         "title": {
          "text": "Uncertainty"
         }
        },
        "yaxis2": {
         "anchor": "x2",
         "domain": [
          0.625,
          1
         ],
         "title": {
          "text": ""
         }
        },
        "yaxis3": {
         "anchor": "x3",
         "domain": [
          0.625,
          1
         ],
         "title": {
          "text": ""
         }
        },
        "yaxis4": {
         "anchor": "x4",
         "domain": [
          0,
          0.375
         ],
         "title": {
          "text": "Uncertainty"
         }
        },
        "yaxis5": {
         "anchor": "x5",
         "domain": [
          0,
          0.375
         ],
         "title": {
          "text": ""
         }
        },
        "yaxis6": {
         "anchor": "x6",
         "domain": [
          0,
          0.375
         ],
         "title": {
          "text": ""
         }
        }
       }
      }
     },
     "metadata": {},
     "output_type": "display_data"
    }
   ],
   "source": [
    "import plotly.graph_objects as go\n",
    "from plotly.subplots import make_subplots\n",
    "import numpy as np\n",
    "\n",
    "def create_uncertainty_vs_indices_plotly(df, indices):\n",
    "    # Get list of unique countries\n",
    "    countries = df['country'].unique().tolist()\n",
    "    \n",
    "    # Create subplots - one for each acoustic index\n",
    "    n_cols = 3\n",
    "    n_rows = (len(indices) + n_cols - 1) // n_cols\n",
    "    \n",
    "    fig = make_subplots(rows=n_rows, cols=n_cols, \n",
    "                        subplot_titles=[f'Uncertainty vs {index}' for index in indices])\n",
    "    \n",
    "    # Add traces for each country (initially all invisible except first country)\n",
    "    for c_idx, country in enumerate(countries):\n",
    "        country_df = df[df['country'] == country]\n",
    "        \n",
    "        for i, index in enumerate(indices):\n",
    "            row = i // n_cols + 1\n",
    "            col = i % n_cols + 1\n",
    "            \n",
    "            # Only calculate correlation if we have enough data points\n",
    "            if len(country_df) > 2:\n",
    "                corr = country_df[['uncertainty', index]].corr().iloc[0, 1]\n",
    "                corr_text = f'r = {corr:.3f}'\n",
    "            else:\n",
    "                corr_text = 'insufficient data'\n",
    "            \n",
    "            # Add scatter plot\n",
    "            visible = True if c_idx == 0 else False\n",
    "            \n",
    "            fig.add_trace(\n",
    "                go.Scatter(\n",
    "                    x=country_df[index],\n",
    "                    y=country_df['uncertainty'],\n",
    "                    mode='markers',\n",
    "                    marker=dict(\n",
    "                        size=8,\n",
    "                        opacity=0.6,\n",
    "                    ),\n",
    "                    name=f'{index} - {country}',\n",
    "                    showlegend=False,\n",
    "                    visible=visible,\n",
    "                    legendgroup=country\n",
    "                ),\n",
    "                row=row, col=col\n",
    "            )\n",
    "            \n",
    "            # Add regression line if we have enough data points\n",
    "            if len(country_df) > 2:\n",
    "                # Calculate regression line\n",
    "                x = country_df[index].values\n",
    "                y = country_df['uncertainty'].values\n",
    "                mask = ~np.isnan(x) & ~np.isnan(y)\n",
    "                if sum(mask) > 1:  # Need at least 2 points for regression\n",
    "                    x = x[mask]\n",
    "                    y = y[mask]\n",
    "                    slope, intercept = np.polyfit(x, y, 1)\n",
    "                    x_range = np.linspace(min(x), max(x), 100)\n",
    "                    y_range = slope * x_range + intercept\n",
    "                    \n",
    "                    # Add trend line\n",
    "                    fig.add_trace(\n",
    "                        go.Scatter(\n",
    "                            x=x_range,\n",
    "                            y=y_range,\n",
    "                            mode='lines',\n",
    "                            line=dict(color='red', width=2),\n",
    "                            showlegend=False,\n",
    "                            visible=visible,\n",
    "                            legendgroup=country\n",
    "                        ),\n",
    "                        row=row, col=col\n",
    "                    )\n",
    "            \n",
    "    \n",
    "    # Create dropdown menu for country selection\n",
    "    buttons = []\n",
    "    \n",
    "    for c_idx, country in enumerate(countries):\n",
    "        # Calculate which traces belong to this country (each country has 2*len(indices) traces)\n",
    "        # For each index: 1 scatter plot + 1 trend line\n",
    "        traces_per_country = 2 * len(indices)\n",
    "        visible_traces = [False] * (traces_per_country * len(countries))\n",
    "        \n",
    "        # Set the traces for the selected country to visible\n",
    "        for i in range(traces_per_country):\n",
    "            visible_traces[c_idx * traces_per_country + i] = True\n",
    "        \n",
    "        button = dict(\n",
    "            label=country,\n",
    "            method=\"update\",\n",
    "            args=[\n",
    "                {\"visible\": visible_traces},\n",
    "                {\"title\": f\"Uncertainty vs Acoustic Indices - {country}\"}\n",
    "            ]\n",
    "        )\n",
    "        buttons.append(button)\n",
    "    \n",
    "    fig.update_layout(\n",
    "        height=250*n_rows,\n",
    "        width=1000,\n",
    "        title=\"Uncertainty vs Acoustic Indices by Country\",\n",
    "        updatemenus=[dict(\n",
    "            active=0,\n",
    "            buttons=buttons,\n",
    "            direction=\"down\",\n",
    "            pad={\"r\": 10, \"t\": 10},\n",
    "            showactive=True,\n",
    "            x=0.1,\n",
    "            xanchor=\"left\",\n",
    "            y=1.1,\n",
    "            yanchor=\"top\"\n",
    "        )],\n",
    "        annotations=[\n",
    "            dict(text=\"Select Country:\",\n",
    "                 x=0.01,\n",
    "                 y=1.1,\n",
    "                 xref=\"paper\",\n",
    "                 yref=\"paper\",\n",
    "                 showarrow=False)\n",
    "        ]\n",
    "    )\n",
    "    \n",
    "    # Update axes labels\n",
    "    for i, index in enumerate(indices):\n",
    "        row = i // n_cols + 1\n",
    "        col = i % n_cols + 1\n",
    "        fig.update_xaxes(title_text=index, row=row, col=col)\n",
    "        fig.update_yaxes(title_text=\"Uncertainty\" if col == 1 else \"\", row=row, col=col)\n",
    "    \n",
    "    return fig\n",
    "\n",
    "# Create and display the plot\n",
    "indices = ['ACI', 'ADI', 'BI', 'Hf', 'NDSI', 'EVNspCount']\n",
    "fig = create_uncertainty_vs_indices_plotly(agg_df, indices)\n",
    "fig.show()"
   ]
  },
  {
   "cell_type": "code",
   "execution_count": null,
   "id": "c096a9ea",
   "metadata": {},
   "outputs": [],
   "source": []
  },
  {
   "cell_type": "code",
   "execution_count": null,
   "id": "fedd8e76",
   "metadata": {},
   "outputs": [],
   "source": []
  },
  {
   "cell_type": "code",
   "execution_count": null,
   "id": "618910a0",
   "metadata": {},
   "outputs": [],
   "source": []
  },
  {
   "cell_type": "code",
   "execution_count": null,
   "id": "78367a9d",
   "metadata": {},
   "outputs": [],
   "source": []
  },
  {
   "cell_type": "code",
   "execution_count": null,
   "id": "8d9181d7",
   "metadata": {},
   "outputs": [],
   "source": []
  },
  {
   "cell_type": "code",
   "execution_count": null,
   "id": "c9103bac",
   "metadata": {},
   "outputs": [],
   "source": []
  },
  {
   "cell_type": "code",
   "execution_count": null,
   "id": "1a091451",
   "metadata": {},
   "outputs": [],
   "source": []
  },
  {
   "cell_type": "code",
   "execution_count": null,
   "id": "cfc86168",
   "metadata": {},
   "outputs": [],
   "source": []
  },
  {
   "cell_type": "code",
   "execution_count": null,
   "id": "98cb1d70",
   "metadata": {},
   "outputs": [],
   "source": []
  }
 ],
 "metadata": {
  "kernelspec": {
   "display_name": ".venv",
   "language": "python",
   "name": "python3"
  },
  "language_info": {
   "codemirror_mode": {
    "name": "ipython",
    "version": 3
   },
   "file_extension": ".py",
   "mimetype": "text/x-python",
   "name": "python",
   "nbconvert_exporter": "python",
   "pygments_lexer": "ipython3",
   "version": "3.12.9"
  }
 },
 "nbformat": 4,
 "nbformat_minor": 5
}
